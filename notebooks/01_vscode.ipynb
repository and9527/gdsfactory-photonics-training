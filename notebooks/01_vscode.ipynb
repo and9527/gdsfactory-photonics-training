{
 "cells": [
  {
   "cell_type": "markdown",
   "id": "e2eb5ca3",
   "metadata": {},
   "source": [
    "# VScode, PyCharm, Spyder, JupyterLab integration"
   ]
  },
  {
   "cell_type": "markdown",
   "id": "bdea0660",
   "metadata": {},
   "source": [
    "You can launch jupyterlab or VSCode from the anaconda navigator\n",
    "\n",
    "Make sure you launch:\n",
    "\n",
    "- JupyterLab: recommended for new users and for learning\n",
    "- VSCode: for more advanced users.\n",
    "\n",
    "\n",
    "using the anaconda navigator so that your path is setup correctly.\n",
    "\n",
    "![navigator](https://i.imgur.com/e1fSszF.png)"
   ]
  },
  {
   "cell_type": "markdown",
   "id": "6fea9587",
   "metadata": {},
   "source": [
    "## JupyterLab\n",
    "\n",
    "The gdsfactory installer installs Jupyterlab\n",
    "\n",
    "You can launch JupyterLab from the anaconda navigator.\n",
    "\n",
    "Jupyter Notebooks are a great way to go through tutorials like this one.\n",
    "\n",
    "![jupyterlab](https://i.imgur.com/WX0XEGg.png)"
   ]
  },
  {
   "cell_type": "markdown",
   "id": "3a48ddbc",
   "metadata": {},
   "source": [
    "## VScode\n",
    "\n",
    "VSCode is a free open source popular editor that you can [install](https://code.visualstudio.com/)\n",
    "\n",
    "gdsfactory has a VScode extension that you can install from the marketplace.\n",
    "\n",
    "The extension provides you with useful code snippets\n",
    "\n",
    "![extension](https://i.imgur.com/89OPCQ1.png)\n",
    "\n",
    "Make sure you choose the correct gdsfactory path.\n",
    "\n",
    "![vscode](https://i.imgur.com/g7IL3D3.png)"
   ]
  },
  {
   "cell_type": "markdown",
   "id": "60e445d7",
   "metadata": {},
   "source": [
    "## PyCharm\n",
    "\n",
    "PyCharm is also a popular python IDE that you can [install](https://www.jetbrains.com/pycharm/)\n",
    "\n",
    "![pycharm](https://i.imgur.com/bK11wZW.png)"
   ]
  },
  {
   "cell_type": "markdown",
   "id": "8e07870e",
   "metadata": {},
   "source": [
    "## Spyder\n",
    "\n",
    "Spyder is the most similar IDE to Matlab.\n",
    "\n",
    "You can install spyder from the anaconda prompt using `conda install spyder -y`\n",
    "\n",
    "![spyder ipython](https://i.imgur.com/FotCgPh.png)"
   ]
  }
 ],
 "metadata": {
  "jupytext": {
   "cell_metadata_filter": "-all",
   "main_language": "python",
   "notebook_metadata_filter": "-all"
  }
 },
 "nbformat": 4,
 "nbformat_minor": 5
}
