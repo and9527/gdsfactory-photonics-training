{
 "cells": [
  {
   "cell_type": "markdown",
   "id": "a2fc194e",
   "metadata": {},
   "source": [
    "# Component\n",
    "\n",
    "A `Component` is like an empty canvas, where you can add polygons, references to other Components and ports (to connect to other components)\n",
    "\n",
    "![](https://i.imgur.com/oeuKGsc.png)\n",
    "\n",
    "In gdsfactory **all dimensions** are in **microns**"
   ]
  },
  {
   "cell_type": "code",
   "execution_count": null,
   "id": "efaa3485",
   "metadata": {},
   "outputs": [],
   "source": [
    "try:\n",
    "  import google.colab\n",
    "  is_running_on_colab = True\n",
    "  !pip install gdsfactory[cad] > /dev/null\n",
    "  \n",
    "except ImportError:\n",
    "  is_running_on_colab = False"
   ]
  },
  {
   "cell_type": "markdown",
   "id": "081aca1e",
   "metadata": {},
   "source": [
    "## Polygons\n",
    "\n",
    "You can add polygons to different layers."
   ]
  },
  {
   "cell_type": "code",
   "execution_count": null,
   "id": "58e252ae",
   "metadata": {},
   "outputs": [],
   "source": [
    "import gdsfactory as gf\n",
    "\n",
    "\n",
    "def demo_polygons():\n",
    "    # Create a blank component (essentially an empty GDS cell with some special features)\n",
    "    c = gf.Component(\"demo\")\n",
    "\n",
    "    # Create and add a polygon from separate lists of x points and y points\n",
    "    # (Can also be added like [(x1,y1), (x2,y2), (x3,y3), ... ]\n",
    "    c.add_polygon(\n",
    "        [(-8, 6, 7, 9), (-6, 8, 17, 5)], layer=(1, 0)\n",
    "    )  # GDS layers are tuples of ints (but if we use only one number it assumes the other number is 0)\n",
    "    return c\n",
    "\n",
    "\n",
    "c = demo_polygons()\n",
    "c.write_gds(\"demo.gds\")  # write it to a GDS file. You can open it in klayout.\n",
    "c.show()  # show it in klayout\n",
    "c.plot()  # plot it in jupyter notebook"
   ]
  },
  {
   "cell_type": "markdown",
   "id": "b7547098",
   "metadata": {},
   "source": [
    "**Exercise** :\n",
    "\n",
    "Make a component similar to the one above that has a second polygon in layer (2, 0)"
   ]
  },
  {
   "cell_type": "code",
   "execution_count": null,
   "id": "277b6e10",
   "metadata": {},
   "outputs": [],
   "source": [
    "c = gf.Component(\"myComponent2\")\n",
    "# Create some new geometry from the functions available in the geometry library\n",
    "t = gf.components.text(\"Hello!\")\n",
    "r = gf.components.rectangle(size=[5, 10], layer=(2, 0))\n",
    "\n",
    "# Add references to the new geometry to c, our blank component\n",
    "text1 = c.add_ref(t)  # Add the text we created as a reference\n",
    "# Using the << operator (identical to add_ref()), add the same geometry a second time\n",
    "text2 = c << t\n",
    "r = c << r  # Add the rectangle we created\n",
    "\n",
    "# Now that the geometry has been added to \"c\", we can move everything around:\n",
    "text1.movey(25)\n",
    "text2.move([5, 30])\n",
    "text2.rotate(45)\n",
    "r.movex(-15)\n",
    "r.movex(-15)\n",
    "\n",
    "print(c)\n",
    "c.plot()"
   ]
  },
  {
   "cell_type": "markdown",
   "id": "91ea3e71",
   "metadata": {},
   "source": [
    "You define polygons both from `gdstk` or `Shapely`"
   ]
  },
  {
   "cell_type": "code",
   "execution_count": null,
   "id": "83c1c072",
   "metadata": {},
   "outputs": [],
   "source": [
    "from shapely.geometry.polygon import Polygon\n",
    "\n",
    "import gdsfactory as gf\n",
    "\n",
    "c = gf.Component(\"Mixed_polygons\")\n",
    "p0 = Polygon(zip((-8, 6, 7, 9), (-6, 8, 17, 5)))\n",
    "p1 = p0.buffer(1)\n",
    "p2 = p1.simplify(tolerance=0.1)\n",
    "c.add_polygon(p0, layer=(1, 0))\n",
    "c.add_polygon(p1, layer=(2, 0))\n",
    "c.add_polygon(p2, layer=(3, 0))\n",
    "\n",
    "c.add_polygon([(-8, 6, 7, 9), (-6, 8, 17, 5)], layer=(4, 0))\n",
    "c.plot()"
   ]
  },
  {
   "cell_type": "code",
   "execution_count": null,
   "id": "0b1b7cd0",
   "metadata": {},
   "outputs": [],
   "source": [
    "p0"
   ]
  },
  {
   "cell_type": "code",
   "execution_count": null,
   "id": "5fc36f8e",
   "metadata": {},
   "outputs": [],
   "source": [
    "p1 = p0.buffer(1)\n",
    "p1"
   ]
  },
  {
   "cell_type": "code",
   "execution_count": null,
   "id": "0870bc98",
   "metadata": {},
   "outputs": [],
   "source": [
    "pnot = p1 - p0\n",
    "pnot"
   ]
  },
  {
   "cell_type": "code",
   "execution_count": null,
   "id": "1ca37cab",
   "metadata": {},
   "outputs": [],
   "source": [
    "c = gf.Component(\"exterior\")\n",
    "c.add_polygon(pnot, layer=(3, 0))\n",
    "c.plot()"
   ]
  },
  {
   "cell_type": "code",
   "execution_count": null,
   "id": "dfb6a2ce",
   "metadata": {},
   "outputs": [],
   "source": [
    "p_small = p0.buffer(-1)\n",
    "p_small"
   ]
  },
  {
   "cell_type": "code",
   "execution_count": null,
   "id": "cf16fd69",
   "metadata": {},
   "outputs": [],
   "source": [
    "p_or = pnot | p_small\n",
    "p_or"
   ]
  },
  {
   "cell_type": "code",
   "execution_count": null,
   "id": "f4f78fce",
   "metadata": {},
   "outputs": [],
   "source": [
    "c = gf.Component(\"p_or\")\n",
    "c.add_polygon(p_or, layer=(1, 0))\n",
    "c.plot()"
   ]
  },
  {
   "cell_type": "code",
   "execution_count": null,
   "id": "99bb5761",
   "metadata": {},
   "outputs": [],
   "source": [
    "import shapely as sp\n",
    "\n",
    "p5 = sp.envelope(p0)\n",
    "p5"
   ]
  },
  {
   "cell_type": "code",
   "execution_count": null,
   "id": "68de06b0",
   "metadata": {},
   "outputs": [],
   "source": [
    "p6 = p5 - p0\n",
    "p6"
   ]
  },
  {
   "cell_type": "code",
   "execution_count": null,
   "id": "838a7507",
   "metadata": {},
   "outputs": [],
   "source": [
    "c = gf.Component(\"p6\")\n",
    "c.add_polygon(p6, layer=(1, 0))\n",
    "c.plot()"
   ]
  },
  {
   "cell_type": "code",
   "execution_count": null,
   "id": "51b0832b",
   "metadata": {},
   "outputs": [],
   "source": [
    "c = gf.Component(\"demo_multilayer\")\n",
    "p0 = c.add_polygon(p0, layer={(2, 0), (3, 0)})\n",
    "c.plot()"
   ]
  },
  {
   "cell_type": "code",
   "execution_count": null,
   "id": "f006807e",
   "metadata": {},
   "outputs": [],
   "source": [
    "c = gf.Component(\"demo_mirror\")\n",
    "p0 = c.add_polygon(p0, layer=(1, 0))\n",
    "p9 = c.add_polygon(p0, layer=(2, 0))\n",
    "p9.mirror()\n",
    "c.plot()"
   ]
  },
  {
   "cell_type": "code",
   "execution_count": null,
   "id": "74de5b53",
   "metadata": {},
   "outputs": [],
   "source": [
    "c = gf.Component(\"demo_xmin\")\n",
    "p0 = c.add_polygon(p0, layer=(1, 0))\n",
    "p9 = c.add_polygon(p0, layer=(2, 0))\n",
    "p9.mirror()\n",
    "p9.xmin = p0.xmax\n",
    "c.plot()"
   ]
  },
  {
   "cell_type": "code",
   "execution_count": null,
   "id": "f286abce",
   "metadata": {
    "lines_to_next_cell": 2
   },
   "outputs": [],
   "source": [
    "c = gf.Component(\"enclosure1\")\n",
    "r = c << gf.components.ring_single()\n",
    "c.plot()"
   ]
  },
  {
   "cell_type": "code",
   "execution_count": null,
   "id": "35ab0c4a",
   "metadata": {},
   "outputs": [],
   "source": [
    "c = gf.Component(\"enclosure2\")\n",
    "r = c << gf.components.ring_single()\n",
    "p = c.get_polygon_bbox()\n",
    "c.add_polygon(p, layer=(2, 0))\n",
    "c.plot()"
   ]
  },
  {
   "cell_type": "code",
   "execution_count": null,
   "id": "3ae3f0cc",
   "metadata": {},
   "outputs": [],
   "source": [
    "c = gf.Component(\"enclosure3\")\n",
    "r = c << gf.components.ring_single()\n",
    "p = c.get_polygon_bbox(top=3, bottom=3)\n",
    "c.add_polygon(p, layer=(2, 0))\n",
    "c.plot()"
   ]
  },
  {
   "cell_type": "code",
   "execution_count": null,
   "id": "51809493",
   "metadata": {},
   "outputs": [],
   "source": [
    "c = gf.Component(\"enclosure3\")\n",
    "r = c << gf.components.ring_single()\n",
    "p = c.get_polygon_enclosure()\n",
    "c.add_polygon(p, layer=(2, 0))\n",
    "c.plot()"
   ]
  },
  {
   "cell_type": "code",
   "execution_count": null,
   "id": "03689403",
   "metadata": {
    "lines_to_next_cell": 2
   },
   "outputs": [],
   "source": [
    "c = gf.Component(\"enclosure3\")\n",
    "r = c << gf.components.ring_single()\n",
    "p = c.get_polygon_enclosure()\n",
    "p2 = p.buffer(3)\n",
    "c.add_polygon(p2, layer=(2, 0))\n",
    "c.plot()"
   ]
  },
  {
   "cell_type": "markdown",
   "id": "62ef80f0",
   "metadata": {},
   "source": [
    "## Connect **ports**\n",
    "\n",
    "Components can have a \"Port\" that allows you to connect ComponentReferences together like legos.\n",
    "\n",
    "You can write a simple function to make a rectangular straight, assign ports to the ends, and then connect those rectangles together.\n",
    "\n",
    "Notice that `connect` transform each reference but things won't remain connected if you move any of the references afterwards.\n",
    "\n"
   ]
  },
  {
   "cell_type": "code",
   "execution_count": null,
   "id": "46b2e0ec",
   "metadata": {},
   "outputs": [],
   "source": [
    "@gf.cell\n",
    "def straight(length=10, width=1, layer=(1, 0)):\n",
    "    c = gf.Component()\n",
    "    c.add_polygon([(0, 0), (length, 0), (length, width), (0, width)], layer=layer)\n",
    "    c.add_port(\n",
    "        name=\"o1\", center=[0, width / 2], width=width, orientation=180, layer=layer\n",
    "    )\n",
    "    c.add_port(\n",
    "        name=\"o2\", center=[length, width / 2], width=width, orientation=0, layer=layer\n",
    "    )\n",
    "    return c\n",
    "\n",
    "\n",
    "c = gf.Component(\"straights_not_connected\")\n",
    "\n",
    "wg1 = c << straight(length=6, width=2.5, layer=(1, 0))\n",
    "wg2 = c << straight(length=6, width=2.5, layer=(2, 0))\n",
    "wg3 = c << straight(length=15, width=2.5, layer=(3, 0))\n",
    "wg2.movey(10).rotate(10)\n",
    "wg3.movey(20).rotate(15)\n",
    "\n",
    "c.plot()"
   ]
  },
  {
   "cell_type": "markdown",
   "id": "0ea20689",
   "metadata": {},
   "source": [
    "Now we can connect everything together using the ports:\n",
    "\n",
    "Each straight has two ports: 'o1' and 'o2', respectively on the East and West sides of the rectangular straight component. These are arbitrary\n",
    "names defined in our straight() function above"
   ]
  },
  {
   "cell_type": "code",
   "execution_count": null,
   "id": "b5f97f74",
   "metadata": {},
   "outputs": [],
   "source": [
    "# Let's keep wg1 in place on the bottom, and connect the other straights to it.\n",
    "# To do that, on wg2 we'll grab the \"o1\" port and connect it to the \"o2\" on wg1:\n",
    "wg2.connect(\"o1\", wg1.ports[\"o2\"])\n",
    "# Next, on wg3 let's grab the \"o1\" port and connect it to the \"o2\" on wg2:\n",
    "wg3.connect(\"o1\", wg2.ports[\"o2\"])\n",
    "\n",
    "c.plot()"
   ]
  },
  {
   "cell_type": "markdown",
   "id": "fb27066b",
   "metadata": {},
   "source": [
    "Ports can be added by copying existing ports. In the example below, ports are added at the component-level on c from the existing ports of children wg1 and wg3\n",
    "(i.e. eastmost and westmost ports)"
   ]
  },
  {
   "cell_type": "code",
   "execution_count": null,
   "id": "cc0b96df",
   "metadata": {},
   "outputs": [],
   "source": [
    "c.add_port(\"o1\", port=wg1.ports[\"o1\"])\n",
    "c.add_port(\"o2\", port=wg3.ports[\"o2\"])\n",
    "c.plot()"
   ]
  },
  {
   "cell_type": "markdown",
   "id": "5ef66eb0",
   "metadata": {},
   "source": [
    "## Move and rotate references\n",
    "\n",
    "You can move, rotate, and reflect references to Components."
   ]
  },
  {
   "cell_type": "code",
   "execution_count": null,
   "id": "dc959c5a",
   "metadata": {},
   "outputs": [],
   "source": [
    "c = gf.Component(\"straights_connected\")\n",
    "\n",
    "wg1 = c << straight(length=1, layer=(1, 0))\n",
    "wg2 = c << straight(length=2, layer=(2, 0))\n",
    "wg3 = c << straight(length=3, layer=(3, 0))\n",
    "\n",
    "# Create and add a polygon from separate lists of x points and y points\n",
    "# e.g. [(x1, x2, x3, ...), (y1, y2, y3, ...)]\n",
    "poly1 = c.add_polygon([(8, 6, 7, 9), (6, 8, 9, 5)], layer=(4, 0))\n",
    "\n",
    "# Alternatively, create and add a polygon from a list of points\n",
    "# e.g. [(x1,y1), (x2,y2), (x3,y3), ...] using the same function\n",
    "poly2 = c.add_polygon([(0, 0), (1, 1), (1, 3), (-3, 3)], layer=(5, 0))\n",
    "\n",
    "# Shift the first straight we created over by dx = 10, dy = 5\n",
    "wg1.move([10, 5])\n",
    "\n",
    "# Shift the second straight over by dx = 10, dy = 0\n",
    "wg2.move(origin=[0, 0], destination=[10, 0])\n",
    "\n",
    "# Shift the third straight over by dx = 0, dy = 4. The translation movement consist of the difference between the values of the destination and the origin and can optionally be limited in a single axis.\n",
    "wg3.move([1, 1], [5, 5], axis=\"y\")\n",
    "\n",
    "# Then, move again the third straight \"from\" x=0 \"to\" x=10 (dx=10)\n",
    "wg3.movex(0, 10)\n",
    "\n",
    "c.plot()"
   ]
  },
  {
   "cell_type": "markdown",
   "id": "233d3278",
   "metadata": {},
   "source": [
    "## Ports\n",
    "\n",
    "Your straights wg1/wg2/wg3 are references to other waveguide components.\n",
    "\n",
    "If you want to add ports to the new Component `c` you can use `add_port`, where you can create a new port or use a reference to an existing port from the underlying reference."
   ]
  },
  {
   "cell_type": "markdown",
   "id": "f9e78dbf",
   "metadata": {},
   "source": [
    "You can access the ports of a Component or ComponentReference"
   ]
  },
  {
   "cell_type": "code",
   "execution_count": null,
   "id": "2584a5ca",
   "metadata": {},
   "outputs": [],
   "source": [
    "wg2.ports"
   ]
  },
  {
   "cell_type": "code",
   "execution_count": null,
   "id": "cd39e13b",
   "metadata": {},
   "outputs": [],
   "source": [
    "wg2.pprint_ports()"
   ]
  },
  {
   "cell_type": "markdown",
   "id": "a2ccfc10",
   "metadata": {},
   "source": [
    "## References\n",
    "\n",
    "Now that your component `c` is a multi-straight component, you can add references to that component in a new blank Component `c2`, then add two references and shift one to see the movement."
   ]
  },
  {
   "cell_type": "code",
   "execution_count": null,
   "id": "822b5970",
   "metadata": {},
   "outputs": [],
   "source": [
    "c2 = gf.Component(\"MultiWaveguides\")\n",
    "wg1 = straight()\n",
    "wg2 = straight(layer=(2, 0))\n",
    "mwg1_ref = c2.add_ref(wg1)\n",
    "mwg2_ref = c2.add_ref(wg2)\n",
    "mwg2_ref.move(destination=[10, 10])\n",
    "c2.plot()"
   ]
  },
  {
   "cell_type": "code",
   "execution_count": null,
   "id": "b5520cec",
   "metadata": {},
   "outputs": [],
   "source": [
    "# Like before, let's connect mwg1 and mwg2 together\n",
    "mwg1_ref.connect(port=\"o2\", destination=mwg2_ref.ports[\"o1\"])\n",
    "c2.plot()"
   ]
  },
  {
   "cell_type": "markdown",
   "id": "109bc8f1",
   "metadata": {},
   "source": [
    "## Labels\n",
    "\n",
    "You can add abstract GDS labels to annotate your Components, in order to record information\n",
    "directly into the final GDS file without putting any extra geometry onto any layer\n",
    "This label will display in a GDS viewer, but will not be rendered or printed\n",
    "like the polygons created by `gf.components.text()`."
   ]
  },
  {
   "cell_type": "code",
   "execution_count": null,
   "id": "8d4d7f77",
   "metadata": {},
   "outputs": [],
   "source": [
    "c2.add_label(text=\"First label\", position=mwg1_ref.center)\n",
    "c2.add_label(text=\"Second label\", position=mwg2_ref.center)\n",
    "\n",
    "# labels are useful for recording information\n",
    "c2.add_label(\n",
    "    text=f\"The x size of this\\nlayout is {c2.xsize}\",\n",
    "    position=(c2.xmax, c2.ymax),\n",
    "    layer=(10, 0),\n",
    ")\n",
    "c2.plot()"
   ]
  },
  {
   "cell_type": "markdown",
   "id": "2e8d1df8",
   "metadata": {},
   "source": [
    "Another simple example"
   ]
  },
  {
   "cell_type": "code",
   "execution_count": null,
   "id": "8dc008d9",
   "metadata": {},
   "outputs": [],
   "source": [
    "c = gf.Component(\"rectangle_with_label\")\n",
    "r = c << gf.components.rectangle(size=(1, 1))\n",
    "r.x = 0\n",
    "r.y = 0\n",
    "c.add_label(\n",
    "    text=\"Demo label\",\n",
    "    position=(0, 0),\n",
    "    layer=(1, 0),\n",
    ")\n",
    "c.plot()"
   ]
  },
  {
   "cell_type": "markdown",
   "id": "24bc2ef8",
   "metadata": {},
   "source": [
    "## Boolean shapes\n",
    "\n",
    "If you want to subtract one shape from another, merge two shapes, or\n",
    "perform an XOR on them, you can do that with the `boolean()` function.\n",
    "\n",
    "\n",
    "The ``operation`` argument should be {not, and, or, xor, 'A-B', 'B-A', 'A+B'}.\n",
    "Note that 'A+B' is equivalent to 'or', 'A-B' is equivalent to 'not', and\n",
    "'B-A' is equivalent to 'not' with the operands switched"
   ]
  },
  {
   "cell_type": "code",
   "execution_count": null,
   "id": "b19d82a9",
   "metadata": {},
   "outputs": [],
   "source": [
    "c = gf.Component(\"boolean_demo\")\n",
    "e1 = c.add_ref(gf.components.ellipse(layer=(2, 0)))\n",
    "e2 = c.add_ref(gf.components.ellipse(radii=(10, 6), layer=(2, 0))).movex(2)\n",
    "e3 = c.add_ref(gf.components.ellipse(radii=(10, 4), layer=(2, 0))).movex(5)\n",
    "c.plot()"
   ]
  },
  {
   "cell_type": "code",
   "execution_count": null,
   "id": "3961cefb",
   "metadata": {},
   "outputs": [],
   "source": [
    "c2 = gf.geometry.boolean(A=[e1, e3], B=e2, operation=\"A-B\", layer=(2, 0))\n",
    "c2.plot()"
   ]
  },
  {
   "cell_type": "markdown",
   "id": "8584f84d",
   "metadata": {},
   "source": [
    "## Move Reference by port"
   ]
  },
  {
   "cell_type": "code",
   "execution_count": null,
   "id": "e5c2c7ab",
   "metadata": {},
   "outputs": [],
   "source": [
    "c = gf.Component(\"ref_port_sample\")\n",
    "mmi = c.add_ref(gf.components.mmi1x2())\n",
    "bend = c.add_ref(gf.components.bend_circular(layer=(2, 0)))\n",
    "c.plot()"
   ]
  },
  {
   "cell_type": "code",
   "execution_count": null,
   "id": "a7fb6193",
   "metadata": {},
   "outputs": [],
   "source": [
    "bend.connect(\"o1\", mmi.ports[\"o2\"])  # connects follow Source, destination syntax\n",
    "c.plot()"
   ]
  },
  {
   "cell_type": "markdown",
   "id": "4b8c9228",
   "metadata": {},
   "source": [
    "## Mirror reference\n",
    "\n",
    "By default the mirror works along the y-axis."
   ]
  },
  {
   "cell_type": "code",
   "execution_count": null,
   "id": "3c4b47ea",
   "metadata": {},
   "outputs": [],
   "source": [
    "c = gf.Component(\"ref_mirror\")\n",
    "mmi = c.add_ref(gf.components.mmi1x2())\n",
    "bend = c.add_ref(gf.components.bend_circular(layer=(2, 0)))\n",
    "c.plot()"
   ]
  },
  {
   "cell_type": "code",
   "execution_count": null,
   "id": "70fc43c9",
   "metadata": {
    "lines_to_next_cell": 2
   },
   "outputs": [],
   "source": [
    "mmi.mirror()\n",
    "c.plot()"
   ]
  },
  {
   "cell_type": "code",
   "execution_count": null,
   "id": "169fe556",
   "metadata": {},
   "outputs": [],
   "source": [
    "mmi.mirror_y()\n",
    "c.plot()"
   ]
  },
  {
   "cell_type": "code",
   "execution_count": null,
   "id": "b2d2f4c7",
   "metadata": {},
   "outputs": [],
   "source": [
    "mmi.mirror_x()\n",
    "c.plot()"
   ]
  },
  {
   "cell_type": "markdown",
   "id": "8fa7e110",
   "metadata": {},
   "source": [
    "## Write\n",
    "\n",
    "You can write your Component to:\n",
    "\n",
    "- GDS file (Graphical Database System) or OASIS for chips.\n",
    "- gerber for PCB.\n",
    "- STL for 3d printing."
   ]
  },
  {
   "cell_type": "code",
   "execution_count": null,
   "id": "d7078632",
   "metadata": {},
   "outputs": [],
   "source": [
    "import gdsfactory as gf\n",
    "\n",
    "c = gf.components.cross()\n",
    "c.write_gds(\"demo.gds\")\n",
    "c.plot()"
   ]
  },
  {
   "cell_type": "markdown",
   "id": "0dc4415e",
   "metadata": {},
   "source": [
    "You can see the GDS file in Klayout viewer.\n",
    "\n",
    "Sometimes you also want to save the GDS together with metadata (settings, port names, widths, locations ...) in YAML"
   ]
  },
  {
   "cell_type": "code",
   "execution_count": null,
   "id": "9ab635ed",
   "metadata": {},
   "outputs": [],
   "source": [
    "c.write_gds(\"demo.gds\", with_metadata=True)"
   ]
  },
  {
   "cell_type": "markdown",
   "id": "e50f65b6",
   "metadata": {},
   "source": [
    "OASIS is a newer format that can store CAD files and that reduces the size."
   ]
  },
  {
   "cell_type": "code",
   "execution_count": null,
   "id": "a8458401",
   "metadata": {},
   "outputs": [],
   "source": [
    "c.write_oas(\"demo.oas\")"
   ]
  },
  {
   "cell_type": "markdown",
   "id": "83f030cd",
   "metadata": {},
   "source": [
    "You can also save the image as a PNG image"
   ]
  },
  {
   "cell_type": "code",
   "execution_count": null,
   "id": "a3a10940",
   "metadata": {},
   "outputs": [],
   "source": [
    "fig = c.plot_klayout()\n",
    "fig.savefig(\"demo.png\")"
   ]
  },
  {
   "cell_type": "markdown",
   "id": "b3e55ff9",
   "metadata": {},
   "source": [
    "You can also save it as STL for 3D printing or for some simulator, thanks to the LayerStack"
   ]
  },
  {
   "cell_type": "code",
   "execution_count": null,
   "id": "781cd83d",
   "metadata": {},
   "outputs": [],
   "source": [
    "c.write_stl(\"demo.stl\")"
   ]
  },
  {
   "cell_type": "code",
   "execution_count": null,
   "id": "0f4e6cf1",
   "metadata": {},
   "outputs": [],
   "source": [
    "scene = c.to_3d()\n",
    "scene.show()"
   ]
  },
  {
   "cell_type": "code",
   "execution_count": null,
   "id": "db2489f0",
   "metadata": {
    "lines_to_next_cell": 0
   },
   "outputs": [],
   "source": []
  },
  {
   "cell_type": "markdown",
   "id": "b482c902",
   "metadata": {},
   "source": [
    "---\n",
    "jupyter:\n",
    "  jupytext:\n",
    "    cell_metadata_filter: -all\n",
    "    custom_cell_magics: kql\n",
    "    text_representation:\n",
    "      extension: .md\n",
    "      format_name: markdown\n",
    "      format_version: '1.3'\n",
    "      jupytext_version: 1.15.2\n",
    "  kernelspec:\n",
    "    display_name: base\n",
    "    language: python\n",
    "    name: python3\n",
    "---\n",
    "\n",
    "# References and ports\n",
    "\n",
    "gdsfactory defines your component once in memory and can add multiple References (Instances) to the same component."
   ]
  },
  {
   "cell_type": "markdown",
   "id": "f97b5dc6",
   "metadata": {},
   "source": [
    "As you build components you can include references to other components. Adding a reference is like having a pointer to a component.\n",
    "\n",
    "The GDSII specification allows the use of references, and similarly gdsfactory uses them (with the `add_ref()` function).\n",
    "what is a reference? Simply put:  **A reference does not contain any geometry. It only *points* to an existing geometry**.\n",
    "\n",
    "Say you have a ridiculously large polygon with 100 billion vertices that you call BigPolygon. It's huge, and you need to use it in your design 250 times.\n",
    "Well, a single copy of BigPolygon takes up 1MB of memory, so you don't want to make 250 copies of it\n",
    "You can instead *references* the polygon 250 times.\n",
    "Each reference only uses a few bytes of memory -- it only needs to know the memory address of BigPolygon, position, rotation and mirror.\n",
    "This way, you can keep one copy of BigPolygon and use it again and again.\n",
    "\n",
    "You can start by making a blank `Component` and add a single polygon to it."
   ]
  },
  {
   "cell_type": "code",
   "execution_count": null,
   "id": "77c19bdb",
   "metadata": {},
   "outputs": [],
   "source": [
    "import gdsfactory as gf\n",
    "\n",
    "# Create a blank Component\n",
    "p = gf.Component(\"component_with_polygon\")\n",
    "\n",
    "# Add a polygon\n",
    "xpts = [0, 0, 5, 6, 9, 12]\n",
    "ypts = [0, 1, 1, 2, 2, 0]\n",
    "p.add_polygon([xpts, ypts], layer=(2, 0))\n",
    "\n",
    "# plot the Component with the polygon in it\n",
    "p.plot()"
   ]
  },
  {
   "cell_type": "markdown",
   "id": "888457fa",
   "metadata": {},
   "source": [
    "Now, you want to reuse this polygon repeatedly without creating multiple copies of it.\n",
    "\n",
    "To do so, you need to make a second blank `Component`, this time called `c`.\n",
    "\n",
    "In this new Component you *reference* our Component `p` which contains our polygon."
   ]
  },
  {
   "cell_type": "code",
   "execution_count": null,
   "id": "9ac2e7df",
   "metadata": {},
   "outputs": [],
   "source": [
    "c = gf.Component(\"Component_with_references\")  # Create a new blank Component\n",
    "poly_ref = c.add_ref(p)  # Reference the Component \"p\" that has the polygon in it\n",
    "c.plot()"
   ]
  },
  {
   "cell_type": "markdown",
   "id": "3f619a0d",
   "metadata": {},
   "source": [
    "you just made a copy of your polygon -- but remember, you didn't actually\n",
    "make a second polygon, you just made a reference (aka pointer) to the original\n",
    "polygon.  Let's add two more references to `c`:"
   ]
  },
  {
   "cell_type": "code",
   "execution_count": null,
   "id": "763cf8c1",
   "metadata": {},
   "outputs": [],
   "source": [
    "poly_ref2 = c.add_ref(p)  # Reference the Component \"p\" that has the polygon in it\n",
    "poly_ref3 = c.add_ref(p)  # Reference the Component \"p\" that has the polygon in it\n",
    "c.plot()"
   ]
  },
  {
   "cell_type": "markdown",
   "id": "c72f64cc",
   "metadata": {},
   "source": [
    "Now you have 3x polygons all on top of each other.  Again, this would appear\n",
    "useless, except that you can manipulate each reference independently. Notice that\n",
    "when you called `c.add_ref(p)` above, we saved the result to a new variable each\n",
    "time (`poly_ref`, `poly_ref2`, and `poly_ref3`)?  You can use those variables to\n",
    "reposition the references."
   ]
  },
  {
   "cell_type": "code",
   "execution_count": null,
   "id": "3c3165ae",
   "metadata": {},
   "outputs": [],
   "source": [
    "poly_ref2.rotate(90)  # Rotate the 2nd reference we made 90 degrees\n",
    "poly_ref3.rotate(180)  # Rotate the 3rd reference we made 180 degrees\n",
    "c.plot()"
   ]
  },
  {
   "cell_type": "markdown",
   "id": "2c8c82c6",
   "metadata": {},
   "source": [
    "Now you're getting somewhere! You've only had to make the polygon once, but you're\n",
    "able to reuse it as many times as you want.\n",
    "\n",
    "## Modifying the referenced geometry\n",
    "\n",
    "What happens when you change the original geometry that the reference points to?  In your case, your references in\n",
    "`c` all point to the Component `p` that with the original polygon.  Let's try\n",
    "adding a second polygon to `p`.\n",
    "\n",
    "First you add the second polygon and make sure `P` looks like you expect:"
   ]
  },
  {
   "cell_type": "code",
   "execution_count": null,
   "id": "53a5c1b3",
   "metadata": {},
   "outputs": [],
   "source": [
    "# Add a 2nd polygon to \"p\"\n",
    "xpts = [14, 14, 16, 16]\n",
    "ypts = [0, 2, 2, 0]\n",
    "p.add_polygon([xpts, ypts], layer=(1, 0))\n",
    "p"
   ]
  },
  {
   "cell_type": "markdown",
   "id": "fdb03d61",
   "metadata": {},
   "source": [
    "That looks good.  Now let's find out what happened to `c` that contains the\n",
    "three references.  Keep in mind that you have not modified `c` or executed any\n",
    "functions/operations on `c` -- all you have done is modify `p`."
   ]
  },
  {
   "cell_type": "code",
   "execution_count": null,
   "id": "89749af0",
   "metadata": {},
   "outputs": [],
   "source": [
    "c.plot()"
   ]
  },
  {
   "cell_type": "markdown",
   "id": "42daee7b",
   "metadata": {},
   "source": [
    " **When you modify the original geometry, all of the\n",
    "references automatically reflect the modifications.**  This is very powerful,\n",
    "because you can use this to make very complicated designs from relatively simple\n",
    "elements in a computation- and memory-efficient way.\n",
    "\n",
    "Let's try making references a level deeper by referencing `c`.  Note here we use\n",
    "the `<<` operator to add the references -- this is just shorthand, and is\n",
    "exactly equivalent to using `add_ref()`"
   ]
  },
  {
   "cell_type": "code",
   "execution_count": null,
   "id": "ef2ecc38",
   "metadata": {},
   "outputs": [],
   "source": [
    "c2 = gf.Component(\"array_sample\")  # Create a new blank Component\n",
    "d_ref1 = c2.add_ref(c)  # Reference the Component \"c\" that 3 references in it\n",
    "d_ref2 = c2 << c  # Use the \"<<\" operator to create a 2nd reference to c.plot()\n",
    "d_ref3 = c2 << c  # Use the \"<<\" operator to create a 3rd reference to c.plot()\n",
    "\n",
    "d_ref1.move([20, 0])\n",
    "d_ref2.move([40, 0])\n",
    "\n",
    "c2"
   ]
  },
  {
   "cell_type": "markdown",
   "id": "5cd2b892",
   "metadata": {},
   "source": [
    "As you've seen you have two ways to add a reference to our component:\n",
    "\n",
    "1. create the reference and add it to the component"
   ]
  },
  {
   "cell_type": "code",
   "execution_count": null,
   "id": "69a09662",
   "metadata": {},
   "outputs": [],
   "source": [
    "c = gf.Component(\"reference_sample\")\n",
    "w = gf.components.straight(width=0.6)\n",
    "wr = w.ref()\n",
    "c.add(wr)\n",
    "c.plot()"
   ]
  },
  {
   "cell_type": "markdown",
   "id": "a02d4462",
   "metadata": {},
   "source": [
    "2. or do it in a single line"
   ]
  },
  {
   "cell_type": "code",
   "execution_count": null,
   "id": "cd6ac66f",
   "metadata": {},
   "outputs": [],
   "source": [
    "c = gf.Component(\"reference_sample_shorter_syntax\")\n",
    "wr = c << gf.components.straight(width=0.6)\n",
    "c.plot()"
   ]
  },
  {
   "cell_type": "markdown",
   "id": "9b949a5f",
   "metadata": {},
   "source": [
    "in both cases you can move the reference `wr` after created"
   ]
  },
  {
   "cell_type": "code",
   "execution_count": null,
   "id": "9dc201cf",
   "metadata": {},
   "outputs": [],
   "source": [
    "c = gf.Component(\"two_references\")\n",
    "wr1 = c << gf.components.straight(width=0.6)\n",
    "wr2 = c << gf.components.straight(width=0.6)\n",
    "wr2.movey(10)\n",
    "c.add_ports(wr1.get_ports_list(), prefix=\"bot_\")\n",
    "c.add_ports(wr2.get_ports_list(), prefix=\"top_\")"
   ]
  },
  {
   "cell_type": "code",
   "execution_count": null,
   "id": "3cecab7b",
   "metadata": {},
   "outputs": [],
   "source": [
    "c.ports"
   ]
  },
  {
   "cell_type": "markdown",
   "id": "dc44139c",
   "metadata": {},
   "source": [
    "You can also auto_rename ports using gdsfactory default convention, where ports are numbered clockwise starting from the bottom left"
   ]
  },
  {
   "cell_type": "code",
   "execution_count": null,
   "id": "b3093664",
   "metadata": {},
   "outputs": [],
   "source": [
    "c.auto_rename_ports()"
   ]
  },
  {
   "cell_type": "code",
   "execution_count": null,
   "id": "bcf6b043",
   "metadata": {},
   "outputs": [],
   "source": [
    "c.ports"
   ]
  },
  {
   "cell_type": "code",
   "execution_count": null,
   "id": "7bfed6de",
   "metadata": {},
   "outputs": [],
   "source": [
    "c.plot()"
   ]
  },
  {
   "cell_type": "markdown",
   "id": "aca25919",
   "metadata": {},
   "source": [
    "## Arrays of references\n",
    "\n",
    "In GDS, there's a type of structure called a \"ComponentReference\" which takes a cell and repeats it NxM times on a fixed grid spacing. For convenience, `Component` includes this functionality with the add_array() function.\n",
    "Note that CellArrays are not compatible with ports (since there is no way to access/modify individual elements in a GDS cellarray)\n",
    "\n",
    "gdsfactory also provides with more flexible arrangement options if desired, see for example `grid()` and `packer()`.\n",
    "\n",
    "As well as `gf.components.array`\n",
    "\n",
    "Let's make a new Component and put a big array of our Component `c` in it:"
   ]
  },
  {
   "cell_type": "code",
   "execution_count": null,
   "id": "48fb2e4a",
   "metadata": {},
   "outputs": [],
   "source": [
    "c3 = gf.Component(\"array_of_references\")  # Create a new blank Component\n",
    "aref = c3.add_array(\n",
    "    c, columns=6, rows=3, spacing=[20, 15]\n",
    ")  # Reference the Component \"c\" 3 references in it with a 3 rows, 6 columns array\n",
    "c3"
   ]
  },
  {
   "cell_type": "markdown",
   "id": "5862dbf3",
   "metadata": {},
   "source": [
    "CellArrays don't have ports and there is no way to access/modify individual elements in a GDS cellarray.\n",
    "\n",
    "gdsfactory provides you with similar functions in `gf.components.array` and `gf.components.array_2d`"
   ]
  },
  {
   "cell_type": "code",
   "execution_count": null,
   "id": "18ec9b66",
   "metadata": {
    "lines_to_next_cell": 2
   },
   "outputs": [],
   "source": [
    "c4 = gf.Component(\"demo_array\")  # Create a new blank Component\n",
    "aref = c4 << gf.components.array(component=c, columns=3, rows=2)\n",
    "c4.add_ports(aref.get_ports_list())\n",
    "c4"
   ]
  },
  {
   "cell_type": "code",
   "execution_count": null,
   "id": "7f127d17",
   "metadata": {
    "lines_to_next_cell": 2
   },
   "outputs": [],
   "source": [
    "help(gf.components.array)"
   ]
  },
  {
   "cell_type": "markdown",
   "id": "892477d4",
   "metadata": {},
   "source": [
    "You can also create an array of references for periodic structures. Let's create a [Distributed Bragg Reflector](https://picwriter.readthedocs.io/en/latest/components/dbr.html)\n",
    "\n"
   ]
  },
  {
   "cell_type": "code",
   "execution_count": null,
   "id": "1cb8eb18",
   "metadata": {},
   "outputs": [],
   "source": [
    "@gf.cell\n",
    "def dbr_period(w1=0.5, w2=0.6, l1=0.2, l2=0.4, straight=gf.components.straight):\n",
    "    \"\"\"Return one DBR period.\"\"\"\n",
    "    c = gf.Component()\n",
    "    r1 = c << straight(length=l1, width=w1)\n",
    "    r2 = c << straight(length=l2, width=w2)\n",
    "    r2.connect(port=\"o1\", destination=r1.ports[\"o2\"])\n",
    "    c.add_port(\"o1\", port=r1.ports[\"o1\"])\n",
    "    c.add_port(\"o2\", port=r2.ports[\"o2\"])\n",
    "    return c\n",
    "\n",
    "\n",
    "l1 = 0.2\n",
    "l2 = 0.4\n",
    "n = 3\n",
    "period = dbr_period(l1=l1, l2=l2)\n",
    "period"
   ]
  },
  {
   "cell_type": "code",
   "execution_count": null,
   "id": "8bd22eb2",
   "metadata": {},
   "outputs": [],
   "source": [
    "dbr = gf.Component(\"DBR\")\n",
    "dbr.add_array(period, columns=n, rows=1, spacing=(l1 + l2, 100))\n",
    "dbr"
   ]
  },
  {
   "cell_type": "markdown",
   "id": "82bf81aa",
   "metadata": {},
   "source": [
    "Finally we need to add ports to the new component"
   ]
  },
  {
   "cell_type": "code",
   "execution_count": null,
   "id": "5fbb8c3b",
   "metadata": {},
   "outputs": [],
   "source": [
    "p0 = dbr.add_port(\"o1\", port=period.ports[\"o1\"])\n",
    "p1 = dbr.add_port(\"o2\", port=period.ports[\"o2\"])\n",
    "\n",
    "p1.center = [(l1 + l2) * n, 0]\n",
    "dbr"
   ]
  },
  {
   "cell_type": "markdown",
   "id": "9dc58b76",
   "metadata": {},
   "source": [
    "## Connect references\n",
    "\n",
    "We have seen that once you create a reference you can manipulate the reference to move it to a location. Here we are going to connect that reference to a port. Remember that we follow that a certain reference `source` connects to a `destination` port"
   ]
  },
  {
   "cell_type": "code",
   "execution_count": null,
   "id": "dfc809fe",
   "metadata": {},
   "outputs": [],
   "source": [
    "bend = gf.components.bend_circular()\n",
    "bend"
   ]
  },
  {
   "cell_type": "code",
   "execution_count": null,
   "id": "16fac225",
   "metadata": {},
   "outputs": [],
   "source": [
    "c = gf.Component(\"sample_reference_connect\")\n",
    "\n",
    "mmi = c << gf.components.mmi1x2()\n",
    "b = c << gf.components.bend_circular()\n",
    "b.connect(\"o1\", destination=mmi.ports[\"o2\"])\n",
    "\n",
    "c.add_port(\"o1\", port=mmi.ports[\"o1\"])\n",
    "c.add_port(\"o2\", port=b.ports[\"o2\"])\n",
    "c.add_port(\"o3\", port=mmi.ports[\"o3\"])\n",
    "c.plot()"
   ]
  },
  {
   "cell_type": "markdown",
   "id": "c436dd27",
   "metadata": {},
   "source": [
    "You can also access the ports as `reference[port_name]` instead of `reference.ports[port_name]`"
   ]
  },
  {
   "cell_type": "code",
   "execution_count": null,
   "id": "28e48580",
   "metadata": {},
   "outputs": [],
   "source": [
    "c = gf.Component(\"sample_reference_connect_simpler\")\n",
    "\n",
    "mmi = c << gf.components.mmi1x2()\n",
    "b = c << gf.components.bend_circular()\n",
    "b.connect(\"o1\", destination=mmi[\"o2\"])\n",
    "\n",
    "c.add_port(\"o1\", port=mmi[\"o1\"])\n",
    "c.add_port(\"o2\", port=b[\"o2\"])\n",
    "c.add_port(\"o3\", port=mmi[\"o3\"])\n",
    "c.plot()"
   ]
  },
  {
   "cell_type": "code",
   "execution_count": null,
   "id": "77faa595",
   "metadata": {},
   "outputs": [],
   "source": [
    "c = gf.Component(\"sample_reference_connect_simpler\")\n",
    "\n",
    "mmi = c << gf.components.mmi1x2()\n",
    "b = c.add_ref(gf.components.bend_circular()).connect(\"o1\", destination=mmi[\"o2\"])\n",
    "\n",
    "c.add_port(\"o1\", port=mmi[\"o1\"])\n",
    "c.add_port(\"o2\", port=b[\"o2\"])\n",
    "c.add_port(\"o3\", port=mmi[\"o3\"])\n",
    "c.plot()"
   ]
  },
  {
   "cell_type": "code",
   "execution_count": null,
   "id": "063fb01b",
   "metadata": {},
   "outputs": [],
   "source": [
    "c = gf.Component(\"sample_reference_connect_simpler_with_mirror\")\n",
    "\n",
    "mmi = c << gf.components.mmi1x2()\n",
    "b = (\n",
    "    c.add_ref(gf.components.bend_circular())\n",
    "    .mirror()\n",
    "    .connect(\"o1\", destination=mmi[\"o2\"])\n",
    ")\n",
    "\n",
    "c.add_port(\"o1\", port=mmi[\"o1\"])\n",
    "c.add_port(\"o2\", port=b[\"o2\"])\n",
    "c.add_port(\"o3\", port=mmi[\"o3\"])\n",
    "c.plot()"
   ]
  },
  {
   "cell_type": "markdown",
   "id": "4026cb72",
   "metadata": {},
   "source": [
    "Notice that `connect` mates two ports together and does not imply that ports will remain connected.\n"
   ]
  },
  {
   "cell_type": "markdown",
   "id": "b3c4bf2e",
   "metadata": {},
   "source": [
    "## Port\n",
    "\n",
    "You can name the ports as you want and use `gf.port.auto_rename_ports(prefix='o')` to rename them later on.\n",
    "\n",
    "Here is the default naming convention.\n",
    "\n",
    "Ports are numbered clock-wise starting from the bottom left corner.\n",
    "\n",
    "Optical ports have `o` prefix and Electrical ports `e` prefix.\n",
    "\n",
    "The port naming comes in most cases from the `gdsfactory.cross_section`. For example:\n",
    "\n",
    "- `gdsfactory.cross_section.strip`  has ports `o1` for input and `o2` for output.\n",
    "- `gdsfactory.cross_section.metal1` has ports `e1` for input and `e2` for output."
   ]
  },
  {
   "cell_type": "code",
   "execution_count": null,
   "id": "923cda80",
   "metadata": {},
   "outputs": [],
   "source": [
    "size = 4\n",
    "c = gf.components.nxn(west=2, south=2, north=2, east=2, xsize=size, ysize=size)\n",
    "c.plot()"
   ]
  },
  {
   "cell_type": "code",
   "execution_count": null,
   "id": "eb525988",
   "metadata": {},
   "outputs": [],
   "source": [
    "c = gf.components.straight_heater_metal(length=30)\n",
    "c.plot()"
   ]
  },
  {
   "cell_type": "code",
   "execution_count": null,
   "id": "7c760892",
   "metadata": {},
   "outputs": [],
   "source": [
    "c.ports"
   ]
  },
  {
   "cell_type": "markdown",
   "id": "859abb1b",
   "metadata": {},
   "source": [
    "You can get the optical ports by `layer`"
   ]
  },
  {
   "cell_type": "code",
   "execution_count": null,
   "id": "e5cc4390",
   "metadata": {},
   "outputs": [],
   "source": [
    "c.get_ports_dict(layer=(1, 0))"
   ]
  },
  {
   "cell_type": "markdown",
   "id": "1a9cb30f",
   "metadata": {},
   "source": [
    "or by `width`"
   ]
  },
  {
   "cell_type": "code",
   "execution_count": null,
   "id": "a2c6a7cb",
   "metadata": {},
   "outputs": [],
   "source": [
    "c.get_ports_dict(width=0.5)"
   ]
  },
  {
   "cell_type": "code",
   "execution_count": null,
   "id": "16fa99d5",
   "metadata": {},
   "outputs": [],
   "source": [
    "c0 = gf.components.straight_heater_metal()\n",
    "c0.ports"
   ]
  },
  {
   "cell_type": "code",
   "execution_count": null,
   "id": "5cc83027",
   "metadata": {},
   "outputs": [],
   "source": [
    "c1 = c0.copy()\n",
    "c1.auto_rename_ports_layer_orientation()\n",
    "c1.ports"
   ]
  },
  {
   "cell_type": "code",
   "execution_count": null,
   "id": "f78b150b",
   "metadata": {},
   "outputs": [],
   "source": [
    "c2 = c0.copy()\n",
    "c2.auto_rename_ports()\n",
    "c2.ports"
   ]
  },
  {
   "cell_type": "markdown",
   "id": "ce0b3a80",
   "metadata": {},
   "source": [
    "You can also rename them with a different port naming convention\n",
    "\n",
    "- prefix: add `e` for electrical `o` for optical\n",
    "- clockwise\n",
    "- counter-clockwise\n",
    "- orientation `E` East, `W` West, `N` North, `S` South\n",
    "\n",
    "\n",
    "Here is the default one we use (clockwise starting from bottom left west facing port)\n",
    "\n",
    "```\n",
    "             3   4\n",
    "             |___|_\n",
    "         2 -|      |- 5\n",
    "            |      |\n",
    "         1 -|______|- 6\n",
    "             |   |\n",
    "             8   7\n",
    "\n",
    "```"
   ]
  },
  {
   "cell_type": "code",
   "execution_count": null,
   "id": "ff02d048",
   "metadata": {},
   "outputs": [],
   "source": [
    "c = gf.Component(\"demo_ports\")\n",
    "nxn = gf.components.nxn(west=2, north=2, east=2, south=2, xsize=4, ysize=4)\n",
    "ref = c.add_ref(nxn)\n",
    "c.add_ports(ref.ports)\n",
    "c.plot()"
   ]
  },
  {
   "cell_type": "code",
   "execution_count": null,
   "id": "e7771f3a",
   "metadata": {},
   "outputs": [],
   "source": [
    "ref.get_ports_list()  # by default returns ports clockwise starting from bottom left west facing port"
   ]
  },
  {
   "cell_type": "code",
   "execution_count": null,
   "id": "87d446d3",
   "metadata": {},
   "outputs": [],
   "source": [
    "c.auto_rename_ports()\n",
    "c.plot()"
   ]
  },
  {
   "cell_type": "markdown",
   "id": "c4cb3274",
   "metadata": {},
   "source": [
    "You can also get the ports counter-clockwise\n",
    "\n",
    "```\n",
    "             4   3\n",
    "             |___|_\n",
    "         5 -|      |- 2\n",
    "            |      |\n",
    "         6 -|______|- 1\n",
    "             |   |\n",
    "             7   8\n",
    "\n",
    "```"
   ]
  },
  {
   "cell_type": "code",
   "execution_count": null,
   "id": "a951d0af",
   "metadata": {},
   "outputs": [],
   "source": [
    "c.auto_rename_ports_counter_clockwise()\n",
    "c.plot()"
   ]
  },
  {
   "cell_type": "code",
   "execution_count": null,
   "id": "c9796599",
   "metadata": {},
   "outputs": [],
   "source": [
    "c.get_ports_list(clockwise=False)"
   ]
  },
  {
   "cell_type": "code",
   "execution_count": null,
   "id": "9f91164e",
   "metadata": {},
   "outputs": [],
   "source": [
    "c.ports_layer"
   ]
  },
  {
   "cell_type": "code",
   "execution_count": null,
   "id": "11122cb8",
   "metadata": {},
   "outputs": [],
   "source": [
    "c.port_by_orientation_cw(\"W0\")"
   ]
  },
  {
   "cell_type": "code",
   "execution_count": null,
   "id": "683d3fd8",
   "metadata": {},
   "outputs": [],
   "source": [
    "c.port_by_orientation_ccw(\"W1\")"
   ]
  },
  {
   "cell_type": "markdown",
   "id": "0f62702e",
   "metadata": {},
   "source": [
    "Lets extend the East facing ports (orientation = 0 deg)"
   ]
  },
  {
   "cell_type": "code",
   "execution_count": null,
   "id": "8d4f1b9b",
   "metadata": {},
   "outputs": [],
   "source": [
    "cross_section = gf.cross_section.strip()\n",
    "\n",
    "nxn = gf.components.nxn(\n",
    "    west=2, north=2, east=2, south=2, xsize=4, ysize=4, cross_section=cross_section\n",
    ")\n",
    "c = gf.components.extension.extend_ports(component=nxn, orientation=0)\n",
    "c.plot()"
   ]
  },
  {
   "cell_type": "code",
   "execution_count": null,
   "id": "1f8cad09",
   "metadata": {},
   "outputs": [],
   "source": [
    "c.ports"
   ]
  },
  {
   "cell_type": "code",
   "execution_count": null,
   "id": "cc91fac7",
   "metadata": {},
   "outputs": [],
   "source": [
    "df = c.get_ports_pandas()\n",
    "df"
   ]
  },
  {
   "cell_type": "code",
   "execution_count": null,
   "id": "f5270ac9",
   "metadata": {},
   "outputs": [],
   "source": [
    "df[df.port_type == \"optical\"]"
   ]
  },
  {
   "cell_type": "markdown",
   "id": "958f9d21",
   "metadata": {},
   "source": [
    "## Port markers (Pins)\n",
    "\n",
    "You can add pins (port markers) to each port. Different foundries do this differently, so gdsfactory supports all of them.\n",
    "\n",
    "- square with port inside the component.\n",
    "- square centered (half inside, half outside component).\n",
    "- triangular pointing towards the outside of the port.\n",
    "- path (SiEPIC).\n",
    "\n",
    "\n",
    "by default Component.show() will add triangular pins, so you can see the direction of the port in Klayout."
   ]
  },
  {
   "cell_type": "code",
   "execution_count": null,
   "id": "f7f0a956",
   "metadata": {},
   "outputs": [],
   "source": [
    "gf.components.mmi1x2(decorator=gf.add_pins.add_pins)"
   ]
  },
  {
   "cell_type": "code",
   "execution_count": null,
   "id": "ed261c14",
   "metadata": {},
   "outputs": [],
   "source": [
    "gf.components.mmi1x2(decorator=gf.add_pins.add_pins_triangle)"
   ]
  },
  {
   "cell_type": "markdown",
   "id": "ec266898",
   "metadata": {},
   "source": [
    "## Component_sequence\n",
    "\n",
    "When you have repetitive connections you can describe the connectivity as an ASCII map"
   ]
  },
  {
   "cell_type": "code",
   "execution_count": null,
   "id": "6ff2fd8a",
   "metadata": {},
   "outputs": [],
   "source": [
    "bend180 = gf.components.bend_circular180()\n",
    "wg_pin = gf.components.straight_pin(length=40)\n",
    "wg = gf.components.straight()\n",
    "\n",
    "# Define a map between symbols and (component, input port, output port)\n",
    "symbol_to_component = {\n",
    "    \"D\": (bend180, \"o1\", \"o2\"),\n",
    "    \"C\": (bend180, \"o2\", \"o1\"),\n",
    "    \"P\": (wg_pin, \"o1\", \"o2\"),\n",
    "    \"-\": (wg, \"o1\", \"o2\"),\n",
    "}\n",
    "\n",
    "# Generate a sequence\n",
    "# This is simply a chain of characters. Each of them represents a component\n",
    "# with a given input and and a given output\n",
    "\n",
    "sequence = \"DC-P-P-P-P-CD\"\n",
    "component = gf.components.component_sequence(\n",
    "    sequence=sequence, symbol_to_component=symbol_to_component\n",
    ")\n",
    "component.name = \"component_sequence\"\n",
    "component.plot()"
   ]
  },
  {
   "cell_type": "markdown",
   "id": "d790ce9d",
   "metadata": {},
   "source": [
    "As the sequence is defined as a string you can use the string operations to easily build complex sequences"
   ]
  },
  {
   "cell_type": "markdown",
   "id": "49ce64ec",
   "metadata": {},
   "source": [
    "## Movement\n",
    "\n",
    "You can move, rotate and mirror ComponentReference as well as `Port`, `Polygon`, `ComponentReference`, `Label`, and `Group`"
   ]
  },
  {
   "cell_type": "code",
   "execution_count": null,
   "id": "f7a44bac",
   "metadata": {},
   "outputs": [],
   "source": [
    "import gdsfactory as gf\n",
    "\n",
    "# Start with a blank Component\n",
    "c = gf.Component(\"demo_movement\")\n",
    "\n",
    "# Create some more Components with shapes\n",
    "T = gf.components.text(\"hello\", size=10, layer=(1, 0))\n",
    "E = gf.components.ellipse(radii=(10, 5), layer=(2, 0))\n",
    "R = gf.components.rectangle(size=(10, 3), layer=(3, 0))\n",
    "\n",
    "# Add the shapes to c as references\n",
    "text = c << T\n",
    "ellipse = c << E\n",
    "rect1 = c << R\n",
    "rect2 = c << R\n",
    "\n",
    "c.plot()"
   ]
  },
  {
   "cell_type": "code",
   "execution_count": null,
   "id": "0c5cea6e",
   "metadata": {
    "lines_to_next_cell": 2
   },
   "outputs": [],
   "source": [
    "c = gf.Component(\"move_one_ellipse\")\n",
    "e1 = c << gf.components.ellipse(radii=(10, 5), layer=(2, 0))\n",
    "e2 = c << gf.components.ellipse(radii=(10, 5), layer=(2, 0))\n",
    "e1.movex(10)\n",
    "c.plot()"
   ]
  },
  {
   "cell_type": "code",
   "execution_count": null,
   "id": "0eb5b323",
   "metadata": {
    "lines_to_next_cell": 2
   },
   "outputs": [],
   "source": [
    "c = gf.Component(\"move_one_ellipse_xmin\")\n",
    "e1 = c << gf.components.ellipse(radii=(10, 5), layer=(2, 0))\n",
    "e2 = c << gf.components.ellipse(radii=(10, 5), layer=(2, 0))\n",
    "e2.xmin = e1.xmax\n",
    "c.plot()"
   ]
  },
  {
   "cell_type": "code",
   "execution_count": null,
   "id": "a73ea62a",
   "metadata": {
    "lines_to_next_cell": 2
   },
   "outputs": [],
   "source": [
    "# Now you can practice move and rotate the objects.\n",
    "\n",
    "c = gf.Component(\"two_ellipses_on_top_of_each_other\")\n",
    "E = gf.components.ellipse(radii=(10, 5), layer=(2, 0))\n",
    "e1 = c << E\n",
    "e2 = c << E\n",
    "c.plot()"
   ]
  },
  {
   "cell_type": "code",
   "execution_count": null,
   "id": "bd76d807",
   "metadata": {
    "lines_to_next_cell": 2
   },
   "outputs": [],
   "source": [
    "c = gf.Component(\"ellipse_moved\")\n",
    "e = gf.components.ellipse(radii=(10, 5), layer=(2, 0))\n",
    "e1 = c << e\n",
    "e2 = c << e\n",
    "e2.move(origin=[5, 5], destination=[10, 10])  # Translate by dx = 5, dy = 5\n",
    "c.plot()"
   ]
  },
  {
   "cell_type": "code",
   "execution_count": null,
   "id": "2219f535",
   "metadata": {},
   "outputs": [],
   "source": [
    "c = gf.Component(\"ellipse_moved_v2\")\n",
    "e = gf.components.ellipse(radii=(10, 5), layer=(2, 0))\n",
    "e1 = c << e\n",
    "e2 = c << e\n",
    "e2.move([5, 5])  # Translate by dx = 5, dy = 5\n",
    "c.plot()"
   ]
  },
  {
   "cell_type": "code",
   "execution_count": null,
   "id": "a8ef731b",
   "metadata": {},
   "outputs": [],
   "source": [
    "c = gf.Component(\"rectangles\")\n",
    "r = gf.components.rectangle(size=(10, 5), layer=(2, 0))\n",
    "rect1 = c << r\n",
    "rect2 = c << r\n",
    "\n",
    "rect1.rotate(45)  # Rotate the first straight by 45 degrees around (0,0)\n",
    "rect2.rotate(\n",
    "    -30, center=[1, 1]\n",
    ")  # Rotate the second straight by -30 degrees around (1,1)\n",
    "c.plot()"
   ]
  },
  {
   "cell_type": "code",
   "execution_count": null,
   "id": "34b88e09",
   "metadata": {
    "lines_to_next_cell": 2
   },
   "outputs": [],
   "source": [
    "c = gf.Component(\"mirror_demo\")\n",
    "text = c << gf.components.text(\"hello\")\n",
    "text.mirror(p1=[1, 1], p2=[1, 3])  # Reflects across the line formed by p1 and p2\n",
    "c.plot()"
   ]
  },
  {
   "cell_type": "code",
   "execution_count": null,
   "id": "a2b4af07",
   "metadata": {},
   "outputs": [],
   "source": [
    "c = gf.Component(\"hello\")\n",
    "text = c << gf.components.text(\"hello\")\n",
    "c.plot()"
   ]
  },
  {
   "cell_type": "markdown",
   "id": "bba2902e",
   "metadata": {},
   "source": [
    "Each Component and ComponentReference object has several properties which can be\n",
    "used\n",
    "to learn information about the object (for instance where it's center coordinate\n",
    "is).  Several of these properties can actually be used to move the geometry by\n",
    "assigning them new values.\n",
    "\n",
    "Available properties are:\n",
    "\n",
    "- `xmin` / `xmax`: minimum and maximum x-values of all points within the object\n",
    "- `ymin` / `ymax`: minimum and maximum y-values of all points within the object\n",
    "- `x`: centerpoint between minimum and maximum x-values of all points within the\n",
    "object\n",
    "- `y`: centerpoint between minimum and maximum y-values of all points within the\n",
    "object\n",
    "- `bbox`: bounding box (see note below) in format ((xmin,ymin),(xmax,ymax))\n",
    "- `center`: center of bounding box"
   ]
  },
  {
   "cell_type": "code",
   "execution_count": null,
   "id": "3ba12fde",
   "metadata": {
    "lines_to_next_cell": 2
   },
   "outputs": [],
   "source": [
    "print(\"bounding box:\")\n",
    "print(\n",
    "    text.bbox\n",
    ")  # Will print the bounding box of text in terms of [(xmin, ymin), (xmax, ymax)]\n",
    "print(\"xsize and ysize:\")\n",
    "print(text.xsize)  # Will print the width of text in the x dimension\n",
    "print(text.ysize)  # Will print the height of text in the y dimension\n",
    "print(\"center:\")\n",
    "print(text.center)  # Gives you the center coordinate of its bounding box\n",
    "print(\"xmax\")\n",
    "print(text.xmax)  # Gives you the rightmost (+x) edge of the text bounding box\n",
    "\n",
    "# Let's use these properties to manipulate our shapes to arrange them a little\n",
    "# better"
   ]
  },
  {
   "cell_type": "code",
   "execution_count": null,
   "id": "7879d73f",
   "metadata": {
    "lines_to_next_cell": 2
   },
   "outputs": [],
   "source": [
    "c = gf.Component(\"canvas\")\n",
    "text = c << gf.components.text(\"hello\")\n",
    "E = gf.components.ellipse(radii=(10, 5), layer=(3, 0))\n",
    "R = gf.components.rectangle(size=(10, 5), layer=(2, 0))\n",
    "rect1 = c << R\n",
    "rect2 = c << R\n",
    "ellipse = c << E\n",
    "c.plot()"
   ]
  },
  {
   "cell_type": "code",
   "execution_count": null,
   "id": "c46b8acb",
   "metadata": {
    "lines_to_next_cell": 2
   },
   "outputs": [],
   "source": [
    "ellipse.center = [\n",
    "    0,\n",
    "    0,\n",
    "]  # Move the ellipse such that the bounding box center is at (0,0)\n",
    "\n",
    "# Next, let's move the text to the left edge of the ellipse\n",
    "text.y = (\n",
    "    ellipse.y\n",
    ")  # Move the text so that its y-center is equal to the y-center of the ellipse\n",
    "text.xmax = ellipse.xmin  # Moves the ellipse so its xmax == the ellipse's xmin\n",
    "\n",
    "# Align the right edge of the rectangles with the x=0 axis\n",
    "rect1.xmax = 0\n",
    "rect2.xmax = 0\n",
    "\n",
    "# Move the rectangles above and below the ellipse\n",
    "rect1.ymin = ellipse.ymax + 5\n",
    "rect2.ymax = ellipse.ymin - 5\n",
    "\n",
    "c.plot()"
   ]
  },
  {
   "cell_type": "code",
   "execution_count": null,
   "id": "c10c12be",
   "metadata": {
    "lines_to_next_cell": 2
   },
   "outputs": [],
   "source": [
    "# In addition to working with the properties of the references inside the\n",
    "# Component,\n",
    "# we can also manipulate the whole Component if we want.  Let's try mirroring the\n",
    "# whole Component `c`:\n",
    "\n",
    "print(c.xmax)  # Prints out '10.0'\n",
    "\n",
    "c2 = c.mirror((0, 1))  # Mirror across line made by (0,0) and (0,1)\n",
    "c2.plot()"
   ]
  },
  {
   "cell_type": "code",
   "execution_count": null,
   "id": "ae08b4e3",
   "metadata": {
    "lines_to_next_cell": 2
   },
   "outputs": [],
   "source": [
    "# A bounding box is the smallest enclosing box which contains all points of the geometry.\n",
    "\n",
    "c = gf.Component(\"hi_bbox\")\n",
    "text = c << gf.components.text(\"hi\")\n",
    "bbox = text.bbox\n",
    "c << gf.components.bbox(bbox=bbox, layer=(2, 0))\n",
    "c.plot()"
   ]
  },
  {
   "cell_type": "code",
   "execution_count": null,
   "id": "ce0734bb",
   "metadata": {
    "lines_to_next_cell": 2
   },
   "outputs": [],
   "source": [
    "c = gf.Component(\"sample_padding\")\n",
    "text = c << gf.components.text(\"bye\")\n",
    "device_bbox = text.bbox\n",
    "c.add_polygon(gf.get_padding_points(text, default=1), layer=(2, 0))\n",
    "c.plot()"
   ]
  },
  {
   "cell_type": "code",
   "execution_count": null,
   "id": "09153452",
   "metadata": {},
   "outputs": [],
   "source": [
    "# When we query the properties of c, they will be calculated with respect to this bounding-rectangle.  For instance:\n",
    "\n",
    "print(\"Center of Component c:\")\n",
    "print(c.center)\n",
    "\n",
    "print(\"X-max of Component c:\")\n",
    "print(c.xmax)"
   ]
  },
  {
   "cell_type": "code",
   "execution_count": null,
   "id": "45829801",
   "metadata": {
    "lines_to_next_cell": 2
   },
   "outputs": [],
   "source": [
    "c = gf.Component(\"rect\")\n",
    "R = gf.components.rectangle(size=(10, 3), layer=(2, 0))\n",
    "rect1 = c << R\n",
    "c.plot()"
   ]
  },
  {
   "cell_type": "code",
   "execution_count": null,
   "id": "caef5fc8",
   "metadata": {
    "lines_to_next_cell": 2
   },
   "outputs": [],
   "source": [
    "# You can chain many of the movement/manipulation functions because they all return the object they manipulate.\n",
    "# For instance you can combine two expressions:\n",
    "\n",
    "rect1.rotate(angle=37)\n",
    "rect1.move([10, 20])\n",
    "c.plot()"
   ]
  },
  {
   "cell_type": "code",
   "execution_count": null,
   "id": "d2820822",
   "metadata": {},
   "outputs": [],
   "source": [
    "# ...into this single-line expression\n",
    "\n",
    "c = gf.Component(\"single_expression\")\n",
    "R = gf.components.rectangle(size=(10, 3), layer=(2, 0))\n",
    "rect1 = c << R\n",
    "rect1.rotate(angle=37).move([10, 20])\n",
    "c.plot()"
   ]
  },
  {
   "cell_type": "code",
   "execution_count": null,
   "id": "d0f28e14",
   "metadata": {
    "lines_to_next_cell": 0
   },
   "outputs": [],
   "source": []
  },
  {
   "cell_type": "markdown",
   "id": "2f773d8f",
   "metadata": {},
   "source": [
    "---\n",
    "jupyter:\n",
    "  jupytext:\n",
    "    cell_metadata_filter: -all\n",
    "    custom_cell_magics: kql\n",
    "    text_representation:\n",
    "      extension: .md\n",
    "      format_name: markdown\n",
    "      format_version: '1.3'\n",
    "      jupytext_version: 1.15.2\n",
    "  kernelspec:\n",
    "    display_name: base\n",
    "    language: python\n",
    "    name: python3\n",
    "---"
   ]
  },
  {
   "cell_type": "markdown",
   "id": "d416c7f1",
   "metadata": {},
   "source": [
    "# Cell\n",
    "\n",
    "A `@cell` is a decorator for functions that return a Component. Make sure you add the `@cell` decorator to each function that returns a Component so you avoid having multiple components with the same name.\n",
    "\n",
    "Why do you need to add the `@cell` decorator?\n",
    "\n",
    "- In GDS each component must have a unique name. Ideally the name is also consistent from run to run, in case you want to merge GDS files that were created at different times or computers.\n",
    "- Two components stored in the GDS file cannot have the same name. They need to be references (instances) of the same component. See `References tutorial`. That way we only have to store the component in memory once and all the references are just pointers to that component.\n",
    "\n",
    "What does the `@cell` decorator does?\n",
    "\n",
    "1. Gives the component a unique name depending on the parameters that you pass to it.\n",
    "2. Creates a cache of components where we use the name as the key. The first time the function runs, the cache stores the component, so the second time, you get the component directly from the cache, so you don't create the same component twice.\n",
    "\n",
    "\n",
    "What is a decorator?\n",
    "\n",
    "A decorator is a function that runs over a function, so when you do.\n",
    "\n",
    "```python\n",
    "@gf.cell\n",
    "def mzi_with_bend():\n",
    "    c = gf.Component()\n",
    "    mzi = c << gf.components.mzi()\n",
    "    bend = c << gf.components.bend_euler()\n",
    "    return c\n",
    "```\n",
    "it's equivalent to\n",
    "\n",
    "```python\n",
    "def mzi_with_bend():\n",
    "    c = gf.Component()\n",
    "    mzi = c << gf.components.mzi()\n",
    "    bend = c << gf.components.bend_euler(radius=radius)\n",
    "    return c\n",
    "\n",
    "\n",
    "mzi_with_bend_decorated = gf.cell(mzi_with_bend)\n",
    "```\n",
    "\n",
    "Lets see how it works."
   ]
  },
  {
   "cell_type": "code",
   "execution_count": null,
   "id": "86409935",
   "metadata": {},
   "outputs": [],
   "source": [
    "import gdsfactory as gf\n",
    "from gdsfactory.cell import print_cache\n",
    "\n",
    "\n",
    "def mzi_with_bend(radius: float = 10.0) -> gf.Component:\n",
    "    c = gf.Component()\n",
    "    mzi = c << gf.components.mzi()\n",
    "    bend = c << gf.components.bend_euler(radius=radius)\n",
    "    bend.connect(\"o1\", mzi.ports[\"o2\"])\n",
    "    return c\n",
    "\n",
    "\n",
    "c = mzi_with_bend()\n",
    "print(f\"this cell {c.name!r} does NOT get automatic name\")\n",
    "c.plot()"
   ]
  },
  {
   "cell_type": "code",
   "execution_count": null,
   "id": "4ebe75f7",
   "metadata": {},
   "outputs": [],
   "source": [
    "mzi_with_bend_decorated = gf.cell(mzi_with_bend)\n",
    "c = mzi_with_bend_decorated(radius=10)\n",
    "print(f\"this cell {c.name!r} gets automatic name thanks to the `cell` decorator\")\n",
    "c.plot()"
   ]
  },
  {
   "cell_type": "code",
   "execution_count": null,
   "id": "665afe79",
   "metadata": {},
   "outputs": [],
   "source": [
    "@gf.cell\n",
    "def mzi_with_bend(radius: float = 10.0) -> gf.Component:\n",
    "    c = gf.Component()\n",
    "    mzi = c << gf.components.mzi()\n",
    "    bend = c << gf.components.bend_euler(radius=radius)\n",
    "    bend.connect(\"o1\", mzi.ports[\"o2\"])\n",
    "    return c\n",
    "\n",
    "\n",
    "print(f\"this cell {c.name!r} gets automatic name thanks to the `cell` decorator\")\n",
    "c.plot()"
   ]
  },
  {
   "cell_type": "code",
   "execution_count": null,
   "id": "d369503a",
   "metadata": {
    "lines_to_next_cell": 2
   },
   "outputs": [],
   "source": [
    "# See how the cells get the name from the parameters that you pass them\n",
    "\n",
    "c = mzi_with_bend()\n",
    "print(c)\n",
    "\n",
    "print(\"second time you get this cell from the cache\")\n",
    "c = mzi_with_bend()\n",
    "print(c)\n",
    "\n",
    "print(\"If you call the cell with different parameters, the cell gets a different name\")\n",
    "c = mzi_with_bend(radius=20)\n",
    "print(c)"
   ]
  },
  {
   "cell_type": "markdown",
   "id": "faa2539c",
   "metadata": {},
   "source": [
    "Sometimes when you are changing the inside code of the function, you need to remove the component from the cache to make sure the code runs again.\n",
    "\n",
    "This is useful when using jupyter notebooks or the file watcher.\n"
   ]
  },
  {
   "cell_type": "code",
   "execution_count": null,
   "id": "dcdef2b1",
   "metadata": {},
   "outputs": [],
   "source": [
    "@gf.cell\n",
    "def wg(length=10, width=1, layer=(1, 0)):\n",
    "    print(\"BUILDING waveguide\")\n",
    "    c = gf.Component()\n",
    "    c.info[\"area\"] = width * length\n",
    "    c.add_polygon([(0, 0), (length, 0), (length, width), (0, width)], layer=layer)\n",
    "    c.add_port(\n",
    "        name=\"o1\", center=[0, width / 2], width=width, orientation=180, layer=layer\n",
    "    )\n",
    "    c.add_port(\n",
    "        name=\"o2\", center=[length, width / 2], width=width, orientation=0, layer=layer\n",
    "    )\n",
    "    return c"
   ]
  },
  {
   "cell_type": "code",
   "execution_count": null,
   "id": "b166c88c",
   "metadata": {
    "lines_to_next_cell": 2
   },
   "outputs": [],
   "source": [
    "c = wg()\n",
    "gf.remove_from_cache(c)\n",
    "c = wg()\n",
    "gf.remove_from_cache(c)\n",
    "c = wg()\n",
    "gf.remove_from_cache(c)"
   ]
  },
  {
   "cell_type": "markdown",
   "id": "e4732a36",
   "metadata": {},
   "source": [
    "## Settings vs Info\n",
    "\n",
    "Together with the GDS file that you send to the foundry you can also store the settings for each Component.\n",
    "\n",
    "- `Component.settings` are the input settings for each Cell to Generate a Component. For example, `wg.settings.length` will return you the input `length` setting that you used to create that waveguide.\n",
    "- `Component.info` are the derived properties that will be computed inside the Cell function. For example `wg.info.area` will return the computed area of that waveguide.\n"
   ]
  },
  {
   "cell_type": "code",
   "execution_count": null,
   "id": "aee5a69b",
   "metadata": {},
   "outputs": [],
   "source": [
    "c.info"
   ]
  },
  {
   "cell_type": "code",
   "execution_count": null,
   "id": "c0293b4d",
   "metadata": {},
   "outputs": [],
   "source": [
    "c.info.area"
   ]
  },
  {
   "cell_type": "code",
   "execution_count": null,
   "id": "e6c134e7",
   "metadata": {},
   "outputs": [],
   "source": [
    "c.settings"
   ]
  },
  {
   "cell_type": "code",
   "execution_count": null,
   "id": "dc262dbd",
   "metadata": {},
   "outputs": [],
   "source": [
    "c.settings.length"
   ]
  },
  {
   "cell_type": "markdown",
   "id": "a6c79f93",
   "metadata": {},
   "source": [
    "Components also have pretty print for settings `c.pprint()` and ports `c.pprint_ports()`"
   ]
  },
  {
   "cell_type": "code",
   "execution_count": null,
   "id": "bd39af5f",
   "metadata": {
    "lines_to_next_cell": 2
   },
   "outputs": [],
   "source": [
    "c.pprint()"
   ]
  },
  {
   "cell_type": "code",
   "execution_count": null,
   "id": "ae6ade0e",
   "metadata": {
    "lines_to_next_cell": 2
   },
   "outputs": [],
   "source": [
    "# you always add any relevant information `info` to the cell\n",
    "c.info[\"polarization\"] = \"te\"\n",
    "c.info[\"wavelength\"] = 1.55\n",
    "c.info"
   ]
  },
  {
   "cell_type": "markdown",
   "id": "4b0bcc8c",
   "metadata": {},
   "source": [
    "## Cache\n",
    "\n",
    "To avoid that 2 exact cells are not references of the same cell the `cell` decorator has a cache where if a component has already been built it will return the component from the cache\n"
   ]
  },
  {
   "cell_type": "code",
   "execution_count": null,
   "id": "a497e5fe",
   "metadata": {},
   "outputs": [],
   "source": [
    "@gf.cell\n",
    "def wg(length=10, width=1):\n",
    "    c = gf.Component()\n",
    "    c.add_polygon([(0, 0), (length, 0), (length, width), (0, width)], layer=(1, 0))\n",
    "    print(f\"BUILDING {length}um long waveguide\")\n",
    "    return c"
   ]
  },
  {
   "cell_type": "markdown",
   "id": "61446756",
   "metadata": {},
   "source": [
    "If you run the cell below multiple times it will print a message because we are deleting the CACHE every single time and every time the cell will have a different Unique Identifier (UID)."
   ]
  },
  {
   "cell_type": "code",
   "execution_count": null,
   "id": "ce3848eb",
   "metadata": {},
   "outputs": [],
   "source": [
    "gf.clear_cache()\n",
    "wg1 = wg()  # cell builds a straight\n",
    "print(wg1.uid)"
   ]
  },
  {
   "cell_type": "markdown",
   "id": "1e609bf0",
   "metadata": {},
   "source": [
    "If you run the cell below multiple times it will NOT print a message because we are hitting CACHE every single time and every time the cell will have the SAME Unique Identifier (UID) because it's the same cell."
   ]
  },
  {
   "cell_type": "code",
   "execution_count": null,
   "id": "ac79e64d",
   "metadata": {
    "lines_to_next_cell": 2
   },
   "outputs": [],
   "source": [
    "wg2 = wg(length=11)\n",
    "# cell returns the same straight as before without having to run the function\n",
    "print(wg2.uid)  # notice that they have the same uuid (unique identifier)"
   ]
  },
  {
   "cell_type": "code",
   "execution_count": null,
   "id": "feae9c20",
   "metadata": {
    "lines_to_next_cell": 2
   },
   "outputs": [],
   "source": [
    "# Lets see which Components are in the cache\n",
    "print_cache()"
   ]
  },
  {
   "cell_type": "code",
   "execution_count": null,
   "id": "5941697f",
   "metadata": {},
   "outputs": [],
   "source": [
    "wg3 = wg(length=12)\n",
    "wg4 = wg(length=13)\n",
    "\n",
    "print_cache()"
   ]
  },
  {
   "cell_type": "code",
   "execution_count": null,
   "id": "4d9b5b02",
   "metadata": {},
   "outputs": [],
   "source": [
    "gf.clear_cache()\n",
    "print_cache()  # cache is now empty"
   ]
  },
  {
   "cell_type": "markdown",
   "id": "12d22012",
   "metadata": {},
   "source": [
    "# Create cells without `cell` decorator\n",
    "\n",
    "The cell decorator names cells deterministically and uniquely based on the name of the functions and its parameters.\n",
    "\n",
    "It also uses a caching mechanisms that improves performance and guards against duplicated names.\n",
    "\n",
    "The most common mistake new gdsfactory users make is to create cells without the `cell` decorator.\n",
    "\n",
    "### Avoid naming cells manually: Use cell decorator\n",
    "\n",
    "Naming cells manually is susceptible to name collisions\n",
    "\n",
    "in GDS you can't have two cells with the same name.\n",
    "\n",
    "For example: this code will raise a `duplicated cell name ValueError`\n",
    "\n",
    "```python\n",
    "import gdsfactory as gf\n",
    "\n",
    "c1 = gf.Component(\"wg\")\n",
    "c1 << gf.components.straight(length=5)\n",
    "\n",
    "\n",
    "c2 = gf.Component(\"wg\")\n",
    "c2 << gf.components.straight(length=50)\n",
    "\n",
    "\n",
    "c3 = gf.Component(\"waveguides\")\n",
    "wg1 = c3 << c1\n",
    "wg2 = c3 << c2\n",
    "wg2.movey(10)\n",
    "c3\n",
    "```\n",
    "\n",
    "**Solution**: Use the `gf.cell` decorator for automatic naming your components."
   ]
  },
  {
   "cell_type": "code",
   "execution_count": null,
   "id": "8e03c182",
   "metadata": {},
   "outputs": [],
   "source": [
    "import gdsfactory as gf\n",
    "\n",
    "\n",
    "@gf.cell\n",
    "def wg(length: float = 3):\n",
    "    return gf.components.straight(length=length)\n",
    "\n",
    "\n",
    "print(wg(length=5))\n",
    "print(wg(length=50))"
   ]
  },
  {
   "cell_type": "markdown",
   "id": "36578127",
   "metadata": {},
   "source": [
    "### Avoid Unnamed cells. Use `cell` decorator\n",
    "\n",
    "In the case of not wrapping the function with `cell` you will get unique names thanks to the unique identifier `uuid`.\n",
    "\n",
    "This name will be different and non-deterministic for different invocations of the script.\n",
    "\n",
    "However it will be hard for you to know where that cell came from."
   ]
  },
  {
   "cell_type": "code",
   "execution_count": null,
   "id": "b5ecdcae",
   "metadata": {},
   "outputs": [],
   "source": [
    "c1 = gf.Component()\n",
    "c2 = gf.Component()\n",
    "\n",
    "print(c1.name)\n",
    "print(c2.name)"
   ]
  },
  {
   "cell_type": "markdown",
   "id": "e2b50245",
   "metadata": {},
   "source": [
    "Notice how gdsfactory raises a Warning when you save this `Unnamed` Components"
   ]
  },
  {
   "cell_type": "code",
   "execution_count": null,
   "id": "740a7dce",
   "metadata": {
    "lines_to_next_cell": 2
   },
   "outputs": [],
   "source": [
    "c1.write_gds()"
   ]
  },
  {
   "cell_type": "markdown",
   "id": "cadb911f",
   "metadata": {},
   "source": [
    "### Avoid Intermediate Unnamed cells. Use `cell` decorator\n",
    "\n",
    "While creating a cell, you should not create intermediate cells, because they won't be Cached and you can end up with duplicated cell names or name conflicts, where one of the cells that has the same name as the other will be replaced.\n",
    "\n"
   ]
  },
  {
   "cell_type": "code",
   "execution_count": null,
   "id": "2a308a7f",
   "metadata": {},
   "outputs": [],
   "source": [
    "@gf.cell\n",
    "def die_bad():\n",
    "    \"\"\"c1 is an intermediate Unnamed cell\"\"\"\n",
    "    c1 = gf.Component()\n",
    "    _ = c1 << gf.components.straight(length=10)\n",
    "    return gf.components.die_bbox(c1, street_width=10)\n",
    "\n",
    "\n",
    "c = die_bad()\n",
    "print(c.references)\n",
    "c.plot()"
   ]
  },
  {
   "cell_type": "markdown",
   "id": "a93cb0a8",
   "metadata": {},
   "source": [
    "**Solution1** Don't use intermediate cells\n",
    "\n"
   ]
  },
  {
   "cell_type": "code",
   "execution_count": null,
   "id": "3588d12b",
   "metadata": {},
   "outputs": [],
   "source": [
    "@gf.cell\n",
    "def die_good():\n",
    "    c = gf.Component()\n",
    "    _ = c << gf.components.straight(length=10)\n",
    "    _ = c << gf.components.die_bbox_frame(c.bbox, street_width=10)\n",
    "    return c\n",
    "\n",
    "\n",
    "c = die_good()\n",
    "print(c.references)\n",
    "c.plot()"
   ]
  },
  {
   "cell_type": "markdown",
   "id": "b77b888d",
   "metadata": {},
   "source": [
    "**Solution2** You can flatten the cell, but you will lose the memory savings from cell references. Solution1 is more elegant.\n",
    "\n"
   ]
  },
  {
   "cell_type": "code",
   "execution_count": null,
   "id": "f06656b9",
   "metadata": {},
   "outputs": [],
   "source": [
    "@gf.cell\n",
    "def die_flat():\n",
    "    \"\"\"c will be an intermediate unnamed cell\"\"\"\n",
    "    c = gf.Component()\n",
    "    _ = c << gf.components.straight(length=10)\n",
    "    c2 = gf.components.die_bbox(c, street_width=10)\n",
    "    c2 = c2.flatten()\n",
    "    return c2\n",
    "\n",
    "\n",
    "c = die_flat()\n",
    "print(c.references)\n",
    "c.plot()"
   ]
  },
  {
   "cell_type": "code",
   "execution_count": null,
   "id": "b1ed66b3",
   "metadata": {},
   "outputs": [],
   "source": [
    "import gdsfactory as gf\n",
    "\n",
    "\n",
    "@gf.cell\n",
    "def dangerous_intermediate_cells(width=0.5):\n",
    "    \"\"\"Example that will show the dangers of using intermediate cells.\"\"\"\n",
    "    c = gf.Component(\"safe\")\n",
    "\n",
    "    c2 = gf.Component(\n",
    "        \"dangerous\"\n",
    "    )  # This should be forbidden as it will create duplicated cells\n",
    "    _ = c2 << gf.components.hline(width=width)\n",
    "    _ = c << c2\n",
    "\n",
    "    return c\n",
    "\n",
    "\n",
    "@gf.cell\n",
    "def using_dangerous_intermediate_cells():\n",
    "    \"\"\"Example on how things can go wrong.\n",
    "\n",
    "    Here we try to create to lines with different widths\n",
    "    they end up with two duplicated cells and a name collision on the intermediate cell\n",
    "    \"\"\"\n",
    "    c = gf.Component()\n",
    "    _ = c << dangerous_intermediate_cells(width=0.5)\n",
    "    r3 = c << dangerous_intermediate_cells(width=2)\n",
    "    r3.movey(5)\n",
    "    return c\n",
    "\n",
    "\n",
    "c = using_dangerous_intermediate_cells()\n",
    "c.plot_klayout()"
   ]
  },
  {
   "cell_type": "code",
   "execution_count": null,
   "id": "850e5b2f",
   "metadata": {
    "lines_to_next_cell": 0
   },
   "outputs": [],
   "source": [
    "for component in c.get_dependencies(recursive=True):\n",
    "    if not component._locked:\n",
    "        print(\n",
    "            f\"Component {component.name!r} was NOT properly locked. \"\n",
    "            \"You need to write it into a function that has the @cell decorator.\"\n",
    "        )"
   ]
  },
  {
   "cell_type": "markdown",
   "id": "6abeaa7f",
   "metadata": {},
   "source": [
    "---\n",
    "jupyter:\n",
    "  jupytext:\n",
    "    cell_metadata_filter: tags,-all\n",
    "    custom_cell_magics: kql\n",
    "    encoding: '# -*- coding: utf-8 -*-'\n",
    "    text_representation:\n",
    "      extension: .md\n",
    "      format_name: markdown\n",
    "      format_version: '1.3'\n",
    "      jupytext_version: 1.15.2\n",
    "  kernelspec:\n",
    "    display_name: base\n",
    "    language: python\n",
    "    name: python3\n",
    "---\n",
    "\n",
    "# Generic PDK\n",
    "\n",
    "gdsfactory includes a generic Process Design Kit PDK, which is a library of components associated to a generic foundry process `gdsfactory.generic_tech`.\n",
    "See components available in the [generic component library](https://gdsfactory.github.io/gdsfactory/components.html) that you can customize or adapt to create your own.\n",
    "\n",
    "The generic process including layer numbers is based on the book \"Silicon Photonics Design: From Devices to Systems Lukas Chrostowski, Michael Hochberg\".\n",
    "You can learn more about process design kits (PDKs) [in this tutorial](https://gdsfactory.github.io/gdsfactory/notebooks/08_pdk.html)\n",
    "\n",
    "## LayerMap\n",
    "\n",
    "A layer map maps layer names to a integer numbers pair (GDSlayer, GDSpurpose)\n",
    "\n",
    "Each foundry uses different GDS layer numbers for different process steps.\n",
    "\n",
    "| GDS (layer, purpose) | layer_name | Description                                                 |\n",
    "| -------------------- | ---------- | ----------------------------------------------------------- |\n",
    "| 1 , 0                | WG         | 220 nm Silicon core                                         |\n",
    "| 2 , 0                | SLAB150    | 150nm Silicon slab (70nm shallow Etch for grating couplers) |\n",
    "| 3 , 0                | SLAB90     | 90nm Silicon slab (for modulators)                          |\n",
    "| 4, 0                 | DEEPTRENCH | Deep trench                                                 |\n",
    "| 47, 0                | MH         | heater                                                      |\n",
    "| 41, 0                | M1         | metal 1                                                     |\n",
    "| 45, 0                | M2         | metal 2                                                     |\n",
    "| 40, 0                | VIAC       | VIAC to contact Ge, NPP or PPP                              |\n",
    "| 44, 0                | VIA1       | VIA1                                                        |\n",
    "| 46, 0                | PADOPEN    | Bond pad opening                                            |\n",
    "| 51, 0                | UNDERCUT   | Undercut                                                    |\n",
    "| 66, 0                | TEXT       | Text markup                                                 |\n",
    "| 64, 0                | FLOORPLAN  | Mask floorplan                                              |\n"
   ]
  },
  {
   "cell_type": "code",
   "execution_count": null,
   "id": "415f7d7c",
   "metadata": {
    "tags": [
     "hide-input"
    ]
   },
   "outputs": [],
   "source": [
    "from pydantic import BaseModel\n",
    "\n",
    "import gdsfactory as gf\n",
    "from gdsfactory.generic_tech import LAYER, LAYER_STACK\n",
    "from gdsfactory.generic_tech.get_klayout_pyxs import get_klayout_pyxs\n",
    "from gdsfactory.technology import LayerLevel, LayerStack, LayerViews, LayerMap\n",
    "from gdsfactory.generic_tech import get_generic_pdk\n",
    "from IPython.display import Code\n",
    "\n",
    "from gdsfactory.config import PATH"
   ]
  },
  {
   "cell_type": "code",
   "execution_count": null,
   "id": "f2a81aa1",
   "metadata": {},
   "outputs": [],
   "source": [
    "Layer = tuple[int, int]\n",
    "\n",
    "\n",
    "class GenericLayerMap(LayerMap):\n",
    "    \"\"\"Generic layermap based on book.\n",
    "\n",
    "    Lukas Chrostowski, Michael Hochberg, \"Silicon Photonics Design\",\n",
    "    Cambridge University Press 2015, page 353\n",
    "    You will need to create a new LayerMap with your specific foundry layers.\n",
    "    \"\"\"\n",
    "\n",
    "    WAFER: Layer = (99999, 0)\n",
    "\n",
    "    WG: Layer = (1, 0)\n",
    "    WGCLAD: Layer = (111, 0)\n",
    "    SLAB150: Layer = (2, 0)\n",
    "    SLAB90: Layer = (3, 0)\n",
    "    DEEPTRENCH: Layer = (4, 0)\n",
    "    GE: Layer = (5, 0)\n",
    "    UNDERCUT: Layer = (6, 0)\n",
    "    WGN: Layer = (34, 0)\n",
    "    WGN_CLAD: Layer = (36, 0)\n",
    "\n",
    "    N: Layer = (20, 0)\n",
    "    NP: Layer = (22, 0)\n",
    "    NPP: Layer = (24, 0)\n",
    "    P: Layer = (21, 0)\n",
    "    PP: Layer = (23, 0)\n",
    "    PPP: Layer = (25, 0)\n",
    "    GEN: Layer = (26, 0)\n",
    "    GEP: Layer = (27, 0)\n",
    "\n",
    "    HEATER: Layer = (47, 0)\n",
    "    M1: Layer = (41, 0)\n",
    "    M2: Layer = (45, 0)\n",
    "    M3: Layer = (49, 0)\n",
    "    VIAC: Layer = (40, 0)\n",
    "    VIA1: Layer = (44, 0)\n",
    "    VIA2: Layer = (43, 0)\n",
    "    PADOPEN: Layer = (46, 0)\n",
    "\n",
    "    DICING: Layer = (100, 0)\n",
    "    NO_TILE_SI: Layer = (71, 0)\n",
    "    PADDING: Layer = (67, 0)\n",
    "    DEVREC: Layer = (68, 0)\n",
    "    FLOORPLAN: Layer = (64, 0)\n",
    "    TEXT: Layer = (66, 0)\n",
    "    PORT: Layer = (1, 10)\n",
    "    PORTE: Layer = (1, 11)\n",
    "    PORTH: Layer = (70, 0)\n",
    "    SHOW_PORTS: Layer = (1, 12)\n",
    "    LABEL_SETTINGS: Layer = (202, 0)\n",
    "    DRC_MARKER: Layer = (205, 0)\n",
    "    LABEL_INSTANCE: Layer = (206, 0)\n",
    "\n",
    "    SOURCE: Layer = (110, 0)\n",
    "    MONITOR: Layer = (101, 0)\n",
    "\n",
    "\n",
    "LAYER = GenericLayerMap()\n",
    "LAYER"
   ]
  },
  {
   "cell_type": "code",
   "execution_count": null,
   "id": "2c939dc6",
   "metadata": {},
   "outputs": [],
   "source": [
    "layer_wg = (1, 0)\n",
    "print(layer_wg)"
   ]
  },
  {
   "cell_type": "markdown",
   "id": "18fd2336",
   "metadata": {},
   "source": [
    "### Extract layers\n",
    "\n",
    "You can also extract layers using the `extract` function. This function returns a new flattened Component that contains the extracted layers.\n",
    "A flat Component does not have references, and all the polygons are absorbed into the top cell."
   ]
  },
  {
   "cell_type": "code",
   "execution_count": null,
   "id": "4a4ddded",
   "metadata": {},
   "outputs": [],
   "source": [
    "from gdsfactory.generic_tech import get_generic_pdk\n",
    "\n",
    "PDK = get_generic_pdk()\n",
    "PDK.activate()\n",
    "\n",
    "LAYER_VIEWS = PDK.layer_views\n",
    "c = LAYER_VIEWS.preview_layerset()\n",
    "c.plot()"
   ]
  },
  {
   "cell_type": "code",
   "execution_count": null,
   "id": "e3b5518d",
   "metadata": {},
   "outputs": [],
   "source": [
    "extract = c.extract(layers=((41, 0), (40, 0)))\n",
    "extract.plot()"
   ]
  },
  {
   "cell_type": "markdown",
   "id": "828f5e48",
   "metadata": {},
   "source": [
    "### Remove layers\n",
    "\n",
    "You can remove layers using the `remove_layers()` function."
   ]
  },
  {
   "cell_type": "code",
   "execution_count": null,
   "id": "34bdd5e1",
   "metadata": {},
   "outputs": [],
   "source": [
    "removed = extract.remove_layers(layers=((40, 0),))\n",
    "removed.plot()"
   ]
  },
  {
   "cell_type": "markdown",
   "id": "042c3529",
   "metadata": {},
   "source": [
    "### Remap layers\n",
    "\n",
    "You can remap (change the polygons from one layer to another layer) using the `remap_layer`, which will return a new `Component`"
   ]
  },
  {
   "cell_type": "code",
   "execution_count": null,
   "id": "1e4d7987",
   "metadata": {},
   "outputs": [],
   "source": [
    "c = gf.components.straight(layer=(2, 0))\n",
    "c.plot()"
   ]
  },
  {
   "cell_type": "code",
   "execution_count": null,
   "id": "f0ff398e",
   "metadata": {},
   "outputs": [],
   "source": [
    "remap = c.remap_layers(layermap={(2, 0): (34, 0)})\n",
    "remap.plot()"
   ]
  },
  {
   "cell_type": "markdown",
   "id": "17605f54",
   "metadata": {},
   "source": [
    "## LayerViews\n",
    "\n",
    "Klayout shows each GDS layer with a color, style and transparency\n",
    "\n",
    "You can define your layerViews in a klayout Layer Properties file `layers.lyp` or in `YAML` format\n",
    "\n",
    "We recommend using YAML and then generate the lyp in klayout, as YAML is easier to modify than XML."
   ]
  },
  {
   "cell_type": "code",
   "execution_count": null,
   "id": "606bac2b",
   "metadata": {},
   "outputs": [],
   "source": [
    "Code(filename=PATH.klayout_yaml)"
   ]
  },
  {
   "cell_type": "markdown",
   "id": "d9f6fa30",
   "metadata": {},
   "source": [
    "Once you modify the `YAML` file you can easily write it to klayout layer properties `lyp` or the other way around.\n",
    "\n",
    "```\n",
    "YAML <---> LYP\n",
    "```\n",
    "\n",
    "The functions `LayerView.to_lyp(filepath)` and `LayerView.to_yaml(filepath)` allow you to convert from each other.\n",
    "\n",
    "LYP is based on XML so it's much easier to make changes and maintain the equivalent YAML file."
   ]
  },
  {
   "cell_type": "markdown",
   "id": "8927309b",
   "metadata": {},
   "source": [
    "### YAML -> LYP\n",
    "\n",
    "You can easily convert from YAML into Klayout Layer Properties."
   ]
  },
  {
   "cell_type": "code",
   "execution_count": null,
   "id": "eb9e8dc9",
   "metadata": {},
   "outputs": [],
   "source": [
    "LAYER_VIEWS = LayerViews(filepath=PATH.klayout_lyp)\n",
    "LAYER_VIEWS.to_lyp(\"extra/klayout_layers.lyp\")"
   ]
  },
  {
   "cell_type": "markdown",
   "id": "85741fd2",
   "metadata": {},
   "source": [
    "### LYP -> YAML\n",
    "\n",
    "Sometimes you start from an LYP XML file. We recommend converting to YAML and using the YAML as the layer views source of truth.\n",
    "\n",
    "Layers in YAML are easier to read and modify than doing it in klayout XML format."
   ]
  },
  {
   "cell_type": "code",
   "execution_count": null,
   "id": "895e9801",
   "metadata": {},
   "outputs": [],
   "source": [
    "LAYER_VIEWS = LayerViews(filepath=PATH.klayout_lyp)\n",
    "LAYER_VIEWS.to_yaml(\"extra/layers.yaml\")"
   ]
  },
  {
   "cell_type": "markdown",
   "id": "40592ce1",
   "metadata": {},
   "source": [
    "### Preview layerset\n",
    "\n",
    "You can preview all the layers defined in your `LayerViews`"
   ]
  },
  {
   "cell_type": "code",
   "execution_count": null,
   "id": "ff07ee01",
   "metadata": {},
   "outputs": [],
   "source": [
    "c = LAYER_VIEWS.preview_layerset()\n",
    "c.plot()"
   ]
  },
  {
   "cell_type": "markdown",
   "id": "563f95b8",
   "metadata": {},
   "source": [
    "By default the generic PDK has some layers that are not visible and therefore are not shown."
   ]
  },
  {
   "cell_type": "code",
   "execution_count": null,
   "id": "1e59a9a9",
   "metadata": {},
   "outputs": [],
   "source": [
    "c_wg_clad = c.extract(layers=[(1, 0)])\n",
    "c_wg_clad.plot()"
   ]
  },
  {
   "cell_type": "code",
   "execution_count": null,
   "id": "2fbb6825",
   "metadata": {},
   "outputs": [],
   "source": [
    "LAYER_VIEWS.layer_views[\"WGCLAD\"]"
   ]
  },
  {
   "cell_type": "code",
   "execution_count": null,
   "id": "aded7cd7",
   "metadata": {},
   "outputs": [],
   "source": [
    "LAYER_VIEWS.layer_views[\"WGCLAD\"].visible"
   ]
  },
  {
   "cell_type": "markdown",
   "id": "2de2f2c0",
   "metadata": {},
   "source": [
    "You can make it visible"
   ]
  },
  {
   "cell_type": "code",
   "execution_count": null,
   "id": "24fe3601",
   "metadata": {},
   "outputs": [],
   "source": [
    "LAYER_VIEWS.layer_views[\"WGCLAD\"].visible = True"
   ]
  },
  {
   "cell_type": "code",
   "execution_count": null,
   "id": "4ecdf205",
   "metadata": {},
   "outputs": [],
   "source": [
    "LAYER_VIEWS.layer_views[\"WGCLAD\"].visible"
   ]
  },
  {
   "cell_type": "code",
   "execution_count": null,
   "id": "8605796f",
   "metadata": {},
   "outputs": [],
   "source": [
    "c_wg_clad = c.extract(layers=[(111, 0)])\n",
    "c_wg_clad.plot()"
   ]
  },
  {
   "cell_type": "markdown",
   "id": "119b7c44",
   "metadata": {},
   "source": [
    "## LayerStack\n",
    "\n",
    "Each layer also includes the information of thickness and position of each layer after fabrication.\n",
    "\n",
    "This LayerStack can be used for creating a 3D model with `Component.to_3d` or running Simulations.\n",
    "\n",
    "A GDS has different layers to describe the different fabrication process steps. And each grown layer needs thickness information and z-position in the stack.\n",
    "\n",
    "![layer stack](https://i.imgur.com/GUb1Kav.png)\n",
    "\n",
    "Lets define the layer stack for the generic layers in the generic_technology."
   ]
  },
  {
   "cell_type": "code",
   "execution_count": null,
   "id": "ca22579c",
   "metadata": {},
   "outputs": [],
   "source": [
    "from gdsfactory.generic_tech.layer_map import LAYER\n",
    "from gdsfactory.technology import LayerLevel, LayerStack\n",
    "\n",
    "nm = 1e-3\n",
    "\n",
    "\n",
    "def get_layer_stack(\n",
    "    thickness_wg: float = 220 * nm,\n",
    "    thickness_slab_deep_etch: float = 90 * nm,\n",
    "    thickness_slab_shallow_etch: float = 150 * nm,\n",
    "    sidewall_angle_wg: float = 10,\n",
    "    thickness_clad: float = 3.0,\n",
    "    thickness_nitride: float = 350 * nm,\n",
    "    thickness_ge: float = 500 * nm,\n",
    "    gap_silicon_to_nitride: float = 100 * nm,\n",
    "    zmin_heater: float = 1.1,\n",
    "    zmin_metal1: float = 1.1,\n",
    "    thickness_metal1: float = 700 * nm,\n",
    "    zmin_metal2: float = 2.3,\n",
    "    thickness_metal2: float = 700 * nm,\n",
    "    zmin_metal3: float = 3.2,\n",
    "    thickness_metal3: float = 2000 * nm,\n",
    "    substrate_thickness: float = 10.0,\n",
    "    box_thickness: float = 3.0,\n",
    "    undercut_thickness: float = 5.0,\n",
    ") -> LayerStack:\n",
    "    \"\"\"Returns generic LayerStack.\n",
    "\n",
    "    based on paper https://www.degruyter.com/document/doi/10.1515/nanoph-2013-0034/html\n",
    "\n",
    "    Args:\n",
    "        thickness_wg: waveguide thickness in um.\n",
    "        thickness_slab_deep_etch: for deep etched slab.\n",
    "        thickness_shallow_etch: thickness for the etch.\n",
    "        sidewall_angle_wg: waveguide side angle.\n",
    "        thickness_clad: cladding thickness in um.\n",
    "        thickness_nitride: nitride thickness in um.\n",
    "        thickness_ge: germanium thickness.\n",
    "        gap_silicon_to_nitride: distance from silicon to nitride in um.\n",
    "        zmin_heater: TiN heater.\n",
    "        zmin_metal1: metal1.\n",
    "        thickness_metal1: metal1 thickness.\n",
    "        zmin_metal2: metal2.\n",
    "        thickness_metal2: metal2 thickness.\n",
    "        zmin_metal3: metal3.\n",
    "        thickness_metal3: metal3 thickness.\n",
    "        substrate_thickness: substrate thickness in um.\n",
    "        box_thickness: bottom oxide thickness in um.\n",
    "        undercut_thickness: thickness of the silicon undercut.\n",
    "    \"\"\"\n",
    "\n",
    "    thickness_deep_etch = thickness_wg - thickness_slab_deep_etch\n",
    "    thickness_shallow_etch = thickness_wg - thickness_slab_shallow_etch\n",
    "\n",
    "    return LayerStack(\n",
    "        layers=dict(\n",
    "            substrate=LayerLevel(\n",
    "                layer=LAYER.WAFER,\n",
    "                thickness=substrate_thickness,\n",
    "                zmin=-substrate_thickness - box_thickness,\n",
    "                material=\"si\",\n",
    "                mesh_order=101,\n",
    "                background_doping={\"concentration\": \"1E14\", \"ion\": \"Boron\"},\n",
    "                orientation=\"100\",\n",
    "            ),\n",
    "            box=LayerLevel(\n",
    "                layer=LAYER.WAFER,\n",
    "                thickness=box_thickness,\n",
    "                zmin=-box_thickness,\n",
    "                material=\"sio2\",\n",
    "                mesh_order=9,\n",
    "            ),\n",
    "            core=LayerLevel(\n",
    "                layer=LAYER.WG,\n",
    "                thickness=thickness_wg,\n",
    "                zmin=0.0,\n",
    "                material=\"si\",\n",
    "                mesh_order=2,\n",
    "                sidewall_angle=sidewall_angle_wg,\n",
    "                width_to_z=0.5,\n",
    "                background_doping_concentration=1e14,\n",
    "                background_doping_ion=\"Boron\",\n",
    "                orientation=\"100\",\n",
    "                info={\"active\": True},\n",
    "            ),\n",
    "            shallow_etch=LayerLevel(\n",
    "                layer=LAYER.SHALLOW_ETCH,\n",
    "                thickness=thickness_shallow_etch,\n",
    "                zmin=0.0,\n",
    "                material=\"si\",\n",
    "                mesh_order=1,\n",
    "                layer_type=\"etch\",\n",
    "                into=[\"core\"],\n",
    "                derived_layer=LAYER.SLAB150,\n",
    "            ),\n",
    "            deep_etch=LayerLevel(\n",
    "                layer=LAYER.DEEP_ETCH,\n",
    "                thickness=thickness_deep_etch,\n",
    "                zmin=0.0,\n",
    "                material=\"si\",\n",
    "                mesh_order=1,\n",
    "                layer_type=\"etch\",\n",
    "                into=[\"core\"],\n",
    "                derived_layer=LAYER.SLAB90,\n",
    "            ),\n",
    "            clad=LayerLevel(\n",
    "                # layer=LAYER.WGCLAD,\n",
    "                layer=LAYER.WAFER,\n",
    "                zmin=0.0,\n",
    "                material=\"sio2\",\n",
    "                thickness=thickness_clad,\n",
    "                mesh_order=10,\n",
    "            ),\n",
    "            slab150=LayerLevel(\n",
    "                layer=LAYER.SLAB150,\n",
    "                thickness=150e-3,\n",
    "                zmin=0,\n",
    "                material=\"si\",\n",
    "                mesh_order=3,\n",
    "            ),\n",
    "            slab90=LayerLevel(\n",
    "                layer=LAYER.SLAB90,\n",
    "                thickness=thickness_slab_deep_etch,\n",
    "                zmin=0.0,\n",
    "                material=\"si\",\n",
    "                mesh_order=2,\n",
    "            ),\n",
    "            nitride=LayerLevel(\n",
    "                layer=LAYER.WGN,\n",
    "                thickness=thickness_nitride,\n",
    "                zmin=thickness_wg + gap_silicon_to_nitride,\n",
    "                material=\"sin\",\n",
    "                mesh_order=2,\n",
    "            ),\n",
    "            ge=LayerLevel(\n",
    "                layer=LAYER.GE,\n",
    "                thickness=thickness_ge,\n",
    "                zmin=thickness_wg,\n",
    "                material=\"ge\",\n",
    "                mesh_order=1,\n",
    "            ),\n",
    "            undercut=LayerLevel(\n",
    "                layer=LAYER.UNDERCUT,\n",
    "                thickness=-undercut_thickness,\n",
    "                zmin=-box_thickness,\n",
    "                material=\"air\",\n",
    "                z_to_bias=(\n",
    "                    [0, 0.3, 0.6, 0.8, 0.9, 1],\n",
    "                    [-0, -0.5, -1, -1.5, -2, -2.5],\n",
    "                ),\n",
    "                mesh_order=1,\n",
    "            ),\n",
    "            via_contact=LayerLevel(\n",
    "                layer=LAYER.VIAC,\n",
    "                thickness=zmin_metal1 - thickness_slab_deep_etch,\n",
    "                zmin=thickness_slab_deep_etch,\n",
    "                material=\"Aluminum\",\n",
    "                mesh_order=1,\n",
    "                sidewall_angle=-10,\n",
    "                width_to_z=0,\n",
    "            ),\n",
    "            metal1=LayerLevel(\n",
    "                layer=LAYER.M1,\n",
    "                thickness=thickness_metal1,\n",
    "                zmin=zmin_metal1,\n",
    "                material=\"Aluminum\",\n",
    "                mesh_order=2,\n",
    "            ),\n",
    "            heater=LayerLevel(\n",
    "                layer=LAYER.HEATER,\n",
    "                thickness=750e-3,\n",
    "                zmin=zmin_heater,\n",
    "                material=\"TiN\",\n",
    "                mesh_order=2,\n",
    "            ),\n",
    "            via1=LayerLevel(\n",
    "                layer=LAYER.VIA1,\n",
    "                thickness=zmin_metal2 - (zmin_metal1 + thickness_metal1),\n",
    "                zmin=zmin_metal1 + thickness_metal1,\n",
    "                material=\"Aluminum\",\n",
    "                mesh_order=1,\n",
    "            ),\n",
    "            metal2=LayerLevel(\n",
    "                layer=LAYER.M2,\n",
    "                thickness=thickness_metal2,\n",
    "                zmin=zmin_metal2,\n",
    "                material=\"Aluminum\",\n",
    "                mesh_order=2,\n",
    "            ),\n",
    "            via2=LayerLevel(\n",
    "                layer=LAYER.VIA2,\n",
    "                thickness=zmin_metal3 - (zmin_metal2 + thickness_metal2),\n",
    "                zmin=zmin_metal2 + thickness_metal2,\n",
    "                material=\"Aluminum\",\n",
    "                mesh_order=1,\n",
    "            ),\n",
    "            metal3=LayerLevel(\n",
    "                layer=LAYER.M3,\n",
    "                thickness=thickness_metal3,\n",
    "                zmin=zmin_metal3,\n",
    "                material=\"Aluminum\",\n",
    "                mesh_order=2,\n",
    "            ),\n",
    "        )\n",
    "    )\n",
    "\n",
    "\n",
    "LAYER_STACK = get_layer_stack()\n",
    "layer_stack220 = LAYER_STACK"
   ]
  },
  {
   "cell_type": "code",
   "execution_count": null,
   "id": "f3c1d3db",
   "metadata": {},
   "outputs": [],
   "source": [
    "c = gf.components.straight_heater_doped_rib(length=100)\n",
    "c.plot()"
   ]
  },
  {
   "cell_type": "code",
   "execution_count": null,
   "id": "b226e9da",
   "metadata": {},
   "outputs": [],
   "source": [
    "scene = c.to_3d(layer_stack=layer_stack220)\n",
    "scene.show()"
   ]
  },
  {
   "cell_type": "code",
   "execution_count": null,
   "id": "adea97f5",
   "metadata": {},
   "outputs": [],
   "source": [
    "c = gf.components.straight_heater_metal(length=40)\n",
    "c.plot()"
   ]
  },
  {
   "cell_type": "code",
   "execution_count": null,
   "id": "e8fedd29",
   "metadata": {},
   "outputs": [],
   "source": [
    "scene = c.to_3d(layer_stack=layer_stack220)\n",
    "scene.show()"
   ]
  },
  {
   "cell_type": "code",
   "execution_count": null,
   "id": "6e16648f",
   "metadata": {},
   "outputs": [],
   "source": [
    "c = gf.components.taper_strip_to_ridge_trenches()\n",
    "c.plot()"
   ]
  },
  {
   "cell_type": "code",
   "execution_count": null,
   "id": "a9e333bc",
   "metadata": {},
   "outputs": [],
   "source": [
    "scene = c.to_3d(layer_stack=layer_stack220)\n",
    "scene.show()"
   ]
  },
  {
   "cell_type": "code",
   "execution_count": null,
   "id": "7765c43f",
   "metadata": {},
   "outputs": [],
   "source": [
    "# lets assume we have 900nm silicon instead of 220nm, You will see a much thicker waveguide under the metal heater.\n",
    "layer_stack900 = get_layer_stack(thickness_wg=900 * nm)\n",
    "scene = c.to_3d(layer_stack=layer_stack900)\n",
    "scene.show()"
   ]
  },
  {
   "cell_type": "code",
   "execution_count": null,
   "id": "e63e9fa5",
   "metadata": {},
   "outputs": [],
   "source": [
    "import gdsfactory as gf\n",
    "\n",
    "c = gf.components.grating_coupler_elliptical_trenches()\n",
    "c.plot()"
   ]
  },
  {
   "cell_type": "code",
   "execution_count": null,
   "id": "df039769",
   "metadata": {},
   "outputs": [],
   "source": [
    "scene = c.to_3d()\n",
    "scene.show()"
   ]
  },
  {
   "cell_type": "markdown",
   "id": "ecd17ac3",
   "metadata": {},
   "source": [
    "### 3D rendering\n",
    "\n",
    "To render components in 3D you will need to define two things:\n",
    "\n",
    "1. LayerStack: for each layer contains thickness of each material and z position\n",
    "2. LayerViews: for each layer contains view (color, pattern, opacity). You can load it with `gf.technology.LayerView.load_lyp()`"
   ]
  },
  {
   "cell_type": "code",
   "execution_count": null,
   "id": "3926bfac",
   "metadata": {},
   "outputs": [],
   "source": [
    "heater = gf.components.straight_heater_metal(length=50)\n",
    "heater.plot()"
   ]
  },
  {
   "cell_type": "code",
   "execution_count": null,
   "id": "97422904",
   "metadata": {},
   "outputs": [],
   "source": [
    "scene = heater.to_3d()\n",
    "scene.show()"
   ]
  },
  {
   "cell_type": "markdown",
   "id": "b431373c",
   "metadata": {},
   "source": [
    "### Klayout 2.5D view\n",
    "\n",
    "From the `LayerStack` you can generate the KLayout 2.5D view script."
   ]
  },
  {
   "cell_type": "code",
   "execution_count": null,
   "id": "0a404e74",
   "metadata": {},
   "outputs": [],
   "source": [
    "LAYER_STACK.get_klayout_3d_script()"
   ]
  },
  {
   "cell_type": "markdown",
   "id": "b19231d7",
   "metadata": {},
   "source": [
    "Then you go go Tools → Manage Technologies\n",
    "\n",
    "\n",
    "![klayout](https://i.imgur.com/KCcMRBO.png)\n",
    "\n",
    "and Paste the 2.5D view script\n",
    "\n",
    "![paste](https://i.imgur.com/CoTythB.png)"
   ]
  },
  {
   "cell_type": "markdown",
   "id": "d10faad5",
   "metadata": {},
   "source": [
    "### Klayout cross-section\n",
    "\n",
    "You can also install the [KLayout cross-section plugin](https://gdsfactory.github.io/klayout_pyxs/README.html)\n",
    "\n",
    "![xsection](https://i.imgur.com/xpPS8fM.png)\n",
    "\n",
    "This is not integrated with the LayerStack but you can customize the script in `gdsfactory.generic_tech.get_klayout_pyxs` for your technology."
   ]
  },
  {
   "cell_type": "code",
   "execution_count": null,
   "id": "fad8d4ed",
   "metadata": {
    "lines_to_next_cell": 2
   },
   "outputs": [],
   "source": [
    "nm = 1e-3\n",
    "if __name__ == \"__main__\":\n",
    "    script = get_klayout_pyxs(\n",
    "        t_box=2.0,\n",
    "        t_slab=110 * nm,\n",
    "        t_si=220 * nm,\n",
    "        t_ge=400 * nm,\n",
    "        t_nitride=400 * nm,\n",
    "        h_etch1=0.07,\n",
    "        h_etch2=0.06,\n",
    "        h_etch3=0.09,\n",
    "        t_clad=0.6,\n",
    "        t_m1=0.5,\n",
    "        t_m2=0.5,\n",
    "        t_m3=2.0,\n",
    "        gap_m1_m2=0.6,\n",
    "        gap_m2_m3=0.3,\n",
    "        t_heater=0.1,\n",
    "        gap_oxide_nitride=0.82,\n",
    "        t_m1_oxide=0.6,\n",
    "        t_m2_oxide=2.0,\n",
    "        t_m3_oxide=0.5,\n",
    "        layer_wg=(1, 0),\n",
    "        layer_fc=(2, 0),\n",
    "        layer_rib=LAYER.SLAB90,\n",
    "        layer_n=LAYER.N,\n",
    "        layer_np=LAYER.NP,\n",
    "        layer_npp=LAYER.NPP,\n",
    "        layer_p=LAYER.P,\n",
    "        layer_pp=LAYER.PP,\n",
    "        layer_ppp=LAYER.PPP,\n",
    "        layer_PDPP=LAYER.GEP,\n",
    "        layer_nitride=LAYER.WGN,\n",
    "        layer_Ge=LAYER.GE,\n",
    "        layer_GePPp=LAYER.GEP,\n",
    "        layer_GeNPP=LAYER.GEN,\n",
    "        layer_viac=LAYER.VIAC,\n",
    "        layer_viac_slot=LAYER.VIAC,\n",
    "        layer_m1=LAYER.M1,\n",
    "        layer_mh=LAYER.HEATER,\n",
    "        layer_via1=LAYER.VIA1,\n",
    "        layer_m2=LAYER.M2,\n",
    "        layer_via2=LAYER.VIA2,\n",
    "        layer_m3=LAYER.M3,\n",
    "        layer_open=LAYER.PADOPEN,\n",
    "    )\n",
    "\n",
    "    # script_path = pathlib.Path(__file__).parent.absolute() / \"xsection_planarized.pyxs\"\n",
    "    # script_path.write_text(script)\n",
    "    print(script)"
   ]
  },
  {
   "cell_type": "markdown",
   "id": "65c48d3d",
   "metadata": {},
   "source": [
    "![xsection generic](https://i.imgur.com/H5Qiygc.png)"
   ]
  },
  {
   "cell_type": "markdown",
   "id": "644f9794",
   "metadata": {},
   "source": [
    "## Process\n",
    "\n",
    "The LayerStack uses the GDS layers to generate a representation of the chip after fabrication.\n",
    "\n",
    "The KLayout cross-section module uses the GDS layers to return a geometric approximation of the processed wafer.\n",
    "\n",
    "Sometimes, however, physical process modeling is desired.\n",
    "\n",
    "For these purposes, Processes acting on an initial substrate \"wafer stack\" can be defined. The waferstack is a LayerStack representing the initial state of the wafer. The processes take in some combination of GDS layers (which may differ from their use in the resulting LayerStack), some processing parameters, and are then run in a sequence.\n",
    "\n",
    "For instance, the early step of the front-end-of-line of the generic process could be approximated as done in `gdsfactory.technology.layer_stack` (the process classes are described in `gdsfactory.technology.processes`):\n"
   ]
  },
  {
   "cell_type": "code",
   "execution_count": null,
   "id": "d5f2caa6",
   "metadata": {
    "lines_to_next_cell": 2
   },
   "outputs": [],
   "source": [
    "import gdsfactory.technology.processes as gp\n",
    "\n",
    "\n",
    "def get_process():\n",
    "    \"\"\"Returns generic process to generate LayerStack.\n",
    "\n",
    "    Represents processing steps that will result in the GenericLayerStack, starting from the waferstack LayerStack.\n",
    "\n",
    "    based on paper https://www.degruyter.com/document/doi/10.1515/nanoph-2013-0034/html\n",
    "    \"\"\"\n",
    "\n",
    "    return (\n",
    "        gp.Etch(\n",
    "            name=\"strip_etch\",\n",
    "            layer=(1, 0),\n",
    "            positive_tone=False,\n",
    "            depth=0.22 + 0.01,  # slight overetch for numerics\n",
    "            material=\"core\",\n",
    "            resist_thickness=1.0,\n",
    "        ),\n",
    "        gp.Etch(\n",
    "            name=\"slab_etch\",\n",
    "            layer=LAYER.SLAB90,\n",
    "            layers_diff=[(1, 0)],\n",
    "            depth=0.22 - 0.09,\n",
    "            material=\"core\",\n",
    "            resist_thickness=1.0,\n",
    "        ),\n",
    "        # See gplugins.process.implant tables for ballpark numbers\n",
    "        # Adjust to your process\n",
    "        gp.ImplantPhysical(\n",
    "            name=\"deep_n_implant\",\n",
    "            layer=LAYER.N,\n",
    "            energy=100,\n",
    "            ion=\"P\",\n",
    "            dose=1e12,\n",
    "            resist_thickness=1.0,\n",
    "        ),\n",
    "        gp.ImplantPhysical(\n",
    "            name=\"shallow_n_implant\",\n",
    "            layer=LAYER.N,\n",
    "            energy=50,\n",
    "            ion=\"P\",\n",
    "            dose=1e12,\n",
    "            resist_thickness=1.0,\n",
    "        ),\n",
    "        gp.ImplantPhysical(\n",
    "            name=\"deep_p_implant\",\n",
    "            layer=LAYER.P,\n",
    "            energy=50,\n",
    "            ion=\"B\",\n",
    "            dose=1e12,\n",
    "            resist_thickness=1.0,\n",
    "        ),\n",
    "        gp.ImplantPhysical(\n",
    "            name=\"shallow_p_implant\",\n",
    "            layer=LAYER.P,\n",
    "            energy=15,\n",
    "            ion=\"B\",\n",
    "            dose=1e12,\n",
    "            resist_thickness=1.0,\n",
    "        ),\n",
    "        # \"Temperatures of ~1000C for not more than a few seconds\"\n",
    "        # Adjust to your process\n",
    "        # https://en.wikipedia.org/wiki/Rapid_thermal_processing\n",
    "        gp.Anneal(\n",
    "            name=\"dopant_activation\",\n",
    "            time=1,\n",
    "            temperature=1000,\n",
    "        ),\n",
    "    )\n",
    "\n",
    "\n",
    "process = get_process()"
   ]
  },
  {
   "cell_type": "markdown",
   "id": "d03826bb",
   "metadata": {},
   "source": [
    "These process dataclasses can then be used in physical simulator plugins.\n",
    "---\n",
    "jupyter:\n",
    "  jupytext:\n",
    "    cell_metadata_filter: -all\n",
    "    custom_cell_magics: kql\n",
    "    encoding: '# -*- coding: utf-8 -*-'\n",
    "    text_representation:\n",
    "      extension: .md\n",
    "      format_name: markdown\n",
    "      format_version: '1.3'\n",
    "      jupytext_version: 1.15.2\n",
    "  kernelspec:\n",
    "    display_name: base\n",
    "    language: python\n",
    "    name: python3\n",
    "---\n",
    "\n",
    "# Path and CrossSection\n",
    "\n",
    "You can create a `Path` in gdsfactory and extrude it with an arbitrary `CrossSection`.\n",
    "\n",
    "Lets create a path:\n",
    "\n",
    "- Create a blank `Path`.\n",
    "- Append points to the `Path` either using the built-in functions (`arc()`, `straight()`, `euler()` ...) or by providing your own lists of points\n",
    "- Specify `CrossSection` with layers and offsets.\n",
    "- Extrude `Path` with a `CrossSection` to create a Component with the path polygons in it.\n"
   ]
  },
  {
   "cell_type": "code",
   "execution_count": null,
   "id": "bdfd47b2",
   "metadata": {},
   "outputs": [],
   "source": [
    "from functools import partial\n",
    "\n",
    "import matplotlib.pyplot as plt\n",
    "import numpy as np\n",
    "\n",
    "import gdsfactory as gf\n",
    "from gdsfactory.cross_section import Section"
   ]
  },
  {
   "cell_type": "markdown",
   "id": "ba1e3e2b",
   "metadata": {},
   "source": [
    "## Path\n",
    "\n",
    "The first step is to generate the list of points we want the path to follow.\n",
    "Let's start out by creating a blank `Path` and using the built-in functions to\n",
    "make a few smooth turns."
   ]
  },
  {
   "cell_type": "code",
   "execution_count": null,
   "id": "0c3aafea",
   "metadata": {},
   "outputs": [],
   "source": [
    "p1 = gf.path.straight(length=5)\n",
    "p2 = gf.path.euler(radius=5, angle=45, p=0.5, use_eff=False)\n",
    "p = p1 + p2\n",
    "f = p.plot()"
   ]
  },
  {
   "cell_type": "code",
   "execution_count": null,
   "id": "4fcc23c4",
   "metadata": {},
   "outputs": [],
   "source": [
    "p1 = gf.path.straight(length=5)\n",
    "p2 = gf.path.euler(radius=5, angle=45, p=0.5, use_eff=False)\n",
    "p = p2 + p1\n",
    "f = p.plot()"
   ]
  },
  {
   "cell_type": "code",
   "execution_count": null,
   "id": "576f82c6",
   "metadata": {},
   "outputs": [],
   "source": [
    "P = gf.Path()\n",
    "P += gf.path.arc(radius=10, angle=90)  # Circular arc\n",
    "P += gf.path.straight(length=10)  # Straight section\n",
    "P += gf.path.euler(radius=3, angle=-90)  # Euler bend (aka \"racetrack\" curve)\n",
    "P += gf.path.straight(length=40)\n",
    "P += gf.path.arc(radius=8, angle=-45)\n",
    "P += gf.path.straight(length=10)\n",
    "P += gf.path.arc(radius=8, angle=45)\n",
    "P += gf.path.straight(length=10)\n",
    "\n",
    "f = P.plot()"
   ]
  },
  {
   "cell_type": "code",
   "execution_count": null,
   "id": "7c78add1",
   "metadata": {},
   "outputs": [],
   "source": [
    "p2 = P.copy().rotate()\n",
    "f = p2.plot()"
   ]
  },
  {
   "cell_type": "code",
   "execution_count": null,
   "id": "2859b719",
   "metadata": {},
   "outputs": [],
   "source": [
    "P.points - p2.points"
   ]
  },
  {
   "cell_type": "markdown",
   "id": "9e11c643",
   "metadata": {},
   "source": [
    "You can also modify our Path in the same ways as any other gdsfactory object:\n",
    "\n",
    "- Manipulation with `move()`, `rotate()`, `mirror()`, etc\n",
    "- Accessing properties like `xmin`, `y`, `center`, `bbox`, etc"
   ]
  },
  {
   "cell_type": "code",
   "execution_count": null,
   "id": "35ee359e",
   "metadata": {},
   "outputs": [],
   "source": [
    "P.movey(10)\n",
    "P.xmin = 20\n",
    "f = P.plot()"
   ]
  },
  {
   "cell_type": "markdown",
   "id": "e75186db",
   "metadata": {},
   "source": [
    "You can also check the length of the curve with the `length()` method:"
   ]
  },
  {
   "cell_type": "code",
   "execution_count": null,
   "id": "cf7e0f56",
   "metadata": {},
   "outputs": [],
   "source": [
    "P.length()"
   ]
  },
  {
   "cell_type": "markdown",
   "id": "6fbe34c2",
   "metadata": {},
   "source": [
    "## CrossSection\n",
    "\n",
    "Now that you've got your path defined, the next step is to define the cross-section of the path. To do this, you can create a blank `CrossSection` and add whatever cross-sections you want to it.\n",
    "You can then combine the `Path` and the `CrossSection` using the `gf.path.extrude()` function to generate a Component:\n",
    "\n",
    "\n",
    "### Option 1: Single layer and width cross-section\n",
    "\n",
    "The simplest option is to just set the cross-section to be a constant width by passing a number to `extrude()` like so:"
   ]
  },
  {
   "cell_type": "code",
   "execution_count": null,
   "id": "c1415fed",
   "metadata": {},
   "outputs": [],
   "source": [
    "# Extrude the Path and the CrossSection\n",
    "c = gf.path.extrude(P, layer=(1, 0), width=1.5)\n",
    "c.plot()"
   ]
  },
  {
   "cell_type": "markdown",
   "id": "48e57122",
   "metadata": {},
   "source": [
    "### Option 2: Arbitrary Cross-section\n",
    "\n",
    "You can also extrude an arbitrary cross_section"
   ]
  },
  {
   "cell_type": "markdown",
   "id": "8caa2526",
   "metadata": {},
   "source": [
    "Now, what if we want a more complicated straight?  For instance, in some\n",
    "photonic applications it's helpful to have a shallow etch that appears on either\n",
    "side of the straight (often called a trench or sleeve).  Additionally, it might be nice\n",
    "to have a Port on either end of the center section so we can snap other\n",
    "geometries to it.  Let's try adding something like that in:"
   ]
  },
  {
   "cell_type": "code",
   "execution_count": null,
   "id": "1853214e",
   "metadata": {},
   "outputs": [],
   "source": [
    "p = gf.path.straight()\n",
    "\n",
    "# Add a few \"sections\" to the cross-section\n",
    "s0 = gf.Section(width=1, offset=0, layer=(1, 0), port_names=(\"in\", \"out\"))\n",
    "s1 = gf.Section(width=2, offset=2, layer=(2, 0))\n",
    "s2 = gf.Section(width=2, offset=-2, layer=(2, 0))\n",
    "x = gf.CrossSection(sections=[s0, s1, s2])\n",
    "\n",
    "c = gf.path.extrude(p, cross_section=x)\n",
    "c.plot()"
   ]
  },
  {
   "cell_type": "code",
   "execution_count": null,
   "id": "e6225bbe",
   "metadata": {},
   "outputs": [],
   "source": [
    "p = gf.path.arc()\n",
    "\n",
    "# Combine the Path and the CrossSection\n",
    "b = gf.path.extrude(p, cross_section=x)\n",
    "b.plot()"
   ]
  },
  {
   "cell_type": "markdown",
   "id": "e4f9f622",
   "metadata": {},
   "source": [
    "### Option 3: CrossSection with ComponentAlongPath\n",
    "\n",
    "You can also place components along a path, which is useful for wiring vias."
   ]
  },
  {
   "cell_type": "code",
   "execution_count": null,
   "id": "3de874dd",
   "metadata": {},
   "outputs": [],
   "source": [
    "import gdsfactory as gf\n",
    "from gdsfactory.cross_section import ComponentAlongPath\n",
    "\n",
    "# Create the path\n",
    "p = gf.path.straight()\n",
    "p += gf.path.arc(10)\n",
    "p += gf.path.straight()\n",
    "\n",
    "# Define a cross-section with a via\n",
    "via = ComponentAlongPath(\n",
    "    component=gf.c.rectangle(size=(1, 1), centered=True), spacing=5, padding=2\n",
    ")\n",
    "s = gf.Section(width=0.5, offset=0, layer=(1, 0), port_names=(\"in\", \"out\"))\n",
    "x = gf.CrossSection(sections=[s], components_along_path=[via])\n",
    "\n",
    "# Combine the path with the cross-section\n",
    "c = gf.path.extrude(p, cross_section=x)\n",
    "c.plot()"
   ]
  },
  {
   "cell_type": "code",
   "execution_count": null,
   "id": "f00885d9",
   "metadata": {},
   "outputs": [],
   "source": [
    "import gdsfactory as gf\n",
    "from gdsfactory.cross_section import ComponentAlongPath\n",
    "\n",
    "# Create the path\n",
    "p = gf.path.straight()\n",
    "p += gf.path.arc(10)\n",
    "p += gf.path.straight()\n",
    "\n",
    "# Define a cross-section with a via\n",
    "via0 = ComponentAlongPath(component=gf.c.via1(), spacing=5, padding=2, offset=0)\n",
    "viap = ComponentAlongPath(component=gf.c.via1(), spacing=5, padding=2, offset=+2)\n",
    "vian = ComponentAlongPath(component=gf.c.via1(), spacing=5, padding=2, offset=-2)\n",
    "x = gf.CrossSection(sections=[s], components_along_path=[via0, viap, vian])\n",
    "\n",
    "# Combine the path with the cross-section\n",
    "c = gf.path.extrude(p, cross_section=x)\n",
    "c.plot()"
   ]
  },
  {
   "cell_type": "markdown",
   "id": "2b96c998",
   "metadata": {},
   "source": [
    "## Path\n",
    "\n",
    "You can pass `append()` lists of path segments.  This makes it easy to combine paths very quickly.\n",
    "Below we show 3 examples using this functionality:\n",
    "\n",
    "**Example 1:** Assemble a complex path by making a list of Paths and passing it to `append()`"
   ]
  },
  {
   "cell_type": "code",
   "execution_count": null,
   "id": "579192ec",
   "metadata": {},
   "outputs": [],
   "source": [
    "P = gf.Path()\n",
    "\n",
    "# Create the basic Path components\n",
    "left_turn = gf.path.euler(radius=4, angle=90)\n",
    "right_turn = gf.path.euler(radius=4, angle=-90)\n",
    "straight = gf.path.straight(length=10)\n",
    "\n",
    "# Assemble a complex path by making list of Paths and passing it to `append()`\n",
    "P.append(\n",
    "    [\n",
    "        straight,\n",
    "        left_turn,\n",
    "        straight,\n",
    "        right_turn,\n",
    "        straight,\n",
    "        straight,\n",
    "        right_turn,\n",
    "        left_turn,\n",
    "        straight,\n",
    "    ]\n",
    ")\n",
    "\n",
    "f = P.plot()"
   ]
  },
  {
   "cell_type": "code",
   "execution_count": null,
   "id": "31dbe2e0",
   "metadata": {},
   "outputs": [],
   "source": [
    "P = (\n",
    "    straight\n",
    "    + left_turn\n",
    "    + straight\n",
    "    + right_turn\n",
    "    + straight\n",
    "    + straight\n",
    "    + right_turn\n",
    "    + left_turn\n",
    "    + straight\n",
    ")\n",
    "f = P.plot()"
   ]
  },
  {
   "cell_type": "markdown",
   "id": "9f6b28c9",
   "metadata": {},
   "source": [
    "**Example 2:** Create an \"S-turn\" just by making a list of `[left_turn,\n",
    "right_turn]`"
   ]
  },
  {
   "cell_type": "code",
   "execution_count": null,
   "id": "2853813d",
   "metadata": {},
   "outputs": [],
   "source": [
    "P = gf.Path()\n",
    "\n",
    "# Create an \"S-turn\" just by making a list\n",
    "s_turn = [left_turn, right_turn]\n",
    "\n",
    "P.append(s_turn)\n",
    "f = P.plot()"
   ]
  },
  {
   "cell_type": "markdown",
   "id": "65d1d88c",
   "metadata": {},
   "source": [
    "**Example 3:** Repeat the S-turn 3 times by nesting our S-turn list in another\n",
    "list"
   ]
  },
  {
   "cell_type": "code",
   "execution_count": null,
   "id": "670fee44",
   "metadata": {},
   "outputs": [],
   "source": [
    "P = gf.Path()\n",
    "\n",
    "# Create an \"S-turn\" using a list\n",
    "s_turn = [left_turn, right_turn]\n",
    "\n",
    "# Repeat the S-turn 3 times by nesting our S-turn list 3x times in another list\n",
    "triple_s_turn = [s_turn, s_turn, s_turn]\n",
    "\n",
    "P.append(triple_s_turn)\n",
    "f = P.plot()"
   ]
  },
  {
   "cell_type": "markdown",
   "id": "513db371",
   "metadata": {},
   "source": [
    "Note you can also use the Path() constructor to immediately construct your Path:"
   ]
  },
  {
   "cell_type": "code",
   "execution_count": null,
   "id": "292d0081",
   "metadata": {},
   "outputs": [],
   "source": [
    "P = gf.Path([straight, left_turn, straight, right_turn, straight])\n",
    "f = P.plot()"
   ]
  },
  {
   "cell_type": "markdown",
   "id": "4e23f9eb",
   "metadata": {},
   "source": [
    "## Waypoint smooth paths\n",
    "\n",
    "You can also build smooth paths between waypoints with the `smooth()` function"
   ]
  },
  {
   "cell_type": "code",
   "execution_count": null,
   "id": "9379bf53",
   "metadata": {},
   "outputs": [],
   "source": [
    "points = np.array([(20, 10), (40, 10), (20, 40), (50, 40), (50, 20), (70, 20)])\n",
    "plt.plot(points[:, 0], points[:, 1], \".-\")\n",
    "plt.axis(\"equal\")"
   ]
  },
  {
   "cell_type": "code",
   "execution_count": null,
   "id": "06f6a7c2",
   "metadata": {},
   "outputs": [],
   "source": [
    "points = np.array([(20, 10), (40, 10), (20, 40), (50, 40), (50, 20), (70, 20)])\n",
    "\n",
    "P = gf.path.smooth(\n",
    "    points=points,\n",
    "    radius=2,\n",
    "    bend=gf.path.euler,  # Alternatively, use pp.arc\n",
    "    use_eff=False,\n",
    ")\n",
    "f = P.plot()"
   ]
  },
  {
   "cell_type": "markdown",
   "id": "2bb06401",
   "metadata": {},
   "source": [
    "## Waypoint sharp paths\n",
    "\n",
    "It's also possible to make more traditional angular paths (e.g. electrical wires) in a few different ways.\n",
    "\n",
    "**Example 1:** Using a simple list of points"
   ]
  },
  {
   "cell_type": "code",
   "execution_count": null,
   "id": "4030e051",
   "metadata": {},
   "outputs": [],
   "source": [
    "P = gf.Path([(20, 10), (30, 10), (40, 30), (50, 30), (50, 20), (70, 20)])\n",
    "f = P.plot()"
   ]
  },
  {
   "cell_type": "markdown",
   "id": "b0e0aacf",
   "metadata": {},
   "source": [
    "**Example 2:** Using the \"turn and move\" method, where you manipulate the end angle of the Path so that when you append points to it, they're in the correct direction.  *Note: It is crucial that the number of points per straight section is set to 2 (`gf.path.straight(length, num_pts = 2)`) otherwise the extrusion algorithm will show defects.*"
   ]
  },
  {
   "cell_type": "code",
   "execution_count": null,
   "id": "2b8ceab1",
   "metadata": {},
   "outputs": [],
   "source": [
    "P = gf.Path()\n",
    "P += gf.path.straight(length=10, npoints=2)\n",
    "P.end_angle += 90  # \"Turn\" 90 deg (left)\n",
    "P += gf.path.straight(length=10, npoints=2)  # \"Walk\" length of 10\n",
    "P.end_angle += -135  # \"Turn\" -135 degrees (right)\n",
    "P += gf.path.straight(length=15, npoints=2)  # \"Walk\" length of 10\n",
    "P.end_angle = 0  # Force the direction to be 0 degrees\n",
    "P += gf.path.straight(length=10, npoints=2)  # \"Walk\" length of 10\n",
    "f = P.plot()"
   ]
  },
  {
   "cell_type": "code",
   "execution_count": null,
   "id": "f48bb516",
   "metadata": {
    "lines_to_next_cell": 2
   },
   "outputs": [],
   "source": [
    "s0 = gf.Section(width=1, offset=0, layer=(1, 0))\n",
    "s1 = gf.Section(width=1.5, offset=2.5, layer=(2, 0))\n",
    "s2 = gf.Section(width=1.5, offset=-2.5, layer=(3, 0))\n",
    "X = gf.CrossSection(sections=[s0, s1, s2])\n",
    "c = gf.path.extrude(P, X)\n",
    "c.show()\n",
    "c.plot()"
   ]
  },
  {
   "cell_type": "markdown",
   "id": "fdbf3942",
   "metadata": {},
   "source": [
    "## Custom curves\n",
    "\n",
    "Now let's have some fun and try to make a loop-de-loop structure with parallel\n",
    "straights and several Ports.\n",
    "\n",
    "To create a new type of curve we simply make a function that produces an array\n",
    "of points.  The best way to do that is to create a function which allows you to\n",
    "specify a large number of points along that curve -- in the case below, the\n",
    "`looploop()` function outputs 1000 points along a looping path.  Later, if we\n",
    "want reduce the number of points in our geometry we can trivially `simplify` the\n",
    "path.\n",
    "\n"
   ]
  },
  {
   "cell_type": "code",
   "execution_count": null,
   "id": "8dca1e3e",
   "metadata": {},
   "outputs": [],
   "source": [
    "def looploop(num_pts=1000):\n",
    "    \"\"\"Simple limacon looping curve\"\"\"\n",
    "    t = np.linspace(-np.pi, 0, num_pts)\n",
    "    r = 20 + 25 * np.sin(t)\n",
    "    x = r * np.cos(t)\n",
    "    y = r * np.sin(t)\n",
    "    return np.array((x, y)).T\n",
    "\n",
    "\n",
    "# Create the path points\n",
    "P = gf.Path()\n",
    "P.append(gf.path.arc(radius=10, angle=90))\n",
    "P.append(gf.path.straight())\n",
    "P.append(gf.path.arc(radius=5, angle=-90))\n",
    "P.append(looploop(num_pts=1000))\n",
    "P.rotate(-45)\n",
    "\n",
    "# Create the crosssection\n",
    "s0 = gf.Section(width=1, offset=0, layer=(1, 0), port_names=(\"in\", \"out\"))\n",
    "s1 = gf.Section(width=0.5, offset=2, layer=(2, 0))\n",
    "s2 = gf.Section(width=0.5, offset=4, layer=(3, 0))\n",
    "s3 = gf.Section(width=1, offset=0, layer=(4, 0))\n",
    "X = gf.CrossSection(sections=[s0, s1, s2, s3])\n",
    "\n",
    "c = gf.path.extrude(P, X)\n",
    "c.plot()"
   ]
  },
  {
   "cell_type": "markdown",
   "id": "9bd6599e",
   "metadata": {},
   "source": [
    "You can create Paths from any array of points -- just be sure that they form\n",
    "smooth curves!  If we examine our path `P` we can see that all we've simply\n",
    "created a long list of points:"
   ]
  },
  {
   "cell_type": "code",
   "execution_count": null,
   "id": "0fe52a87",
   "metadata": {},
   "outputs": [],
   "source": [
    "path_points = P.points  # Curve points are stored as a numpy array in P.points\n",
    "print(np.shape(path_points))  # The shape of the array is Nx2\n",
    "print(len(P))  # Equivalently, use len(P) to see how many points are inside"
   ]
  },
  {
   "cell_type": "markdown",
   "id": "3d81f1f2",
   "metadata": {},
   "source": [
    "## Simplifying / reducing point usage\n",
    "\n",
    "One of the chief concerns of generating smooth curves is that too many points\n",
    "are generated, inflating file sizes and making boolean operations\n",
    "computationally expensive.  Fortunately, PHIDL has a fast implementation of the\n",
    "[Ramer-Douglas–Peucker\n",
    "algorithm](https://en.wikipedia.org/wiki/Ramer%E2%80%93Douglas%E2%80%93Peucker_algorithm)\n",
    "that lets you reduce the number of points in a curve without changing its shape.\n",
    "All that needs to be done is when you  made a component `component()` extruding the path with a cross_section, you specify the\n",
    "`simplify` argument.\n",
    "\n",
    "If we specify `simplify = 1e-3`, the number of points in the line drops from\n",
    "12,000 to 4,000, and the remaining points form a line that is identical to\n",
    "within `1e-3` distance from the original (for the default 1 micron unit size,\n",
    "this corresponds to 1 nanometer resolution):"
   ]
  },
  {
   "cell_type": "code",
   "execution_count": null,
   "id": "d703bd18",
   "metadata": {},
   "outputs": [],
   "source": [
    "# The remaining points form a identical line to within `1e-3` from the original\n",
    "c = gf.path.extrude(p=P, cross_section=X, simplify=1e-3)\n",
    "c.plot()"
   ]
  },
  {
   "cell_type": "markdown",
   "id": "10f78143",
   "metadata": {},
   "source": [
    "Let's say we need fewer points.  We can increase the simplify tolerance by\n",
    "specifying `simplify = 1e-1`.  This drops the number of points to ~400 points\n",
    "form a line that is identical to within `1e-1` distance from the original:"
   ]
  },
  {
   "cell_type": "code",
   "execution_count": null,
   "id": "86066688",
   "metadata": {},
   "outputs": [],
   "source": [
    "c = gf.path.extrude(P, cross_section=X, simplify=1e-1)\n",
    "c.plot()"
   ]
  },
  {
   "cell_type": "markdown",
   "id": "2eccd482",
   "metadata": {},
   "source": [
    "Taken to absurdity, what happens if we set `simplify = 0.3`?  Once again, the\n",
    "~200 remaining points form a line that is within `0.3` units from the original\n",
    "-- but that line looks pretty bad."
   ]
  },
  {
   "cell_type": "code",
   "execution_count": null,
   "id": "c6e95f86",
   "metadata": {},
   "outputs": [],
   "source": [
    "c = gf.path.extrude(P, cross_section=X, simplify=0.3)\n",
    "c.plot()"
   ]
  },
  {
   "cell_type": "markdown",
   "id": "d5755406",
   "metadata": {},
   "source": [
    "## Curvature calculation\n",
    "\n",
    "The `Path` class has a `curvature()` method that computes the curvature `K` of\n",
    "your smooth path (K = 1/(radius of curvature)).  This can be helpful for\n",
    "verifying that your curves transition smoothly such as in [track-transition\n",
    "curves](https://en.wikipedia.org/wiki/Track_transition_curve) (also known as\n",
    "\"Euler\" bends in the photonics world). Euler bends have lower mode-mismatch loss as explained in [this paper](https://www.osapublishing.org/oe/fulltext.cfm?uri=oe-27-22-31394&id=422321)\n",
    "\n",
    "Note this curvature is numerically computed so areas where the curvature jumps\n",
    "instantaneously (such as between an arc and a straight segment) will be slightly\n",
    "interpolated, and sudden changes in point density along the curve can cause\n",
    "discontinuities."
   ]
  },
  {
   "cell_type": "code",
   "execution_count": null,
   "id": "8ecfad97",
   "metadata": {},
   "outputs": [],
   "source": [
    "straight_points = 100\n",
    "\n",
    "P = gf.Path()\n",
    "P.append(\n",
    "    [\n",
    "        gf.path.straight(\n",
    "            length=10, npoints=straight_points\n",
    "        ),  # Should have a curvature of 0\n",
    "        gf.path.euler(\n",
    "            radius=3, angle=90, p=0.5, use_eff=False\n",
    "        ),  # Euler straight-to-bend transition with min. bend radius of 3 (max curvature of 1/3)\n",
    "        gf.path.straight(\n",
    "            length=10, npoints=straight_points\n",
    "        ),  # Should have a curvature of 0\n",
    "        gf.path.arc(radius=10, angle=90),  # Should have a curvature of 1/10\n",
    "        gf.path.arc(radius=5, angle=-90),  # Should have a curvature of -1/5\n",
    "        gf.path.straight(\n",
    "            length=2, npoints=straight_points\n",
    "        ),  # Should have a curvature of 0\n",
    "    ]\n",
    ")\n",
    "\n",
    "f = P.plot()"
   ]
  },
  {
   "cell_type": "markdown",
   "id": "988410bc",
   "metadata": {},
   "source": [
    "Arc paths are equivalent to `bend_circular` and euler paths are equivalent to `bend_euler`"
   ]
  },
  {
   "cell_type": "code",
   "execution_count": null,
   "id": "e7628d0f",
   "metadata": {},
   "outputs": [],
   "source": [
    "s, K = P.curvature()\n",
    "plt.plot(s, K, \".-\")\n",
    "plt.xlabel(\"Position along curve (arc length)\")\n",
    "plt.ylabel(\"Curvature\")"
   ]
  },
  {
   "cell_type": "code",
   "execution_count": null,
   "id": "03ae074a",
   "metadata": {},
   "outputs": [],
   "source": [
    "P = gf.path.euler(radius=3, angle=90, p=1.0, use_eff=False)\n",
    "P.append(gf.path.euler(radius=3, angle=90, p=0.2, use_eff=False))\n",
    "P.append(gf.path.euler(radius=3, angle=90, p=0.0, use_eff=False))\n",
    "P.plot()"
   ]
  },
  {
   "cell_type": "code",
   "execution_count": null,
   "id": "f0f3e8a6",
   "metadata": {},
   "outputs": [],
   "source": [
    "s, K = P.curvature()\n",
    "plt.plot(s, K, \".-\")\n",
    "plt.xlabel(\"Position along curve (arc length)\")\n",
    "plt.ylabel(\"Curvature\")"
   ]
  },
  {
   "cell_type": "markdown",
   "id": "5e0d81ae",
   "metadata": {},
   "source": [
    "You can compare two 90 degrees euler bend with 180 euler bend.\n",
    "\n",
    "A 180 euler bend is shorter, and has less loss than two 90 degrees euler bend."
   ]
  },
  {
   "cell_type": "code",
   "execution_count": null,
   "id": "cacc7330",
   "metadata": {},
   "outputs": [],
   "source": [
    "straight_points = 100\n",
    "\n",
    "P = gf.Path()\n",
    "P.append(\n",
    "    [\n",
    "        gf.path.euler(radius=3, angle=90, p=1, use_eff=False),\n",
    "        gf.path.euler(radius=3, angle=90, p=1, use_eff=False),\n",
    "        gf.path.straight(length=6, npoints=100),\n",
    "        gf.path.euler(radius=3, angle=180, p=1, use_eff=False),\n",
    "    ]\n",
    ")\n",
    "\n",
    "f = P.plot()"
   ]
  },
  {
   "cell_type": "code",
   "execution_count": null,
   "id": "fb260bd2",
   "metadata": {},
   "outputs": [],
   "source": [
    "s, K = P.curvature()\n",
    "plt.plot(s, K, \".-\")\n",
    "plt.xlabel(\"Position along curve (arc length)\")\n",
    "plt.ylabel(\"Curvature\")"
   ]
  },
  {
   "cell_type": "markdown",
   "id": "ecec2a91",
   "metadata": {},
   "source": [
    "## Transitioning between cross-sections\n",
    "\n",
    "Often a critical element of building paths is being able to transition between\n",
    "cross-sections.  You can use the `transition()` function to do exactly this: you\n",
    "simply feed it two `CrossSection`s and it will output a new `CrossSection` that\n",
    "smoothly transitions between the two.\n",
    "\n",
    "Let's start off by creating two cross-sections we want to transition between.\n",
    "Note we give all the cross-sectional elements names by specifying the `name`\n",
    "argument in the `add()` function -- this is important because the transition\n",
    "function will try to match names between the two input cross-sections, and any\n",
    "names not present in both inputs will be skipped."
   ]
  },
  {
   "cell_type": "code",
   "execution_count": null,
   "id": "a839500e",
   "metadata": {},
   "outputs": [],
   "source": [
    "# Create our first CrossSection\n",
    "import gdsfactory as gf\n",
    "\n",
    "s0 = gf.Section(width=1.2, offset=0, layer=(2, 0), name=\"core\", port_names=(\"o1\", \"o2\"))\n",
    "s1 = gf.Section(width=2.2, offset=0, layer=(3, 0), name=\"etch\")\n",
    "s2 = gf.Section(width=1.1, offset=3, layer=(1, 0), name=\"wg2\")\n",
    "X1 = gf.CrossSection(sections=[s0, s1, s2])\n",
    "\n",
    "# Create the second CrossSection that we want to transition to\n",
    "s0 = gf.Section(width=1, offset=0, layer=(2, 0), name=\"core\", port_names=(\"o1\", \"o2\"))\n",
    "s1 = gf.Section(width=3.5, offset=0, layer=(3, 0), name=\"etch\")\n",
    "s2 = gf.Section(width=3, offset=5, layer=(1, 0), name=\"wg2\")\n",
    "X2 = gf.CrossSection(sections=[s0, s1, s2])\n",
    "\n",
    "# To show the cross-sections, let's create two Paths and\n",
    "# create Components by extruding them\n",
    "P1 = gf.path.straight(length=5)\n",
    "P2 = gf.path.straight(length=5)\n",
    "wg1 = gf.path.extrude(P1, X1)\n",
    "wg2 = gf.path.extrude(P2, X2)\n",
    "\n",
    "# Place both cross-section Components and quickplot them\n",
    "c = gf.Component(\"demo\")\n",
    "wg1ref = c << wg1\n",
    "wg2ref = c << wg2\n",
    "wg2ref.movex(7.5)\n",
    "\n",
    "c.plot()"
   ]
  },
  {
   "cell_type": "markdown",
   "id": "115f4ce6",
   "metadata": {},
   "source": [
    "Now let's create the transitional CrossSection by calling `transition()` with\n",
    "these two CrossSections as input. If we want the width to vary as a smooth\n",
    "sinusoid between the sections, we can set `width_type` to `'sine'`\n",
    "(alternatively we could also use `'linear'`)."
   ]
  },
  {
   "cell_type": "code",
   "execution_count": null,
   "id": "1ca17796",
   "metadata": {},
   "outputs": [],
   "source": [
    "# Create the transitional CrossSection\n",
    "Xtrans = gf.path.transition(cross_section1=X1, cross_section2=X2, width_type=\"sine\")\n",
    "\n",
    "# Create a Path for the transitional CrossSection to follow\n",
    "P3 = gf.path.straight(length=15, npoints=100)\n",
    "\n",
    "# Use the transitional CrossSection to create a Component\n",
    "straight_transition = gf.path.extrude_transition(P3, Xtrans)\n",
    "straight_transition.plot()"
   ]
  },
  {
   "cell_type": "markdown",
   "id": "7a63d5c0",
   "metadata": {},
   "source": [
    "Now that we have all of our components, let's `connect()` everything and see\n",
    "what it looks like"
   ]
  },
  {
   "cell_type": "code",
   "execution_count": null,
   "id": "7a2304e7",
   "metadata": {},
   "outputs": [],
   "source": [
    "c = gf.Component(\"transition_demo\")\n",
    "\n",
    "wg1ref = c << wg1\n",
    "wgtref = c << straight_transition\n",
    "wg2ref = c << wg2\n",
    "\n",
    "wgtref.connect(\"o1\", wg1ref.ports[\"o2\"])\n",
    "wg2ref.connect(\"o1\", wgtref.ports[\"o2\"])\n",
    "\n",
    "c.plot()"
   ]
  },
  {
   "cell_type": "markdown",
   "id": "840f6514",
   "metadata": {},
   "source": [
    "Note that since `transition()` outputs a `Transition`, we can make the transition follow an arbitrary path:"
   ]
  },
  {
   "cell_type": "code",
   "execution_count": null,
   "id": "4cacf69c",
   "metadata": {
    "lines_to_next_cell": 2
   },
   "outputs": [],
   "source": [
    "# Transition along a curving Path\n",
    "P4 = gf.path.euler(radius=25, angle=45, p=0.5, use_eff=False)\n",
    "wg_trans = gf.path.extrude_transition(P4, Xtrans)\n",
    "\n",
    "c = gf.Component(\"demo_transition\")\n",
    "wg1_ref = c << wg1  # First cross-section Component\n",
    "wg2_ref = c << wg2\n",
    "wgt_ref = c << wg_trans\n",
    "\n",
    "wgt_ref.connect(\"o1\", wg1_ref.ports[\"o2\"])\n",
    "wg2_ref.connect(\"o1\", wgt_ref.ports[\"o2\"])\n",
    "\n",
    "c.plot()"
   ]
  },
  {
   "cell_type": "markdown",
   "id": "03c2a3b2",
   "metadata": {},
   "source": [
    "Since a Transition inherits from CrossSection you can also extrude an arbitrary Transition.\n",
    "\n",
    "1. Extruding a Path"
   ]
  },
  {
   "cell_type": "code",
   "execution_count": null,
   "id": "315060f6",
   "metadata": {},
   "outputs": [],
   "source": [
    "w1 = 1\n",
    "w2 = 5\n",
    "x1 = gf.get_cross_section(\"xs_sc\", width=w1)\n",
    "x2 = gf.get_cross_section(\"xs_sc\", width=w2)\n",
    "transition = gf.path.transition(x1, x2)\n",
    "p = gf.path.arc(radius=10)\n",
    "c = gf.path.extrude(p, transition)\n",
    "c.plot()"
   ]
  },
  {
   "cell_type": "markdown",
   "id": "f56604a2",
   "metadata": {},
   "source": [
    "2. Or as a CrossSection for a component"
   ]
  },
  {
   "cell_type": "code",
   "execution_count": null,
   "id": "920e39c5",
   "metadata": {},
   "outputs": [],
   "source": [
    "w1 = 1\n",
    "w2 = 5\n",
    "length = 10\n",
    "x1 = gf.get_cross_section(\"xs_sc\", width=w1)\n",
    "x2 = gf.get_cross_section(\"xs_sc\", width=w2)\n",
    "transition = gf.path.transition(x1, x2)\n",
    "c = gf.components.bend_euler(radius=10, cross_section=transition)\n",
    "c.plot()"
   ]
  },
  {
   "cell_type": "markdown",
   "id": "727cc595",
   "metadata": {},
   "source": [
    "## Variable width / offset\n",
    "\n",
    "In some instances, you may want to vary the width or offset of the path's cross-\n",
    "section as it travels.  This can be accomplished by giving the `CrossSection`\n",
    "arguments that are functions or lists.  Let's say we wanted a width that varies\n",
    "sinusoidally along the length of the Path.  To do this, we need to make a width\n",
    "function that is parameterized from 0 to 1: for an example function\n",
    "`my_width_fun(t)` where the width at `t==0` is the width at the beginning of the\n",
    "Path and the width at `t==1` is the width at the end.\n",
    "\n"
   ]
  },
  {
   "cell_type": "code",
   "execution_count": null,
   "id": "3ad22670",
   "metadata": {
    "lines_to_next_cell": 2
   },
   "outputs": [],
   "source": [
    "import numpy as np\n",
    "import gdsfactory as gf\n",
    "\n",
    "\n",
    "def my_custom_width_fun(t):\n",
    "    # Note: Custom width/offset functions MUST be vectorizable--you must be able\n",
    "    # to call them with an array input like my_custom_width_fun([0, 0.1, 0.2, 0.3, 0.4])\n",
    "    num_periods = 5\n",
    "    return 3 + np.cos(2 * np.pi * t * num_periods)\n",
    "\n",
    "\n",
    "# Create the Path\n",
    "P = gf.path.straight(length=40, npoints=30)\n",
    "\n",
    "# Create two cross-sections: one fixed width, one modulated by my_custom_offset_fun\n",
    "s0 = gf.Section(width=3, offset=-6, layer=(2, 0))\n",
    "s1 = gf.Section(width=0, width_function=my_custom_width_fun, offset=0, layer=(1, 0))\n",
    "X = gf.CrossSection(sections=[s0, s1])\n",
    "\n",
    "# Extrude the Path to create the Component\n",
    "c = gf.path.extrude(P, cross_section=X)\n",
    "c.plot()"
   ]
  },
  {
   "cell_type": "markdown",
   "id": "7889f76a",
   "metadata": {},
   "source": [
    "We can do the same thing with the offset argument:\n",
    "\n"
   ]
  },
  {
   "cell_type": "code",
   "execution_count": null,
   "id": "dd15ff4b",
   "metadata": {
    "lines_to_next_cell": 2
   },
   "outputs": [],
   "source": [
    "def my_custom_offset_fun(t):\n",
    "    # Note: Custom width/offset functions MUST be vectorizable--you must be able\n",
    "    # to call them with an array input like my_custom_offset_fun([0, 0.1, 0.2, 0.3, 0.4])\n",
    "    num_periods = 3\n",
    "    return 3 + np.cos(2 * np.pi * t * num_periods)\n",
    "\n",
    "\n",
    "# Create the Path\n",
    "P = gf.path.straight(length=40, npoints=30)\n",
    "\n",
    "# Create two cross-sections: one fixed offset, one modulated by my_custom_offset_fun\n",
    "s0 = gf.Section(width=1, offset=0, layer=(1, 0))\n",
    "s1 = gf.Section(\n",
    "    width=1,\n",
    "    offset_function=my_custom_offset_fun,\n",
    "    layer=(2, 0),\n",
    "    port_names=[\"clad1\", \"clad2\"],\n",
    ")\n",
    "X = gf.CrossSection(sections=[s0, s1])\n",
    "\n",
    "# Extrude the Path to create the Component\n",
    "c = gf.path.extrude(P, cross_section=X)\n",
    "c.plot()"
   ]
  },
  {
   "cell_type": "markdown",
   "id": "54aae645",
   "metadata": {},
   "source": [
    "## Offsetting a Path\n",
    "\n",
    "Sometimes it's convenient to start with a simple Path and offset the line it\n",
    "follows to suit your needs (without using a custom-offset CrossSection).  Here,\n",
    "we start with two copies of  simple straight Path and use the `offset()`\n",
    "function to directly modify each Path.\n",
    "\n"
   ]
  },
  {
   "cell_type": "code",
   "execution_count": null,
   "id": "6c8431c6",
   "metadata": {},
   "outputs": [],
   "source": [
    "def my_custom_offset_fun(t):\n",
    "    # Note: Custom width/offset functions MUST be vectorizable--you must be able\n",
    "    # to call them with an array input like my_custom_offset_fun([0, 0.1, 0.2, 0.3, 0.4])\n",
    "    num_periods = 3\n",
    "    return 2 + np.cos(2 * np.pi * t * num_periods)\n",
    "\n",
    "\n",
    "P1 = gf.path.straight(npoints=101)\n",
    "P1.offset(offset=my_custom_offset_fun)\n",
    "f = P1.plot()"
   ]
  },
  {
   "cell_type": "code",
   "execution_count": null,
   "id": "a797bf68",
   "metadata": {},
   "outputs": [],
   "source": [
    "P2 = P1.copy()  # Make a copy of the Path\n",
    "P2.mirror((1, 0))  # reflect across X-axis\n",
    "f2 = P2.plot()"
   ]
  },
  {
   "cell_type": "code",
   "execution_count": null,
   "id": "adc89df7",
   "metadata": {},
   "outputs": [],
   "source": [
    "# Create the Path\n",
    "P = gf.path.arc(radius=10, angle=45)\n",
    "\n",
    "# Create two cross-sections: one fixed width, one modulated by my_custom_offset_fun\n",
    "s0 = gf.Section(width=1, offset=3, layer=(2, 0), name=\"waveguide\")\n",
    "s1 = gf.Section(width=1, offset=0, layer=(1, 0), name=\"heater\", port_names=(\"o1\", \"o2\"))\n",
    "X = gf.CrossSection(sections=(s0, s1))\n",
    "c = gf.path.extrude(P, X)\n",
    "c.plot()"
   ]
  },
  {
   "cell_type": "code",
   "execution_count": null,
   "id": "bc011832",
   "metadata": {},
   "outputs": [],
   "source": [
    "P = gf.Path()\n",
    "P.append(gf.path.arc(radius=10, angle=90))  # Circular arc\n",
    "P.append(gf.path.straight(length=10))  # Straight section\n",
    "P.append(gf.path.euler(radius=3, angle=-90))  # Euler bend (aka \"racetrack\" curve)\n",
    "P.append(gf.path.straight(length=40))\n",
    "P.append(gf.path.arc(radius=8, angle=-45))\n",
    "P.append(gf.path.straight(length=10))\n",
    "P.append(gf.path.arc(radius=8, angle=45))\n",
    "P.append(gf.path.straight(length=10))\n",
    "\n",
    "f = P.plot()"
   ]
  },
  {
   "cell_type": "code",
   "execution_count": null,
   "id": "34799978",
   "metadata": {},
   "outputs": [],
   "source": [
    "c = gf.path.extrude(P, width=1, layer=(2, 0))\n",
    "c.plot()"
   ]
  },
  {
   "cell_type": "code",
   "execution_count": null,
   "id": "c22ccd68",
   "metadata": {},
   "outputs": [],
   "source": [
    "s0 = gf.Section(width=2, offset=0, layer=(2, 0))\n",
    "xs = gf.CrossSection(sections=(s0,))\n",
    "c = gf.path.extrude(P, xs)\n",
    "c.plot()"
   ]
  },
  {
   "cell_type": "code",
   "execution_count": null,
   "id": "50b2dfb9",
   "metadata": {},
   "outputs": [],
   "source": [
    "p = gf.path.straight(length=10, npoints=101)\n",
    "s0 = gf.Section(width=1, offset=0, layer=(1, 0), port_names=(\"o1\", \"o2\"))\n",
    "s1 = gf.Section(width=3, offset=0, layer=(3, 0))\n",
    "x1 = gf.CrossSection(sections=(s0, s1))\n",
    "c = gf.path.extrude(p, x1)\n",
    "c.plot()"
   ]
  },
  {
   "cell_type": "code",
   "execution_count": null,
   "id": "ca2c7ef9",
   "metadata": {},
   "outputs": [],
   "source": [
    "s0 = gf.Section(width=1 + 3, offset=0, layer=(1, 0), port_names=(\"o1\", \"o2\"))\n",
    "s1 = gf.Section(width=3 + 3, offset=0, layer=(3, 0))\n",
    "x2 = gf.CrossSection(sections=(s0, s1))\n",
    "c2 = gf.path.extrude(p, x2)\n",
    "c2.plot()"
   ]
  },
  {
   "cell_type": "code",
   "execution_count": null,
   "id": "e3c087d9",
   "metadata": {},
   "outputs": [],
   "source": [
    "t = gf.path.transition(x1, x2)\n",
    "c3 = gf.path.extrude_transition(p, t)\n",
    "c3.plot()"
   ]
  },
  {
   "cell_type": "code",
   "execution_count": null,
   "id": "27f05cea",
   "metadata": {},
   "outputs": [],
   "source": [
    "c4 = gf.Component(\"demo_transition2\")\n",
    "start_ref = c4 << c\n",
    "trans_ref = c4 << c3\n",
    "end_ref = c4 << c2\n",
    "\n",
    "trans_ref.connect(\"o1\", start_ref.ports[\"o2\"])\n",
    "end_ref.connect(\"o1\", trans_ref.ports[\"o2\"])\n",
    "c4.plot()"
   ]
  },
  {
   "cell_type": "markdown",
   "id": "a4cd3193",
   "metadata": {},
   "source": [
    "## Creating new cross_sections\n",
    "\n",
    "You can create functions that return a cross_section in 2 ways:\n",
    "\n",
    "- Customize an existing cross-section for example `gf.cross_section.strip`\n",
    "- Define a function that returns a cross_section\n",
    "- Define a CrossSection object\n",
    "\n",
    "What parameters do `cross_section` take?"
   ]
  },
  {
   "cell_type": "code",
   "execution_count": null,
   "id": "5f1d50f0",
   "metadata": {},
   "outputs": [],
   "source": [
    "help(gf.cross_section.cross_section)"
   ]
  },
  {
   "cell_type": "code",
   "execution_count": null,
   "id": "6f0e0f12",
   "metadata": {},
   "outputs": [],
   "source": [
    "from functools import partial\n",
    "import gdsfactory as gf\n",
    "\n",
    "pin = partial(\n",
    "    gf.cross_section.strip,\n",
    "    layer=(2, 0),\n",
    "    sections=(\n",
    "        gf.Section(layer=(21, 0), width=2, offset=+2),\n",
    "        gf.Section(layer=(20, 0), width=2, offset=-2),\n",
    "    ),\n",
    ")"
   ]
  },
  {
   "cell_type": "code",
   "execution_count": null,
   "id": "2d6f5ebd",
   "metadata": {},
   "outputs": [],
   "source": [
    "c = gf.components.straight(cross_section=pin)\n",
    "c.plot()"
   ]
  },
  {
   "cell_type": "code",
   "execution_count": null,
   "id": "be9e5778",
   "metadata": {},
   "outputs": [],
   "source": [
    "pin5 = gf.components.straight(cross_section=pin, length=5)\n",
    "pin5.plot()"
   ]
  },
  {
   "cell_type": "markdown",
   "id": "b1d64e32",
   "metadata": {},
   "source": [
    "finally, you can also pass most components Dict that define the cross-section"
   ]
  },
  {
   "cell_type": "code",
   "execution_count": null,
   "id": "f172874f",
   "metadata": {},
   "outputs": [],
   "source": [
    "# Create our first CrossSection\n",
    "s0 = gf.Section(width=0.5, offset=0, layer=(1, 0), name=\"wg\", port_names=(\"o1\", \"o2\"))\n",
    "s1 = gf.Section(width=0.2, offset=0, layer=(3, 0), name=\"slab\")\n",
    "x1 = gf.CrossSection(sections=(s0, s1))\n",
    "\n",
    "# Create the second CrossSection that we want to transition to\n",
    "s0 = gf.Section(width=0.5, offset=0, layer=(1, 0), name=\"wg\", port_names=(\"o1\", \"o2\"))\n",
    "s1 = gf.Section(width=3.0, offset=0, layer=(3, 0), name=\"slab\")\n",
    "x2 = gf.CrossSection(sections=(s0, s1))\n",
    "\n",
    "# To show the cross-sections, let's create two Paths and create Components by extruding them\n",
    "p1 = gf.path.straight(length=5)\n",
    "p2 = gf.path.straight(length=5)\n",
    "wg1 = gf.path.extrude(p1, x1)\n",
    "wg2 = gf.path.extrude(p2, x2)\n",
    "\n",
    "# Place both cross-section Components and quickplot them\n",
    "c = gf.Component()\n",
    "wg1ref = c << wg1\n",
    "wg2ref = c << wg2\n",
    "wg2ref.movex(7.5)\n",
    "\n",
    "# Create the transitional CrossSection\n",
    "xtrans = gf.path.transition(cross_section1=x1, cross_section2=x2, width_type=\"linear\")\n",
    "# Create a Path for the transitional CrossSection to follow\n",
    "p3 = gf.path.straight(length=15, npoints=100)\n",
    "\n",
    "# Use the transitional CrossSection to create a Component\n",
    "straight_transition = gf.path.extrude_transition(p3, xtrans)\n",
    "straight_transition.plot()"
   ]
  },
  {
   "cell_type": "code",
   "execution_count": null,
   "id": "8fe22355",
   "metadata": {},
   "outputs": [],
   "source": [
    "# Create the transitional CrossSection\n",
    "xtrans = gf.path.transition(\n",
    "    cross_section1=x1, cross_section2=x2, width_type=\"parabolic\"\n",
    ")\n",
    "# Create a Path for the transitional CrossSection to follow\n",
    "p3 = gf.path.straight(length=15, npoints=100)\n",
    "\n",
    "# Use the transitional CrossSection to create a Component\n",
    "straight_transition = gf.path.extrude_transition(p3, xtrans)\n",
    "straight_transition.plot()"
   ]
  },
  {
   "cell_type": "code",
   "execution_count": null,
   "id": "88fcd581",
   "metadata": {},
   "outputs": [],
   "source": [
    "# Create the transitional CrossSection\n",
    "xtrans = gf.path.transition(cross_section1=x1, cross_section2=x2, width_type=\"sine\")\n",
    "# Create a Path for the transitional CrossSection to follow\n",
    "p3 = gf.path.straight(length=15, npoints=100)\n",
    "\n",
    "# Use the transitional CrossSection to create a Component\n",
    "straight_transition = gf.path.extrude_transition(p3, xtrans)\n",
    "straight_transition.plot()"
   ]
  },
  {
   "cell_type": "code",
   "execution_count": null,
   "id": "10e83cf3",
   "metadata": {},
   "outputs": [],
   "source": [
    "s = straight_transition.to_3d()\n",
    "s.show()"
   ]
  },
  {
   "cell_type": "markdown",
   "id": "346453cf",
   "metadata": {},
   "source": [
    "## Waveguides with Shear Faces\n",
    "By default, an extruded path will end in a face orthogonal to the direction of the path.\n",
    "Sometimes you want to have a sheared face that tilts at a given angle from this orthogonal baseline.\n",
    "You can supply the parameters `shear_angle_start` and `shear_angle_end` to the `extrude()` function."
   ]
  },
  {
   "cell_type": "code",
   "execution_count": null,
   "id": "54bb71e4",
   "metadata": {},
   "outputs": [],
   "source": [
    "P = gf.path.straight(length=10)\n",
    "\n",
    "s0 = gf.Section(width=1, offset=0, layer=(1, 0), port_names=(\"o1\", \"o2\"))\n",
    "s1 = gf.Section(width=3, offset=0, layer=(3, 0))\n",
    "X1 = gf.CrossSection(sections=(s0, s1))\n",
    "c = gf.path.extrude(P, X1, shear_angle_start=10, shear_angle_end=45)\n",
    "c.plot()"
   ]
  },
  {
   "cell_type": "code",
   "execution_count": null,
   "id": "e7eb5895",
   "metadata": {},
   "outputs": [],
   "source": [
    "c.pprint_ports()"
   ]
  },
  {
   "cell_type": "markdown",
   "id": "13fc2409",
   "metadata": {},
   "source": [
    "By default, the shear angle parameters are `None`, in which case shearing will not be applied to the face."
   ]
  },
  {
   "cell_type": "code",
   "execution_count": null,
   "id": "24ee5f16",
   "metadata": {},
   "outputs": [],
   "source": [
    "c = gf.path.extrude(P, X1, shear_angle_start=None, shear_angle_end=10)\n",
    "c.plot()"
   ]
  },
  {
   "cell_type": "markdown",
   "id": "e8185309",
   "metadata": {},
   "source": [
    "Shearing should work on paths of arbitrary orientation, as long as their end segments are sufficiently long."
   ]
  },
  {
   "cell_type": "code",
   "execution_count": null,
   "id": "8d01ab97",
   "metadata": {},
   "outputs": [],
   "source": [
    "angle = 45\n",
    "P = gf.path.straight(length=10).rotate(angle)\n",
    "c = gf.path.extrude(P, X1, shear_angle_start=angle, shear_angle_end=angle)\n",
    "c.plot()"
   ]
  },
  {
   "cell_type": "markdown",
   "id": "9d7a9355",
   "metadata": {},
   "source": [
    "For a non-linear path or width profile, the algorithm will intersect the path when sheared inwards and extrapolate linearly going outwards."
   ]
  },
  {
   "cell_type": "code",
   "execution_count": null,
   "id": "98796f1d",
   "metadata": {},
   "outputs": [],
   "source": [
    "angle = 15\n",
    "P = gf.path.euler()\n",
    "c = gf.path.extrude(P, X1, shear_angle_start=angle, shear_angle_end=angle)\n",
    "c.plot()"
   ]
  },
  {
   "cell_type": "markdown",
   "id": "f8a78037",
   "metadata": {},
   "source": [
    "The port location, width and orientation remains the same for a sheared component. However, an additional property, `shear_angle` is set to the value of the shear angle. In general, shear ports can be safely connected together."
   ]
  },
  {
   "cell_type": "code",
   "execution_count": null,
   "id": "f01d8d1d",
   "metadata": {},
   "outputs": [],
   "source": [
    "p1 = gf.path.straight(length=10)\n",
    "p2 = gf.path.straight(length=0.5)\n",
    "s0 = gf.Section(width=1, offset=0, layer=(1, 0), port_names=(\"o1\", \"o2\"))\n",
    "s1 = gf.Section(width=3, offset=0, layer=(3, 0))\n",
    "xs = gf.CrossSection(sections=(s0, s1))\n",
    "\n",
    "c1 = gf.path.extrude(p1, xs, shear_angle_start=45, shear_angle_end=45)\n",
    "c2 = gf.path.extrude(p2, xs, shear_angle_start=45, shear_angle_end=45)\n",
    "\n",
    "c = gf.Component(\"shear_sample\")\n",
    "ref1 = c << c1\n",
    "ref2 = c << c2\n",
    "ref3 = c << c1\n",
    "\n",
    "\n",
    "ref1.connect(port=\"o1\", destination=ref2.ports[\"o1\"])\n",
    "ref3.connect(port=\"o1\", destination=ref2.ports[\"o2\"])\n",
    "c.plot()"
   ]
  },
  {
   "cell_type": "markdown",
   "id": "8acc9b92",
   "metadata": {},
   "source": [
    "### Transitions with Shear faces\n",
    "\n",
    "You can also create a transition with a shear face"
   ]
  },
  {
   "cell_type": "code",
   "execution_count": null,
   "id": "d644ce95",
   "metadata": {},
   "outputs": [],
   "source": [
    "P = gf.path.straight(length=10)\n",
    "\n",
    "s0 = gf.Section(width=1, offset=0, layer=(1, 0), name=\"core\", port_names=(\"o1\", \"o2\"))\n",
    "s1 = gf.Section(width=3, offset=0, layer=(3, 0), name=\"slab\")\n",
    "X1 = gf.CrossSection(sections=(s0, s1))\n",
    "\n",
    "s2 = gf.Section(width=0.5, offset=0, layer=(1, 0), name=\"core\", port_names=(\"o1\", \"o2\"))\n",
    "s3 = gf.Section(width=2.0, offset=0, layer=(3, 0), name=\"slab\")\n",
    "X2 = gf.CrossSection(sections=(s2, s3))\n",
    "t = gf.path.transition(X1, X2, width_type=\"linear\")\n",
    "c = gf.path.extrude_transition(P, t, shear_angle_start=10, shear_angle_end=45)\n",
    "c.plot()"
   ]
  },
  {
   "cell_type": "markdown",
   "id": "ce3b48d6",
   "metadata": {},
   "source": [
    "This will also work with curves and non-linear width profiles. Keep in mind that points outside the original geometry will be extrapolated linearly."
   ]
  },
  {
   "cell_type": "code",
   "execution_count": null,
   "id": "b067efd5",
   "metadata": {},
   "outputs": [],
   "source": [
    "angle = 15\n",
    "P = gf.path.euler()\n",
    "c = gf.path.extrude_transition(P, t, shear_angle_start=angle, shear_angle_end=angle)\n",
    "c.plot()"
   ]
  },
  {
   "cell_type": "markdown",
   "id": "0243de9e",
   "metadata": {},
   "source": [
    "## bbox_layers vs cladding_layers\n",
    "\n",
    "For extruding waveguides you have two options:\n",
    "\n",
    "1. bbox_layers for squared bounding box\n",
    "2. cladding_layers for extruding a layer that follows the shape of the path."
   ]
  },
  {
   "cell_type": "code",
   "execution_count": null,
   "id": "de66f647",
   "metadata": {},
   "outputs": [],
   "source": [
    "xs_bbox = gf.cross_section.cross_section(bbox_layers=[(3, 0)], bbox_offsets=[3])\n",
    "w1 = gf.components.bend_euler(cross_section=xs_bbox)\n",
    "w1.plot()"
   ]
  },
  {
   "cell_type": "code",
   "execution_count": null,
   "id": "b470b686",
   "metadata": {},
   "outputs": [],
   "source": [
    "xs_clad = gf.cross_section.cross_section(cladding_layers=[(3, 0)], cladding_offsets=[3])\n",
    "w2 = gf.components.bend_euler(cross_section=xs_clad)\n",
    "w2.plot()"
   ]
  },
  {
   "cell_type": "markdown",
   "id": "67221556",
   "metadata": {},
   "source": [
    "## Insets\n",
    "\n",
    "It's handy to be able to extrude a `CrossSection` along a `Path`, while each `Section` may have a particular inset relative to the main `Section`. An example of this is a waveguide with a heater."
   ]
  },
  {
   "cell_type": "code",
   "execution_count": null,
   "id": "f3ffe974",
   "metadata": {},
   "outputs": [],
   "source": [
    "import gdsfactory as gf\n",
    "\n",
    "\n",
    "def xs_waveguide_heater() -> gf.CrossSection:\n",
    "    return gf.cross_section.cross_section(\n",
    "        layer=\"WG\",\n",
    "        width=0.5,\n",
    "        sections=(\n",
    "            gf.cross_section.Section(\n",
    "                name=\"heater\",\n",
    "                width=1,\n",
    "                layer=\"HEATER\",\n",
    "                insets=(1, 2),\n",
    "            ),\n",
    "        ),\n",
    "    )\n",
    "\n",
    "\n",
    "c = gf.components.straight(cross_section=xs_waveguide_heater)\n",
    "c.plot()"
   ]
  },
  {
   "cell_type": "code",
   "execution_count": null,
   "id": "f5169ddd",
   "metadata": {
    "lines_to_next_cell": 0
   },
   "outputs": [],
   "source": [
    "def xs_waveguide_heater_with_ports() -> gf.CrossSection:\n",
    "    return gf.cross_section.cross_section(\n",
    "        layer=\"WG\",\n",
    "        width=0.5,\n",
    "        sections=(\n",
    "            gf.cross_section.Section(\n",
    "                name=\"heater\",\n",
    "                width=1,\n",
    "                layer=\"HEATER\",\n",
    "                insets=(1, 2),\n",
    "                port_names=(\"e1\", \"e2\"),\n",
    "                port_types=(\"electrical\", \"electrical\"),\n",
    "            ),\n",
    "        ),\n",
    "    )\n",
    "\n",
    "\n",
    "c = gf.components.straight(cross_section=xs_waveguide_heater_with_ports)\n",
    "c.plot()"
   ]
  },
  {
   "cell_type": "markdown",
   "id": "68a5a596",
   "metadata": {},
   "source": [
    "---\n",
    "jupyter:\n",
    "  jupytext:\n",
    "    cell_metadata_filter: -all\n",
    "    custom_cell_magics: kql\n",
    "    text_representation:\n",
    "      extension: .md\n",
    "      format_name: markdown\n",
    "      format_version: '1.3'\n",
    "      jupytext_version: 1.15.2\n",
    "  kernelspec:\n",
    "    display_name: base\n",
    "    language: python\n",
    "    name: python3\n",
    "---\n",
    "\n",
    "# Geometry\n",
    "\n",
    "gdsfactory provides you with some geometric functions"
   ]
  },
  {
   "cell_type": "markdown",
   "id": "1e1b1f8a",
   "metadata": {},
   "source": [
    "## Boolean / outline / offset / invert\n",
    "There are several common boolean-type operations available in the geometry library.  These include typical boolean operations (and/or/not/xor), offsetting (expanding/shrinking polygons), outlining, and inverting."
   ]
  },
  {
   "cell_type": "markdown",
   "id": "f89a9f94",
   "metadata": {},
   "source": [
    "### Boolean\n",
    "\n",
    "\n",
    "The ``gf.geometry.boolean()`` function can perform AND/OR/NOT/XOR operations, and will return a new geometry with the result of that operation."
   ]
  },
  {
   "cell_type": "code",
   "execution_count": null,
   "id": "65a41a49",
   "metadata": {},
   "outputs": [],
   "source": [
    "import gdsfactory as gf\n",
    "\n",
    "E = gf.components.ellipse(radii=(10, 5), layer=(1, 0))\n",
    "R = gf.components.rectangle(size=[15, 5], layer=(2, 0))\n",
    "C = gf.geometry.boolean(A=E, B=R, operation=\"not\", precision=1e-6, layer=(3, 0))\n",
    "# Other operations include 'and', 'or', 'xor', or equivalently 'A-B', 'B-A', 'A+B'\n",
    "\n",
    "# Plot the originals and the result\n",
    "D = gf.Component(\"bool\")\n",
    "D.add_ref(E)\n",
    "D.add_ref(R).movey(-1.5)\n",
    "D.add_ref(C).movex(30)\n",
    "D.plot()"
   ]
  },
  {
   "cell_type": "markdown",
   "id": "e6ed1139",
   "metadata": {},
   "source": [
    "To learn how booleans work you can try all the different operations `not`, `and`, `or`, `xor`"
   ]
  },
  {
   "cell_type": "code",
   "execution_count": null,
   "id": "0f262be4",
   "metadata": {},
   "outputs": [],
   "source": [
    "import gdsfactory as gf\n",
    "\n",
    "operation = \"not\"\n",
    "operation = \"and\"\n",
    "operation = \"or\"\n",
    "operation = \"xor\"\n",
    "\n",
    "r1 = (8, 8)\n",
    "r2 = (11, 4)\n",
    "r1 = (80, 80)\n",
    "r2 = (110, 40)\n",
    "\n",
    "angle_resolution = 0.1\n",
    "\n",
    "c1 = gf.components.ellipse(radii=r1, layer=(1, 0), angle_resolution=angle_resolution)\n",
    "c2 = gf.components.ellipse(radii=r2, layer=(1, 0), angle_resolution=angle_resolution)"
   ]
  },
  {
   "cell_type": "code",
   "execution_count": null,
   "id": "417d7bbe",
   "metadata": {},
   "outputs": [],
   "source": [
    "%time\n",
    "\n",
    "c3 = gf.geometry.boolean_klayout(\n",
    "    c1, c2, operation=operation, layer1=(1, 0), layer2=(1, 0), layer3=(1, 0)\n",
    ")  # KLayout booleans\n",
    "c3.plot()"
   ]
  },
  {
   "cell_type": "code",
   "execution_count": null,
   "id": "9fb8a4f1",
   "metadata": {},
   "outputs": [],
   "source": [
    "%time\n",
    "c4 = gf.geometry.boolean(c1, c2, operation=operation)\n",
    "c4.plot()"
   ]
  },
  {
   "cell_type": "markdown",
   "id": "7ace5ce3",
   "metadata": {},
   "source": [
    "### Offset\n",
    "\n",
    "The ``offset()`` function takes the polygons of the input geometry, combines them together, and expands/contracts them.\n",
    "The function returns polygons on a single layer and does not respect layers."
   ]
  },
  {
   "cell_type": "code",
   "execution_count": null,
   "id": "d18fce93",
   "metadata": {},
   "outputs": [],
   "source": [
    "import gdsfactory as gf\n",
    "\n",
    "# Create `T`, an ellipse and rectangle which will be offset (expanded / contracted)\n",
    "T = gf.Component(\"ellipse_and_rectangle\")\n",
    "e = T << gf.components.ellipse(radii=(10, 5), layer=(1, 0))\n",
    "r = T << gf.components.rectangle(size=[15, 5], layer=(2, 0))\n",
    "r.move([3, -2.5])\n",
    "\n",
    "Texpanded = gf.geometry.offset(T, distance=2, precision=1e-6, layer=(2, 0))\n",
    "Texpanded.name = \"expanded\"\n",
    "Tshrink = gf.geometry.offset(T, distance=-1.5, precision=1e-6, layer=(2, 0))\n",
    "Tshrink.name = \"shrink\"\n",
    "\n",
    "# Plot the original geometry, the expanded, and the shrunk versions\n",
    "offsets = gf.Component(\"top\")\n",
    "t1 = offsets.add_ref(T)\n",
    "t2 = offsets.add_ref(Texpanded)\n",
    "t3 = offsets.add_ref(Tshrink)\n",
    "offsets.distribute([t1, t2, t3], direction=\"x\", spacing=5)\n",
    "offsets.plot()"
   ]
  },
  {
   "cell_type": "markdown",
   "id": "4cb56e06",
   "metadata": {},
   "source": [
    "`gf.geometry.offset` is also useful for remove acute angle DRC errors.\n",
    "\n",
    "You can do a positive offset to grow the polygons followed by a negative offset."
   ]
  },
  {
   "cell_type": "code",
   "execution_count": null,
   "id": "9840dc75",
   "metadata": {
    "lines_to_next_cell": 2
   },
   "outputs": [],
   "source": [
    "c = gf.Component(\"demo_dataprep\")\n",
    "c1 = gf.components.coupler_ring(cross_section=\"xs_rc2\", radius=20)\n",
    "c1.plot()"
   ]
  },
  {
   "cell_type": "code",
   "execution_count": null,
   "id": "953288d3",
   "metadata": {},
   "outputs": [],
   "source": [
    "d = 0.8\n",
    "c2 = gf.geometry.offset(c1, distance=+d, layer=(3, 0))\n",
    "c3 = gf.geometry.offset(c2, distance=-d, layer=(3, 0))\n",
    "c << c1\n",
    "c << c3\n",
    "c.plot()"
   ]
  },
  {
   "cell_type": "markdown",
   "id": "0fa8cf62",
   "metadata": {},
   "source": [
    "You can also run it as a function over a Component."
   ]
  },
  {
   "cell_type": "code",
   "execution_count": null,
   "id": "6f00bf8f",
   "metadata": {
    "lines_to_next_cell": 2
   },
   "outputs": [],
   "source": [
    "from functools import partial\n",
    "from gdsfactory.geometry.maskprep import get_polygons_over_under, over_under\n",
    "\n",
    "over_under_slab = partial(over_under, layers=((3, 0),), distances=(0.5,))\n",
    "\n",
    "c1 = gf.components.coupler_ring(cross_section=\"xs_rc2\", radius=20)\n",
    "c2 = over_under_slab(c1)\n",
    "c2.plot()"
   ]
  },
  {
   "cell_type": "markdown",
   "id": "8a9e432f",
   "metadata": {},
   "source": [
    "You can also add extra polygons on top"
   ]
  },
  {
   "cell_type": "code",
   "execution_count": null,
   "id": "0cf148ef",
   "metadata": {},
   "outputs": [],
   "source": [
    "get_polygons_over_under_slab = partial(\n",
    "    get_polygons_over_under, layers=[(3, 0)], distances=(0.5,)\n",
    ")\n",
    "ring = gf.components.coupler_ring(cross_section=\"xs_rc2\", radius=20)\n",
    "ring = over_under_slab(ring)\n",
    "\n",
    "c = gf.Component(\"compnent_clean\")\n",
    "ref = c << ring\n",
    "polygons = get_polygons_over_under_slab(ref)\n",
    "c.add(polygons)\n",
    "c.plot()"
   ]
  },
  {
   "cell_type": "markdown",
   "id": "3085e8b3",
   "metadata": {},
   "source": [
    "The `fix_underplot` decorator performs a combination of offset, AND, and NOT to ensure minimum inclusions of shapes:"
   ]
  },
  {
   "cell_type": "code",
   "execution_count": null,
   "id": "54deac1c",
   "metadata": {},
   "outputs": [],
   "source": [
    "from gdsfactory.geometry.maskprep import fix_underplot\n",
    "\n",
    "c1 = gf.Component(\"component_initial\")\n",
    "c1 << gf.components.rectangle(size=(4, 4), layer=\"WG\")\n",
    "c1 << gf.components.rectangle(size=(2, 2), layer=\"SLAB150\")\n",
    "slab = c1 << gf.components.rectangle(size=(2, 2), layer=\"SLAB90\")\n",
    "slab.move((3, 1))\n",
    "c1.plot()"
   ]
  },
  {
   "cell_type": "code",
   "execution_count": null,
   "id": "2a91951b",
   "metadata": {},
   "outputs": [],
   "source": [
    "c2 = gf.Component(\"component_clean\")\n",
    "c2 = fix_underplot(\n",
    "    component=c1,\n",
    "    layers_extended=(\"SLAB150\", \"SLAB90\"),\n",
    "    layer_reference=\"WG\",\n",
    "    distance=0.1,\n",
    ")\n",
    "c2.plot()"
   ]
  },
  {
   "cell_type": "markdown",
   "id": "96212895",
   "metadata": {},
   "source": [
    "### Outline\n",
    "\n",
    "The ``outline()`` function takes the polygons of the input geometry then performs an offset and \"not\" boolean operation to create an outline.  The function returns polygons on a single layer -- it does not respect layers."
   ]
  },
  {
   "cell_type": "code",
   "execution_count": null,
   "id": "0a3aaf5b",
   "metadata": {},
   "outputs": [],
   "source": [
    "import gdsfactory as gf\n",
    "\n",
    "# Create a blank device and add two shapes\n",
    "X = gf.Component(\"outline_demo\")\n",
    "X.add_ref(gf.components.cross(length=25, width=1, layer=(1, 0)))\n",
    "X.add_ref(gf.components.ellipse(radii=[10, 5], layer=(2, 0)))\n",
    "\n",
    "O = gf.geometry.outline(X, distance=1.5, precision=1e-6, layer=(3, 0))\n",
    "\n",
    "# Plot the original geometry and the result\n",
    "c = gf.Component(\"outline_compare\")\n",
    "c.add_ref(X)\n",
    "c.add_ref(O).movex(30)\n",
    "c.plot()"
   ]
  },
  {
   "cell_type": "markdown",
   "id": "73645242",
   "metadata": {},
   "source": [
    "The ``open_ports`` argument opens holes in the outlined geometry at each Port location.\n",
    "\n",
    "- If not False, holes will be cut in the outline such that the Ports are not covered.\n",
    "- If True, the holes will have the same width as the Ports.\n",
    "- If a float, the holes will be widened by that value.\n",
    "- If a float equal to the outline ``distance``, the outline will be flush with the port (useful positive-tone processes)."
   ]
  },
  {
   "cell_type": "code",
   "execution_count": null,
   "id": "0b69c83a",
   "metadata": {},
   "outputs": [],
   "source": [
    "c = gf.components.L(width=7, size=(10, 20), layer=(1, 0))\n",
    "c.plot()"
   ]
  },
  {
   "cell_type": "code",
   "execution_count": null,
   "id": "88ba4ef0",
   "metadata": {},
   "outputs": [],
   "source": [
    "# Outline the geometry and open a hole at each port\n",
    "c = gf.geometry.outline(offsets, distance=5, open_ports=False, layer=(2, 0))  # No holes\n",
    "c.plot()"
   ]
  },
  {
   "cell_type": "code",
   "execution_count": null,
   "id": "691b19ab",
   "metadata": {},
   "outputs": [],
   "source": [
    "c = gf.geometry.outline(\n",
    "    offsets, distance=5, open_ports=True, layer=(2, 0)\n",
    ")  # Hole is the same width as the port\n",
    "c.plot()"
   ]
  },
  {
   "cell_type": "code",
   "execution_count": null,
   "id": "b773310d",
   "metadata": {},
   "outputs": [],
   "source": [
    "c = gf.geometry.outline(\n",
    "    offsets, distance=5, open_ports=10, layer=(2, 0)\n",
    ")  # Change the hole size by entering a float\n",
    "c.plot()"
   ]
  },
  {
   "cell_type": "code",
   "execution_count": null,
   "id": "7f790af0",
   "metadata": {},
   "outputs": [],
   "source": [
    "c = gf.geometry.outline(\n",
    "    offsets, distance=5, open_ports=5, layer=(2, 0)\n",
    ")  # Creates flush opening (open_ports > distance)\n",
    "c.plot()"
   ]
  },
  {
   "cell_type": "markdown",
   "id": "ba5e53bb",
   "metadata": {},
   "source": [
    "### Invert\n",
    "\n",
    "Sometimes you need to define not what you keep (positive resist) but what you etch (negative resist). We have some useful functions to invert the tone.\n",
    "The ``gf.boolean.invert()`` function creates an inverted version of the input geometry.\n",
    "The function creates a rectangle around the geometry (with extra padding of distance ``border``), then subtract all polygons from all layers from that rectangle, resulting in an inverted version of the geometry."
   ]
  },
  {
   "cell_type": "code",
   "execution_count": null,
   "id": "93226fe7",
   "metadata": {},
   "outputs": [],
   "source": [
    "import gdsfactory as gf\n",
    "\n",
    "E = gf.components.ellipse(radii=(10, 5))\n",
    "D = gf.geometry.invert(E, border=0.5, precision=1e-6, layer=(2, 0))\n",
    "D.plot()"
   ]
  },
  {
   "cell_type": "code",
   "execution_count": null,
   "id": "447d8a45",
   "metadata": {},
   "outputs": [],
   "source": [
    "c = gf.components.add_trenches(component=gf.components.coupler)\n",
    "c.plot()"
   ]
  },
  {
   "cell_type": "code",
   "execution_count": null,
   "id": "65479b74",
   "metadata": {},
   "outputs": [],
   "source": [
    "c = gf.components.add_trenches(component=gf.components.ring_single)\n",
    "c.plot()"
   ]
  },
  {
   "cell_type": "markdown",
   "id": "1f6e82eb",
   "metadata": {},
   "source": [
    "### Union\n",
    "\n",
    "The ``union()`` function is a \"join\" function, and is functionally identical to the \"OR\" operation of ``gf.boolean()``.  The one difference is it's able to perform this function layer-wise, so each layer can be individually combined."
   ]
  },
  {
   "cell_type": "code",
   "execution_count": null,
   "id": "91d3a9ec",
   "metadata": {},
   "outputs": [],
   "source": [
    "import gdsfactory as gf\n",
    "\n",
    "D = gf.Component(\"union\")\n",
    "e0 = D << gf.components.ellipse(layer=(1, 0))\n",
    "e1 = D << gf.components.ellipse(layer=(2, 0))\n",
    "e2 = D << gf.components.ellipse(layer=(3, 0))\n",
    "e3 = D << gf.components.ellipse(layer=(4, 0))\n",
    "e4 = D << gf.components.ellipse(layer=(5, 0))\n",
    "e5 = D << gf.components.ellipse(layer=(6, 0))\n",
    "\n",
    "e1.rotate(15 * 1)\n",
    "e2.rotate(15 * 2)\n",
    "e3.rotate(15 * 3)\n",
    "e4.rotate(15 * 4)\n",
    "e5.rotate(15 * 5)\n",
    "\n",
    "D.plot()"
   ]
  },
  {
   "cell_type": "code",
   "execution_count": null,
   "id": "e3a42594",
   "metadata": {},
   "outputs": [],
   "source": [
    "# We have two options to unioning - take all polygons, regardless of\n",
    "# layer, and join them together (in this case on layer (2,0) like so:\n",
    "D_joined = gf.geometry.union(D, by_layer=False, layer=(2, 0))\n",
    "D_joined"
   ]
  },
  {
   "cell_type": "code",
   "execution_count": null,
   "id": "dbac1e11",
   "metadata": {},
   "outputs": [],
   "source": [
    "# Or we can perform the union operate by-layer\n",
    "D_joined_by_layer = gf.geometry.union(D, by_layer=True)\n",
    "D_joined_by_layer"
   ]
  },
  {
   "cell_type": "markdown",
   "id": "4b1b3b3c",
   "metadata": {},
   "source": [
    "### XOR / diff\n",
    "\n",
    "The ``xor_diff()`` function can be used to compare two geometries and identify where they are different.  Specifically, it performs a layer-wise XOR operation.  If two geometries are identical, the result will be an empty Component.  If they are not identical, any areas not shared by the two geometries will remain."
   ]
  },
  {
   "cell_type": "code",
   "execution_count": null,
   "id": "a67eeff9",
   "metadata": {},
   "outputs": [],
   "source": [
    "import gdsfactory as gf\n",
    "\n",
    "A = gf.Component(\"A\")\n",
    "A.add_ref(gf.components.ellipse(radii=[10, 5], layer=(1, 0)))\n",
    "A.add_ref(gf.components.text(\"A\")).move([3, 0])\n",
    "\n",
    "B = gf.Component(\"B\")\n",
    "B.add_ref(gf.components.ellipse(radii=[11, 4], layer=(1, 0))).movex(4)\n",
    "B.add_ref(gf.components.text(\"B\")).move([3.2, 0])\n",
    "X = gf.geometry.xor_diff(A=A, B=B, precision=1e-6)\n",
    "\n",
    "# Plot the original geometry and the result\n",
    "# Upper left: A / Upper right: B\n",
    "# Lower left: A and B / Lower right: A xor B \"diff\" comparison\n",
    "D = gf.Component(\"xor_diff\")\n",
    "D.add_ref(A).move([-15, 25])\n",
    "D.add_ref(B).move([15, 25])\n",
    "D.add_ref(A).movex(-15)\n",
    "D.add_ref(B).movex(-15)\n",
    "D.add_ref(X).movex(15)\n",
    "D.plot()"
   ]
  },
  {
   "cell_type": "markdown",
   "id": "ec2efa9f",
   "metadata": {},
   "source": [
    "## Trim\n",
    "\n",
    "`trim` returns the portion of that component within that domain preserving all layers and (possibly) ports.\n",
    "\n",
    "It's like the opposite of \"add_padding\", and also allows non-rectangular shapes for the padding removal.\n",
    "\n",
    "Useful when resizing an existing component for simulations"
   ]
  },
  {
   "cell_type": "code",
   "execution_count": null,
   "id": "7abd4e4b",
   "metadata": {},
   "outputs": [],
   "source": [
    "c = gf.components.straight_pin(length=10, taper=None)\n",
    "c.plot()"
   ]
  },
  {
   "cell_type": "code",
   "execution_count": null,
   "id": "97e7e2f6",
   "metadata": {},
   "outputs": [],
   "source": [
    "trimmed_c = gf.geometry.trim(component=c, domain=[[0, -5], [0, 5], [5, 5], [5, -5]])\n",
    "trimmed_c.plot()"
   ]
  },
  {
   "cell_type": "markdown",
   "id": "fde0beb5",
   "metadata": {},
   "source": [
    "## Importing GDS files"
   ]
  },
  {
   "cell_type": "markdown",
   "id": "5f6448c2",
   "metadata": {},
   "source": [
    "`gf.import_gds()` allows you to easily import external GDSII files.  It imports a single cell from the external GDS file and converts it into a gdsfactory component."
   ]
  },
  {
   "cell_type": "code",
   "execution_count": null,
   "id": "abecf360",
   "metadata": {},
   "outputs": [],
   "source": [
    "D = gf.components.ellipse()\n",
    "D.write_gds(\"myoutput.gds\")\n",
    "D2 = gf.import_gds(gdspath=\"myoutput.gds\", cellname=None, flatten=False)\n",
    "D2.plot()"
   ]
  },
  {
   "cell_type": "markdown",
   "id": "fbdcb8f9",
   "metadata": {},
   "source": [
    "## Copying and extracting geometry"
   ]
  },
  {
   "cell_type": "code",
   "execution_count": null,
   "id": "7cafb1b4",
   "metadata": {},
   "outputs": [],
   "source": [
    "E = gf.Component()\n",
    "E.add_ref(gf.components.ellipse(layer=(1, 0)))\n",
    "D = E.extract(layers=[(1, 0)])\n",
    "D.plot()"
   ]
  },
  {
   "cell_type": "code",
   "execution_count": null,
   "id": "6f5db460",
   "metadata": {},
   "outputs": [],
   "source": [
    "import gdsfactory as gf\n",
    "\n",
    "X = gf.components.ellipse(layer=(2, 0))\n",
    "c = X.copy()\n",
    "c.plot()"
   ]
  },
  {
   "cell_type": "code",
   "execution_count": null,
   "id": "ce6a7a4b",
   "metadata": {},
   "outputs": [],
   "source": [
    "c_copied_layers = gf.components.copy_layers(\n",
    "    gf.components.straight, layers=((1, 0), (2, 0))\n",
    ")\n",
    "c_copied_layers.plot()"
   ]
  },
  {
   "cell_type": "markdown",
   "id": "327d69ac",
   "metadata": {},
   "source": [
    "## Import Images into GDS\n",
    "\n",
    "You can import your logo into GDS using the conversion from numpy arrays."
   ]
  },
  {
   "cell_type": "code",
   "execution_count": null,
   "id": "d0212bd6",
   "metadata": {},
   "outputs": [],
   "source": [
    "from gdsfactory.config import PATH\n",
    "from gdsfactory.read.from_np import from_image\n",
    "import gdsfactory as gf\n",
    "\n",
    "c = from_image(\n",
    "    PATH.module / \"samples\" / \"images\" / \"logo.png\", nm_per_pixel=500, invert=False\n",
    ")\n",
    "c.plot()"
   ]
  },
  {
   "cell_type": "code",
   "execution_count": null,
   "id": "124771bc",
   "metadata": {},
   "outputs": [],
   "source": [
    "c = from_image(\n",
    "    PATH.module / \"samples\" / \"images\" / \"logo.png\", nm_per_pixel=500, invert=True\n",
    ")\n",
    "c.plot()"
   ]
  },
  {
   "cell_type": "markdown",
   "id": "8d9d6911",
   "metadata": {},
   "source": [
    "## Dummy Fill / Tiling\n",
    "\n",
    "To keep constant density in some layers you can add dummy fill rectangles."
   ]
  },
  {
   "cell_type": "code",
   "execution_count": null,
   "id": "eb0b6645",
   "metadata": {},
   "outputs": [],
   "source": [
    "coupler_lengths = [10, 20, 30, 40, 50, 60, 70, 80]\n",
    "coupler_gaps = [0.1, 0.2, 0.3, 0.4, 0.5, 0.6, 0.7, 0.8]\n",
    "delta_lengths = [10, 100, 200, 300, 400, 500, 500]\n",
    "\n",
    "mzi = gf.components.mzi_lattice(\n",
    "    coupler_lengths=coupler_lengths,\n",
    "    coupler_gaps=coupler_gaps,\n",
    "    delta_lengths=delta_lengths,\n",
    ")\n",
    "\n",
    "# Add fill\n",
    "c = gf.Component(\"component_with_fill\")\n",
    "layers = [(1, 0)]\n",
    "fill_size = [0.5, 0.5]\n",
    "\n",
    "c << gf.fill_rectangle(\n",
    "    mzi,\n",
    "    fill_size=fill_size,\n",
    "    fill_layers=layers,\n",
    "    margin=5,\n",
    "    fill_densities=[0.8] * len(layers),\n",
    "    avoid_layers=layers,\n",
    ")\n",
    "\n",
    "c << mzi\n",
    "c.plot()"
   ]
  },
  {
   "cell_type": "markdown",
   "id": "8cff340a",
   "metadata": {},
   "source": [
    "For large fill regions you can use klayout.\n",
    "\n",
    "### Custom fill cell\n",
    "\n",
    "You can use a custom cell as a fill."
   ]
  },
  {
   "cell_type": "code",
   "execution_count": null,
   "id": "14df2ef2",
   "metadata": {},
   "outputs": [],
   "source": [
    "import gdsfactory as gf\n",
    "from gdsfactory.geometry.fill_klayout import fill\n",
    "\n",
    "\n",
    "@gf.cell\n",
    "def cell_with_pad():\n",
    "    c = gf.Component()\n",
    "    c << gf.components.mzi(decorator=gf.add_padding)\n",
    "    pad = c << gf.components.pad(size=(2, 2))\n",
    "    pad.movey(10)\n",
    "    return c\n",
    "\n",
    "\n",
    "c = cell_with_pad()\n",
    "gdspath = c.write_gds(\"mzi_fill.gds\")\n",
    "c.plot()"
   ]
  },
  {
   "cell_type": "code",
   "execution_count": null,
   "id": "7c8443a6",
   "metadata": {},
   "outputs": [],
   "source": [
    "spacing = 20\n",
    "fill(\n",
    "    gdspath,\n",
    "    fill_layers=(\"WG\",),\n",
    "    layer_to_fill=(67, 0),\n",
    "    layers_to_avoid=(((1, 0), 0), ((49, 0), 0)),\n",
    "    fill_cell_name=\"pad_size2__2\",\n",
    "    create_new_fill_cell=False,\n",
    "    fill_spacing=(spacing, spacing),\n",
    "    fill_size=(1, 1),\n",
    "    include_original=True,\n",
    "    layer_to_fill_margin=25,\n",
    ")\n",
    "\n",
    "c_fill = gf.import_gds(gdspath)\n",
    "c_fill.plot()"
   ]
  },
  {
   "cell_type": "markdown",
   "id": "61e44602",
   "metadata": {},
   "source": [
    "### Tiling processor\n",
    "\n",
    "For big layouts you can should use klayout tiling processor."
   ]
  },
  {
   "cell_type": "code",
   "execution_count": null,
   "id": "26fd1936",
   "metadata": {},
   "outputs": [],
   "source": [
    "import kfactory as kf\n",
    "\n",
    "import gdsfactory as gf\n",
    "from kfactory.utils.fill import fill_tiled\n",
    "\n",
    "c = kf.KCell(\"ToFill\")\n",
    "c.shapes(kf.kcl.layer(1, 0)).insert(\n",
    "    kf.kdb.DPolygon.ellipse(kf.kdb.DBox(5000, 3000), 512)\n",
    ")\n",
    "c.shapes(kf.kcl.layer(10, 0)).insert(\n",
    "    kf.kdb.DPolygon(\n",
    "        [kf.kdb.DPoint(0, 0), kf.kdb.DPoint(5000, 0), kf.kdb.DPoint(5000, 3000)]\n",
    "    )\n",
    ")\n",
    "\n",
    "fc = kf.KCell(\"fill\")\n",
    "fc.shapes(fc.kcl.layer(2, 0)).insert(kf.kdb.DBox(20, 40))\n",
    "fc.shapes(fc.kcl.layer(3, 0)).insert(kf.kdb.DBox(30, 15))\n",
    "\n",
    "# fill.fill_tiled(c, fc, [(kf.kcl.layer(1,0), 0)], exclude_layers = [(kf.kcl.layer(10,0), 100), (kf.kcl.layer(2,0), 0), (kf.kcl.layer(3,0),0)], x_space=5, y_space=5)\n",
    "fill_tiled(\n",
    "    c,\n",
    "    fc,\n",
    "    [(kf.kcl.layer(1, 0), 0)],\n",
    "    exclude_layers=[\n",
    "        (kf.kcl.layer(10, 0), 100),\n",
    "        (kf.kcl.layer(2, 0), 0),\n",
    "        (kf.kcl.layer(3, 0), 0),\n",
    "    ],\n",
    "    x_space=5,\n",
    "    y_space=5,\n",
    ")\n",
    "\n",
    "gdspath = \"mzi_fill.gds\"\n",
    "c.write(gdspath)\n",
    "c = gf.import_gds(gdspath)\n",
    "c.plot()"
   ]
  },
  {
   "cell_type": "code",
   "execution_count": null,
   "id": "25ae2b69",
   "metadata": {
    "lines_to_next_cell": 0
   },
   "outputs": [],
   "source": []
  },
  {
   "cell_type": "markdown",
   "id": "924f499d",
   "metadata": {},
   "source": [
    "---\n",
    "jupyter:\n",
    "  jupytext:\n",
    "    cell_metadata_filter: -all\n",
    "    custom_cell_magics: kql\n",
    "    text_representation:\n",
    "      extension: .md\n",
    "      format_name: markdown\n",
    "      format_version: '1.3'\n",
    "      jupytext_version: 1.15.2\n",
    "  kernelspec:\n",
    "    display_name: base\n",
    "    language: python\n",
    "    name: python3\n",
    "---\n",
    "\n",
    "# Components with hierarchy\n",
    "\n",
    "![](https://i.imgur.com/3pczkyM.png)\n",
    "\n",
    "You can define component parametric cells (waveguides, bends, couplers) as functions with basic input parameters (width, length, radius ...) and use them as arguments for composing more complex functions."
   ]
  },
  {
   "cell_type": "code",
   "execution_count": null,
   "id": "982535f0",
   "metadata": {
    "lines_to_next_cell": 2
   },
   "outputs": [],
   "source": [
    "from functools import partial\n",
    "\n",
    "import toolz\n",
    "import gdsfactory as gf\n",
    "from gdsfactory.typings import ComponentSpec, CrossSectionSpec"
   ]
  },
  {
   "cell_type": "markdown",
   "id": "3293f9e0",
   "metadata": {},
   "source": [
    "**Problem**\n",
    "\n",
    "When using hierarchical cells where you pass `N` subcells with `M` parameters you can end up with `N*M` parameters. This is make code hard to read.\n",
    "\n"
   ]
  },
  {
   "cell_type": "code",
   "execution_count": null,
   "id": "7317c408",
   "metadata": {
    "lines_to_next_cell": 2
   },
   "outputs": [],
   "source": [
    "@gf.cell\n",
    "def bend_with_straight_with_too_many_input_parameters(\n",
    "    bend=gf.components.bend_euler,\n",
    "    straight=gf.components.straight,\n",
    "    length: float = 3,\n",
    "    angle: float = 90.0,\n",
    "    p: float = 0.5,\n",
    "    with_arc_floorplan: bool = True,\n",
    "    npoints: int | None = None,\n",
    "    direction: str = \"ccw\",\n",
    "    cross_section: CrossSectionSpec = \"xs_sc\",\n",
    ") -> gf.Component:\n",
    "    \"\"\"As hierarchical cells become more complex, the number of input parameters can increase significantly.\"\"\"\n",
    "    c = gf.Component()\n",
    "    b = bend(\n",
    "        angle=angle,\n",
    "        p=p,\n",
    "        with_arc_floorplan=with_arc_floorplan,\n",
    "        npoints=npoints,\n",
    "        direction=direction,\n",
    "        cross_section=cross_section,\n",
    "    )\n",
    "    s = straight(length=length, cross_section=cross_section)\n",
    "\n",
    "    bref = c << b\n",
    "    sref = c << s\n",
    "\n",
    "    sref.connect(\"o2\", bref.ports[\"o2\"])\n",
    "    c.info[\"length\"] = b.info[\"length\"] + s.info[\"length\"]\n",
    "    return c\n",
    "\n",
    "\n",
    "c = bend_with_straight_with_too_many_input_parameters()\n",
    "c.plot()"
   ]
  },
  {
   "cell_type": "markdown",
   "id": "be1050fc",
   "metadata": {},
   "source": [
    "**Solution**\n",
    "\n",
    "You can use a ComponentSpec parameter for every subcell. The ComponentSpec can be a dictionary with arbitrary number of settings, a string, or a function.\n",
    "\n",
    "## ComponentSpec\n",
    "\n",
    "When defining a `Parametric cell` you can use other `ComponentSpec` as an arguments. It can be a:\n",
    "\n",
    "1. string: function name of a cell registered on the active PDK. `\"bend_circular\"`\n",
    "2. dict: `dict(component='bend_circular', settings=dict(radius=20))`\n",
    "3. function: Using `functools.partial` you can customize the default parameters of a function.\n",
    "\n"
   ]
  },
  {
   "cell_type": "code",
   "execution_count": null,
   "id": "59c4f6cc",
   "metadata": {},
   "outputs": [],
   "source": [
    "@gf.cell\n",
    "def bend_with_straight(\n",
    "    bend: ComponentSpec = gf.components.bend_euler,\n",
    "    straight: ComponentSpec = gf.components.straight,\n",
    ") -> gf.Component:\n",
    "    \"\"\"Much simpler version.\n",
    "\n",
    "    Args:\n",
    "        bend: input bend.\n",
    "        straight: output straight.\n",
    "    \"\"\"\n",
    "    c = gf.Component()\n",
    "    b = gf.get_component(bend)\n",
    "    s = gf.get_component(straight)\n",
    "\n",
    "    bref = c << b\n",
    "    sref = c << s\n",
    "\n",
    "    sref.connect(\"o2\", bref.ports[\"o2\"])\n",
    "    c.info[\"length\"] = b.info[\"length\"] + s.info[\"length\"]\n",
    "    return c\n",
    "\n",
    "\n",
    "c = bend_with_straight()\n",
    "c.plot()"
   ]
  },
  {
   "cell_type": "markdown",
   "id": "f4908c75",
   "metadata": {},
   "source": [
    "### 1. string\n",
    "\n",
    "You can use any string registered in the `Pdk`. Go to the PDK tutorial to learn how to register cells in a PDK."
   ]
  },
  {
   "cell_type": "code",
   "execution_count": null,
   "id": "af91aba1",
   "metadata": {},
   "outputs": [],
   "source": [
    "c = bend_with_straight(bend=\"bend_circular\")\n",
    "c.plot()"
   ]
  },
  {
   "cell_type": "markdown",
   "id": "ae21bb51",
   "metadata": {},
   "source": [
    "### 2. dict\n",
    "\n",
    "You can pass a dict of settings."
   ]
  },
  {
   "cell_type": "code",
   "execution_count": null,
   "id": "e4c9fe72",
   "metadata": {},
   "outputs": [],
   "source": [
    "c = bend_with_straight(bend=dict(component=\"bend_circular\", settings=dict(radius=20)))\n",
    "c.plot()"
   ]
  },
  {
   "cell_type": "markdown",
   "id": "bdf56dd7",
   "metadata": {},
   "source": [
    "### 3. function\n",
    "\n",
    "You can pass a function of a function with customized default input parameters `from functools import partial`\n",
    "\n",
    "Partial lets you define different default parameters for a function, so you can modify the default settings for each child cell."
   ]
  },
  {
   "cell_type": "code",
   "execution_count": null,
   "id": "be0b8ba0",
   "metadata": {},
   "outputs": [],
   "source": [
    "c = bend_with_straight(bend=partial(gf.components.bend_circular, radius=30))\n",
    "c.plot()"
   ]
  },
  {
   "cell_type": "code",
   "execution_count": null,
   "id": "e3ce4db9",
   "metadata": {},
   "outputs": [],
   "source": [
    "bend20 = partial(gf.components.bend_circular, radius=20)\n",
    "b = bend20()\n",
    "b.plot()"
   ]
  },
  {
   "cell_type": "code",
   "execution_count": null,
   "id": "19942499",
   "metadata": {},
   "outputs": [],
   "source": [
    "type(bend20)"
   ]
  },
  {
   "cell_type": "code",
   "execution_count": null,
   "id": "f3c1abf6",
   "metadata": {},
   "outputs": [],
   "source": [
    "bend20.func.__name__"
   ]
  },
  {
   "cell_type": "code",
   "execution_count": null,
   "id": "64fc9a95",
   "metadata": {},
   "outputs": [],
   "source": [
    "bend20.keywords"
   ]
  },
  {
   "cell_type": "code",
   "execution_count": null,
   "id": "03576a40",
   "metadata": {},
   "outputs": [],
   "source": [
    "b = bend_with_straight(bend=bend20)\n",
    "print(b.info.length)\n",
    "b.plot()"
   ]
  },
  {
   "cell_type": "code",
   "execution_count": null,
   "id": "7617457e",
   "metadata": {},
   "outputs": [],
   "source": [
    "# You can still modify the bend to have any bend radius\n",
    "b3 = bend20(radius=10)\n",
    "b3.plot()"
   ]
  },
  {
   "cell_type": "markdown",
   "id": "7a52a0b3",
   "metadata": {},
   "source": [
    "## Composing functions\n",
    "\n",
    "You can combine more complex functions out of smaller functions.\n",
    "\n",
    "Lets say that we want to add tapers and grating couplers to a wide waveguide."
   ]
  },
  {
   "cell_type": "code",
   "execution_count": null,
   "id": "0cd6d127",
   "metadata": {},
   "outputs": [],
   "source": [
    "c1 = gf.components.straight()\n",
    "c1.plot()"
   ]
  },
  {
   "cell_type": "code",
   "execution_count": null,
   "id": "d25bb874",
   "metadata": {},
   "outputs": [],
   "source": [
    "straight_wide = partial(gf.components.straight, width=3)\n",
    "c3 = straight_wide()\n",
    "c3.plot()"
   ]
  },
  {
   "cell_type": "code",
   "execution_count": null,
   "id": "a807d027",
   "metadata": {},
   "outputs": [],
   "source": [
    "c1 = gf.components.straight(width=3)\n",
    "c1.plot()"
   ]
  },
  {
   "cell_type": "code",
   "execution_count": null,
   "id": "15c85906",
   "metadata": {},
   "outputs": [],
   "source": [
    "c2 = gf.add_tapers(c1)\n",
    "c2.plot()"
   ]
  },
  {
   "cell_type": "code",
   "execution_count": null,
   "id": "754c0b70",
   "metadata": {},
   "outputs": [],
   "source": [
    "c2.settings"
   ]
  },
  {
   "cell_type": "code",
   "execution_count": null,
   "id": "15e25f48",
   "metadata": {},
   "outputs": [],
   "source": [
    "c2.settings.component"
   ]
  },
  {
   "cell_type": "code",
   "execution_count": null,
   "id": "85d55107",
   "metadata": {},
   "outputs": [],
   "source": [
    "c2.info"
   ]
  },
  {
   "cell_type": "code",
   "execution_count": null,
   "id": "1f68c385",
   "metadata": {},
   "outputs": [],
   "source": [
    "c3 = gf.routing.add_fiber_array(c2, with_loopback=False)\n",
    "c3.plot()"
   ]
  },
  {
   "cell_type": "markdown",
   "id": "6d10847a",
   "metadata": {},
   "source": [
    "Lets do it with a **single** step thanks to `toolz.pipe`"
   ]
  },
  {
   "cell_type": "code",
   "execution_count": null,
   "id": "e2cbe4ff",
   "metadata": {},
   "outputs": [],
   "source": [
    "add_fiber_array = partial(gf.routing.add_fiber_array, with_loopback=False)\n",
    "add_tapers = gf.add_tapers\n",
    "\n",
    "# pipe is more readable than the equivalent add_fiber_array(add_tapers(c1))\n",
    "c3 = toolz.pipe(c1, add_tapers, add_fiber_array)\n",
    "c3.plot()"
   ]
  },
  {
   "cell_type": "markdown",
   "id": "3d84ce98",
   "metadata": {},
   "source": [
    "we can even combine `add_tapers` and `add_fiber_array` thanks to `toolz.compose` or `toolz.compose`\n",
    "\n",
    "For example:"
   ]
  },
  {
   "cell_type": "code",
   "execution_count": null,
   "id": "c98bb82a",
   "metadata": {},
   "outputs": [],
   "source": [
    "add_tapers_fiber_array = toolz.compose_left(add_tapers, add_fiber_array)\n",
    "c4 = add_tapers_fiber_array(c1)\n",
    "c4.plot()"
   ]
  },
  {
   "cell_type": "markdown",
   "id": "068a03b2",
   "metadata": {},
   "source": [
    "is equivalent to"
   ]
  },
  {
   "cell_type": "code",
   "execution_count": null,
   "id": "c0630c4b",
   "metadata": {},
   "outputs": [],
   "source": [
    "c5 = add_fiber_array(add_tapers(c1))\n",
    "c5.plot()"
   ]
  },
  {
   "cell_type": "markdown",
   "id": "525cc28e",
   "metadata": {},
   "source": [
    "as well as equivalent to"
   ]
  },
  {
   "cell_type": "code",
   "execution_count": null,
   "id": "60f90787",
   "metadata": {},
   "outputs": [],
   "source": [
    "add_tapers_fiber_array = toolz.compose(add_fiber_array, add_tapers)\n",
    "c6 = add_tapers_fiber_array(c1)\n",
    "c6.plot()"
   ]
  },
  {
   "cell_type": "markdown",
   "id": "fbe9e852",
   "metadata": {},
   "source": [
    "or"
   ]
  },
  {
   "cell_type": "code",
   "execution_count": null,
   "id": "c9510fcc",
   "metadata": {},
   "outputs": [],
   "source": [
    "c7 = toolz.pipe(c1, add_tapers, add_fiber_array)\n",
    "c7.plot()"
   ]
  },
  {
   "cell_type": "code",
   "execution_count": null,
   "id": "69ba671e",
   "metadata": {
    "lines_to_next_cell": 0
   },
   "outputs": [],
   "source": []
  },
  {
   "cell_type": "markdown",
   "id": "90dfbb23",
   "metadata": {},
   "source": [
    "---\n",
    "jupyter:\n",
    "  jupytext:\n",
    "    cell_metadata_filter: -all\n",
    "    custom_cell_magics: kql\n",
    "    text_representation:\n",
    "      extension: .md\n",
    "      format_name: markdown\n",
    "      format_version: '1.3'\n",
    "      jupytext_version: 1.15.2\n",
    "  kernelspec:\n",
    "    display_name: base\n",
    "    language: python\n",
    "    name: python3\n",
    "---\n",
    "\n",
    "# Grid / pack / align / distribute"
   ]
  },
  {
   "cell_type": "markdown",
   "id": "8787df1e",
   "metadata": {},
   "source": [
    "## Grid\n",
    "\n",
    "\n",
    "The ``gf.components.grid()`` function can take a list (or 2D array) of objects and arrange them along a grid. This is often useful for making parameter sweeps.   If the `separation` argument is true, grid is arranged such that the elements are guaranteed not to touch, with a `spacing` distance between them.  If `separation` is false, elements are spaced evenly along a grid. The `align_x`/`align_y` arguments specify intra-row/intra-column alignment.  The `edge_x`/`edge_y` arguments specify inter-row/inter-column alignment (unused if `separation = True`)."
   ]
  },
  {
   "cell_type": "code",
   "execution_count": null,
   "id": "d4d8f623",
   "metadata": {},
   "outputs": [],
   "source": [
    "import gdsfactory as gf\n",
    "\n",
    "components_list = []\n",
    "for width1 in [1, 6, 9]:\n",
    "    for width2 in [1, 2, 4, 8]:\n",
    "        D = gf.components.taper(length=10, width1=width1, width2=width2, layer=(1, 0))\n",
    "        components_list.append(D)\n",
    "\n",
    "c = gf.grid(\n",
    "    components_list,\n",
    "    spacing=(5, 1),\n",
    "    separation=True,\n",
    "    shape=(3, 4),\n",
    "    align_x=\"x\",\n",
    "    align_y=\"y\",\n",
    "    edge_x=\"x\",\n",
    "    edge_y=\"ymax\",\n",
    ")\n",
    "c.plot()"
   ]
  },
  {
   "cell_type": "markdown",
   "id": "ab70953e",
   "metadata": {},
   "source": [
    "## Pack\n",
    "\n",
    "\n",
    "The ``gf.pack()`` function packs geometries together into rectangular bins. If a ``max_size`` is specified, the function will create as many bins as is necessary to pack all the geometries and then return a list of the filled-bin Components.\n",
    "\n",
    "Here we generate several random shapes then pack them together automatically. We allow the bin to be as large as needed to fit all the Components by specifying ``max_size = (None, None)``.  By setting ``aspect_ratio = (2,1)``, we specify the rectangular bin it tries to pack them into should be twice as wide as it is tall:"
   ]
  },
  {
   "cell_type": "code",
   "execution_count": null,
   "id": "d6707286",
   "metadata": {},
   "outputs": [],
   "source": [
    "import numpy as np\n",
    "\n",
    "import gdsfactory as gf\n",
    "\n",
    "np.random.seed(5)\n",
    "D_list = [gf.components.rectangle(size=(i, i)) for i in range(1, 10)]\n",
    "\n",
    "D_packed_list = gf.pack(\n",
    "    D_list,  # Must be a list or tuple of Components\n",
    "    spacing=1.25,  # Minimum distance between adjacent shapes\n",
    "    aspect_ratio=(2, 1),  # (width, height) ratio of the rectangular bin\n",
    "    max_size=(None, None),  # Limits the size into which the shapes will be packed\n",
    "    density=1.05,  # Values closer to 1 pack tighter but require more computation\n",
    "    sort_by_area=True,  # Pre-sorts the shapes by area\n",
    ")\n",
    "D = D_packed_list[0]  # Only one bin was created, so we plot that\n",
    "D.plot()"
   ]
  },
  {
   "cell_type": "markdown",
   "id": "885438b2",
   "metadata": {},
   "source": [
    "Say we need to pack many shapes into multiple 500x500 unit die. If we set ``max_size = (500,500)`` the shapes will be packed into as many 500x500 unit die as required to fit them all:"
   ]
  },
  {
   "cell_type": "code",
   "execution_count": null,
   "id": "95bc2ce1",
   "metadata": {},
   "outputs": [],
   "source": [
    "np.random.seed(1)\n",
    "D_list = [\n",
    "    gf.components.ellipse(radii=tuple(np.random.rand(2) * n + 2)) for n in range(120)\n",
    "]\n",
    "D_packed_list = gf.pack(\n",
    "    D_list,  # Must be a list or tuple of Components\n",
    "    spacing=4,  # Minimum distance between adjacent shapes\n",
    "    aspect_ratio=(1, 1),  # Shape of the box\n",
    "    max_size=(500, 500),  # Limits the size into which the shapes will be packed\n",
    "    density=1.05,  # Values closer to 1 pack tighter but require more computation\n",
    "    sort_by_area=True,  # Pre-sorts the shapes by area\n",
    ")\n",
    "\n",
    "# Put all packed bins into a single device and spread them out with distribute()\n",
    "F = gf.Component(\"packed\")\n",
    "[F.add_ref(D) for D in D_packed_list]\n",
    "F.distribute(elements=\"all\", direction=\"x\", spacing=100, separation=True)\n",
    "F.plot()"
   ]
  },
  {
   "cell_type": "markdown",
   "id": "80aaf3cd",
   "metadata": {},
   "source": [
    "Note that the packing problem is an NP-complete problem, so ``gf.components.packer()`` may be slow if there are more than a few hundred Components to pack (in that case, try pre-packing a few dozen at a time then packing the resulting bins). Requires the ``rectpack`` python package."
   ]
  },
  {
   "cell_type": "markdown",
   "id": "90080c03",
   "metadata": {
    "lines_to_next_cell": 2
   },
   "source": [
    "## Distribute\n",
    "\n",
    "\n",
    "The ``distribute()`` function allows you to space out elements within a Component evenly in the x or y direction.  It is meant to duplicate the distribute functionality present in Inkscape / Adobe Illustrator:"
   ]
  },
  {
   "cell_type": "markdown",
   "id": "7329f8cf",
   "metadata": {},
   "source": [
    "![](https://i.imgur.com/dC74M8x.png)"
   ]
  },
  {
   "cell_type": "markdown",
   "id": "a7a2fc4b",
   "metadata": {},
   "source": [
    "Say we start out with a few random-sized rectangles we want to space out:"
   ]
  },
  {
   "cell_type": "code",
   "execution_count": null,
   "id": "996c689a",
   "metadata": {},
   "outputs": [],
   "source": [
    "c = gf.Component(\"rectangles\")\n",
    "# Create different-sized rectangles and add them to D\n",
    "[\n",
    "    c.add_ref(\n",
    "        gf.components.rectangle(size=[n * 15 + 20, n * 15 + 20], layer=(2, 0))\n",
    "    ).move([n, n * 4])\n",
    "    for n in [0, 2, 3, 1, 2]\n",
    "]\n",
    "c.plot()"
   ]
  },
  {
   "cell_type": "markdown",
   "id": "00f999de",
   "metadata": {},
   "source": [
    "Oftentimes, we want to guarantee some distance between the objects.  By setting ``separation = True`` we move each object such that there is ``spacing`` distance between them:"
   ]
  },
  {
   "cell_type": "code",
   "execution_count": null,
   "id": "9c213f6d",
   "metadata": {},
   "outputs": [],
   "source": [
    "D = gf.Component(\"rectangles_separated\")\n",
    "# Create different-sized rectangles and add them to D\n",
    "[\n",
    "    D.add_ref(gf.components.rectangle(size=[n * 15 + 20, n * 15 + 20])).move((n, n * 4))\n",
    "    for n in [0, 2, 3, 1, 2]\n",
    "]\n",
    "# Distribute all the rectangles in D along the x-direction with a separation of 5\n",
    "D.distribute(\n",
    "    elements=\"all\",  # either 'all' or a list of objects\n",
    "    direction=\"x\",  # 'x' or 'y'\n",
    "    spacing=5,\n",
    "    separation=True,\n",
    ")\n",
    "D.plot()"
   ]
  },
  {
   "cell_type": "markdown",
   "id": "ddfc1eec",
   "metadata": {},
   "source": [
    "Alternatively, we can spread them out on a fixed grid by setting ``separation = False``. Here we align the left edge (``edge = 'min'``) of each object along a grid spacing of 100:"
   ]
  },
  {
   "cell_type": "code",
   "execution_count": null,
   "id": "00b41ada",
   "metadata": {},
   "outputs": [],
   "source": [
    "D = gf.Component(\"spacing100\")\n",
    "[\n",
    "    D.add_ref(gf.components.rectangle(size=[n * 15 + 20, n * 15 + 20])).move((n, n * 4))\n",
    "    for n in [0, 2, 3, 1, 2]\n",
    "]\n",
    "D.distribute(\n",
    "    elements=\"all\", direction=\"x\", spacing=100, separation=False, edge=\"xmin\"\n",
    ")  # edge must be either 'xmin' (left), 'xmax' (right), or 'x' (center)\n",
    "D.plot()"
   ]
  },
  {
   "cell_type": "markdown",
   "id": "83b31f2c",
   "metadata": {},
   "source": [
    "The alignment can be done along the right edge as well by setting ``edge = 'max'``, or along the center by setting ``edge = 'center'`` like in the following:"
   ]
  },
  {
   "cell_type": "code",
   "execution_count": null,
   "id": "9b792731",
   "metadata": {},
   "outputs": [],
   "source": [
    "D = gf.Component(\"alignment\")\n",
    "[\n",
    "    D.add_ref(gf.components.rectangle(size=[n * 15 + 20, n * 15 + 20])).move(\n",
    "        (n - 10, n * 4)\n",
    "    )\n",
    "    for n in [0, 2, 3, 1, 2]\n",
    "]\n",
    "D.distribute(\n",
    "    elements=\"all\", direction=\"x\", spacing=100, separation=False, edge=\"x\"\n",
    ")  # edge must be either 'xmin' (left), 'xmax' (right), or 'x' (center)\n",
    "D.plot()"
   ]
  },
  {
   "cell_type": "markdown",
   "id": "34089250",
   "metadata": {},
   "source": [
    "## Align\n",
    "\n",
    "\n",
    "The ``align()`` function allows you to elements within a Component horizontally or vertically.  It is meant to duplicate the alignment functionality present in Inkscape / Adobe Illustrator:"
   ]
  },
  {
   "cell_type": "markdown",
   "id": "42151276",
   "metadata": {},
   "source": [
    "![](https://i.imgur.com/rqzunXM.png)"
   ]
  },
  {
   "cell_type": "markdown",
   "id": "85652e04",
   "metadata": {},
   "source": [
    "Say we ``distribute()`` a few objects, but they're all misaligned:"
   ]
  },
  {
   "cell_type": "code",
   "execution_count": null,
   "id": "f679283d",
   "metadata": {},
   "outputs": [],
   "source": [
    "D = gf.Component(\"distribute\")\n",
    "# Create different-sized rectangles and add them to D then distribute them\n",
    "[\n",
    "    D.add_ref(gf.components.rectangle(size=[n * 15 + 20, n * 15 + 20])).move((n, n * 4))\n",
    "    for n in [0, 2, 3, 1, 2]\n",
    "]\n",
    "D.distribute(elements=\"all\", direction=\"x\", spacing=5, separation=True)\n",
    "D.plot()"
   ]
  },
  {
   "cell_type": "markdown",
   "id": "a8f54a0c",
   "metadata": {},
   "source": [
    "we can use the ``align()`` function to align their top edges (``alignment = 'ymax'):"
   ]
  },
  {
   "cell_type": "code",
   "execution_count": null,
   "id": "a25ece74",
   "metadata": {},
   "outputs": [],
   "source": [
    "D = gf.Component(\"align\")\n",
    "# Create different-sized rectangles and add them to D then distribute them\n",
    "[\n",
    "    D.add_ref(gf.components.rectangle(size=[n * 15 + 20, n * 15 + 20])).move((n, n * 4))\n",
    "    for n in [0, 2, 3, 1, 2]\n",
    "]\n",
    "D.distribute(elements=\"all\", direction=\"x\", spacing=5, separation=True)\n",
    "\n",
    "# Align top edges\n",
    "D.align(elements=\"all\", alignment=\"ymax\")\n",
    "D.plot()"
   ]
  },
  {
   "cell_type": "markdown",
   "id": "620be855",
   "metadata": {},
   "source": [
    "or align their centers (``alignment = 'y'):"
   ]
  },
  {
   "cell_type": "code",
   "execution_count": null,
   "id": "75e4477d",
   "metadata": {},
   "outputs": [],
   "source": [
    "D = gf.Component(\"distribute_align_y\")\n",
    "# Create different-sized rectangles and add them to D then distribute them\n",
    "[\n",
    "    D.add_ref(gf.components.rectangle(size=[n * 15 + 20, n * 15 + 20])).move((n, n * 4))\n",
    "    for n in [0, 2, 3, 1, 2]\n",
    "]\n",
    "D.distribute(elements=\"all\", direction=\"x\", spacing=5, separation=True)\n",
    "\n",
    "# Align top edges\n",
    "D.align(elements=\"all\", alignment=\"y\")\n",
    "D.plot()"
   ]
  },
  {
   "cell_type": "markdown",
   "id": "92c07b0e",
   "metadata": {},
   "source": [
    "other valid alignment options include ``'xmin', 'x', 'xmax', 'ymin', 'y', and 'ymax'``\n",
    "# Shapes and generic cells\n",
    "\n",
    "gdsfactory provides some generic parametric cells in `gf.components` that you can customize for your application."
   ]
  },
  {
   "cell_type": "markdown",
   "id": "c5d1280c",
   "metadata": {},
   "source": [
    "## Basic shapes"
   ]
  },
  {
   "cell_type": "markdown",
   "id": "7fbe4796",
   "metadata": {},
   "source": [
    "### Rectangle\n",
    "\n",
    "To create a simple rectangle, there are two functions:\n",
    "\n",
    "``gf.components.rectangle()`` can create a basic rectangle:"
   ]
  },
  {
   "cell_type": "code",
   "execution_count": null,
   "id": "08e4c247",
   "metadata": {},
   "outputs": [],
   "source": [
    "import gdsfactory as gf\n",
    "from gdsfactory.generic_tech import get_generic_pdk\n",
    "\n",
    "gf.config.rich_output()\n",
    "\n",
    "PDK = get_generic_pdk()\n",
    "PDK.activate()\n",
    "\n",
    "r1 = gf.components.rectangle(size=(4.5, 2), layer=(1, 0))\n",
    "r1.plot()"
   ]
  },
  {
   "cell_type": "markdown",
   "id": "7364f4dc",
   "metadata": {},
   "source": [
    "``gf.components.bbox()`` can also create a rectangle based on a bounding box.\n",
    "This is useful if you want to create a rectangle which exactly surrounds a piece of existing geometry.\n",
    "For example, if we have an arc geometry and we want to define a box around it, we can use ``gf.components.bbox()``:"
   ]
  },
  {
   "cell_type": "code",
   "execution_count": null,
   "id": "8c7cc18f",
   "metadata": {},
   "outputs": [],
   "source": [
    "c = gf.Component()\n",
    "arc = c << gf.components.bend_circular(radius=10, width=0.5, angle=90, layer=(1, 0))\n",
    "arc.rotate(90)\n",
    "# Draw a rectangle around the arc we created by using the arc's bounding box\n",
    "rect = c << gf.components.bbox(bbox=arc.bbox, layer=(0, 0))\n",
    "c.plot()"
   ]
  },
  {
   "cell_type": "markdown",
   "id": "5afe76d1",
   "metadata": {},
   "source": [
    "### Cross\n",
    "\n",
    "The ``gf.components.cross()`` function creates a cross structure:"
   ]
  },
  {
   "cell_type": "code",
   "execution_count": null,
   "id": "4dbce17b",
   "metadata": {},
   "outputs": [],
   "source": [
    "c = gf.components.cross(length=10, width=0.5, layer=(1, 0))\n",
    "c.plot()"
   ]
  },
  {
   "cell_type": "markdown",
   "id": "6a8c2f55",
   "metadata": {},
   "source": [
    "### Ellipse\n",
    "\n",
    "The ``gf.components.ellipse()`` function creates an ellipse by defining the major and minor radii:"
   ]
  },
  {
   "cell_type": "code",
   "execution_count": null,
   "id": "c09b685f",
   "metadata": {},
   "outputs": [],
   "source": [
    "c = gf.components.ellipse(radii=(10, 5), angle_resolution=2.5, layer=(1, 0))\n",
    "c.plot()"
   ]
  },
  {
   "cell_type": "markdown",
   "id": "a4dfcb9c",
   "metadata": {},
   "source": [
    "### Circle\n",
    "\n",
    "The ``gf.components.circle()`` function creates a circle:"
   ]
  },
  {
   "cell_type": "code",
   "execution_count": null,
   "id": "f395e4e5",
   "metadata": {},
   "outputs": [],
   "source": [
    "c = gf.components.circle(radius=10, angle_resolution=2.5, layer=(1, 0))\n",
    "c.plot()"
   ]
  },
  {
   "cell_type": "markdown",
   "id": "9ee83508",
   "metadata": {},
   "source": [
    "### Ring\n",
    "\n",
    "The ``gf.components.ring()`` function creates a ring.  The radius refers to the center radius of the ring structure (halfway between the inner and outer radius)."
   ]
  },
  {
   "cell_type": "code",
   "execution_count": null,
   "id": "66efbc93",
   "metadata": {},
   "outputs": [],
   "source": [
    "c = gf.components.ring(radius=5, width=0.5, angle_resolution=2.5, layer=(1, 0))\n",
    "c.plot()"
   ]
  },
  {
   "cell_type": "code",
   "execution_count": null,
   "id": "87317602",
   "metadata": {},
   "outputs": [],
   "source": [
    "c = gf.components.ring_single(gap=0.2, radius=10, length_x=4, length_y=2)\n",
    "c.plot()"
   ]
  },
  {
   "cell_type": "code",
   "execution_count": null,
   "id": "14d494d7",
   "metadata": {},
   "outputs": [],
   "source": [
    "import gdsfactory as gf\n",
    "\n",
    "c = gf.components.ring_double(gap=0.2, radius=10, length_x=4, length_y=2)\n",
    "c.plot()"
   ]
  },
  {
   "cell_type": "code",
   "execution_count": null,
   "id": "34f43aed",
   "metadata": {},
   "outputs": [],
   "source": [
    "c = gf.components.ring_double(\n",
    "    gap=0.2,\n",
    "    radius=10,\n",
    "    length_x=4,\n",
    "    length_y=2,\n",
    "    bend=gf.components.bend_circular,\n",
    ")\n",
    "c.plot()"
   ]
  },
  {
   "cell_type": "markdown",
   "id": "1a8035ca",
   "metadata": {},
   "source": [
    "### Bend circular\n",
    "\n",
    "The ``gf.components.bend_circular()`` function creates an arc.  The radius refers to the center radius of the arc (halfway between the inner and outer radius)."
   ]
  },
  {
   "cell_type": "code",
   "execution_count": null,
   "id": "24accec5",
   "metadata": {},
   "outputs": [],
   "source": [
    "c = gf.components.bend_circular(\n",
    "    radius=2.0, width=0.5, angle=90, npoints=720, layer=(1, 0)\n",
    ")\n",
    "c.plot()"
   ]
  },
  {
   "cell_type": "markdown",
   "id": "0af06237",
   "metadata": {},
   "source": [
    "### Bend euler\n",
    "\n",
    "The ``gf.components.bend_euler()`` function creates an adiabatic bend in which the bend radius changes gradually. Euler bends have lower loss than circular bends.\n"
   ]
  },
  {
   "cell_type": "code",
   "execution_count": null,
   "id": "a8f20150",
   "metadata": {},
   "outputs": [],
   "source": [
    "c = gf.components.bend_euler(radius=2.0, width=0.5, angle=90, npoints=720, layer=(1, 0))\n",
    "c.plot()"
   ]
  },
  {
   "cell_type": "markdown",
   "id": "e6e66f5f",
   "metadata": {},
   "source": [
    "### Tapers\n",
    "\n",
    "`gf.components.taper()`is defined by setting its length and its start and end length.  It has two ports, ``1`` and ``2``, on either end, allowing you to easily connect it to other structures."
   ]
  },
  {
   "cell_type": "code",
   "execution_count": null,
   "id": "5b378bc8",
   "metadata": {},
   "outputs": [],
   "source": [
    "c = gf.components.taper(length=10, width1=6, width2=4, port=None, layer=(1, 0))\n",
    "c.plot()"
   ]
  },
  {
   "cell_type": "markdown",
   "id": "77033a4c",
   "metadata": {},
   "source": [
    "`gf.components.ramp()` is a structure is similar to `taper()` except it is asymmetric.  It also has two ports, ``1`` and ``2``, on either end."
   ]
  },
  {
   "cell_type": "code",
   "execution_count": null,
   "id": "f7546562",
   "metadata": {},
   "outputs": [],
   "source": [
    "c = gf.components.ramp(length=10, width1=4, width2=8, layer=(1, 0))\n",
    "c.plot()"
   ]
  },
  {
   "cell_type": "markdown",
   "id": "dad0e8fd",
   "metadata": {},
   "source": [
    "### Common compound shapes"
   ]
  },
  {
   "cell_type": "markdown",
   "id": "6ed49afa",
   "metadata": {},
   "source": [
    "The `gf.components.L()` function creates a \"L\" shape with ports on either end named ``1`` and ``2``."
   ]
  },
  {
   "cell_type": "code",
   "execution_count": null,
   "id": "8090cb0e",
   "metadata": {},
   "outputs": [],
   "source": [
    "c = gf.components.L(width=7, size=(10, 20), layer=(1, 0))\n",
    "c.plot()"
   ]
  },
  {
   "cell_type": "markdown",
   "id": "f5812813",
   "metadata": {},
   "source": [
    "The `gf.components.C()` function creates a \"C\" shape with ports on either end named ``1`` and ``2``."
   ]
  },
  {
   "cell_type": "code",
   "execution_count": null,
   "id": "3c72d9c5",
   "metadata": {},
   "outputs": [],
   "source": [
    "c = gf.components.C(width=7, size=(10, 20), layer=(1, 0))\n",
    "c.plot()"
   ]
  },
  {
   "cell_type": "markdown",
   "id": "385e41bb",
   "metadata": {},
   "source": [
    "## Text\n",
    "\n",
    "Gdsfactory has an implementation of the DEPLOF font with the majority of english ASCII characters represented (thanks to phidl)"
   ]
  },
  {
   "cell_type": "code",
   "execution_count": null,
   "id": "264b25b9",
   "metadata": {},
   "outputs": [],
   "source": [
    "c = gf.components.text(\n",
    "    text=\"Hello world!\\nMultiline text\\nLeft-justified\",\n",
    "    size=10,\n",
    "    justify=\"left\",\n",
    "    layer=(1, 0),\n",
    ")\n",
    "c.plot()\n",
    "# `justify` should be either 'left', 'center', or 'right'"
   ]
  },
  {
   "cell_type": "markdown",
   "id": "5a1717ca",
   "metadata": {},
   "source": [
    "## Lithography structures\n",
    "\n",
    "### Step-resolution\n",
    "\n",
    "The `gf.components.litho_steps()` function creates lithographic test structure that is useful for measuring resolution of photoresist or electron-beam resists.  It provides both positive-tone and negative-tone resolution tests."
   ]
  },
  {
   "cell_type": "code",
   "execution_count": null,
   "id": "668d7053",
   "metadata": {},
   "outputs": [],
   "source": [
    "c = gf.components.litho_steps(\n",
    "    line_widths=[1, 2, 4, 8, 16], line_spacing=10, height=100, layer=(1, 0)\n",
    ")\n",
    "c.plot()"
   ]
  },
  {
   "cell_type": "markdown",
   "id": "5116a601",
   "metadata": {},
   "source": [
    "### Calipers (inter-layer alignment)"
   ]
  },
  {
   "cell_type": "markdown",
   "id": "b1eccf7d",
   "metadata": {},
   "source": [
    "The `gf.components.litho_calipers()` function is used to detect offsets in multilayer fabrication.  It creates a two sets of notches on different layers.  When an fabrication error/offset occurs, it is easy to detect how much the offset is because both center-notches are no longer aligned."
   ]
  },
  {
   "cell_type": "code",
   "execution_count": null,
   "id": "bed9e5ff",
   "metadata": {},
   "outputs": [],
   "source": [
    "D = gf.components.litho_calipers(\n",
    "    notch_size=[1, 5],\n",
    "    notch_spacing=2,\n",
    "    num_notches=7,\n",
    "    offset_per_notch=0.1,\n",
    "    row_spacing=0,\n",
    "    layer1=(1, 0),\n",
    "    layer2=(2, 0),\n",
    ")\n",
    "D.plot()"
   ]
  },
  {
   "cell_type": "markdown",
   "id": "b990a575",
   "metadata": {},
   "source": [
    "## Paths\n",
    "\n",
    "See **Path tutorial** for more details -- this is just an enumeration of the available built-in Path functions"
   ]
  },
  {
   "cell_type": "markdown",
   "id": "51f4e621",
   "metadata": {},
   "source": [
    "### Circular arc"
   ]
  },
  {
   "cell_type": "code",
   "execution_count": null,
   "id": "94d2e5e2",
   "metadata": {},
   "outputs": [],
   "source": [
    "P = gf.path.arc(radius=10, angle=135, npoints=720)\n",
    "f = P.plot()"
   ]
  },
  {
   "cell_type": "markdown",
   "id": "9b806869",
   "metadata": {},
   "source": [
    "### Straight"
   ]
  },
  {
   "cell_type": "code",
   "execution_count": null,
   "id": "b7f43fd6",
   "metadata": {},
   "outputs": [],
   "source": [
    "import gdsfactory as gf\n",
    "\n",
    "P = gf.path.straight(length=5, npoints=100)\n",
    "f = P.plot()"
   ]
  },
  {
   "cell_type": "markdown",
   "id": "3b1641a6",
   "metadata": {},
   "source": [
    "### Euler curve\n",
    "\n",
    "Also known as a straight-to-bend, clothoid, racetrack, or track transition, this Path tapers adiabatically from straight to curved.  Often used to minimize losses in photonic straights.  If `p < 1.0`, will create a \"partial euler\" curve as described in Vogelbacher et. al. https://dx.doi.org/10.1364/oe.27.031394.  If the `use_eff` argument is false, `radius` corresponds to minimum radius of curvature of the bend.  If `use_eff`  is true, `radius` corresponds to the \"effective\" radius of the bend-- The curve will be scaled such that the endpoints match an arc with parameters `radius` and `angle`."
   ]
  },
  {
   "cell_type": "code",
   "execution_count": null,
   "id": "886ed67d",
   "metadata": {},
   "outputs": [],
   "source": [
    "P = gf.path.euler(radius=3, angle=90, p=1.0, use_eff=False, npoints=720)\n",
    "f = P.plot()"
   ]
  },
  {
   "cell_type": "markdown",
   "id": "5d878524",
   "metadata": {},
   "source": [
    "### Smooth path from waypoints"
   ]
  },
  {
   "cell_type": "code",
   "execution_count": null,
   "id": "b6412e9d",
   "metadata": {},
   "outputs": [],
   "source": [
    "import numpy as np\n",
    "\n",
    "import gdsfactory as gf\n",
    "\n",
    "points = np.array([(20, 10), (40, 10), (20, 40), (50, 40), (50, 20), (70, 20)])\n",
    "\n",
    "P = gf.path.smooth(\n",
    "    points=points,\n",
    "    radius=2,\n",
    "    bend=gf.path.euler,\n",
    "    use_eff=False,\n",
    ")\n",
    "f = P.plot()"
   ]
  },
  {
   "cell_type": "markdown",
   "id": "5ab186b4",
   "metadata": {},
   "source": [
    "### Delay spiral"
   ]
  },
  {
   "cell_type": "code",
   "execution_count": null,
   "id": "da1fa5c3",
   "metadata": {},
   "outputs": [],
   "source": [
    "c = gf.components.spiral_double()\n",
    "c.plot()"
   ]
  },
  {
   "cell_type": "code",
   "execution_count": null,
   "id": "728c0113",
   "metadata": {},
   "outputs": [],
   "source": [
    "c = gf.components.spiral_inner_io()\n",
    "c.plot()"
   ]
  },
  {
   "cell_type": "code",
   "execution_count": null,
   "id": "24af7d44",
   "metadata": {},
   "outputs": [],
   "source": [
    "c = gf.components.spiral_external_io()\n",
    "c.plot()"
   ]
  },
  {
   "cell_type": "markdown",
   "id": "d2b6ba22",
   "metadata": {},
   "source": [
    "## Useful contact pads / connectors\n",
    "\n",
    "These functions are common shapes with ports, often used to make contact pads"
   ]
  },
  {
   "cell_type": "code",
   "execution_count": null,
   "id": "2562182a",
   "metadata": {},
   "outputs": [],
   "source": [
    "c = gf.components.compass(size=(4, 2), layer=(1, 0))\n",
    "c.plot()"
   ]
  },
  {
   "cell_type": "code",
   "execution_count": null,
   "id": "f81bfeb7",
   "metadata": {},
   "outputs": [],
   "source": [
    "c = gf.components.nxn(north=3, south=4, east=0, west=0)\n",
    "c.plot()"
   ]
  },
  {
   "cell_type": "code",
   "execution_count": null,
   "id": "d69bd580",
   "metadata": {},
   "outputs": [],
   "source": [
    "c = gf.components.pad()\n",
    "c.plot()"
   ]
  },
  {
   "cell_type": "code",
   "execution_count": null,
   "id": "72d28268",
   "metadata": {},
   "outputs": [],
   "source": [
    "c = gf.components.pad_array90(columns=3)\n",
    "c.plot()"
   ]
  },
  {
   "cell_type": "markdown",
   "id": "1c27103e",
   "metadata": {},
   "source": [
    "## Chip / die template"
   ]
  },
  {
   "cell_type": "code",
   "execution_count": null,
   "id": "8c8f9e7a",
   "metadata": {},
   "outputs": [],
   "source": [
    "import gdsfactory as gf\n",
    "\n",
    "c = gf.components.die(\n",
    "    size=(10000, 5000),  # Size of die\n",
    "    street_width=100,  # Width of corner marks for die-sawing\n",
    "    street_length=1000,  # Length of corner marks for die-sawing\n",
    "    die_name=\"chip99\",  # Label text\n",
    "    text_size=500,  # Label text size\n",
    "    text_location=\"SW\",  # Label text compass location e.g. 'S', 'SE', 'SW'\n",
    "    layer=(2, 0),\n",
    "    bbox_layer=(3, 0),\n",
    ")\n",
    "c.plot()"
   ]
  },
  {
   "cell_type": "markdown",
   "id": "96c59e58",
   "metadata": {},
   "source": [
    "## Optimal superconducting curves\n",
    "\n",
    "The following structures are meant to reduce \"current crowding\" in superconducting thin-film structures (such as superconducting nanowires).\n",
    "They are the result of conformal mapping equations derived in  Clem, J. & Berggren, K. \"[Geometry-dependent critical currents in superconducting nanocircuits.\" Phys. Rev. B 84, 1–27 (2011).](http://dx.doi.org/10.1103/PhysRevB.84.174510)"
   ]
  },
  {
   "cell_type": "code",
   "execution_count": null,
   "id": "d78eead8",
   "metadata": {},
   "outputs": [],
   "source": [
    "import gdsfactory as gf\n",
    "\n",
    "c = gf.components.optimal_hairpin(\n",
    "    width=0.2, pitch=0.6, length=10, turn_ratio=4, num_pts=50, layer=(2, 0)\n",
    ")\n",
    "c.plot()"
   ]
  },
  {
   "cell_type": "code",
   "execution_count": null,
   "id": "c708a1c9",
   "metadata": {},
   "outputs": [],
   "source": [
    "c = gf.components.optimal_step(\n",
    "    start_width=10,\n",
    "    end_width=22,\n",
    "    num_pts=50,\n",
    "    width_tol=1e-3,\n",
    "    anticrowding_factor=1.2,\n",
    "    symmetric=False,\n",
    "    layer=(2, 0),\n",
    ")\n",
    "c.plot()"
   ]
  },
  {
   "cell_type": "code",
   "execution_count": null,
   "id": "d8696b02",
   "metadata": {},
   "outputs": [],
   "source": [
    "c = gf.components.optimal_90deg(width=100.0, num_pts=15, length_adjust=1, layer=(2, 0))\n",
    "c.plot()"
   ]
  },
  {
   "cell_type": "code",
   "execution_count": null,
   "id": "283c95a1",
   "metadata": {},
   "outputs": [],
   "source": [
    "c = gf.components.snspd(\n",
    "    wire_width=0.2,\n",
    "    wire_pitch=0.6,\n",
    "    size=(10, 8),\n",
    "    num_squares=None,\n",
    "    turn_ratio=4,\n",
    "    terminals_same_side=False,\n",
    "    layer=(2, 0),\n",
    ")\n",
    "c.plot()"
   ]
  },
  {
   "cell_type": "markdown",
   "id": "97172287",
   "metadata": {},
   "source": [
    "## Generic library\n",
    "\n",
    "gdsfactory comes with a [generic library](https://gdsfactory.github.io/gdsfactory/components.html) that you can customize it to your needs or even modify the internal code to create the Components that you need.\n",
    "---\n",
    "jupyter:\n",
    "  jupytext:\n",
    "    cell_metadata_filter: -all\n",
    "    custom_cell_magics: kql\n",
    "    text_representation:\n",
    "      extension: .md\n",
    "      format_name: markdown\n",
    "      format_version: '1.3'\n",
    "      jupytext_version: 1.15.2\n",
    "  kernelspec:\n",
    "    display_name: base\n",
    "    language: python\n",
    "    name: python3\n",
    "---"
   ]
  },
  {
   "cell_type": "markdown",
   "id": "fa5242f4",
   "metadata": {},
   "source": [
    "# Routing\n",
    "\n",
    "Optical and high speed RF ports have an orientation that routes need to follow to avoid sharp turns that produce reflections.\n",
    "\n",
    "we have routing functions that route:\n",
    "\n",
    "- single route between 2 ports\n",
    "    - `get_route`\n",
    "    - `get_route_from_steps`\n",
    "    - `get_route_astar`\n",
    "- group of routes between 2 groups of ports using a river/bundle/bus router. At the moment it works only when all ports on each group have the same orientation.\n",
    "    - `get_bundle`\n",
    "    - `get_bundle_from_steps`\n",
    "\n",
    "\n",
    "The most useful function is `get_bundle` which supports both single and groups of routes, and can also route with length matching, which ensures that all routes have the same length.\n",
    "\n",
    "The biggest limitation is that it requires to have all the ports with the same orientation, for that you can use `gf.routing.route_ports_to_side`"
   ]
  },
  {
   "cell_type": "code",
   "execution_count": null,
   "id": "4fef465e",
   "metadata": {},
   "outputs": [],
   "source": [
    "from functools import partial\n",
    "\n",
    "import gdsfactory as gf\n",
    "from gdsfactory.cell import cell\n",
    "from gdsfactory.component import Component\n",
    "from gdsfactory.generic_tech import get_generic_pdk\n",
    "from gdsfactory.port import Port\n",
    "\n",
    "gf.config.rich_output()\n",
    "gf.CONF.display_type = \"klayout\"\n",
    "PDK = get_generic_pdk()\n",
    "PDK.activate()"
   ]
  },
  {
   "cell_type": "code",
   "execution_count": null,
   "id": "cc0c78d8",
   "metadata": {},
   "outputs": [],
   "source": [
    "c = gf.Component(\"sample_no_routes\")\n",
    "mmi1 = c << gf.components.mmi1x2()\n",
    "mmi2 = c << gf.components.mmi1x2()\n",
    "mmi2.move((100, 50))\n",
    "c.plot()"
   ]
  },
  {
   "cell_type": "markdown",
   "id": "3f87e513",
   "metadata": {},
   "source": [
    "## get_route\n",
    "\n",
    "`get_route` returns a Manhattan route between 2 ports"
   ]
  },
  {
   "cell_type": "code",
   "execution_count": null,
   "id": "a6de20e7",
   "metadata": {},
   "outputs": [],
   "source": [
    "help(gf.routing.get_route)"
   ]
  },
  {
   "cell_type": "code",
   "execution_count": null,
   "id": "07a51d5f",
   "metadata": {},
   "outputs": [],
   "source": [
    "c = gf.Component(\"sample_connect\")\n",
    "mmi1 = c << gf.components.mmi1x2()\n",
    "mmi2 = c << gf.components.mmi1x2()\n",
    "mmi2.move((100, 50))\n",
    "route = gf.routing.get_route(mmi1.ports[\"o2\"], mmi2.ports[\"o1\"])\n",
    "c.add(route.references)\n",
    "c.plot()"
   ]
  },
  {
   "cell_type": "code",
   "execution_count": null,
   "id": "ed391eb8",
   "metadata": {},
   "outputs": [],
   "source": [
    "route"
   ]
  },
  {
   "cell_type": "markdown",
   "id": "b0d3d7cd",
   "metadata": {},
   "source": [
    "**Problem**: get_route with obstacles\n",
    "\n",
    "sometimes there are obstacles that connect strip does not see!"
   ]
  },
  {
   "cell_type": "code",
   "execution_count": null,
   "id": "8467fafe",
   "metadata": {},
   "outputs": [],
   "source": [
    "c = gf.Component(\"sample_problem\")\n",
    "mmi1 = c << gf.components.mmi1x2()\n",
    "mmi2 = c << gf.components.mmi1x2()\n",
    "mmi2.move((110, 50))\n",
    "x = c << gf.components.cross(length=20)\n",
    "x.move((135, 20))\n",
    "route = gf.routing.get_route(mmi1.ports[\"o2\"], mmi2.ports[\"o2\"])\n",
    "c.add(route.references)\n",
    "c.plot()"
   ]
  },
  {
   "cell_type": "markdown",
   "id": "f8a3c24f",
   "metadata": {},
   "source": [
    "**Solutions:**\n",
    "\n",
    "- specify the route steps\n",
    "\n",
    "## get_route_from_steps\n",
    "\n",
    "`get_route_from_steps` is a manual version of `get_route` where you can define only the new steps `x` or `y` together with increments `dx` or `dy`"
   ]
  },
  {
   "cell_type": "code",
   "execution_count": null,
   "id": "20f9b0c5",
   "metadata": {},
   "outputs": [],
   "source": [
    "c = gf.Component(\"get_route_from_steps\")\n",
    "w = gf.components.straight()\n",
    "left = c << w\n",
    "right = c << w\n",
    "right.move((100, 80))\n",
    "\n",
    "obstacle = gf.components.rectangle(size=(100, 10))\n",
    "obstacle1 = c << obstacle\n",
    "obstacle2 = c << obstacle\n",
    "obstacle1.ymin = 40\n",
    "obstacle2.xmin = 25\n",
    "\n",
    "port1 = left.ports[\"o2\"]\n",
    "port2 = right.ports[\"o2\"]\n",
    "\n",
    "routes = gf.routing.get_route_from_steps(\n",
    "    port1=port1,\n",
    "    port2=port2,\n",
    "    steps=[\n",
    "        {\"x\": 20, \"y\": 0},\n",
    "        {\"x\": 20, \"y\": 20},\n",
    "        {\"x\": 120, \"y\": 20},\n",
    "        {\"x\": 120, \"y\": 80},\n",
    "    ],\n",
    ")\n",
    "c.add(routes.references)\n",
    "c.plot()"
   ]
  },
  {
   "cell_type": "code",
   "execution_count": null,
   "id": "a24a63a6",
   "metadata": {},
   "outputs": [],
   "source": [
    "c = gf.Component(\"get_route_from_steps_shorter_syntax\")\n",
    "w = gf.components.straight()\n",
    "left = c << w\n",
    "right = c << w\n",
    "right.move((100, 80))\n",
    "\n",
    "obstacle = gf.components.rectangle(size=(100, 10))\n",
    "obstacle1 = c << obstacle\n",
    "obstacle2 = c << obstacle\n",
    "obstacle1.ymin = 40\n",
    "obstacle2.xmin = 25\n",
    "\n",
    "port1 = left.ports[\"o2\"]\n",
    "port2 = right.ports[\"o2\"]\n",
    "\n",
    "routes = gf.routing.get_route_from_steps(\n",
    "    port1=port1,\n",
    "    port2=port2,\n",
    "    steps=[\n",
    "        {\"x\": 20},\n",
    "        {\"y\": 20},\n",
    "        {\"x\": 120},\n",
    "        {\"y\": 80},\n",
    "    ],\n",
    ")\n",
    "c.add(routes.references)\n",
    "c.plot()"
   ]
  },
  {
   "cell_type": "markdown",
   "id": "d1a96393",
   "metadata": {},
   "source": [
    "## get_bundle\n",
    "\n",
    "To route groups of ports avoiding waveguide collisions, you should use `get_bundle` instead of `get_route`.\n",
    "\n",
    "`get_bundle` uses a river/bundle/bus router.\n",
    "\n",
    "At the moment it works only when each group of ports have the same orientation.\n"
   ]
  },
  {
   "cell_type": "code",
   "execution_count": null,
   "id": "2113727c",
   "metadata": {},
   "outputs": [],
   "source": [
    "ys_right = [0, 10, 20, 40, 50, 80]\n",
    "pitch = 127.0\n",
    "N = len(ys_right)\n",
    "ys_left = [(i - N / 2) * pitch for i in range(N)]\n",
    "layer = (1, 0)\n",
    "\n",
    "right_ports = [\n",
    "    gf.Port(f\"R_{i}\", center=(0, ys_right[i]), width=0.5, orientation=180, layer=layer)\n",
    "    for i in range(N)\n",
    "]\n",
    "left_ports = [\n",
    "    gf.Port(f\"L_{i}\", center=(-200, ys_left[i]), width=0.5, orientation=0, layer=layer)\n",
    "    for i in range(N)\n",
    "]\n",
    "\n",
    "# you can also mess up the port order and it will sort them by default\n",
    "left_ports.reverse()\n",
    "\n",
    "c = gf.Component(name=\"connect_bundle_v2\")\n",
    "routes = gf.routing.get_bundle(\n",
    "    left_ports,\n",
    "    right_ports,\n",
    "    sort_ports=True,\n",
    "    start_straight_length=100,\n",
    "    enforce_port_ordering=False,\n",
    ")\n",
    "for route in routes:\n",
    "    c.add(route.references)\n",
    "c.plot()"
   ]
  },
  {
   "cell_type": "code",
   "execution_count": null,
   "id": "7812874e",
   "metadata": {},
   "outputs": [],
   "source": [
    "xs_top = [0, 10, 20, 40, 50, 80]\n",
    "pitch = 127.0\n",
    "N = len(xs_top)\n",
    "xs_bottom = [(i - N / 2) * pitch for i in range(N)]\n",
    "layer = (1, 0)\n",
    "\n",
    "top_ports = [\n",
    "    gf.Port(f\"top_{i}\", center=(xs_top[i], 0), width=0.5, orientation=270, layer=layer)\n",
    "    for i in range(N)\n",
    "]\n",
    "\n",
    "bot_ports = [\n",
    "    gf.Port(\n",
    "        f\"bot_{i}\",\n",
    "        center=(xs_bottom[i], -300),\n",
    "        width=0.5,\n",
    "        orientation=90,\n",
    "        layer=layer,\n",
    "    )\n",
    "    for i in range(N)\n",
    "]\n",
    "\n",
    "c = gf.Component(name=\"connect_bundle_separation\")\n",
    "routes = gf.routing.get_bundle(\n",
    "    top_ports, bot_ports, separation=5.0, end_straight_length=100\n",
    ")\n",
    "for route in routes:\n",
    "    c.add(route.references)\n",
    "\n",
    "c.plot()"
   ]
  },
  {
   "cell_type": "markdown",
   "id": "248cfe5f",
   "metadata": {},
   "source": [
    "`get_bundle` can also route bundles through corners\n",
    "\n"
   ]
  },
  {
   "cell_type": "code",
   "execution_count": null,
   "id": "d9140e97",
   "metadata": {},
   "outputs": [],
   "source": [
    "@cell\n",
    "def test_connect_corner(N=6, config=\"A\"):\n",
    "    d = 10.0\n",
    "    sep = 5.0\n",
    "    top_cell = gf.Component()\n",
    "    layer = (1, 0)\n",
    "\n",
    "    if config in [\"A\", \"B\"]:\n",
    "        a = 100.0\n",
    "        ports_A_TR = [\n",
    "            Port(\n",
    "                f\"A_TR_{i}\",\n",
    "                center=(d, a / 2 + i * sep),\n",
    "                width=0.5,\n",
    "                orientation=0,\n",
    "                layer=layer,\n",
    "            )\n",
    "            for i in range(N)\n",
    "        ]\n",
    "\n",
    "        ports_A_TL = [\n",
    "            Port(\n",
    "                f\"A_TL_{i}\",\n",
    "                center=(-d, a / 2 + i * sep),\n",
    "                width=0.5,\n",
    "                orientation=180,\n",
    "                layer=layer,\n",
    "            )\n",
    "            for i in range(N)\n",
    "        ]\n",
    "\n",
    "        ports_A_BR = [\n",
    "            Port(\n",
    "                f\"A_BR_{i}\",\n",
    "                center=(d, -a / 2 - i * sep),\n",
    "                width=0.5,\n",
    "                orientation=0,\n",
    "                layer=layer,\n",
    "            )\n",
    "            for i in range(N)\n",
    "        ]\n",
    "\n",
    "        ports_A_BL = [\n",
    "            Port(\n",
    "                f\"A_BL_{i}\",\n",
    "                center=(-d, -a / 2 - i * sep),\n",
    "                width=0.5,\n",
    "                orientation=180,\n",
    "                layer=layer,\n",
    "            )\n",
    "            for i in range(N)\n",
    "        ]\n",
    "\n",
    "        ports_A = [ports_A_TR, ports_A_TL, ports_A_BR, ports_A_BL]\n",
    "\n",
    "        ports_B_TR = [\n",
    "            Port(\n",
    "                f\"B_TR_{i}\",\n",
    "                center=(a / 2 + i * sep, d),\n",
    "                width=0.5,\n",
    "                orientation=90,\n",
    "                layer=layer,\n",
    "            )\n",
    "            for i in range(N)\n",
    "        ]\n",
    "\n",
    "        ports_B_TL = [\n",
    "            Port(\n",
    "                f\"B_TL_{i}\",\n",
    "                center=(-a / 2 - i * sep, d),\n",
    "                width=0.5,\n",
    "                orientation=90,\n",
    "                layer=layer,\n",
    "            )\n",
    "            for i in range(N)\n",
    "        ]\n",
    "\n",
    "        ports_B_BR = [\n",
    "            Port(\n",
    "                f\"B_BR_{i}\",\n",
    "                center=(a / 2 + i * sep, -d),\n",
    "                width=0.5,\n",
    "                orientation=270,\n",
    "                layer=layer,\n",
    "            )\n",
    "            for i in range(N)\n",
    "        ]\n",
    "\n",
    "        ports_B_BL = [\n",
    "            Port(\n",
    "                f\"B_BL_{i}\",\n",
    "                center=(-a / 2 - i * sep, -d),\n",
    "                width=0.5,\n",
    "                orientation=270,\n",
    "                layer=layer,\n",
    "            )\n",
    "            for i in range(N)\n",
    "        ]\n",
    "\n",
    "        ports_B = [ports_B_TR, ports_B_TL, ports_B_BR, ports_B_BL]\n",
    "\n",
    "    elif config in [\"C\", \"D\"]:\n",
    "        a = N * sep + 2 * d\n",
    "        ports_A_TR = [\n",
    "            Port(\n",
    "                f\"A_TR_{i}\",\n",
    "                center=(a, d + i * sep),\n",
    "                width=0.5,\n",
    "                orientation=0,\n",
    "                layer=layer,\n",
    "            )\n",
    "            for i in range(N)\n",
    "        ]\n",
    "\n",
    "        ports_A_TL = [\n",
    "            Port(\n",
    "                f\"A_TL_{i}\",\n",
    "                center=(-a, d + i * sep),\n",
    "                width=0.5,\n",
    "                orientation=180,\n",
    "                layer=layer,\n",
    "            )\n",
    "            for i in range(N)\n",
    "        ]\n",
    "\n",
    "        ports_A_BR = [\n",
    "            Port(\n",
    "                f\"A_BR_{i}\",\n",
    "                center=(a, -d - i * sep),\n",
    "                width=0.5,\n",
    "                orientation=0,\n",
    "                layer=layer,\n",
    "            )\n",
    "            for i in range(N)\n",
    "        ]\n",
    "\n",
    "        ports_A_BL = [\n",
    "            Port(\n",
    "                f\"A_BL_{i}\",\n",
    "                center=(-a, -d - i * sep),\n",
    "                width=0.5,\n",
    "                orientation=180,\n",
    "                layer=layer,\n",
    "            )\n",
    "            for i in range(N)\n",
    "        ]\n",
    "\n",
    "        ports_A = [ports_A_TR, ports_A_TL, ports_A_BR, ports_A_BL]\n",
    "\n",
    "        ports_B_TR = [\n",
    "            Port(\n",
    "                f\"B_TR_{i}\",\n",
    "                center=(d + i * sep, a),\n",
    "                width=0.5,\n",
    "                orientation=90,\n",
    "                layer=layer,\n",
    "            )\n",
    "            for i in range(N)\n",
    "        ]\n",
    "\n",
    "        ports_B_TL = [\n",
    "            Port(\n",
    "                f\"B_TL_{i}\",\n",
    "                center=(-d - i * sep, a),\n",
    "                width=0.5,\n",
    "                orientation=90,\n",
    "                layer=layer,\n",
    "            )\n",
    "            for i in range(N)\n",
    "        ]\n",
    "\n",
    "        ports_B_BR = [\n",
    "            Port(\n",
    "                f\"B_BR_{i}\",\n",
    "                center=(d + i * sep, -a),\n",
    "                width=0.5,\n",
    "                orientation=270,\n",
    "                layer=layer,\n",
    "            )\n",
    "            for i in range(N)\n",
    "        ]\n",
    "\n",
    "        ports_B_BL = [\n",
    "            Port(\n",
    "                f\"B_BL_{i}\",\n",
    "                center=(-d - i * sep, -a),\n",
    "                width=0.5,\n",
    "                orientation=270,\n",
    "                layer=layer,\n",
    "            )\n",
    "            for i in range(N)\n",
    "        ]\n",
    "\n",
    "        ports_B = [ports_B_TR, ports_B_TL, ports_B_BR, ports_B_BL]\n",
    "\n",
    "    if config in [\"A\", \"C\"]:\n",
    "        for ports1, ports2 in zip(ports_A, ports_B):\n",
    "            routes = gf.routing.get_bundle(ports1, ports2, layer=(2, 0), radius=5)\n",
    "            for route in routes:\n",
    "                top_cell.add(route.references)\n",
    "\n",
    "    elif config in [\"B\", \"D\"]:\n",
    "        for ports1, ports2 in zip(ports_A, ports_B):\n",
    "            routes = gf.routing.get_bundle(ports2, ports1, layer=(2, 0), radius=5)\n",
    "            for route in routes:\n",
    "                top_cell.add(route.references)\n",
    "\n",
    "    return top_cell\n",
    "\n",
    "\n",
    "c = test_connect_corner(config=\"A\")\n",
    "c.plot()"
   ]
  },
  {
   "cell_type": "code",
   "execution_count": null,
   "id": "f36429e8",
   "metadata": {},
   "outputs": [],
   "source": [
    "c = test_connect_corner(config=\"C\")\n",
    "c.plot()"
   ]
  },
  {
   "cell_type": "code",
   "execution_count": null,
   "id": "ad4aed0c",
   "metadata": {},
   "outputs": [],
   "source": [
    "@cell\n",
    "def test_connect_bundle_udirect(dy=200, orientation=270, layer=(1, 0)):\n",
    "    xs1 = [-100, -90, -80, -55, -35, 24, 0] + [200, 210, 240]\n",
    "    axis = \"X\" if orientation in [0, 180] else \"Y\"\n",
    "    pitch = 10.0\n",
    "    N = len(xs1)\n",
    "    xs2 = [70 + i * pitch for i in range(N)]\n",
    "\n",
    "    if axis == \"X\":\n",
    "        ports1 = [\n",
    "            Port(\n",
    "                f\"top_{i}\",\n",
    "                center=(0, xs1[i]),\n",
    "                width=0.5,\n",
    "                orientation=orientation,\n",
    "                layer=layer,\n",
    "            )\n",
    "            for i in range(N)\n",
    "        ]\n",
    "\n",
    "        ports2 = [\n",
    "            Port(\n",
    "                f\"bottom_{i}\",\n",
    "                center=(dy, xs2[i]),\n",
    "                width=0.5,\n",
    "                orientation=orientation,\n",
    "                layer=layer,\n",
    "            )\n",
    "            for i in range(N)\n",
    "        ]\n",
    "\n",
    "    else:\n",
    "        ports1 = [\n",
    "            Port(\n",
    "                f\"top_{i}\",\n",
    "                center=(xs1[i], 0),\n",
    "                width=0.5,\n",
    "                orientation=orientation,\n",
    "                layer=layer,\n",
    "            )\n",
    "            for i in range(N)\n",
    "        ]\n",
    "\n",
    "        ports2 = [\n",
    "            Port(\n",
    "                f\"bottom_{i}\",\n",
    "                center=(xs2[i], dy),\n",
    "                width=0.5,\n",
    "                orientation=orientation,\n",
    "                layer=layer,\n",
    "            )\n",
    "            for i in range(N)\n",
    "        ]\n",
    "\n",
    "    top_cell = Component()\n",
    "    routes = gf.routing.get_bundle(\n",
    "        ports1, ports2, radius=10.0, enforce_port_ordering=False\n",
    "    )\n",
    "    for route in routes:\n",
    "        top_cell.add(route.references)\n",
    "\n",
    "    return top_cell\n",
    "\n",
    "\n",
    "c = test_connect_bundle_udirect()\n",
    "c.plot()"
   ]
  },
  {
   "cell_type": "code",
   "execution_count": null,
   "id": "66bb5fbc",
   "metadata": {},
   "outputs": [],
   "source": [
    "@cell\n",
    "def test_connect_bundle_u_indirect(dy=-200, orientation=180, layer=(1, 0)):\n",
    "    xs1 = [-100, -90, -80, -55, -35] + [200, 210, 240]\n",
    "    axis = \"X\" if orientation in [0, 180] else \"Y\"\n",
    "    pitch = 10.0\n",
    "    N = len(xs1)\n",
    "    xs2 = [50 + i * pitch for i in range(N)]\n",
    "\n",
    "    a1 = orientation\n",
    "    a2 = a1 + 180\n",
    "\n",
    "    if axis == \"X\":\n",
    "        ports1 = [\n",
    "            Port(f\"top_{i}\", center=(0, xs1[i]), width=0.5, orientation=a1, layer=layer)\n",
    "            for i in range(N)\n",
    "        ]\n",
    "\n",
    "        ports2 = [\n",
    "            Port(\n",
    "                f\"bot_{i}\",\n",
    "                center=(dy, xs2[i]),\n",
    "                width=0.5,\n",
    "                orientation=a2,\n",
    "                layer=layer,\n",
    "            )\n",
    "            for i in range(N)\n",
    "        ]\n",
    "\n",
    "    else:\n",
    "        ports1 = [\n",
    "            Port(f\"top_{i}\", center=(xs1[i], 0), width=0.5, orientation=a1, layer=layer)\n",
    "            for i in range(N)\n",
    "        ]\n",
    "\n",
    "        ports2 = [\n",
    "            Port(\n",
    "                f\"bot_{i}\",\n",
    "                center=(xs2[i], dy),\n",
    "                width=0.5,\n",
    "                orientation=a2,\n",
    "                layer=layer,\n",
    "            )\n",
    "            for i in range(N)\n",
    "        ]\n",
    "\n",
    "    top_cell = Component()\n",
    "    routes = gf.routing.get_bundle(\n",
    "        ports1,\n",
    "        ports2,\n",
    "        bend=gf.components.bend_euler,\n",
    "        radius=5,\n",
    "        enforce_port_ordering=False,\n",
    "    )\n",
    "    for route in routes:\n",
    "        top_cell.add(route.references)\n",
    "\n",
    "    return top_cell\n",
    "\n",
    "\n",
    "c = test_connect_bundle_u_indirect(orientation=0)\n",
    "c.plot()"
   ]
  },
  {
   "cell_type": "code",
   "execution_count": null,
   "id": "458f2d0b",
   "metadata": {},
   "outputs": [],
   "source": [
    "@gf.cell\n",
    "def test_north_to_south(layer=(1, 0)):\n",
    "    dy = 200.0\n",
    "    xs1 = [-500, -300, -100, -90, -80, -55, -35, 200, 210, 240, 500, 650]\n",
    "\n",
    "    pitch = 10.0\n",
    "    N = len(xs1)\n",
    "    xs2 = [-20 + i * pitch for i in range(N // 2)]\n",
    "    xs2 += [400 + i * pitch for i in range(N // 2)]\n",
    "\n",
    "    a1 = 90\n",
    "    a2 = a1 + 180\n",
    "\n",
    "    ports1 = [\n",
    "        gf.Port(f\"top_{i}\", center=(xs1[i], 0), width=0.5, orientation=a1, layer=layer)\n",
    "        for i in range(N)\n",
    "    ]\n",
    "\n",
    "    ports2 = [\n",
    "        gf.Port(f\"bot_{i}\", center=(xs2[i], dy), width=0.5, orientation=a2, layer=layer)\n",
    "        for i in range(N)\n",
    "    ]\n",
    "\n",
    "    c = gf.Component()\n",
    "    routes = gf.routing.get_bundle(ports1, ports2, auto_widen=False)\n",
    "    for route in routes:\n",
    "        c.add(route.references)\n",
    "\n",
    "    return c\n",
    "\n",
    "\n",
    "c = test_north_to_south()\n",
    "c.plot()"
   ]
  },
  {
   "cell_type": "code",
   "execution_count": null,
   "id": "cfdedf9a",
   "metadata": {},
   "outputs": [],
   "source": [
    "@gf.cell\n",
    "def demo_connect_bundle():\n",
    "    \"\"\"combines all the connect_bundle tests\"\"\"\n",
    "    y = 400.0\n",
    "    x = 500\n",
    "    y0 = 900\n",
    "    dy = 200.0\n",
    "    c = gf.Component()\n",
    "    for j, s in enumerate([-1, 1]):\n",
    "        for i, orientation in enumerate([0, 90, 180, 270]):\n",
    "            ci = test_connect_bundle_u_indirect(dy=s * dy, orientation=orientation)\n",
    "            ref = ci.ref(position=(i * x, j * y))\n",
    "            c.add(ref)\n",
    "\n",
    "            ci = test_connect_bundle_udirect(dy=s * dy, orientation=orientation)\n",
    "            ref = ci.ref(position=(i * x, j * y + y0))\n",
    "            c.add(ref)\n",
    "\n",
    "    for i, config in enumerate([\"A\", \"B\", \"C\", \"D\"]):\n",
    "        ci = test_connect_corner(config=config)\n",
    "        ref = ci.ref(position=(i * x, 1700))\n",
    "        c.add(ref)\n",
    "\n",
    "    return c\n",
    "\n",
    "\n",
    "c = demo_connect_bundle()\n",
    "c.plot()"
   ]
  },
  {
   "cell_type": "code",
   "execution_count": null,
   "id": "f1e6493a",
   "metadata": {},
   "outputs": [],
   "source": [
    "c = gf.Component(\"route_bend_5um\")\n",
    "c1 = c << gf.components.mmi2x2()\n",
    "c2 = c << gf.components.mmi2x2()\n",
    "\n",
    "c2.move((100, 50))\n",
    "routes = gf.routing.get_bundle(\n",
    "    [c1.ports[\"o4\"], c1.ports[\"o3\"]], [c2.ports[\"o1\"], c2.ports[\"o2\"]], radius=5\n",
    ")\n",
    "for route in routes:\n",
    "    c.add(route.references)\n",
    "c.plot()"
   ]
  },
  {
   "cell_type": "code",
   "execution_count": null,
   "id": "a6bed47a",
   "metadata": {},
   "outputs": [],
   "source": [
    "c = gf.Component(\"electrical\")\n",
    "c1 = c << gf.components.pad()\n",
    "c2 = c << gf.components.pad()\n",
    "c2.move((200, 100))\n",
    "routes = gf.routing.get_bundle(\n",
    "    [c1.ports[\"e3\"]], [c2.ports[\"e1\"]], cross_section=gf.cross_section.metal1\n",
    ")\n",
    "for route in routes:\n",
    "    c.add(route.references)\n",
    "c.plot()"
   ]
  },
  {
   "cell_type": "markdown",
   "id": "f8372b10",
   "metadata": {},
   "source": [
    "**Problem**\n",
    "\n",
    "Sometimes 90 degrees routes do not have enough space for a Manhattan route"
   ]
  },
  {
   "cell_type": "code",
   "execution_count": null,
   "id": "8eebdf4e",
   "metadata": {},
   "outputs": [],
   "source": [
    "c = gf.Component(\"route_fail_1\")\n",
    "c1 = c << gf.components.nxn(east=3, ysize=20)\n",
    "c2 = c << gf.components.nxn(west=3)\n",
    "c2.move((80, 0))\n",
    "c.plot()"
   ]
  },
  {
   "cell_type": "code",
   "execution_count": null,
   "id": "9a2b0a0f",
   "metadata": {},
   "outputs": [],
   "source": [
    "c = gf.Component(\"route_fail_v2\")\n",
    "c1 = c << gf.components.nxn(east=3, ysize=20)\n",
    "c2 = c << gf.components.nxn(west=3)\n",
    "c2.move((80, 0))\n",
    "routes = gf.routing.get_bundle(\n",
    "    c1.get_ports_list(orientation=0),\n",
    "    c2.get_ports_list(orientation=180),\n",
    "    auto_widen=False,\n",
    ")\n",
    "for route in routes:\n",
    "    c.add(route.references)\n",
    "c.plot()"
   ]
  },
  {
   "cell_type": "code",
   "execution_count": null,
   "id": "3caa842c",
   "metadata": {},
   "outputs": [],
   "source": [
    "c = gf.Component(\"route_fail_v3\")\n",
    "pitch = 2.0\n",
    "ys_left = [0, 10, 20]\n",
    "N = len(ys_left)\n",
    "ys_right = [(i - N / 2) * pitch for i in range(N)]\n",
    "layer = (1, 0)\n",
    "\n",
    "right_ports = [\n",
    "    gf.Port(f\"R_{i}\", center=(0, ys_right[i]), width=0.5, orientation=180, layer=layer)\n",
    "    for i in range(N)\n",
    "]\n",
    "left_ports = [\n",
    "    gf.Port(f\"L_{i}\", center=(-50, ys_left[i]), width=0.5, orientation=0, layer=layer)\n",
    "    for i in range(N)\n",
    "]\n",
    "left_ports.reverse()\n",
    "routes = gf.routing.get_bundle(right_ports, left_ports, radius=5)\n",
    "\n",
    "for route in routes:\n",
    "    c.add(route.references)\n",
    "c.plot()"
   ]
  },
  {
   "cell_type": "markdown",
   "id": "779ae569",
   "metadata": {},
   "source": [
    "**Solution**\n",
    "\n",
    "Add Sbend routes using `get_bundle_sbend`"
   ]
  },
  {
   "cell_type": "code",
   "execution_count": null,
   "id": "716457c4",
   "metadata": {},
   "outputs": [],
   "source": [
    "c = gf.Component(\"route_solution_1_get_bundle_sbend\")\n",
    "c1 = c << gf.components.nxn(east=3, ysize=20)\n",
    "c2 = c << gf.components.nxn(west=3)\n",
    "c2.move((80, 0))\n",
    "routes = gf.routing.get_bundle_sbend(\n",
    "    c1.get_ports_list(orientation=0),\n",
    "    c2.get_ports_list(orientation=180),\n",
    "    enforce_port_ordering=False,\n",
    ")\n",
    "for route in routes:\n",
    "    c.add(route.references)\n",
    "c.plot()"
   ]
  },
  {
   "cell_type": "markdown",
   "id": "7784ee1e",
   "metadata": {},
   "source": [
    "You can also `get_bundle` adding `with_sbend=True`"
   ]
  },
  {
   "cell_type": "code",
   "execution_count": null,
   "id": "f3eea769",
   "metadata": {
    "lines_to_next_cell": 2
   },
   "outputs": [],
   "source": [
    "c = gf.Component(\"route_solution_2_get_bundle\")\n",
    "c1 = c << gf.components.nxn(east=3, ysize=20)\n",
    "c2 = c << gf.components.nxn(west=3)\n",
    "c2.move((80, 0))\n",
    "routes = gf.routing.get_bundle(\n",
    "    c1.get_ports_list(orientation=0),\n",
    "    c2.get_ports_list(orientation=180),\n",
    "    with_sbend=True,\n",
    "    enforce_port_ordering=False,\n",
    ")\n",
    "for route in routes:\n",
    "    c.add(route.references)\n",
    "c.plot()"
   ]
  },
  {
   "cell_type": "markdown",
   "id": "f0638473",
   "metadata": {},
   "source": [
    "### get_bundle with path_length_match\n",
    "\n",
    "Sometimes you need to route two groups of ports keeping the same route lengths."
   ]
  },
  {
   "cell_type": "code",
   "execution_count": null,
   "id": "ba023875",
   "metadata": {},
   "outputs": [],
   "source": [
    "c = gf.Component(\"path_length_match_routing\")\n",
    "dy = 2000.0\n",
    "xs1 = [-500, -300, -100, -90, -80, -55, -35, 200, 210, 240, 500, 650]\n",
    "\n",
    "pitch = 100.0\n",
    "N = len(xs1)\n",
    "xs2 = [-20 + i * pitch for i in range(N)]\n",
    "\n",
    "a1 = 90\n",
    "a2 = a1 + 180\n",
    "layer = (1, 0)\n",
    "\n",
    "ports1 = [\n",
    "    gf.Port(f\"top_{i}\", center=(xs1[i], 0), width=0.5, orientation=a1, layer=layer)\n",
    "    for i in range(N)\n",
    "]\n",
    "ports2 = [\n",
    "    gf.Port(f\"bot_{i}\", center=(xs2[i], dy), width=0.5, orientation=a2, layer=layer)\n",
    "    for i in range(N)\n",
    "]\n",
    "\n",
    "routes = gf.routing.get_bundle(\n",
    "    ports1,\n",
    "    ports2,\n",
    "    path_length_match_loops=1,\n",
    "    path_length_match_modify_segment_i=-2,\n",
    "    end_straight_length=800,\n",
    ")\n",
    "\n",
    "for route in routes:\n",
    "    c.add(route.references)\n",
    "    print(route.length)\n",
    "c.plot()"
   ]
  },
  {
   "cell_type": "markdown",
   "id": "4d039a2e",
   "metadata": {},
   "source": [
    "### path_length_match with extra length\n",
    "\n",
    "You can also add some extra length to all the routes"
   ]
  },
  {
   "cell_type": "code",
   "execution_count": null,
   "id": "2fe4c7b6",
   "metadata": {},
   "outputs": [],
   "source": [
    "c = gf.Component(\"get_bundle_path_length_match_extra_length\")\n",
    "\n",
    "dy = 2000.0\n",
    "xs1 = [-500, -300, -100, -90, -80, -55, -35, 200, 210, 240, 500, 650]\n",
    "\n",
    "pitch = 100.0\n",
    "N = len(xs1)\n",
    "xs2 = [-20 + i * pitch for i in range(N)]\n",
    "\n",
    "a1 = 90\n",
    "a2 = a1 + 180\n",
    "layer = (1, 0)\n",
    "\n",
    "ports1 = [\n",
    "    gf.Port(f\"top_{i}\", center=(xs1[i], 0), width=0.5, orientation=a1, layer=layer)\n",
    "    for i in range(N)\n",
    "]\n",
    "ports2 = [\n",
    "    gf.Port(f\"bot_{i}\", center=(xs2[i], dy), width=0.5, orientation=a2, layer=layer)\n",
    "    for i in range(N)\n",
    "]\n",
    "\n",
    "routes = gf.routing.get_bundle(\n",
    "    ports1,\n",
    "    ports2,\n",
    "    path_length_match_extra_length=44,\n",
    "    path_length_match_loops=2,\n",
    "    end_straight_length=800,\n",
    ")\n",
    "for route in routes:\n",
    "    c.add(route.references)\n",
    "    print(route.length)\n",
    "c.plot()"
   ]
  },
  {
   "cell_type": "markdown",
   "id": "3c9306f2",
   "metadata": {},
   "source": [
    "### path length match with extra loops\n",
    "\n",
    "You can also increase the number of loops"
   ]
  },
  {
   "cell_type": "code",
   "execution_count": null,
   "id": "0e60a90d",
   "metadata": {},
   "outputs": [],
   "source": [
    "c = gf.Component(\"get_route_path_length_match_nb_loops\")\n",
    "\n",
    "dy = 2000.0\n",
    "xs1 = [-500, -300, -100, -90, -80, -55, -35, 200, 210, 240, 500, 650]\n",
    "\n",
    "pitch = 200.0\n",
    "N = len(xs1)\n",
    "xs2 = [-20 + i * pitch for i in range(N)]\n",
    "\n",
    "a1 = 90\n",
    "a2 = a1 + 180\n",
    "layer = (1, 0)\n",
    "\n",
    "ports1 = [\n",
    "    gf.Port(f\"top_{i}\", center=(xs1[i], 0), width=0.5, orientation=a1, layer=layer)\n",
    "    for i in range(N)\n",
    "]\n",
    "ports2 = [\n",
    "    gf.Port(f\"bot_{i}\", center=(xs2[i], dy), width=0.5, orientation=a2, layer=layer)\n",
    "    for i in range(N)\n",
    "]\n",
    "\n",
    "routes = gf.routing.get_bundle(\n",
    "    ports1,\n",
    "    ports2,\n",
    "    path_length_match_loops=2,\n",
    "    auto_widen=False,\n",
    "    end_straight_length=800,\n",
    "    separation=30,\n",
    ")\n",
    "for route in routes:\n",
    "    c.add(route.references)\n",
    "    print(route.length)\n",
    "c.plot()"
   ]
  },
  {
   "cell_type": "markdown",
   "id": "958985da",
   "metadata": {},
   "source": [
    "Sometimes you need to modify `separation` to ensure waveguides don't overlap."
   ]
  },
  {
   "cell_type": "code",
   "execution_count": null,
   "id": "ae15e463",
   "metadata": {},
   "outputs": [],
   "source": [
    "c = gf.Component(\"problem_path_length_match\")\n",
    "c1 = c << gf.components.straight_array(spacing=90)\n",
    "c2 = c << gf.components.straight_array(spacing=5)\n",
    "c2.movex(200)\n",
    "c1.y = 0\n",
    "c2.y = 0\n",
    "\n",
    "routes = gf.routing.get_bundle(\n",
    "    c1.get_ports_list(orientation=0),\n",
    "    c2.get_ports_list(orientation=180),\n",
    "    end_straight_length=0,\n",
    "    start_straight_length=0,\n",
    "    separation=30,  # not enough\n",
    "    radius=5,\n",
    "    path_length_match_loops=1,\n",
    "    enforce_port_ordering=False,\n",
    ")\n",
    "\n",
    "for route in routes:\n",
    "    c.add(route.references)\n",
    "c.plot()"
   ]
  },
  {
   "cell_type": "code",
   "execution_count": null,
   "id": "f9a512fb",
   "metadata": {},
   "outputs": [],
   "source": [
    "c = gf.Component(\"solution_path_length_match\")\n",
    "c1 = c << gf.components.straight_array(spacing=90)\n",
    "c2 = c << gf.components.straight_array(spacing=5)\n",
    "c2.movex(200)\n",
    "c1.y = 0\n",
    "c2.y = 0\n",
    "\n",
    "routes = gf.routing.get_bundle(\n",
    "    c1.get_ports_list(orientation=0),\n",
    "    c2.get_ports_list(orientation=180),\n",
    "    end_straight_length=0,\n",
    "    start_straight_length=0,\n",
    "    separation=80,  # increased\n",
    "    path_length_match_loops=1,\n",
    "    radius=5,\n",
    "    enforce_port_ordering=False,\n",
    ")\n",
    "\n",
    "for route in routes:\n",
    "    c.add(route.references)\n",
    "c.plot()"
   ]
  },
  {
   "cell_type": "markdown",
   "id": "c1716c3f",
   "metadata": {},
   "source": [
    "### get bundle with different orientation ports\n",
    "\n",
    "When trying to route ports with different orientations you need to bring them to a common `x` or `y`\n",
    "\n",
    "\n",
    "1. Use `route_ports_to_side` to bring all the ports to a common angle orientation and x or y.\n",
    "2. Use `get_bundle` to connect to the other group of ports."
   ]
  },
  {
   "cell_type": "code",
   "execution_count": null,
   "id": "1bf30f91",
   "metadata": {},
   "outputs": [],
   "source": [
    "from gdsfactory.samples.big_device import big_device\n",
    "\n",
    "c = gf.Component(\"sample_route\")\n",
    "c1 = c << big_device()\n",
    "c2 = c << gf.components.grating_coupler_array(n=len(c1.ports), rotation=-90)\n",
    "\n",
    "routes, ports = gf.routing.route_ports_to_side(c1.ports, side=\"south\")\n",
    "for route in routes:\n",
    "    c.add(route.references)\n",
    "\n",
    "c2.ymin = -600\n",
    "c2.x = 0\n",
    "\n",
    "routes = gf.routing.get_bundle(ports, c2.ports)\n",
    "for route in routes:\n",
    "    c.add(route.references)\n",
    "\n",
    "c.plot()"
   ]
  },
  {
   "cell_type": "markdown",
   "id": "47a049c2",
   "metadata": {},
   "source": [
    "## get_bundle_from_steps\n",
    "\n",
    "This is a manual version of `get_bundle` that is more convenient than defining the waypoints."
   ]
  },
  {
   "cell_type": "code",
   "execution_count": null,
   "id": "dea91bd6",
   "metadata": {
    "lines_to_next_cell": 0
   },
   "outputs": [],
   "source": [
    "c = gf.Component(\"get_route_from_steps_sample\")\n",
    "w = gf.components.array(\n",
    "    partial(gf.components.straight, layer=(2, 0)),\n",
    "    rows=3,\n",
    "    columns=1,\n",
    "    spacing=(0, 50),\n",
    ")\n",
    "\n",
    "left = c << w\n",
    "right = c << w\n",
    "right.move((200, 100))\n",
    "p1 = left.get_ports_list(orientation=0)\n",
    "p2 = right.get_ports_list(orientation=180)\n",
    "\n",
    "routes = gf.routing.get_bundle_from_steps(\n",
    "    p1,\n",
    "    p2,\n",
    "    steps=[{\"x\": 150}],\n",
    ")\n",
    "\n",
    "for route in routes:\n",
    "    c.add(route.references)\n",
    "\n",
    "c.plot()"
   ]
  },
  {
   "cell_type": "markdown",
   "id": "e3b591a7",
   "metadata": {},
   "source": [
    "---\n",
    "jupyter:\n",
    "  jupytext:\n",
    "    cell_metadata_filter: -all\n",
    "    custom_cell_magics: kql\n",
    "    text_representation:\n",
    "      extension: .md\n",
    "      format_name: markdown\n",
    "      format_version: '1.3'\n",
    "      jupytext_version: 1.15.2\n",
    "  kernelspec:\n",
    "    display_name: base\n",
    "    language: python\n",
    "    name: python3\n",
    "---\n",
    "\n",
    "# Routing to IO\n",
    "\n",
    "## Routing electrical\n",
    "For routing low speed DC electrical ports you can use sharp corners instead of smooth bends.\n",
    "\n",
    "You can also define `port.orientation = None` to ignore the port orientation for low speed DC ports."
   ]
  },
  {
   "cell_type": "markdown",
   "id": "820306a8",
   "metadata": {},
   "source": [
    "For single route between ports you can use `get_route_electrical`\n",
    "\n",
    "### get_route_electrical\n",
    "\n",
    "\n",
    "`get_route_electrical` has `bend = wire_corner` with a 90deg bend corner."
   ]
  },
  {
   "cell_type": "code",
   "execution_count": null,
   "id": "ce32f22e",
   "metadata": {},
   "outputs": [],
   "source": [
    "from functools import partial\n",
    "\n",
    "import gdsfactory as gf\n",
    "from gdsfactory.generic_tech import get_generic_pdk\n",
    "from gdsfactory.samples.big_device import big_device\n",
    "\n",
    "gf.CONF.display_type = \"klayout\"\n",
    "gf.config.rich_output()\n",
    "PDK = get_generic_pdk()\n",
    "PDK.activate()\n",
    "\n",
    "c = gf.Component(\"pads\")\n",
    "pt = c << gf.components.pad_array(orientation=270, columns=3)\n",
    "pb = c << gf.components.pad_array(orientation=90, columns=3)\n",
    "pt.move((70, 200))\n",
    "c.plot()"
   ]
  },
  {
   "cell_type": "code",
   "execution_count": null,
   "id": "af5c0b89",
   "metadata": {},
   "outputs": [],
   "source": [
    "c = gf.Component(\"pads_with_routes_with_bends\")\n",
    "pt = c << gf.components.pad_array(orientation=270, columns=3)\n",
    "pb = c << gf.components.pad_array(orientation=90, columns=3)\n",
    "pt.move((70, 200))\n",
    "route = gf.routing.get_route_electrical(\n",
    "    pt.ports[\"e11\"], pb.ports[\"e11\"], bend=\"bend_euler\", radius=30\n",
    ")\n",
    "c.add(route.references)\n",
    "c.plot()"
   ]
  },
  {
   "cell_type": "code",
   "execution_count": null,
   "id": "953671dc",
   "metadata": {},
   "outputs": [],
   "source": [
    "c = gf.Component(\"pads_with_routes_with_wire_corners\")\n",
    "pt = c << gf.components.pad_array(orientation=270, columns=3)\n",
    "pb = c << gf.components.pad_array(orientation=90, columns=3)\n",
    "pt.move((70, 200))\n",
    "route = gf.routing.get_route_electrical(\n",
    "    pt.ports[\"e11\"], pb.ports[\"e11\"], bend=\"wire_corner\"\n",
    ")\n",
    "c.add(route.references)\n",
    "c.plot()"
   ]
  },
  {
   "cell_type": "code",
   "execution_count": null,
   "id": "c885f132",
   "metadata": {},
   "outputs": [],
   "source": [
    "c = gf.Component(\"pads_with_routes_with_wire_corners_no_orientation\")\n",
    "pt = c << gf.components.pad_array(orientation=None, columns=3)\n",
    "pb = c << gf.components.pad_array(orientation=None, columns=3)\n",
    "pt.move((70, 200))\n",
    "route = gf.routing.get_route_electrical(\n",
    "    pt.ports[\"e11\"], pb.ports[\"e11\"], bend=\"wire_corner\"\n",
    ")\n",
    "c.add(route.references)\n",
    "c.plot()"
   ]
  },
  {
   "cell_type": "code",
   "execution_count": null,
   "id": "8f12e4f0",
   "metadata": {},
   "outputs": [],
   "source": [
    "c = gf.Component(\"multi-layer\")\n",
    "columns = 2\n",
    "ptop = c << gf.components.pad_array(columns=columns)\n",
    "pbot = c << gf.components.pad_array(orientation=90, columns=columns)\n",
    "\n",
    "ptop.movex(300)\n",
    "ptop.movey(300)\n",
    "route = gf.routing.get_route_electrical_multilayer(\n",
    "    ptop.ports[\"e11\"],\n",
    "    pbot.ports[\"e11\"],\n",
    "    end_straight_length=100,\n",
    ")\n",
    "c.add(route.references)\n",
    "c.plot()"
   ]
  },
  {
   "cell_type": "markdown",
   "id": "ef6f3103",
   "metadata": {},
   "source": [
    "There is also `bend = wire_corner45` for 45deg bend corner with parametrizable \"radius\":"
   ]
  },
  {
   "cell_type": "code",
   "execution_count": null,
   "id": "2cc17aa1",
   "metadata": {},
   "outputs": [],
   "source": [
    "c = gf.Component(\"pads_with_routes_with_wire_corner45\")\n",
    "pt = c << gf.components.pad_array(orientation=270, columns=1)\n",
    "pb = c << gf.components.pad_array(orientation=90, columns=1)\n",
    "pt.move((300, 300))\n",
    "route = gf.routing.get_route_electrical(\n",
    "    pt.ports[\"e11\"], pb.ports[\"e11\"], bend=\"wire_corner45\", radius=30\n",
    ")\n",
    "c.add(route.references)\n",
    "c.plot()"
   ]
  },
  {
   "cell_type": "code",
   "execution_count": null,
   "id": "166d9417",
   "metadata": {},
   "outputs": [],
   "source": [
    "c = gf.Component(\"pads_with_routes_with_wire_corner45\")\n",
    "pt = c << gf.components.pad_array(orientation=270, columns=1)\n",
    "pb = c << gf.components.pad_array(orientation=90, columns=1)\n",
    "pt.move((300, 300))\n",
    "route = gf.routing.get_route_electrical(\n",
    "    pt.ports[\"e11\"], pb.ports[\"e11\"], bend=\"wire_corner45\", radius=100\n",
    ")\n",
    "c.add(route.references)\n",
    "c.plot()"
   ]
  },
  {
   "cell_type": "markdown",
   "id": "bf81bf63",
   "metadata": {},
   "source": [
    "### route_quad"
   ]
  },
  {
   "cell_type": "code",
   "execution_count": null,
   "id": "61f47586",
   "metadata": {},
   "outputs": [],
   "source": [
    "c = gf.Component(\"pads_route_quad\")\n",
    "pt = c << gf.components.pad_array(orientation=270, columns=3)\n",
    "pb = c << gf.components.pad_array(orientation=90, columns=3)\n",
    "pt.move((100, 200))\n",
    "route = c << gf.routing.route_quad(pt.ports[\"e11\"], pb.ports[\"e11\"], layer=(49, 0))\n",
    "c.plot()"
   ]
  },
  {
   "cell_type": "markdown",
   "id": "4cfb6c56",
   "metadata": {},
   "source": [
    "### get_route_from_steps"
   ]
  },
  {
   "cell_type": "code",
   "execution_count": null,
   "id": "4b21ed65",
   "metadata": {},
   "outputs": [],
   "source": [
    "c = gf.Component(\"pads_route_from_steps\")\n",
    "pt = c << gf.components.pad_array(orientation=270, columns=3)\n",
    "pb = c << gf.components.pad_array(orientation=90, columns=3)\n",
    "pt.move((100, 200))\n",
    "route = gf.routing.get_route_from_steps(\n",
    "    pb.ports[\"e11\"],\n",
    "    pt.ports[\"e11\"],\n",
    "    steps=[\n",
    "        {\"y\": 200},\n",
    "    ],\n",
    "    cross_section=\"xs_metal_routing\",\n",
    "    bend=gf.components.wire_corner,\n",
    ")\n",
    "c.add(route.references)\n",
    "c.plot()"
   ]
  },
  {
   "cell_type": "code",
   "execution_count": null,
   "id": "0aeb5b6c",
   "metadata": {},
   "outputs": [],
   "source": [
    "c = gf.Component(\"pads_route_from_steps_None_orientation\")\n",
    "pt = c << gf.components.pad_array(orientation=None, columns=3)\n",
    "pb = c << gf.components.pad_array(orientation=None, columns=3)\n",
    "pt.move((100, 200))\n",
    "route = gf.routing.get_route_from_steps(\n",
    "    pb.ports[\"e11\"],\n",
    "    pt.ports[\"e11\"],\n",
    "    steps=[\n",
    "        {\"y\": 200},\n",
    "    ],\n",
    "    cross_section=\"xs_metal_routing\",\n",
    "    bend=gf.components.wire_corner,\n",
    ")\n",
    "c.add(route.references)\n",
    "c.plot()"
   ]
  },
  {
   "cell_type": "markdown",
   "id": "0b41ea4a",
   "metadata": {},
   "source": [
    "### get_bundle_electrical\n",
    "\n",
    "For routing groups of ports you can use `get_bundle` that returns a bundle of routes using a bundle router (also known as bus or river router)"
   ]
  },
  {
   "cell_type": "code",
   "execution_count": null,
   "id": "ceefd073",
   "metadata": {},
   "outputs": [],
   "source": [
    "c = gf.Component(\"pads_bundle\")\n",
    "pt = c << gf.components.pad_array(orientation=270, columns=3)\n",
    "pb = c << gf.components.pad_array(orientation=90, columns=3)\n",
    "pt.move((100, 200))\n",
    "\n",
    "routes = gf.routing.get_bundle_electrical(\n",
    "    pb.ports, pt.ports, end_straight_length=60, separation=30\n",
    ")\n",
    "\n",
    "for route in routes:\n",
    "    c.add(route.references)\n",
    "c.plot()"
   ]
  },
  {
   "cell_type": "markdown",
   "id": "cec3d6fa",
   "metadata": {},
   "source": [
    "### get_bundle_from_steps_electrical"
   ]
  },
  {
   "cell_type": "code",
   "execution_count": null,
   "id": "177803e8",
   "metadata": {},
   "outputs": [],
   "source": [
    "c = gf.Component(\"pads_bundle_steps\")\n",
    "pt = c << gf.components.pad_array(\n",
    "    partial(gf.components.pad, size=(30, 30)),\n",
    "    orientation=270,\n",
    "    columns=3,\n",
    "    spacing=(50, 0),\n",
    ")\n",
    "pb = c << gf.components.pad_array(orientation=90, columns=3)\n",
    "pt.move((300, 500))\n",
    "\n",
    "routes = gf.routing.get_bundle_from_steps_electrical(\n",
    "    pb.ports, pt.ports, end_straight_length=60, separation=30, steps=[{\"dy\": 100}]\n",
    ")\n",
    "\n",
    "for route in routes:\n",
    "    c.add(route.references)\n",
    "\n",
    "c.plot()"
   ]
  },
  {
   "cell_type": "markdown",
   "id": "39ebb0ff",
   "metadata": {},
   "source": [
    "### get_bundle_electrical_multilayer\n",
    "\n",
    "To avoid metal crossings you can use one metal layer."
   ]
  },
  {
   "cell_type": "code",
   "execution_count": null,
   "id": "f3c15734",
   "metadata": {},
   "outputs": [],
   "source": [
    "c = gf.Component(\"get_bundle_multi_layer\")\n",
    "columns = 2\n",
    "ptop = c << gf.components.pad_array(columns=columns)\n",
    "pbot = c << gf.components.pad_array(orientation=90, columns=columns)\n",
    "\n",
    "ptop.movex(300)\n",
    "ptop.movey(300)\n",
    "routes = gf.routing.get_bundle_electrical_multilayer(\n",
    "    ptop.ports, pbot.ports, end_straight_length=100, separation=20\n",
    ")\n",
    "for route in routes:\n",
    "    c.add(route.references)\n",
    "c.plot()"
   ]
  },
  {
   "cell_type": "markdown",
   "id": "e7738df6",
   "metadata": {},
   "source": [
    "## Routing to pads\n",
    "\n",
    "You can also route to electrical pads."
   ]
  },
  {
   "cell_type": "code",
   "execution_count": null,
   "id": "2885e022",
   "metadata": {},
   "outputs": [],
   "source": [
    "c = gf.components.straight_heater_metal(length=100.0)\n",
    "cc = gf.routing.add_pads_bot(component=c, port_names=(\"l_e4\", \"r_e4\"), fanout_length=50)\n",
    "cc.plot()"
   ]
  },
  {
   "cell_type": "code",
   "execution_count": null,
   "id": "dd6b2ad9",
   "metadata": {
    "lines_to_next_cell": 2
   },
   "outputs": [],
   "source": [
    "c = gf.components.straight_heater_metal(length=100.0)\n",
    "cc = gf.routing.add_pads_top(component=c)\n",
    "cc.plot()"
   ]
  },
  {
   "cell_type": "code",
   "execution_count": null,
   "id": "74716164",
   "metadata": {},
   "outputs": [],
   "source": [
    "c = gf.components.straight_heater_metal(length=100.0)\n",
    "cc = gf.routing.add_pads_top(component=c, port_names=(\"l_e2\", \"r_e2\"))\n",
    "cc.plot()"
   ]
  },
  {
   "cell_type": "code",
   "execution_count": null,
   "id": "9680aceb",
   "metadata": {},
   "outputs": [],
   "source": [
    "c = gf.c.nxn(\n",
    "    xsize=600,\n",
    "    ysize=200,\n",
    "    north=2,\n",
    "    south=3,\n",
    "    wg_width=10,\n",
    "    layer=\"M3\",\n",
    "    port_type=\"electrical\",\n",
    ")\n",
    "cc = gf.routing.add_pads_top(component=c)\n",
    "cc.plot()"
   ]
  },
  {
   "cell_type": "code",
   "execution_count": null,
   "id": "eea6d2c8",
   "metadata": {},
   "outputs": [],
   "source": [
    "n = west = north = south = east = 10\n",
    "spacing = 20\n",
    "c = gf.components.nxn(\n",
    "    xsize=n * spacing,\n",
    "    ysize=n * spacing,\n",
    "    west=west,\n",
    "    east=east,\n",
    "    north=north,\n",
    "    south=south,\n",
    "    port_type=\"electrical\",\n",
    "    wg_width=10,\n",
    ")\n",
    "c.plot()"
   ]
  },
  {
   "cell_type": "code",
   "execution_count": null,
   "id": "12eb4a81",
   "metadata": {},
   "outputs": [],
   "source": [
    "cc = gf.routing.add_pads_top(component=c)\n",
    "cc.plot()"
   ]
  },
  {
   "cell_type": "markdown",
   "id": "70fb6bcb",
   "metadata": {},
   "source": [
    "## Routing to optical terminations\n",
    "\n",
    "### Route to Fiber Array\n",
    "\n",
    "You can route to a fiber array."
   ]
  },
  {
   "cell_type": "code",
   "execution_count": null,
   "id": "d13307d3",
   "metadata": {},
   "outputs": [],
   "source": [
    "component = big_device(nports=10)\n",
    "c = gf.routing.add_fiber_array(component=component, radius=10.0, fanout_length=60.0)\n",
    "c.plot()"
   ]
  },
  {
   "cell_type": "markdown",
   "id": "7867a76d",
   "metadata": {},
   "source": [
    "You can also mix and match TE and TM grating couplers. Notice that the `TM` polarization grating coupler is bigger."
   ]
  },
  {
   "cell_type": "code",
   "execution_count": null,
   "id": "c93ed629",
   "metadata": {},
   "outputs": [],
   "source": [
    "import gdsfactory as gf\n",
    "\n",
    "c = gf.components.mzi_phase_shifter()\n",
    "gcte = gf.components.grating_coupler_te\n",
    "\n",
    "cc = gf.routing.add_fiber_array(\n",
    "    component=c,\n",
    "    optical_routing_type=2,\n",
    "    grating_coupler=[\n",
    "        gf.components.grating_coupler_te,\n",
    "        gf.components.grating_coupler_tm,\n",
    "    ],\n",
    "    radius=20,\n",
    ")\n",
    "cc.plot()"
   ]
  },
  {
   "cell_type": "markdown",
   "id": "f0ae3e8b",
   "metadata": {},
   "source": [
    "### Route to Single fibers\n",
    "\n",
    "You can route to a single fiber input and single fiber output."
   ]
  },
  {
   "cell_type": "code",
   "execution_count": null,
   "id": "7e0e8191",
   "metadata": {},
   "outputs": [],
   "source": [
    "c = gf.components.ring_single()\n",
    "cc = gf.routing.add_fiber_single(component=c)\n",
    "cc.plot()"
   ]
  },
  {
   "cell_type": "markdown",
   "id": "66ee5e4d",
   "metadata": {},
   "source": [
    "### Route to edge couplers\n",
    "\n",
    "You can also route Edge couplers to a fiber array or to both sides of the chip.\n",
    "\n",
    "For routing to both sides you can follow different strategies:\n",
    "\n",
    "1. Place the edge couplers and route your components to the edge couplers.\n",
    "2. Extend your component ports to each side.\n",
    "3. Anything you imagine ..."
   ]
  },
  {
   "cell_type": "code",
   "execution_count": null,
   "id": "afd8ae27",
   "metadata": {},
   "outputs": [],
   "source": [
    "import numpy as np\n",
    "\n",
    "import gdsfactory as gf\n",
    "from gdsfactory.generic_tech import LAYER\n",
    "\n",
    "\n",
    "@gf.cell\n",
    "def sample_die(size=(8e3, 40e3), y_spacing: float = 10) -> gf.Component:\n",
    "    \"\"\"Returns a sample die\n",
    "\n",
    "    Args:\n",
    "        size: size of the die.\n",
    "        y_spacing: spacing between components.\n",
    "\n",
    "    Returns:\n",
    "        c: a sample die.\n",
    "\n",
    "    \"\"\"\n",
    "    c = gf.Component()\n",
    "\n",
    "    die = c << gf.c.rectangle(size=np.array(size), layer=LAYER.FLOORPLAN, centered=True)\n",
    "    die = c << gf.c.rectangle(\n",
    "        size=np.array(size) - 2 * np.array((50, 50)),\n",
    "        layer=LAYER.FLOORPLAN,\n",
    "        centered=True,\n",
    "    )\n",
    "    ymin = die.ymin\n",
    "    ec = gf.components.edge_coupler_silicon()\n",
    "\n",
    "    cells = gf.components.cells\n",
    "    skip = [\n",
    "        \"component_lattice\",\n",
    "        \"component_sequence\",\n",
    "        \"extend_port\",\n",
    "        \"extend_ports_list\",\n",
    "        \"die\",\n",
    "        \"wafer\",\n",
    "    ]\n",
    "    for component_name in skip:\n",
    "        cells.pop(component_name, None)\n",
    "\n",
    "    for component in cells.values():\n",
    "        ci = component()\n",
    "        ci = (\n",
    "            gf.routing.add_pads_top(\n",
    "                ci,\n",
    "                pad=gf.components.pad,\n",
    "                pad_spacing=150,\n",
    "            )\n",
    "            if ci.get_ports_list(port_type=\"electrical\")\n",
    "            else ci\n",
    "        )\n",
    "        ref = c << ci\n",
    "        ref.ymin = ymin\n",
    "        ref.x = 0\n",
    "        ymin = ref.ymax + y_spacing\n",
    "\n",
    "        routes_left, ports_left = gf.routing.route_ports_to_side(\n",
    "            ref.get_ports_list(orientation=180),\n",
    "            cross_section=\"xs_sc\",\n",
    "            side=\"west\",\n",
    "            x=die.xmin + ec.xsize,\n",
    "        )\n",
    "        for route in routes_left:\n",
    "            c.add(route.references)\n",
    "\n",
    "        routes_right, ports_right = gf.routing.route_ports_to_side(\n",
    "            ref.get_ports_list(orientation=0),\n",
    "            cross_section=\"xs_sc\",\n",
    "            x=die.xmax - ec.xsize,\n",
    "            side=\"east\",\n",
    "        )\n",
    "        for route in routes_right:\n",
    "            c.add(route.references)\n",
    "\n",
    "        for port in ports_right:\n",
    "            ref = c << ec\n",
    "            ref.connect(\"o1\", port)\n",
    "            text = c << gf.c.text(\n",
    "                text=f\"{ci.name}-{port.name.split('_')[0]}\", size=10, layer=LAYER.MTOP\n",
    "            )\n",
    "            text.xmax = ref.xmax - 10\n",
    "            text.y = ref.y\n",
    "\n",
    "        for port in ports_left:\n",
    "            ref = c << ec\n",
    "            ref.connect(\"o1\", port)\n",
    "            text = c << gf.c.text(\n",
    "                text=f\"{ci.name}-{port.name.split('_')[0]}\", size=10, layer=LAYER.MTOP\n",
    "            )\n",
    "            text.xmin = ref.xmin + 10\n",
    "            text.y = ref.y\n",
    "\n",
    "    return c\n",
    "\n",
    "\n",
    "c = sample_die()\n",
    "gf.remove_from_cache(c.name)\n",
    "c.show(show_ports=True)  # show in klayout\n",
    "c.plot()  # plot in notebook"
   ]
  },
  {
   "cell_type": "code",
   "execution_count": null,
   "id": "961a3e01",
   "metadata": {
    "lines_to_next_cell": 0
   },
   "outputs": [],
   "source": []
  },
  {
   "cell_type": "markdown",
   "id": "f0333d1b",
   "metadata": {},
   "source": [
    "---\n",
    "jupyter:\n",
    "  jupytext:\n",
    "    cell_metadata_filter: -all\n",
    "    custom_cell_magics: kql\n",
    "    text_representation:\n",
    "      extension: .md\n",
    "      format_name: markdown\n",
    "      format_version: '1.3'\n",
    "      jupytext_version: 1.15.2\n",
    "  kernelspec:\n",
    "    display_name: base\n",
    "    language: python\n",
    "    name: python3\n",
    "---\n",
    "\n",
    "# Non manhattan routing\n",
    "\n",
    "gdsfactory snaps ports to grid by default to avoid grid snapping errors\n",
    "\n",
    "![](https://i.imgur.com/SUXBWed.png)\n",
    "\n",
    "![](https://i.imgur.com/suiHyqM.png)\n",
    "\n",
    "gdsfactory provides functions to connect and route components ports that are off-grid or have non manhattan orientations (0, 90, 180, 270 degrees)\n",
    "\n",
    "However this feature is turned off by default for safety reasons.\n",
    "\n",
    "If you want to create off-grid ports and non-manhattan connections you will have to enable it manually.\n",
    "\n",
    "## Fix Non manhattan connections"
   ]
  },
  {
   "cell_type": "markdown",
   "id": "1e72a195",
   "metadata": {},
   "source": [
    "The GDS format often has issues with non-manhattan shapes, due to the rounding of vertices to a unit grid and to downstream tools (i.e. DRC) which often tend to assume cell references only have rotations at 90 degree intervals. For example:"
   ]
  },
  {
   "cell_type": "code",
   "execution_count": null,
   "id": "17c36bbb",
   "metadata": {},
   "outputs": [],
   "source": [
    "import gdsfactory as gf\n",
    "from gdsfactory.decorators import has_valid_transformations\n",
    "from gdsfactory.generic_tech import get_generic_pdk\n",
    "\n",
    "gf.config.rich_output()\n",
    "gf.config.enable_off_grid_ports()  # enable off grid ports\n",
    "PDK = get_generic_pdk()\n",
    "PDK.activate()\n",
    "\n",
    "\n",
    "@gf.cell\n",
    "def demo_non_manhattan():\n",
    "    c = gf.Component(\"bend\")\n",
    "    b = c << gf.components.bend_circular(angle=30)\n",
    "    s = c << gf.components.straight(length=5)\n",
    "    s.connect(\"o1\", b.ports[\"o2\"])\n",
    "    return c\n",
    "\n",
    "\n",
    "c1 = demo_non_manhattan()\n",
    "print(has_valid_transformations(c1))\n",
    "c1.plot()"
   ]
  },
  {
   "cell_type": "markdown",
   "id": "656ee246",
   "metadata": {},
   "source": [
    "if you zoom in between the bends you will see a notch between waveguides due to non-manhattan connection between the bends.\n",
    "\n",
    "![gap](https://i.imgur.com/jBEwy9T.png)\n",
    "\n",
    "You an fix it with the `flatten_invalid_refs` flag when you call `Component.write_gds()`."
   ]
  },
  {
   "cell_type": "code",
   "execution_count": null,
   "id": "2f84a39e",
   "metadata": {},
   "outputs": [],
   "source": [
    "help(c1.write_gds)"
   ]
  },
  {
   "cell_type": "code",
   "execution_count": null,
   "id": "c837e309",
   "metadata": {},
   "outputs": [],
   "source": [
    "gdspath = c1.write_gds(flatten_invalid_refs=True)\n",
    "c2 = gf.import_gds(gdspath)\n",
    "has_valid_transformations(c1)  # has gap issues"
   ]
  },
  {
   "cell_type": "code",
   "execution_count": null,
   "id": "f0e8a794",
   "metadata": {},
   "outputs": [],
   "source": [
    "has_valid_transformations(c2)  # works perfect"
   ]
  },
  {
   "cell_type": "code",
   "execution_count": null,
   "id": "5b8929f0",
   "metadata": {},
   "outputs": [],
   "source": [
    "c2.plot()"
   ]
  },
  {
   "cell_type": "markdown",
   "id": "5f80570e",
   "metadata": {},
   "source": [
    "If you zoom in the connection the decorator you can see it fixed the issue in `c` that we fixed in `c2` thanks to the `flatten_invalid_refs` flag.\n",
    "\n",
    "![no gap](https://i.imgur.com/VbSgIjP.png)"
   ]
  },
  {
   "cell_type": "markdown",
   "id": "e3c4c5e0",
   "metadata": {},
   "source": [
    "### Local flattening references.\n",
    "\n",
    "Sometimes this global `flatten_invalid_refs` can change your vias or other components by 1nm.\n",
    "\n",
    "You can also create a copy of the cell after applying `flatten_references`. This can be applied to a single cell.\n"
   ]
  },
  {
   "cell_type": "code",
   "execution_count": null,
   "id": "d7964a0b",
   "metadata": {},
   "outputs": [],
   "source": [
    "c3 = c1.flatten_invalid_refs()\n",
    "c3.plot()"
   ]
  },
  {
   "cell_type": "markdown",
   "id": "d91e33e2",
   "metadata": {},
   "source": [
    "### Default PDK `GdsWriteSettings`\n",
    "If you are frequently (or even sometimes!) creating geometries like this, with non-manhattan ports and/or references with non-90-degree rotations, I highly recommend that you set `flatten_invalid_refs=True` in your PDK's `GdsWriteSettings`. If you are the PDK author, you can do this in the definition of the pdk. Or, you can modify the PDK at runtime like."
   ]
  },
  {
   "cell_type": "code",
   "execution_count": null,
   "id": "5816befc",
   "metadata": {
    "lines_to_next_cell": 2
   },
   "outputs": [],
   "source": [
    "pdk = gf.get_active_pdk()\n",
    "pdk.gds_write_settings.flatten_invalid_refs = True"
   ]
  },
  {
   "cell_type": "markdown",
   "id": "0b5465be",
   "metadata": {},
   "source": [
    "With this flag set, invalid references will be flattened by default, preventing gaps and errors in downstream tools which may not support cell references with arbitrary rotation, without needing to specify this on each GDS write.\n",
    "\n",
    "You should note, however, that this will *not* fix all gaps between faces of unequal length, as it is *impossible* to guarantee this for diagonal line segments of unequal lengths constrained to end on integer grid values."
   ]
  },
  {
   "cell_type": "markdown",
   "id": "27bcfb80",
   "metadata": {},
   "source": [
    "## Avoid Non manhattan connections\n",
    "\n",
    "### Extrude at the end (ideal)\n",
    "\n",
    "Some connections are hard to fix due to the ports of the bends being slightly off-center.\n",
    "\n",
    "For that the best is to concatenate the path first and then extrude last.\n",
    "\n"
   ]
  },
  {
   "cell_type": "code",
   "execution_count": null,
   "id": "c9d26b96",
   "metadata": {},
   "outputs": [],
   "source": [
    "@gf.cell\n",
    "def demo_non_manhattan_extrude_fix():\n",
    "    c = gf.Component(\"bend\")\n",
    "    p1 = gf.path.arc(angle=30)\n",
    "    p2 = gf.path.straight(length=5)\n",
    "    p = p1 + p2\n",
    "    c = p.extrude(cross_section=\"xs_sc\")\n",
    "    return c\n",
    "\n",
    "\n",
    "c1 = demo_non_manhattan_extrude_fix()\n",
    "c1.plot()"
   ]
  },
  {
   "cell_type": "markdown",
   "id": "8b205ba3",
   "metadata": {},
   "source": [
    "### Fix polygons\n",
    "\n",
    "You can also fix polygons by merge"
   ]
  },
  {
   "cell_type": "code",
   "execution_count": null,
   "id": "a813fee1",
   "metadata": {},
   "outputs": [],
   "source": [
    "import gdsfactory as gf\n",
    "\n",
    "c = gf.Component(\"bend\")\n",
    "b = c << gf.components.bend_circular(angle=30)\n",
    "s = c << gf.components.straight(length=5)\n",
    "s.connect(\"o1\", b.ports[\"o2\"])\n",
    "p = c.get_polygons(as_shapely_merged=True)\n",
    "c2 = gf.Component(\"bend_fixed\")\n",
    "c2.add_polygon(p, layer=(1, 0))\n",
    "c2.plot()"
   ]
  },
  {
   "cell_type": "code",
   "execution_count": null,
   "id": "3ca8b1f1",
   "metadata": {},
   "outputs": [],
   "source": [
    "import gdsfactory as gf\n",
    "\n",
    "c = gf.Component(\"bend\")\n",
    "b = c << gf.components.bend_circular(angle=30)\n",
    "s = c << gf.components.straight(length=5)\n",
    "s.connect(\"o1\", b.ports[\"o2\"])\n",
    "p = c.get_polygons(as_shapely_merged=True)\n",
    "c2 = gf.Component(\"bend_fixed\")\n",
    "c2.add_polygon(p, layer=(1, 0))\n",
    "c2.plot()"
   ]
  },
  {
   "cell_type": "code",
   "execution_count": null,
   "id": "8fb2772c",
   "metadata": {},
   "outputs": [],
   "source": [
    "@gf.cell\n",
    "def demo_non_manhattan_merge_polygons():\n",
    "    c = gf.Component(\"bend\")\n",
    "    b = c << gf.components.bend_circular(angle=30)\n",
    "    s = c << gf.components.straight(length=5)\n",
    "    s.connect(\"o1\", b.ports[\"o2\"])\n",
    "    p = c.get_polygons(as_shapely_merged=True)\n",
    "\n",
    "    c2 = gf.Component()\n",
    "    c2.add_polygon(p, layer=(1, 0))\n",
    "    c2.add_port(\"o1\", port=b[\"o1\"])\n",
    "    c2.add_port(\"o2\", port=s[\"o2\"])\n",
    "    return c2\n",
    "\n",
    "\n",
    "c1 = demo_non_manhattan_merge_polygons()\n",
    "c1.plot()"
   ]
  },
  {
   "cell_type": "markdown",
   "id": "0821d9fb",
   "metadata": {},
   "source": [
    "## Non-manhattan router\n",
    "<div class=\"alert alert-block alert-warning\">\n",
    "<b>Warning:</b> For using the non-manhattan router you need to gf.config.enable_off_grid_ports() in your scripts and use Component.flatten_invalid_refs() or write_gds(flatten_invalid_refs=True) to avoid 1nm gaps in your layout due to grid snapping issues.\n",
    "</div>\n",
    "\n",
    "The non-manhattan (all-angle) router allows you to route between ports and in directions which are not aligned with the x and y axes, which is the constraint of most other gdsfactory routers. Unlike `gf.path.smooth()` however, the all-angle router:\n",
    "\n",
    "- has a `steps` based syntax, fully compatible with the yaml-based circuit flow\n",
    "- builds paths from available PDK components, such that routes can be simulated naturally by S-matrix-based circuit modeling tools, like SAX\n",
    "- allows for advanced logic in selecting appropriate bends, cross-sections, and automatic tapers, based on context\n",
    "- includes advanced cross-section-aware bundling logic\n",
    "\n",
    "### A simple route\n",
    "Let's start with a simple route between two non-orthogonal ports.\n",
    "Consider the yaml-based pic below."
   ]
  },
  {
   "cell_type": "code",
   "execution_count": null,
   "id": "23e1cfe2",
   "metadata": {},
   "outputs": [],
   "source": [
    "from pathlib import Path\n",
    "\n",
    "from IPython.display import Code, display\n",
    "\n",
    "from gdsfactory.read import cell_from_yaml_template\n",
    "\n",
    "\n",
    "def show_yaml_pic(filepath):\n",
    "    gf.clear_cache()\n",
    "    cell_name = filepath.stem\n",
    "    return display(\n",
    "        Code(filename=filepath, language=\"yaml+jinja\"),\n",
    "        cell_from_yaml_template(filepath, name=cell_name)(),\n",
    "    )\n",
    "\n",
    "\n",
    "# we're going to use yaml-based PICs for our examples. you can find them in docs/notebooks/yaml_pics\n",
    "# if you'd like to tweak and play along\n",
    "sample_dir = Path(\"yaml_pics\")\n",
    "\n",
    "basic_sample_fn = sample_dir / \"aar_simple.pic.yml\"\n",
    "show_yaml_pic(basic_sample_fn)"
   ]
  },
  {
   "cell_type": "markdown",
   "id": "86c11b6e",
   "metadata": {},
   "source": [
    "You can see that even though one of the ports was non-orthogonal, the route was completed, using non-90-degree bends. The logic of how this works is explained further in the next section"
   ]
  },
  {
   "cell_type": "markdown",
   "id": "94d8c9a6",
   "metadata": {},
   "source": [
    "### Bends and connectors\n",
    "Let's first consider the \"simple\" case, as shown above, where the vectors of the two ports to route between intersect at a point. The logic for how to build the route is as follows:\n",
    "\n",
    "1. Find the intersection point of the two port vectors.\n",
    "2. Place the bend at the intersection point of the two vectors by its \"handle\". The bend's handle is the point of intersetion of it's inverted port vectors (i.e. if the ports were pointed inwards rather than outwards). For any arbitrary bend, this guarantees that the ports of the bend will be in the straight line of sight of the ports which they should connect to, inset by some amount.\n",
    "3. Call the route or segment's specified connector function to generate a straight section between the bend's ports and their adjacent ports.\n",
    "\n",
    "Now, this is where it gets fun. Since we've calculated our bend first and worked backwards, we know how much room we have for the straight connector, and we can take that into consideration when creating it.\n",
    "\n",
    "The three connectors available by default are\n",
    "\n",
    "- `low_loss`: auto-tapers to the lowest-loss cross-section possible to fit in the given segment\n",
    "- `auto_taper`: auto-tapers to the cross-section specified, based on the active pdk's specified `layer_transitions`\n",
    "- `simple`: simply routes with a straight in the cross-section specified (no auto-tapering)\n",
    "\n",
    "You can also define your own connector, as a function of the two ports which should be connected and the (suggested) cross-section. See the example below, which implements a very custom connector, composed of two sine bends and a physical label."
   ]
  },
  {
   "cell_type": "code",
   "execution_count": null,
   "id": "41769372",
   "metadata": {},
   "outputs": [],
   "source": [
    "import numpy as np\n",
    "\n",
    "import gdsfactory.routing.all_angle as aar\n",
    "\n",
    "\n",
    "def wonky_connector(port1, port2, cross_section):\n",
    "    # let's make a wavy-looking connector of two sine tapers, each half the length of the total connector\n",
    "    # we'll let cross_section define the cross-section at the *center* of the connector here\n",
    "    connector_length = np.linalg.norm(port2.center - port1.center)\n",
    "    t1 = (\n",
    "        gf.components.taper_cross_section_sine(\n",
    "            length=0.5 * connector_length,\n",
    "            cross_section1=port1.cross_section,\n",
    "            cross_section2=cross_section,\n",
    "        )\n",
    "        .ref()\n",
    "        .connect(\"o1\", port1)\n",
    "    )\n",
    "    t1.info[\"length\"] = connector_length * 0.5\n",
    "    t2 = (\n",
    "        gf.components.taper_cross_section_sine(\n",
    "            length=0.5 * connector_length,\n",
    "            cross_section1=port2.cross_section,\n",
    "            cross_section2=cross_section,\n",
    "        )\n",
    "        .ref()\n",
    "        .connect(\"o1\", port2)\n",
    "    )\n",
    "    t2.info[\"length\"] = connector_length * 0.5\n",
    "    center_port = t1.ports[\"o2\"]\n",
    "    # just for fun-- we can add a non-functional reference also\n",
    "    label = gf.components.text(\n",
    "        f\"W = {center_port.width}, L = {connector_length:.3f}\",\n",
    "        size=center_port.width * 0.5,\n",
    "        justify=\"center\",\n",
    "        layer=\"M1\",\n",
    "    ).ref()\n",
    "    label.move(\n",
    "        label.center, destination=center_port.center + (0, center_port.width)\n",
    "    ).rotate(center_port.orientation, center=center_port.center)\n",
    "    label.info[\"length\"] = 0\n",
    "    return [t1, t2, label]\n",
    "\n",
    "\n",
    "# register the connector so it can be used by name\n",
    "aar.CONNECTORS[\"wonky\"] = wonky_connector\n",
    "\n",
    "wonky_fn = sample_dir / \"aar_wonky_connector.pic.yml\"\n",
    "show_yaml_pic(wonky_fn)"
   ]
  },
  {
   "cell_type": "markdown",
   "id": "82eac1a6",
   "metadata": {},
   "source": [
    "### Indirect routes\n",
    "Indirect routes are those in which the port vectors do not intersect. In this case, you will see that an S-like bend is created."
   ]
  },
  {
   "cell_type": "code",
   "execution_count": null,
   "id": "99836f20",
   "metadata": {},
   "outputs": [],
   "source": [
    "indirect_fn = sample_dir / \"aar_indirect.pic.yml\"\n",
    "show_yaml_pic(indirect_fn)"
   ]
  },
  {
   "cell_type": "markdown",
   "id": "4f4ddf79",
   "metadata": {},
   "source": [
    "This is also capable of looping around, i.e. for ~180 degree connections."
   ]
  },
  {
   "cell_type": "code",
   "execution_count": null,
   "id": "7cd0e97d",
   "metadata": {},
   "outputs": [],
   "source": [
    "show_yaml_pic(sample_dir / \"aar_around_the_back.pic.yml\")"
   ]
  },
  {
   "cell_type": "markdown",
   "id": "573c9405",
   "metadata": {},
   "source": [
    "We can fine-tune how this looks by adjusting the `start_angle` and `end_angle` of the route, which will abut a bend to the start/end ports such that they exit at the angle specified."
   ]
  },
  {
   "cell_type": "code",
   "execution_count": null,
   "id": "c3620257",
   "metadata": {},
   "outputs": [],
   "source": [
    "show_yaml_pic(sample_dir / \"aar_around_the_back2.pic.yml\")"
   ]
  },
  {
   "cell_type": "markdown",
   "id": "15757168",
   "metadata": {},
   "source": [
    "You may also want to further customize the bend used in the route, as shown below."
   ]
  },
  {
   "cell_type": "code",
   "execution_count": null,
   "id": "e0d5dfd7",
   "metadata": {},
   "outputs": [],
   "source": [
    "show_yaml_pic(sample_dir / \"aar_around_the_back3.pic.yml\")"
   ]
  },
  {
   "cell_type": "markdown",
   "id": "dd84125e",
   "metadata": {},
   "source": [
    "### Steps\n",
    "For more complex routes, i.e. when weaving around obstacles, you may want to fine-tune the path that the route traverses. We can do this by defining `steps`."
   ]
  },
  {
   "cell_type": "code",
   "execution_count": null,
   "id": "a91199a7",
   "metadata": {},
   "outputs": [],
   "source": [
    "show_yaml_pic(sample_dir / \"aar_steps01.pic.yml\")"
   ]
  },
  {
   "cell_type": "markdown",
   "id": "fe280c85",
   "metadata": {},
   "source": [
    "There are many different parameters you can put in the step directives. To make a complex route like this, a great way is to first sketch it out with the klayout ruler, then convert it to a set of `ds` and `exit_angle` step directives. Combine this with `gf watch` for live file-watching, and you can quickly iterate to achieve your desired route.\n",
    "\n",
    "\n",
    "For example, consider the following circuit. Let's start with the same two MMIs and obstacle as in the previous example."
   ]
  },
  {
   "cell_type": "code",
   "execution_count": null,
   "id": "283e7210",
   "metadata": {},
   "outputs": [],
   "source": [
    "show_yaml_pic(sample_dir / \"aar_steps02_initial.pic.yml\")"
   ]
  },
  {
   "cell_type": "markdown",
   "id": "e2b3ca35",
   "metadata": {},
   "source": [
    "Then, translate the steps you took with the ruler into a set of steps directives."
   ]
  },
  {
   "cell_type": "code",
   "execution_count": null,
   "id": "9d6f6119",
   "metadata": {},
   "outputs": [],
   "source": [
    "show_yaml_pic(sample_dir / \"aar_steps02_final.pic.yml\")"
   ]
  },
  {
   "cell_type": "markdown",
   "id": "c450f694",
   "metadata": {},
   "source": [
    "Perfect! Just like we sketched it!\n",
    "\n",
    "You can also start to customize cross-sections and connectors of individual segments, as shown below."
   ]
  },
  {
   "cell_type": "code",
   "execution_count": null,
   "id": "38206688",
   "metadata": {},
   "outputs": [],
   "source": [
    "show_yaml_pic(sample_dir / \"aar_steps03.pic.yml\")"
   ]
  },
  {
   "cell_type": "markdown",
   "id": "84489509",
   "metadata": {},
   "source": [
    "### Bundles\n",
    "You can also create all-angle bundles."
   ]
  },
  {
   "cell_type": "code",
   "execution_count": null,
   "id": "8b07a252",
   "metadata": {},
   "outputs": [],
   "source": [
    "show_yaml_pic(sample_dir / \"aar_bundles01.pic.yml\")"
   ]
  },
  {
   "cell_type": "markdown",
   "id": "d49e9995",
   "metadata": {},
   "source": [
    "In addition to the parameters that can be customized for each step of a *single* route, *bundles* also let you customize the separation value step-by-step. For example, let's space out the routes of that top, horizontal segment of the bundle."
   ]
  },
  {
   "cell_type": "code",
   "execution_count": null,
   "id": "3c8f89d2",
   "metadata": {},
   "outputs": [],
   "source": [
    "show_yaml_pic(sample_dir / \"aar_bundles02.pic.yml\")"
   ]
  },
  {
   "cell_type": "code",
   "execution_count": null,
   "id": "cb3b4afa",
   "metadata": {},
   "outputs": [],
   "source": [
    "%%html\n",
    "<style>\n",
    "  table {margin-left: 0 !important;}\n",
    "</style>"
   ]
  },
  {
   "cell_type": "markdown",
   "id": "41b1b799",
   "metadata": {},
   "source": [
    "### Summary of available parameters\n",
    "We went through many examples above. Here is a quick recap of the parameters we used for the all-angle router.\n",
    "\n",
    "#### Top-level settings\n",
    "These settings can be used in the bundle's top-level `settings` block and will be applied to the whole bundle, unless overridden by an individual segment.\n",
    "\n",
    "| Name | Function |\n",
    "| :-- | :-- |\n",
    "| start_angle | Defines the starting angle of the route (attaches a bend to the starting port to exit at that angle) |\n",
    "| end_angle | Defines the angle leaving the end port of the route (attaches a bend to the end port to exit at that angle) |\n",
    "| bend | The default component to use for the bends |\n",
    "| cross_section | This cross-section will be passed to the bends and the straight connectors. However, these functions can use this information as they like (i.e. an auto-taper connector will attempt to taper to the cross-section but a low-loss connector may ignore it |\n",
    "| end_connector | Specifies the connector to use for the final straight segment of the route |\n",
    "| end_cross_section| Specifies the cross-section to use for the final straight segment of the route |\n",
    "| separation | (bundle only) Specifies the separation between adjacent routes. If `None`, it will query each segment's cross-section for the appropriate default value |\n",
    "| steps | A set of directives for custom routing. This is expected to be a list of dictionaries with parameters per step as defined below |\n",
    "\n",
    "#### Step directives\n",
    "These settings can be defined within individual steps to control the direction of each step.\n",
    "\n",
    "Please note that an error will be thrown if a step is overconstrained. For example, `x` and `y` can be defined together in a single step *only if* `exit_angle` is not defined in the previous step. If `exit_angle` is defined (or angle is otherwise constrained by the port before it), you can only define *one* of x, y, ds, dx, or dy.\n",
    "\n",
    "| Name | Function |\n",
    "| :-- | :-- |\n",
    "| x | Route to the given x coordinate (absolute) |\n",
    "| y | Route to the given y coordinate (absolute) |\n",
    "| ds | Proceed in the current orientation by this distance |\n",
    "| dx | The x-component of distance traveled should be this value |\n",
    "| dy | The y-component of distance traveled should be this value |\n",
    "| exit_angle | After this segment, place a bend to exit with this angle (degrees) |\n",
    "\n",
    "#### Step customizations\n",
    "These settings can also be set on individual steps to customize the route in that segment.\n",
    "\n",
    "| Name | Function |\n",
    "| :-- | :-- |\n",
    "| cross_section | Use this cross-section for this segment. Will fall back to an auto-taper connector by default if this is specified alone, without `connector`.\n",
    "| connector | Use this connector for this segment |\n",
    "| separation | (bundles only) The separation to use between routes of this segment |"
   ]
  },
  {
   "cell_type": "markdown",
   "id": "307b16d5",
   "metadata": {},
   "source": [
    "### Python-based examples\n",
    "Most of the above examples were done in yaml syntax. Here are some additional examples creating the routes in pure python."
   ]
  },
  {
   "cell_type": "code",
   "execution_count": null,
   "id": "709f0047",
   "metadata": {},
   "outputs": [],
   "source": [
    "import gdsfactory as gf\n",
    "\n",
    "c = gf.Component(\"demo\")\n",
    "\n",
    "mmi = gf.components.mmi2x2(width_mmi=10, gap_mmi=3)\n",
    "mmi1 = c << mmi\n",
    "mmi2 = c << mmi\n",
    "\n",
    "mmi2.move((100, 10))\n",
    "mmi2.rotate(30)\n",
    "\n",
    "routes = gf.routing.get_bundle_all_angle(\n",
    "    mmi1.get_ports_list(orientation=0),\n",
    "    [mmi2.ports[\"o2\"], mmi2.ports[\"o1\"]],\n",
    "    connector=None,\n",
    ")\n",
    "for route in routes:\n",
    "    c.add(route.references)\n",
    "c.plot()"
   ]
  },
  {
   "cell_type": "code",
   "execution_count": null,
   "id": "cab4e8c6",
   "metadata": {},
   "outputs": [],
   "source": [
    "c = gf.Component(\"demo\")\n",
    "\n",
    "mmi = gf.components.mmi2x2(width_mmi=10, gap_mmi=3)\n",
    "mmi1 = c << mmi\n",
    "mmi2 = c << mmi\n",
    "\n",
    "mmi2.move((100, 10))\n",
    "mmi2.rotate(30)\n",
    "\n",
    "routes = gf.routing.get_bundle_all_angle(\n",
    "    mmi1.get_ports_list(orientation=0),\n",
    "    [mmi2.ports[\"o2\"], mmi2.ports[\"o1\"]],\n",
    "    connector=\"low_loss\",\n",
    ")\n",
    "for route in routes:\n",
    "    c.add(route.references)\n",
    "c.plot()"
   ]
  },
  {
   "cell_type": "code",
   "execution_count": null,
   "id": "615df5ca",
   "metadata": {
    "lines_to_next_cell": 0
   },
   "outputs": [],
   "source": [
    "import gdsfactory as gf\n",
    "from gdsfactory.routing.all_angle import get_bundle_all_angle\n",
    "\n",
    "NUM_WIRES = 10\n",
    "\n",
    "\n",
    "@gf.cell\n",
    "def inner_array():\n",
    "    c = gf.Component()\n",
    "    base = gf.components.straight(cross_section=gf.cross_section.strip).rotate(45)\n",
    "    for x in range(10):\n",
    "        for y in range(6):\n",
    "            base_ref = c.add_ref(base).move((x * 20 - 90, y * 20 - 50))\n",
    "            c.add_port(f\"inner_{x}_{y}\", port=base_ref.ports[\"o1\"])\n",
    "    return c\n",
    "\n",
    "\n",
    "@gf.cell\n",
    "def outer_array():\n",
    "    c = gf.Component()\n",
    "    base = gf.components.straight(cross_section=gf.cross_section.strip)\n",
    "    for idx, theta in enumerate(range(0, 360, 6)):\n",
    "        base_ref = c.add_ref(base).move((300, 0)).rotate(theta)\n",
    "        c.add_port(f\"outer_{idx}\", port=base_ref.ports[\"o1\"])\n",
    "    return c\n",
    "\n",
    "\n",
    "@gf.cell\n",
    "def chip():\n",
    "    c = gf.Component()\n",
    "    inner = c << inner_array()\n",
    "    outer = c << outer_array()\n",
    "    inner_ports = inner.get_ports_list()\n",
    "    outer_ports = outer.get_ports_list()\n",
    "    for n_route in range(NUM_WIRES):\n",
    "        routes = get_bundle_all_angle(\n",
    "            ports1=[inner_ports[n_route]],\n",
    "            ports2=[outer_ports[n_route]],\n",
    "            cross_section=gf.cross_section.strip,\n",
    "            bend=gf.components.bend_euler,\n",
    "            start_angle=-40,\n",
    "            steps=[\n",
    "                {\"ds\": (NUM_WIRES - n_route) * 20},\n",
    "            ],\n",
    "        )\n",
    "        for route in routes:\n",
    "            c.add(route.references)\n",
    "    return c\n",
    "\n",
    "\n",
    "gf.get_active_pdk().register_cross_sections(strip=gf.cross_section.strip)\n",
    "c = chip()\n",
    "c.plot()"
   ]
  },
  {
   "cell_type": "markdown",
   "id": "fd4909e5",
   "metadata": {},
   "source": [
    "---\n",
    "jupyter:\n",
    "  jupytext:\n",
    "    cell_metadata_filter: -all\n",
    "    custom_cell_magics: kql\n",
    "    text_representation:\n",
    "      extension: .md\n",
    "      format_name: markdown\n",
    "      format_version: '1.3'\n",
    "      jupytext_version: 1.15.2\n",
    "  kernelspec:\n",
    "    display_name: base\n",
    "    language: python\n",
    "    name: python3\n",
    "---\n",
    "\n",
    "# Die assembly\n",
    "\n",
    "With gdsfactory you can easily go from a simple Component, to a Component with many components inside.\n",
    "\n",
    "In the same way that you need to Layout for DRC (Design Rule Check) clean devices, you have to layout obeying the Design for Test (DFT) and Design for Packaging rules.\n",
    "\n",
    "## Design for test\n",
    "\n",
    "To measure your chips after fabrication you need to decide your test configurations. This includes Design For Testing Rules like:\n",
    "\n",
    "- `Individual input and output fibers` versus `fiber array`. You can use `add_fiber_array` for easier testing and higher throughput, or `add_fiber_single` for the flexibility of single fibers.\n",
    "- Fiber array pitch (127um or 250um) if using a fiber array.\n",
    "- Pad pitch for DC and RF high speed probes (100, 125, 150, 200um). Probe configuration (GSG, GS ...)\n",
    "- Test layout for DC, RF and optical fibers.\n"
   ]
  },
  {
   "cell_type": "code",
   "execution_count": null,
   "id": "b62c719f",
   "metadata": {},
   "outputs": [],
   "source": [
    "from functools import partial\n",
    "\n",
    "import json\n",
    "import gdsfactory as gf\n",
    "from gdsfactory.generic_tech import get_generic_pdk\n",
    "from gdsfactory.labels import add_label_ehva, add_label_json"
   ]
  },
  {
   "cell_type": "markdown",
   "id": "9882f44a",
   "metadata": {},
   "source": [
    "## Pack\n",
    "\n",
    "Lets start with a resistance sweep, where you change the resistance width to measure sheet resistance."
   ]
  },
  {
   "cell_type": "code",
   "execution_count": null,
   "id": "fb35a7bd",
   "metadata": {},
   "outputs": [],
   "source": [
    "sweep = [gf.components.resistance_sheet(width=width) for width in [1, 10, 100]]\n",
    "m = gf.pack(sweep)\n",
    "c = m[0]\n",
    "c.plot()"
   ]
  },
  {
   "cell_type": "markdown",
   "id": "0d1863bf",
   "metadata": {},
   "source": [
    "Then we add spirals with different lengths to measure waveguide propagation loss. You can use both fiber array or single fiber."
   ]
  },
  {
   "cell_type": "code",
   "execution_count": null,
   "id": "392d57d1",
   "metadata": {},
   "outputs": [],
   "source": [
    "from toolz import compose\n",
    "from functools import partial\n",
    "import gdsfactory as gf\n",
    "\n",
    "gf.config.rich_output()\n",
    "\n",
    "c = gf.components.spiral_inner_io_fiber_array(length=20e3)\n",
    "c.info[\"measurement\"] = \"optical_loopback2\"\n",
    "c = gf.labels.add_label_json(c)\n",
    "c.plot()"
   ]
  },
  {
   "cell_type": "code",
   "execution_count": null,
   "id": "dc4b23ab",
   "metadata": {},
   "outputs": [],
   "source": [
    "c.info"
   ]
  },
  {
   "cell_type": "code",
   "execution_count": null,
   "id": "2dd57e6a",
   "metadata": {},
   "outputs": [],
   "source": [
    "spiral = gf.components.spiral_inner_io_fiber_single()\n",
    "spiral.plot()"
   ]
  },
  {
   "cell_type": "code",
   "execution_count": null,
   "id": "b1dd737e",
   "metadata": {},
   "outputs": [],
   "source": [
    "spiral_te = gf.routing.add_fiber_single(\n",
    "    gf.functions.rotate(gf.components.spiral_inner_io_fiber_single, 90)\n",
    ")\n",
    "spiral_te.plot()"
   ]
  },
  {
   "cell_type": "code",
   "execution_count": null,
   "id": "f038f6f0",
   "metadata": {},
   "outputs": [],
   "source": [
    "# which is equivalent to\n",
    "spiral_te = gf.compose(\n",
    "    gf.routing.add_fiber_single,\n",
    "    gf.functions.rotate90,\n",
    "    gf.components.spiral_inner_io_fiber_single,\n",
    ")\n",
    "c = spiral_te(length=10e3)\n",
    "c.plot()"
   ]
  },
  {
   "cell_type": "code",
   "execution_count": null,
   "id": "b0a3f271",
   "metadata": {},
   "outputs": [],
   "source": [
    "add_fiber_single_no_labels = partial(\n",
    "    gf.routing.add_fiber_single,\n",
    "    get_input_label_text_function=None,\n",
    ")\n",
    "\n",
    "spiral_te = gf.compose(\n",
    "    add_fiber_single_no_labels,\n",
    "    gf.functions.rotate90,\n",
    "    gf.components.spiral_inner_io_fiber_single,\n",
    ")\n",
    "sweep = [spiral_te(length=length) for length in [10e3, 20e3, 30e3]]\n",
    "m = gf.pack(sweep)\n",
    "c = m[0]\n",
    "c.plot()"
   ]
  },
  {
   "cell_type": "code",
   "execution_count": null,
   "id": "c9e3dbaa",
   "metadata": {},
   "outputs": [],
   "source": [
    "from toolz import compose\n",
    "from functools import partial\n",
    "import gdsfactory as gf\n",
    "\n",
    "c = gf.components.spiral_inner_io_fiber_array(length=20e3)\n",
    "c.info[\"measurement\"] = \"optical_loopback2\"\n",
    "c = gf.labels.add_label_json(c)\n",
    "c.show()\n",
    "c.plot()"
   ]
  },
  {
   "cell_type": "code",
   "execution_count": null,
   "id": "acc66b31",
   "metadata": {},
   "outputs": [],
   "source": [
    "def add_label_json(component):\n",
    "    \"\"\"Add label json and component.info)\"\"\"\n",
    "    component.info[\"measurement\"] = \"optical_loopback2\"\n",
    "    component = gf.labels.add_label_json(component)\n",
    "    return component"
   ]
  },
  {
   "cell_type": "code",
   "execution_count": null,
   "id": "78449c9b",
   "metadata": {},
   "outputs": [],
   "source": [
    "sweep = [\n",
    "    add_label_json(gf.components.spiral_inner_io_fiber_array(length=length))\n",
    "    for length in [20e3, 30e3, 40e3]\n",
    "]\n",
    "m = gf.pack(sweep)\n",
    "c = m[0]\n",
    "c.show()\n",
    "c.plot()"
   ]
  },
  {
   "cell_type": "markdown",
   "id": "eec65474",
   "metadata": {},
   "source": [
    "You can also add some physical labels that will be fabricated.\n",
    "For example you can add prefix `S` at the `north-center` of each spiral using `text_rectangular` which is DRC clean and anchored on `nc` (north-center)"
   ]
  },
  {
   "cell_type": "code",
   "execution_count": null,
   "id": "9a588485",
   "metadata": {},
   "outputs": [],
   "source": [
    "text_metal = partial(gf.components.text_rectangular_multi_layer, layers=(\"M1\",))\n",
    "\n",
    "m = gf.pack(sweep, text=text_metal, text_anchors=(\"cw\",), text_prefix=\"s\")\n",
    "c = m[0]\n",
    "c.show()\n",
    "c.plot()"
   ]
  },
  {
   "cell_type": "markdown",
   "id": "ad107b32",
   "metadata": {},
   "source": [
    "## Grid\n",
    "\n",
    "You can also pack components with a constant spacing."
   ]
  },
  {
   "cell_type": "code",
   "execution_count": null,
   "id": "411c480f",
   "metadata": {},
   "outputs": [],
   "source": [
    "g = gf.grid_with_component_name(sweep)\n",
    "g.plot()"
   ]
  },
  {
   "cell_type": "code",
   "execution_count": null,
   "id": "d756972e",
   "metadata": {},
   "outputs": [],
   "source": [
    "gh = gf.grid_with_component_name(sweep, shape=(1, len(sweep)))\n",
    "gh.plot()"
   ]
  },
  {
   "cell_type": "code",
   "execution_count": null,
   "id": "0bfd40c6",
   "metadata": {},
   "outputs": [],
   "source": [
    "gh_ymin = gf.grid_with_component_name(sweep, shape=(len(sweep), 1), align_x=\"xmin\")\n",
    "gh_ymin.plot()"
   ]
  },
  {
   "cell_type": "markdown",
   "id": "226a55ec",
   "metadata": {},
   "source": [
    "You can also add text labels to each element of the sweep"
   ]
  },
  {
   "cell_type": "code",
   "execution_count": null,
   "id": "20141c93",
   "metadata": {},
   "outputs": [],
   "source": [
    "gh_ymin = gf.grid_with_text(\n",
    "    sweep, shape=(len(sweep), 1), align_x=\"xmax\", text=text_metal\n",
    ")\n",
    "gh_ymin.plot()"
   ]
  },
  {
   "cell_type": "markdown",
   "id": "736953f3",
   "metadata": {},
   "source": [
    "You have 2 ways of defining a mask:\n",
    "\n",
    "1. in python\n",
    "2. in YAML\n",
    "\n",
    "\n",
    "## 1. Component in python\n",
    "\n",
    "You can define a Component top cell reticle or die using `grid` and `pack` python functions."
   ]
  },
  {
   "cell_type": "code",
   "execution_count": null,
   "id": "f64d9ec0",
   "metadata": {},
   "outputs": [],
   "source": [
    "text_metal3 = partial(gf.components.text_rectangular_multi_layer, layers=((49, 0),))\n",
    "grid = partial(gf.grid_with_text, text=text_metal3)\n",
    "pack = partial(gf.pack, text=text_metal3)\n",
    "\n",
    "gratings_sweep = [\n",
    "    gf.components.grating_coupler_elliptical(taper_angle=taper_angle)\n",
    "    for taper_angle in [20, 30, 40]\n",
    "]\n",
    "gratings = grid(gratings_sweep, text=None)\n",
    "gratings.plot()"
   ]
  },
  {
   "cell_type": "code",
   "execution_count": null,
   "id": "b154df28",
   "metadata": {},
   "outputs": [],
   "source": [
    "gratings_sweep = [\n",
    "    gf.components.grating_coupler_elliptical(taper_angle=taper_angle)\n",
    "    for taper_angle in [20, 30, 40]\n",
    "]\n",
    "gratings_loss_sweep = [\n",
    "    gf.components.grating_coupler_loss_fiber_single(grating_coupler=grating)\n",
    "    for grating in gratings_sweep\n",
    "]\n",
    "gratings = grid(\n",
    "    gratings_loss_sweep, shape=(1, len(gratings_loss_sweep)), spacing=(40, 0)\n",
    ")\n",
    "gratings.plot()"
   ]
  },
  {
   "cell_type": "code",
   "execution_count": null,
   "id": "27732322",
   "metadata": {},
   "outputs": [],
   "source": [
    "sweep_resistance = [\n",
    "    gf.components.resistance_sheet(width=width) for width in [1, 10, 100]\n",
    "]\n",
    "resistance = gf.pack(sweep_resistance)[0]\n",
    "resistance.plot()"
   ]
  },
  {
   "cell_type": "code",
   "execution_count": null,
   "id": "ef6d3bba",
   "metadata": {},
   "outputs": [],
   "source": [
    "spiral_te = gf.compose(\n",
    "    gf.routing.add_fiber_single,\n",
    "    gf.functions.rotate90,\n",
    "    gf.components.spiral_inner_io_fiber_single,\n",
    ")\n",
    "sweep_spirals = [spiral_te(length=length) for length in [10e3, 20e3, 30e3]]\n",
    "spirals = gf.pack(sweep_spirals)[0]\n",
    "spirals.plot()"
   ]
  },
  {
   "cell_type": "code",
   "execution_count": null,
   "id": "2337346f",
   "metadata": {
    "lines_to_next_cell": 2
   },
   "outputs": [],
   "source": [
    "mask = gf.pack([spirals, resistance, gratings])[0]\n",
    "mask.plot()"
   ]
  },
  {
   "cell_type": "markdown",
   "id": "2c9f2252",
   "metadata": {},
   "source": [
    "As you can see you can define your mask in a single line.\n",
    "\n",
    "For more complex mask, you can also create a new cell to build up more complexity\n",
    "\n"
   ]
  },
  {
   "cell_type": "code",
   "execution_count": null,
   "id": "5d34f29f",
   "metadata": {},
   "outputs": [],
   "source": [
    "@gf.cell\n",
    "def mask():\n",
    "    c = gf.Component()\n",
    "    c << gf.pack([spirals, resistance, gratings])[0]\n",
    "    c << gf.components.seal_ring(c.bbox)\n",
    "    return c\n",
    "\n",
    "\n",
    "c = mask()\n",
    "c.plot()"
   ]
  },
  {
   "cell_type": "markdown",
   "id": "d8ad3aed",
   "metadata": {},
   "source": [
    "## 2. Component in YAML\n",
    "\n",
    "You can also define your component in YAML format thanks to `gdsfactory.read.from_yaml`\n",
    "\n",
    "You need to define:\n",
    "\n",
    "- instances\n",
    "- placements\n",
    "- routes (optional)\n",
    "\n",
    "and you can leverage:\n",
    "\n",
    "1. `pack_doe`\n",
    "2. `pack_doe_grid`"
   ]
  },
  {
   "cell_type": "markdown",
   "id": "2885ad94",
   "metadata": {},
   "source": [
    "### 2.1 pack_doe\n",
    "\n",
    "`pack_doe` places components as compact as possible."
   ]
  },
  {
   "cell_type": "code",
   "execution_count": null,
   "id": "70570682",
   "metadata": {},
   "outputs": [],
   "source": [
    "c = gf.read.from_yaml(\n",
    "    \"\"\"\n",
    "name: mask_grid\n",
    "\n",
    "instances:\n",
    "  rings:\n",
    "    component: pack_doe\n",
    "    settings:\n",
    "      doe: ring_single\n",
    "      settings:\n",
    "        radius: [30, 50, 20, 40]\n",
    "        length_x: [1, 2, 3]\n",
    "      do_permutations: True\n",
    "      function:\n",
    "        function: add_fiber_array\n",
    "        settings:\n",
    "            fanout_length: 200\n",
    "\n",
    "  mzis:\n",
    "    component: pack_doe\n",
    "    settings:\n",
    "      doe: mzi\n",
    "      settings:\n",
    "        delta_length: [10, 100]\n",
    "      function: add_fiber_array\n",
    "\n",
    "placements:\n",
    "  rings:\n",
    "    xmin: 50\n",
    "\n",
    "  mzis:\n",
    "    xmin: rings,east\n",
    "\"\"\"\n",
    ")\n",
    "\n",
    "c.plot()"
   ]
  },
  {
   "cell_type": "markdown",
   "id": "26499432",
   "metadata": {},
   "source": [
    "### 2.2 pack_doe_grid\n",
    "\n",
    "`pack_doe_grid` places each component on a regular grid"
   ]
  },
  {
   "cell_type": "code",
   "execution_count": null,
   "id": "a44c45f8",
   "metadata": {
    "lines_to_next_cell": 2
   },
   "outputs": [],
   "source": [
    "c = gf.read.from_yaml(\n",
    "    \"\"\"\n",
    "name: mask_compact\n",
    "\n",
    "instances:\n",
    "  rings:\n",
    "    component: pack_doe\n",
    "    settings:\n",
    "      doe: ring_single\n",
    "      settings:\n",
    "        radius: [30, 50, 20, 40]\n",
    "        length_x: [1, 2, 3]\n",
    "      do_permutations: True\n",
    "      function:\n",
    "        function: add_fiber_array\n",
    "        settings:\n",
    "            fanout_length: 200\n",
    "\n",
    "\n",
    "  mzis:\n",
    "    component: pack_doe_grid\n",
    "    settings:\n",
    "      doe: mzi\n",
    "      settings:\n",
    "        delta_length: [10, 100]\n",
    "      do_permutations: True\n",
    "      spacing: [10, 10]\n",
    "      function: add_fiber_array\n",
    "\n",
    "placements:\n",
    "  rings:\n",
    "    xmin: 50\n",
    "\n",
    "  mzis:\n",
    "    xmin: rings,east\n",
    "\"\"\"\n",
    ")\n",
    "c.plot()"
   ]
  },
  {
   "cell_type": "markdown",
   "id": "8003e714",
   "metadata": {},
   "source": [
    "## Automated testing exposing all ports\n",
    "\n",
    "You can promote all the ports that need to be tested to the top level component and then write a CSV test manifest.\n",
    "\n",
    "This is the recommended way for measuring components that have electrical and optical port.\n"
   ]
  },
  {
   "cell_type": "code",
   "execution_count": null,
   "id": "e586b52b",
   "metadata": {},
   "outputs": [],
   "source": [
    "test_info_spirals = dict(\n",
    "    doe=\"spirals_sc\",\n",
    "    measurement=\"optical_loopback4\",\n",
    "    analysis=\"optical_loopback4_spirals\",\n",
    ")\n",
    "test_info_mzi_heaters = dict(\n",
    "    doe=\"mzis_heaters\",\n",
    "    analysis=\"mzi_heater\",\n",
    "    measurement=\"optical_loopback4_heater_sweep\",\n",
    ")\n",
    "test_info_ring_heaters = dict(\n",
    "    doe=\"ring_heaters\",\n",
    "    analysis=\"ring_heater\",\n",
    "    measurement=\"optical_loopback2_heater_sweep\",\n",
    ")\n",
    "\n",
    "\n",
    "def sample_reticle() -> gf.Component:\n",
    "    \"\"\"Returns MZI with TE grating couplers.\"\"\"\n",
    "\n",
    "    mzis = [\n",
    "        gf.components.mzi2x2_2x2_phase_shifter(length_x=length)\n",
    "        for length in [100, 200, 300]\n",
    "    ]\n",
    "    rings = [\n",
    "        gf.components.ring_single_heater(length_x=length_x) for length_x in [10, 20, 30]\n",
    "    ]\n",
    "\n",
    "    spirals_te = [\n",
    "        gf.components.spiral_inner_io_fiber_array(\n",
    "            length=length,\n",
    "        )\n",
    "        for length in [20e3, 40e3, 60e3]\n",
    "    ]\n",
    "    mzis_te = [\n",
    "        gf.components.add_fiber_array_optical_south_electrical_north(\n",
    "            mzi,\n",
    "            electrical_port_names=[\"top_l_e2\", \"top_r_e2\"],\n",
    "        )\n",
    "        for mzi in mzis\n",
    "    ]\n",
    "    rings_te = [\n",
    "        gf.components.add_fiber_array_optical_south_electrical_north(\n",
    "            ring,\n",
    "            electrical_port_names=[\"l_e2\", \"r_e2\"],\n",
    "        )\n",
    "        for ring in rings\n",
    "    ]\n",
    "\n",
    "    for component in mzis_te:\n",
    "        component.info.update(test_info_mzi_heaters)\n",
    "\n",
    "    for component in rings_te:\n",
    "        component.info.update(test_info_ring_heaters)\n",
    "\n",
    "    for component in spirals_te:\n",
    "        component.info.update(test_info_spirals)\n",
    "\n",
    "    components = mzis_te + rings_te + spirals_te\n",
    "    return gf.pack(components)[0]\n",
    "\n",
    "\n",
    "c = sample_reticle()\n",
    "c.plot()"
   ]
  },
  {
   "cell_type": "code",
   "execution_count": null,
   "id": "5a36cdd5",
   "metadata": {},
   "outputs": [],
   "source": [
    "c.pprint_ports()"
   ]
  },
  {
   "cell_type": "code",
   "execution_count": null,
   "id": "6ef1236e",
   "metadata": {},
   "outputs": [],
   "source": [
    "df = gf.labels.get_test_manifest(c)\n",
    "df"
   ]
  },
  {
   "cell_type": "code",
   "execution_count": null,
   "id": "7d29e028",
   "metadata": {},
   "outputs": [],
   "source": [
    "df.to_csv(\"test_manifest.csv\")"
   ]
  },
  {
   "cell_type": "code",
   "execution_count": null,
   "id": "2905e9fc",
   "metadata": {},
   "outputs": [],
   "source": [
    "def sample_reticle_grid() -> gf.Component:\n",
    "    \"\"\"Returns sample reticle with grid packer.\"\"\"\n",
    "\n",
    "    mzis = [\n",
    "        gf.components.mzi2x2_2x2_phase_shifter(length_x=length)\n",
    "        for length in [100, 200, 300]\n",
    "    ]\n",
    "    rings = [\n",
    "        gf.components.ring_single_heater(length_x=length_x) for length_x in [10, 20, 30]\n",
    "    ]\n",
    "\n",
    "    spirals_te = [\n",
    "        gf.components.spiral_inner_io_fiber_array(\n",
    "            length=length,\n",
    "        )\n",
    "        for length in [20e3, 40e3, 60e3]\n",
    "    ]\n",
    "    mzis_te = [\n",
    "        gf.components.add_fiber_array_optical_south_electrical_north(\n",
    "            mzi,\n",
    "            electrical_port_names=[\"top_l_e2\", \"top_r_e2\"],\n",
    "        )\n",
    "        for mzi in mzis\n",
    "    ]\n",
    "    rings_te = [\n",
    "        gf.components.add_fiber_array_optical_south_electrical_north(\n",
    "            ring,\n",
    "            electrical_port_names=[\"l_e2\", \"r_e2\"],\n",
    "        )\n",
    "        for ring in rings\n",
    "    ]\n",
    "\n",
    "    for component in mzis_te:\n",
    "        component.info.update(test_info_mzi_heaters)\n",
    "\n",
    "    for component in rings_te:\n",
    "        component.info.update(test_info_ring_heaters)\n",
    "\n",
    "    for component in spirals_te:\n",
    "        component.info.update(test_info_spirals)\n",
    "\n",
    "    components = mzis_te + rings_te + spirals_te\n",
    "    return gf.grid(components)\n",
    "\n",
    "\n",
    "c = sample_reticle_grid()\n",
    "c.plot()"
   ]
  },
  {
   "cell_type": "code",
   "execution_count": null,
   "id": "10e27d8e",
   "metadata": {},
   "outputs": [],
   "source": [
    "df = gf.labels.get_test_manifest(c)\n",
    "df"
   ]
  },
  {
   "cell_type": "code",
   "execution_count": null,
   "id": "4cc0a67a",
   "metadata": {},
   "outputs": [],
   "source": [
    "df.to_csv(\"test_manifest.csv\")"
   ]
  },
  {
   "cell_type": "markdown",
   "id": "c9be33d4",
   "metadata": {},
   "source": [
    "You can see a test manifest example [here](https://docs.google.com/spreadsheets/d/1845m-XZM8tZ1tNd8GIvAaq7ZE-iha00XNWa0XrEOabc/edit#gid=233591479)\n",
    "---\n",
    "jupyter:\n",
    "  jupytext:\n",
    "    cell_metadata_filter: -all\n",
    "    custom_cell_magics: kql\n",
    "    text_representation:\n",
    "      extension: .md\n",
    "      format_name: markdown\n",
    "      format_version: '1.3'\n",
    "      jupytext_version: 1.15.2\n",
    "  kernelspec:\n",
    "    display_name: base\n",
    "    language: python\n",
    "    name: python3\n",
    "---\n",
    "\n",
    "# Die assembly with labels (deprecated)\n",
    "\n",
    "You can add a label per automated alignment structure.\n",
    "\n",
    "However this only works well for fiber array only or electrical probing only, so we don't recommend it."
   ]
  },
  {
   "cell_type": "code",
   "execution_count": null,
   "id": "68ed15a7",
   "metadata": {},
   "outputs": [],
   "source": [
    "from functools import partial\n",
    "\n",
    "import json\n",
    "import gdsfactory as gf\n",
    "from gdsfactory.generic_tech import get_generic_pdk\n",
    "from gdsfactory.labels import add_label_ehva, add_label_json"
   ]
  },
  {
   "cell_type": "markdown",
   "id": "b8a5bdd9",
   "metadata": {},
   "source": [
    "## Automated testing using labels\n",
    "\n",
    "This is deprecated, we recommend exposing all ports and writing the test manifest directly.\n",
    "However you can also do automatic testing by adding labels the devices that you want to test.\n",
    "GDS labels are not fabricated and are only visible in the GDS file.\n",
    "\n",
    "Lets review some different automatic labeling schemas:\n",
    "\n",
    "1. One label per test alignment that includes settings, electrical ports and optical ports.\n",
    "2. SiEPIC labels: only the laser input grating coupler from the fiber array has a label, which is the second port from left to right.\n",
    "3. EHVA automatic testers, include a Label component declaration as described in this [doc](https://drive.google.com/file/d/1kbQNrVLzPbefh3by7g2s865bcsA2vl5l/view)\n",
    "\n",
    "Most gdsfactory examples add south grating couplers on the south and RF or DC signals to the north. However if you need RF and DC pads, you have to make sure RF pads are orthogonal to the DC Pads. For example, you can use EAST/WEST for RF and NORTH for DC.\n",
    "\n",
    "\n",
    "### 1. Test Sites Labels\n",
    "\n",
    "Each alignment site includes a label with the measurement and analysis settings:\n",
    "\n",
    "- Optical and electrical port locations for each alignment.\n",
    "- measurement settings.\n",
    "- Component settings for the analysis and test and data analysis information. Such as Design of Experiment (DOE) id.\n",
    "\n",
    "\n",
    "The default settings can be stored in a separate [CSV file](https://docs.google.com/spreadsheets/d/1845m-XZM8tZ1tNd8GIvAaq7ZE-iha00XNWa0XrEOabc/edit#gid=0)"
   ]
  },
  {
   "cell_type": "code",
   "execution_count": null,
   "id": "8b5cd08f",
   "metadata": {},
   "outputs": [],
   "source": [
    "info = dict(\n",
    "    doe=\"mzis\",\n",
    "    analysis=\"mzi_phase_shifter\",\n",
    "    measurement=\"optical_loopback2_heater_sweep\",\n",
    "    measurement_settings=json.dumps(dict(v_max=5)),\n",
    ")\n",
    "\n",
    "c = gf.components.mzi_phase_shifter()\n",
    "c = gf.components.add_fiber_array_optical_south_electrical_north(c)\n",
    "c.info.update(info)\n",
    "c = add_label_json(c)\n",
    "c.plot()"
   ]
  },
  {
   "cell_type": "code",
   "execution_count": null,
   "id": "cc5fb9ab",
   "metadata": {},
   "outputs": [],
   "source": [
    "c.labels"
   ]
  },
  {
   "cell_type": "code",
   "execution_count": null,
   "id": "3220bba6",
   "metadata": {},
   "outputs": [],
   "source": [
    "json.loads(c.labels[0].text)"
   ]
  },
  {
   "cell_type": "code",
   "execution_count": null,
   "id": "bf8092a2",
   "metadata": {},
   "outputs": [],
   "source": [
    "c = gf.components.spiral_inner_io_fiber_array(\n",
    "    length=20e3,\n",
    ")\n",
    "c = gf.labels.add_label_json(c)\n",
    "info = dict(\n",
    "    measurement=\"optical_loopback2\",\n",
    "    doe=\"spiral_sc\",\n",
    "    measurement_settings=json.dumps(dict(wavelength_alignment=1560)),\n",
    ")\n",
    "c.info.update(info)\n",
    "c.plot()"
   ]
  },
  {
   "cell_type": "code",
   "execution_count": null,
   "id": "9de94203",
   "metadata": {},
   "outputs": [],
   "source": [
    "json.loads(c.labels[0].text)"
   ]
  },
  {
   "cell_type": "markdown",
   "id": "d11af525",
   "metadata": {},
   "source": [
    "### 2. SiEPIC labels\n",
    "\n",
    "Labels follow format `opt_in_{polarization}_{wavelength}_device_{username}_({component_name})-{gc_index}-{port.name}` and you only need to label the laser input port of the fiber array.\n",
    "This also includes one label per test site."
   ]
  },
  {
   "cell_type": "code",
   "execution_count": null,
   "id": "b8f2c2e8",
   "metadata": {},
   "outputs": [],
   "source": [
    "mmi = gf.components.mmi2x2()\n",
    "mmi_te_siepic = gf.labels.add_fiber_array_siepic(component=mmi)\n",
    "mmi_te_siepic.plot()"
   ]
  },
  {
   "cell_type": "code",
   "execution_count": null,
   "id": "d307fb0e",
   "metadata": {},
   "outputs": [],
   "source": [
    "mmi_te_siepic.ports"
   ]
  },
  {
   "cell_type": "code",
   "execution_count": null,
   "id": "45d5fed8",
   "metadata": {},
   "outputs": [],
   "source": [
    "labels = mmi_te_siepic.get_labels()\n",
    "\n",
    "for label in labels:\n",
    "    print(label.text)"
   ]
  },
  {
   "cell_type": "markdown",
   "id": "56fbdace",
   "metadata": {},
   "source": [
    "### 3. EHVA labels"
   ]
  },
  {
   "cell_type": "code",
   "execution_count": null,
   "id": "2b644c36",
   "metadata": {},
   "outputs": [],
   "source": [
    "add_label_ehva_demo = partial(add_label_ehva, die=\"demo_die\")\n",
    "mmi = gf.c.mmi2x2(length_mmi=2.2)\n",
    "mmi_te_ehva = gf.routing.add_fiber_array(mmi)\n",
    "mmi_te_ehva = add_label_ehva_demo(mmi_te_ehva)\n",
    "mmi_te_ehva.plot()"
   ]
  },
  {
   "cell_type": "code",
   "execution_count": null,
   "id": "ca4857c2",
   "metadata": {},
   "outputs": [],
   "source": [
    "labels = mmi_te_ehva.get_labels(depth=0)\n",
    "\n",
    "for label in labels:\n",
    "    print(label.text)"
   ]
  },
  {
   "cell_type": "markdown",
   "id": "5bb6d338",
   "metadata": {},
   "source": [
    "One advantage of the EHVA formats is that you can track any changes on the components directly from the GDS label, as the label already stores any changes of the child device, as well as any settings that you specify.\n",
    "\n",
    "Settings can have many levels of hierarchy, but you can still access any children setting with `:` notation.\n",
    "\n",
    "```\n",
    "grating_coupler:\n",
    "    function: grating_coupler_elliptical_trenches\n",
    "    settings:\n",
    "        polarization: te\n",
    "        taper_angle: 35\n",
    "\n",
    "```"
   ]
  },
  {
   "cell_type": "code",
   "execution_count": null,
   "id": "5c2b1c7d",
   "metadata": {},
   "outputs": [],
   "source": [
    "add_label_ehva_demo = partial(\n",
    "    add_label_ehva,\n",
    "    die=\"demo_die\",\n",
    ")\n",
    "mmi = gf.components.mmi2x2(length_mmi=10)\n",
    "mmi_te_ehva = gf.routing.add_fiber_array(\n",
    "    mmi,\n",
    "    get_input_labels_function=None,\n",
    ")\n",
    "mmi_te_ehva = add_label_ehva_demo(mmi_te_ehva)\n",
    "mmi_te_ehva.plot()"
   ]
  },
  {
   "cell_type": "code",
   "execution_count": null,
   "id": "c5e10a71",
   "metadata": {},
   "outputs": [],
   "source": [
    "labels = mmi_te_ehva.get_labels(depth=0)\n",
    "\n",
    "for label in labels:\n",
    "    print(label.text)"
   ]
  },
  {
   "cell_type": "markdown",
   "id": "d05662e4",
   "metadata": {},
   "source": [
    "## Metadata\n",
    "\n",
    "When saving GDS files is also convenient to store the metadata settings that you used to generate the GDS file.\n",
    "\n",
    "We recommend storing all the device metadata in GDS labels but you can also store it in a separate YAML file.\n",
    "\n",
    "### Metadata in separate YAML file"
   ]
  },
  {
   "cell_type": "code",
   "execution_count": null,
   "id": "beb3410d",
   "metadata": {
    "lines_to_next_cell": 2
   },
   "outputs": [],
   "source": [
    "import gdsfactory as gf\n",
    "\n",
    "\n",
    "@gf.cell\n",
    "def wg():\n",
    "    c = gf.Component()\n",
    "    c.info[\"doe\"] = \"phase_shifter_rings_te\"\n",
    "    c.info[\"test_sequence\"] = \"optical_loopback_electrical_sweep\"\n",
    "    c.info[\"data_analysis\"] = \"extract_vpi\"\n",
    "    return c\n",
    "\n",
    "\n",
    "c = wg()\n",
    "c.pprint()\n",
    "gdspath = c.write_gds(\"demo.gds\", with_metadata=True)"
   ]
  },
  {
   "cell_type": "markdown",
   "id": "675a3312",
   "metadata": {},
   "source": [
    "### Metadata in the GDS file\n",
    "\n",
    "You can use GDS labels to store device information such as settings and port locations.\n",
    "\n",
    "The advantage of GDS labels is that they are all stored in the same file.\n",
    "\n",
    "We define a single label for each test site (Device Under Test), and the label contains all the measurement and data analysis information."
   ]
  },
  {
   "cell_type": "code",
   "execution_count": null,
   "id": "bc485e81",
   "metadata": {},
   "outputs": [],
   "source": [
    "test_info_mzi_heaters = dict(\n",
    "    doe=\"mzis_heaters\",\n",
    "    analysis=\"mzi_heater_phase_shifter_length\",\n",
    "    measurement=\"optical_loopback4_heater_sweep\",\n",
    ")\n",
    "test_info_ring_heaters = dict(\n",
    "    doe=\"ring_heaters_coupling_length\",\n",
    "    analysis=\"ring_heater\",\n",
    "    measurement=\"optical_loopback2_heater_sweep\",\n",
    ")\n",
    "\n",
    "mzis = [\n",
    "    gf.components.mzi2x2_2x2_phase_shifter(length_x=lengths)\n",
    "    for lengths in [100, 200, 300]\n",
    "]\n",
    "\n",
    "rings = [\n",
    "    gf.components.ring_single_heater(length_x=length_x) for length_x in [10, 20, 30]\n",
    "]\n",
    "\n",
    "mzis_te = []\n",
    "for mzi in mzis:\n",
    "    mzi_te = gf.components.add_fiber_array_optical_south_electrical_north(\n",
    "        mzi,\n",
    "        electrical_port_names=[\"top_l_e2\", \"top_r_e2\"],\n",
    "    )\n",
    "    mzi_te.info.update(test_info_mzi_heaters)\n",
    "    mzi_te = gf.labels.add_label_json(mzi_te)\n",
    "    mzis_te.append(mzi_te)\n",
    "\n",
    "rings_te = []\n",
    "for ring in rings:\n",
    "    ring_te = gf.components.add_fiber_array_optical_south_electrical_north(\n",
    "        ring,\n",
    "        electrical_port_names=[\"l_e2\", \"r_e2\"],\n",
    "    )\n",
    "    ring_te.info.update(test_info_ring_heaters)\n",
    "    ring_te = gf.labels.add_label_json(ring_te)\n",
    "    rings_te.append(ring_te)\n",
    "\n",
    "c = gf.pack(mzis_te + rings_te)[0]\n",
    "c.plot()"
   ]
  },
  {
   "cell_type": "markdown",
   "id": "f172f962",
   "metadata": {},
   "source": [
    "## Test manifest from labels\n",
    "\n",
    "Each Device Under Test (test site) has a JSON test label with all the settings.\n",
    "\n",
    "You can define a [Test manifest](https://docs.google.com/spreadsheets/d/1845m-XZM8tZ1tNd8GIvAaq7ZE-iha00XNWa0XrEOabc/edit#gid=0) (also known as Test sequence) in CSV automatically from the labels."
   ]
  },
  {
   "cell_type": "code",
   "execution_count": null,
   "id": "eae6fc45",
   "metadata": {},
   "outputs": [],
   "source": [
    "import pandas as pd\n",
    "\n",
    "gdspath = c.write_gds()\n",
    "csvpath = gf.labels.write_labels.write_labels_gdstk(\n",
    "    gdspath, debug=True, prefixes=[\"{\"], layer_label=\"TEXT\"\n",
    ")\n",
    "df = pd.read_csv(csvpath)\n",
    "df"
   ]
  },
  {
   "cell_type": "markdown",
   "id": "0252bf36",
   "metadata": {},
   "source": [
    "As you can see there are 6 devices with optical and electrical ports.\n",
    "\n",
    "You can turn each label into a test manifest CSV file to interface with your lab instrumentation functions.\n",
    "\n",
    "Each measurement will use a different `measurement` procedure and settings `measurement_settings`\n",
    "\n",
    "The default measurement settings for each functions can also be defined in a separate [CSV file](https://docs.google.com/spreadsheets/d/1845m-XZM8tZ1tNd8GIvAaq7ZE-iha00XNWa0XrEOabc/edit#gid=138229318) and easily editable with Excel or LibreOffice."
   ]
  },
  {
   "cell_type": "code",
   "execution_count": null,
   "id": "622cd1f0",
   "metadata": {},
   "outputs": [],
   "source": [
    "from gdsfactory.labels.write_test_manifest import write_test_manifest\n",
    "\n",
    "dm = write_test_manifest(csvpath)\n",
    "dm"
   ]
  },
  {
   "cell_type": "code",
   "execution_count": null,
   "id": "8669ee63",
   "metadata": {
    "lines_to_next_cell": 0
   },
   "outputs": [],
   "source": []
  },
  {
   "cell_type": "markdown",
   "id": "ef3caa6b",
   "metadata": {},
   "source": [
    "---\n",
    "jupyter:\n",
    "  jupytext:\n",
    "    cell_metadata_filter: -all\n",
    "    custom_cell_magics: kql\n",
    "    text_representation:\n",
    "      extension: .md\n",
    "      format_name: markdown\n",
    "      format_version: '1.3'\n",
    "      jupytext_version: 1.15.2\n",
    "  kernelspec:\n",
    "    display_name: base\n",
    "    language: python\n",
    "    name: python3\n",
    "---"
   ]
  },
  {
   "cell_type": "markdown",
   "id": "22d4b1f4",
   "metadata": {},
   "source": [
    "# PDK\n",
    "\n",
    "gdsfactory includes a generic Process Design Kit (PDK), that you can use as an inspiration to create your own.\n",
    "\n",
    "A process design kit (PDK) includes:\n",
    "\n",
    "1. LayerStack: different layers with different thickness, z-position, materials and colors.\n",
    "2. Design rule checking deck DRC: Manufacturing rules capturing min feature size, min spacing ... for the process.\n",
    "3. A library of Fixed or Parametric cells.\n",
    "\n",
    "The PDK allows you to register:\n",
    "\n",
    "- `cell` parametric cells that return Components from a ComponentSpec (string, Component, ComponentFactory or dict). Also known as parametric cell functions.\n",
    "- `cross_section` functions that return CrossSection from a CrossSection Spec (string, CrossSection, CrossSectionFactory or dict).\n",
    "- `layers` that return a GDS Layer (gdslayer, gdspurpose) from a string, an int or a Tuple[int, int].\n",
    "\n",
    "\n",
    "Thanks to activating a PDK you can access components, cross_sections or layers using a string, a function or a dict.\n",
    "\n",
    "Depending on the active pdk:\n",
    "\n",
    "- `get_layer` returns a Layer from the registered layers.\n",
    "- `get_component` returns a Component from the registered cells.\n",
    "- `get_cross_section` returns a CrossSection from the registered cross_sections."
   ]
  },
  {
   "cell_type": "markdown",
   "id": "637d9ae2",
   "metadata": {},
   "source": [
    "## layers\n",
    "\n",
    "GDS layers are a tuple of two integer number `gdslayer/gdspurpose`\n",
    "\n",
    "You can define all the layers from your PDK:\n",
    "\n",
    "1. From a Klayout `lyp` (layer properties file).\n",
    "2. From scratch, adding all your layers into a class.\n",
    "\n",
    "\n",
    "Lets generate the layers definition code from a KLayout `lyp` file."
   ]
  },
  {
   "cell_type": "code",
   "execution_count": null,
   "id": "92af7bcf",
   "metadata": {},
   "outputs": [],
   "source": [
    "import pathlib\n",
    "from functools import partial\n",
    "\n",
    "import pytest\n",
    "from pytest_regressions.data_regression import DataRegressionFixture\n",
    "\n",
    "import gdsfactory as gf\n",
    "from gdsfactory.component import Component\n",
    "from gdsfactory.config import PATH\n",
    "from gdsfactory.decorators import has_valid_transformations\n",
    "from gdsfactory.difftest import difftest\n",
    "from gdsfactory.generic_tech import get_generic_pdk\n",
    "from gdsfactory.technology import (\n",
    "    LayerViews,\n",
    "    lyp_to_dataclass,\n",
    "    LayerMap,\n",
    ")\n",
    "from gdsfactory.typings import Layer, LayerSpec\n",
    "\n",
    "gf.config.rich_output()\n",
    "nm = 1e-3"
   ]
  },
  {
   "cell_type": "code",
   "execution_count": null,
   "id": "12bab725",
   "metadata": {},
   "outputs": [],
   "source": [
    "class LayerMapDemo(LayerMap):\n",
    "    WG: Layer = (1, 0)\n",
    "    DEVREC: Layer = (68, 0)\n",
    "    PORT: Layer = (1, 10)\n",
    "    PORTE: Layer = (1, 11)\n",
    "    LABEL_INSTANCES: Layer = (206, 0)\n",
    "    LABEL_SETTINGS: Layer = (202, 0)\n",
    "    LUMERICAL: Layer = (733, 0)\n",
    "    M1: Layer = (41, 0)\n",
    "    M2: Layer = (45, 0)\n",
    "    M3: Layer = (49, 0)\n",
    "    N: Layer = (20, 0)\n",
    "    NP: Layer = (22, 0)\n",
    "    NPP: Layer = (24, 0)\n",
    "    OXIDE_ETCH: Layer = (6, 0)\n",
    "    P: Layer = (21, 0)\n",
    "    PDPP: Layer = (27, 0)\n",
    "    PP: Layer = (23, 0)\n",
    "    PPP: Layer = (25, 0)\n",
    "    PinRec: Layer = (1, 10)\n",
    "    PinRecM: Layer = (1, 11)\n",
    "    SHALLOWETCH: Layer = (2, 6)\n",
    "    SILICIDE: Layer = (39, 0)\n",
    "    SIM_REGION: Layer = (100, 0)\n",
    "    SITILES: Layer = (190, 0)\n",
    "    SLAB150: Layer = (2, 0)\n",
    "    SLAB150CLAD: Layer = (2, 9)\n",
    "    SLAB90: Layer = (3, 0)\n",
    "    SLAB90CLAD: Layer = (3, 1)\n",
    "    SOURCE: Layer = (110, 0)\n",
    "    TE: Layer = (203, 0)\n",
    "    TEXT: Layer = (66, 0)\n",
    "    TM: Layer = (204, 0)\n",
    "    Text: Layer = (66, 0)\n",
    "    VIA1: Layer = (44, 0)\n",
    "    VIA2: Layer = (43, 0)\n",
    "    VIAC: Layer = (40, 0)\n",
    "    WGCLAD: Layer = (111, 0)\n",
    "    WGN: Layer = (34, 0)\n",
    "    WGclad_material: Layer = (36, 0)\n",
    "\n",
    "\n",
    "LAYER = LayerMapDemo()"
   ]
  },
  {
   "cell_type": "markdown",
   "id": "30c74f8b",
   "metadata": {},
   "source": [
    "some generic components use some\n",
    "\n",
    "| Layer          | Purpose                                                      |\n",
    "| -------------- | ------------------------------------------------------------ |\n",
    "| DEVREC         | device recognition layer. For connectivity checks.           |\n",
    "| PORT           | optical port pins. For connectivity checks.                  |\n",
    "| PORTE          | electrical port pins. For connectivity checks.               |\n",
    "| SHOW_PORTS     | add port pin markers when `Component.show(show_ports=True)`  |\n",
    "| LABEL_INSTANCE | for adding instance labels on `gf.read.from_yaml`            |\n",
    "| MTOP | for top metal routing            |\n",
    "\n",
    "\n",
    "```python\n",
    "class LayersConvenient(LayerMap):\n",
    "    DEVREC: Layer = (68, 0)\n",
    "    PORT: Layer = (1, 10)  # PinRec optical\n",
    "    PORTE: Layer = (1, 11)  # PinRec electrical\n",
    "    SHOW_PORTS: Layer = (1, 12)\n",
    "\n",
    "    LABEL_INSTANCE: Layer = (66, 0)\n",
    "    TE: Layer = (203, 0)\n",
    "    TM: Layer = (204, 0)\n",
    "```"
   ]
  },
  {
   "cell_type": "markdown",
   "id": "e244cb27",
   "metadata": {},
   "source": [
    "## cross_sections\n",
    "\n",
    "You can create a `CrossSection` from scratch or you can customize the cross_section functions in `gf.cross_section`"
   ]
  },
  {
   "cell_type": "code",
   "execution_count": null,
   "id": "b59f2ef8",
   "metadata": {},
   "outputs": [],
   "source": [
    "strip2 = partial(gf.cross_section.strip, layer=(2, 0))"
   ]
  },
  {
   "cell_type": "code",
   "execution_count": null,
   "id": "f081e8e8",
   "metadata": {},
   "outputs": [],
   "source": [
    "c = gf.components.straight(cross_section=strip2)\n",
    "c.plot()"
   ]
  },
  {
   "cell_type": "code",
   "execution_count": null,
   "id": "955d3f2f",
   "metadata": {},
   "outputs": [],
   "source": [
    "pin = partial(\n",
    "    gf.cross_section.strip,\n",
    "    sections=(\n",
    "        gf.Section(width=2, layer=(20, 0), offset=+1),\n",
    "        gf.Section(width=2, layer=(21, 0), offset=-1),\n",
    "    ),\n",
    ")\n",
    "c = gf.components.straight(cross_section=pin)\n",
    "c.plot()"
   ]
  },
  {
   "cell_type": "code",
   "execution_count": null,
   "id": "e6cc875a",
   "metadata": {
    "lines_to_next_cell": 2
   },
   "outputs": [],
   "source": [
    "strip_wide = partial(gf.cross_section.strip, width=3)"
   ]
  },
  {
   "cell_type": "code",
   "execution_count": null,
   "id": "9e881046",
   "metadata": {},
   "outputs": [],
   "source": [
    "# auto_widen tapers to wider waveguides for lower loss in long straight sections.\n",
    "strip = partial(gf.cross_section.strip, auto_widen=True)"
   ]
  },
  {
   "cell_type": "code",
   "execution_count": null,
   "id": "1a7613ed",
   "metadata": {},
   "outputs": [],
   "source": [
    "xs_sc = strip()\n",
    "xs_sc_wide = strip_wide()\n",
    "xs_pin = pin()\n",
    "\n",
    "cross_sections = dict(xs_sc_wide=xs_sc_wide, xs_pin=xs_pin, xs_sc=xs_sc)"
   ]
  },
  {
   "cell_type": "markdown",
   "id": "adaf6d9a",
   "metadata": {},
   "source": [
    "## cells\n",
    "\n",
    "Cells are functions that return Components. They are parametrized and accept also cells as parameters, so you can build many levels of complexity. Cells are also known as PCells or parametric cells.\n",
    "\n",
    "You can customize the function default arguments easily thanks to `functools.partial`\n",
    "Lets customize the default arguments of a library of cells.\n",
    "\n",
    "For example, you can make some wide MMIs for a particular technology. Lets say the best MMI width you found it to be 9um."
   ]
  },
  {
   "cell_type": "code",
   "execution_count": null,
   "id": "7c3059d4",
   "metadata": {},
   "outputs": [],
   "source": [
    "mmi1x2 = partial(gf.components.mmi1x2, width_mmi=9)\n",
    "mmi2x2 = partial(gf.components.mmi2x2, width_mmi=9)\n",
    "\n",
    "cells = dict(mmi1x2=mmi1x2, mmi2x2=mmi2x2)"
   ]
  },
  {
   "cell_type": "markdown",
   "id": "46f05392",
   "metadata": {},
   "source": [
    "You can define a new PDK by creating function that customize partial parameters of the generic functions.\n",
    "\n",
    "Lets say that this PDK uses layer (41, 0) for the pads (instead of the layer used in the generic pad function)."
   ]
  },
  {
   "cell_type": "code",
   "execution_count": null,
   "id": "686add26",
   "metadata": {},
   "outputs": [],
   "source": [
    "pad_custom_layer = partial(gf.components.pad, layer=(41, 0))\n",
    "c = pad_custom_layer()\n",
    "c.plot()"
   ]
  },
  {
   "cell_type": "markdown",
   "id": "e6026e4a",
   "metadata": {},
   "source": [
    "## PDK\n",
    "\n",
    "You can register Layers, ComponentFactories (Parametric cells) and CrossSectionFactories (cross_sections) into a PDK.\n",
    "Then you can access them by a string after you activate the pdk `PDK.activate()`.\n",
    "\n",
    "### LayerSpec\n",
    "\n",
    "You can access layers from the active Pdk using the layer name or a tuple/list of two numbers."
   ]
  },
  {
   "cell_type": "code",
   "execution_count": null,
   "id": "10076da5",
   "metadata": {},
   "outputs": [],
   "source": [
    "from gdsfactory.generic_tech import get_generic_pdk\n",
    "\n",
    "generic_pdk = get_generic_pdk()\n",
    "\n",
    "pdk1 = gf.Pdk(\n",
    "    name=\"fab1\",\n",
    "    layers=dict(LAYER),\n",
    "    cross_sections=cross_sections,\n",
    "    cells=cells,\n",
    "    base_pdk=generic_pdk,\n",
    "    layer_views=generic_pdk.layer_views,\n",
    ")\n",
    "pdk1.activate()"
   ]
  },
  {
   "cell_type": "code",
   "execution_count": null,
   "id": "b3aca83c",
   "metadata": {},
   "outputs": [],
   "source": [
    "pdk1.get_layer(\"WG\")"
   ]
  },
  {
   "cell_type": "code",
   "execution_count": null,
   "id": "e9991c6c",
   "metadata": {},
   "outputs": [],
   "source": [
    "pdk1.get_layer([1, 0])"
   ]
  },
  {
   "cell_type": "markdown",
   "id": "58b38b07",
   "metadata": {},
   "source": [
    "### CrossSectionSpec\n",
    "\n",
    "You can access cross_sections from the pdk from the cross_section name, or using a dict to customize the CrossSection"
   ]
  },
  {
   "cell_type": "code",
   "execution_count": null,
   "id": "5f6a1e36",
   "metadata": {},
   "outputs": [],
   "source": [
    "pdk1.get_cross_section(\"xs_pin\")"
   ]
  },
  {
   "cell_type": "code",
   "execution_count": null,
   "id": "af204252",
   "metadata": {},
   "outputs": [],
   "source": [
    "cross_section_spec_string = \"xs_pin\"\n",
    "c = gf.components.straight(cross_section=cross_section_spec_string)\n",
    "c.plot()"
   ]
  },
  {
   "cell_type": "code",
   "execution_count": null,
   "id": "166f736c",
   "metadata": {},
   "outputs": [],
   "source": [
    "cross_section_spec_dict = dict(cross_section=\"xs_pin\", settings=dict(width=2))\n",
    "print(pdk1.get_cross_section(cross_section_spec_dict))\n",
    "wg_pin = gf.components.straight(cross_section=cross_section_spec_dict)\n",
    "wg_pin.plot()"
   ]
  },
  {
   "cell_type": "markdown",
   "id": "8d4e658a",
   "metadata": {},
   "source": [
    "### ComponentSpec\n",
    "\n",
    "You can get Component from the active pdk using the cell name (string) or a dict."
   ]
  },
  {
   "cell_type": "code",
   "execution_count": null,
   "id": "ebc37a44",
   "metadata": {},
   "outputs": [],
   "source": [
    "c = pdk1.get_component(\"mmi1x2\")\n",
    "c.plot()"
   ]
  },
  {
   "cell_type": "code",
   "execution_count": null,
   "id": "acf21473",
   "metadata": {},
   "outputs": [],
   "source": [
    "c = pdk1.get_component(dict(component=\"mmi1x2\", settings=dict(length_mmi=10)))\n",
    "c.plot()"
   ]
  },
  {
   "cell_type": "markdown",
   "id": "397d08a6",
   "metadata": {},
   "source": [
    "## Testing PDK cells\n",
    "\n",
    "To make sure all your PDK PCells produce the components that you want, it's important to test your PDK cells.\n",
    "\n",
    "As you write your own cell functions you want to make sure you do not break or produced unwanted regressions later on. You should write tests for this.\n",
    "\n",
    "Make sure you create a `test_components.py` file for pytest to test your PDK. See for example the tests in the [ubc PDK](https://github.com/gdsfactory/ubc)\n",
    "\n",
    "Pytest-regressions automatically creates the CSV and YAML files for you, as well `gdsfactory.gdsdiff` will store the reference GDS in ref_layouts and check for geometry differences using XOR.\n",
    "\n",
    "gdsfactory is **not** backwards compatible, which means that the package will keep improving and evolving.\n",
    "\n",
    "1. To make your work stable you should install a specific version and [pin the version](https://martin-thoma.com/python-requirements/) in your `requirements.txt` or `pyproject.toml` as `gdsfactory==7.10.1` replacing `7.10.1` by whatever version you end up using.\n",
    "2. Before you upgrade gdsfactory to a newer version make sure your tests pass to make sure that things behave as expected\n",
    "\n"
   ]
  },
  {
   "cell_type": "code",
   "execution_count": null,
   "id": "bb5acfbf",
   "metadata": {},
   "outputs": [],
   "source": [
    "\"\"\"This code tests all your cells in the PDK\n",
    "\n",
    "it will test 3 things:\n",
    "\n",
    "1. difftest: will test the GDS geometry of a new GDS compared to a reference. Thanks to Klayout fast booleans.add()\n",
    "2. settings test: will compare the settings in YAML with a reference YAML file.add()\n",
    "3. ensure ports are on grid, to avoid port snapping errors that can create 1nm gaps later on when you build circuits.\n",
    "\n",
    "\"\"\"\n",
    "\n",
    "try:\n",
    "    dirpath = pathlib.Path(__file__).absolute().with_suffix(\".gds\")\n",
    "except Exception:\n",
    "    dirpath = pathlib.Path.cwd()\n",
    "\n",
    "\n",
    "component_names = list(pdk1.cells.keys())\n",
    "factory = pdk1.cells\n",
    "\n",
    "\n",
    "@pytest.fixture(params=component_names, scope=\"function\")\n",
    "def component_name(request) -> str:\n",
    "    return request.param\n",
    "\n",
    "\n",
    "def test_gds(component_name: str) -> None:\n",
    "    \"\"\"Avoid regressions in GDS names, shapes and layers.\n",
    "    Runs XOR and computes the area.\"\"\"\n",
    "    component = factory[component_name]()\n",
    "    test_name = f\"fabc_{component_name}\"\n",
    "    difftest(component, test_name=test_name, dirpath=dirpath)\n",
    "\n",
    "\n",
    "def test_settings(component_name: str, data_regression: DataRegressionFixture) -> None:\n",
    "    \"\"\"Avoid regressions in component settings and ports.\"\"\"\n",
    "    component = factory[component_name]()\n",
    "    data_regression.check(component.to_dict())\n",
    "\n",
    "\n",
    "def test_assert_ports_on_grid(component_name: str):\n",
    "    \"\"\"Ensures all ports are on grid to avoid 1nm gaps\"\"\"\n",
    "    component = factory[component_name]()\n",
    "    component.assert_ports_on_grid()"
   ]
  },
  {
   "cell_type": "markdown",
   "id": "89940850",
   "metadata": {},
   "source": [
    "## Compare gds files\n",
    "\n",
    "You can use the command line `gf gds diff gds1.gds gds2.gds` to overlay `gds1.gds` and `gds2.gds` files and show them in KLayout.\n",
    "\n",
    "For example, if you changed the mmi1x2 and made it 5um longer by mistake, you could `gf gds diff ref_layouts/mmi1x2.gds run_layouts/mmi1x2.gds` and see the GDS differences in Klayout."
   ]
  },
  {
   "cell_type": "code",
   "execution_count": null,
   "id": "00c0e440",
   "metadata": {},
   "outputs": [],
   "source": [
    "help(gf.diff)"
   ]
  },
  {
   "cell_type": "code",
   "execution_count": null,
   "id": "946ae7a2",
   "metadata": {},
   "outputs": [],
   "source": [
    "mmi1 = gf.components.mmi1x2(length_mmi=5)\n",
    "mmi2 = gf.components.mmi1x2(length_mmi=6)\n",
    "gds1 = mmi1.write_gds()\n",
    "gds2 = mmi2.write_gds()\n",
    "gf.diff(gds1, gds2)"
   ]
  },
  {
   "cell_type": "markdown",
   "id": "dc684222",
   "metadata": {},
   "source": [
    "## Version control components\n",
    "\n",
    "For version control your component library you can use GIT\n",
    "\n",
    "For tracking changes you can add `Component` changelog in the PCell docstring."
   ]
  },
  {
   "cell_type": "code",
   "execution_count": null,
   "id": "fcd517c9",
   "metadata": {},
   "outputs": [],
   "source": [
    "import gdsfactory as gf\n",
    "from gdsfactory.generic_tech import get_generic_pdk\n",
    "from gdsfactory.typings import LayerSpec\n",
    "\n",
    "PDK = get_generic_pdk()\n",
    "PDK.activate()\n",
    "\n",
    "\n",
    "@gf.cell\n",
    "def litho_ruler(\n",
    "    height: float = 2,\n",
    "    width: float = 0.5,\n",
    "    spacing: float = 2.0,\n",
    "    scale: tuple[float, ...] = (3, 1, 1, 1, 1, 2, 1, 1, 1, 1),\n",
    "    num_marks: int = 21,\n",
    "    layer: LayerSpec = (1, 0),\n",
    ") -> gf.Component:\n",
    "    \"\"\"Ruler structure for lithographic measurement.\n",
    "\n",
    "    Includes marks of varying scales to allow for easy reading by eye.\n",
    "\n",
    "    Args:\n",
    "        height: Height of the ruling marks in um.\n",
    "        width: Width of the ruling marks in um.\n",
    "        spacing: Center-to-center spacing of the ruling marks in um.\n",
    "        scale: Height scale pattern of marks.\n",
    "        num_marks: Total number of marks to generate.\n",
    "        layer: Specific layer to put the ruler geometry on.\n",
    "    \"\"\"\n",
    "    c = gf.Component()\n",
    "    for n in range(num_marks):\n",
    "        h = height * scale[n % len(scale)]\n",
    "        _ = c << gf.components.rectangle(size=(width, h), layer=layer)\n",
    "\n",
    "    c.distribute(direction=\"x\", spacing=spacing, separation=False, edge=\"x\")\n",
    "    c.align(alignment=\"ymin\")\n",
    "    return c\n",
    "\n",
    "\n",
    "c = litho_ruler()\n",
    "c.plot()"
   ]
  },
  {
   "cell_type": "markdown",
   "id": "9235893f",
   "metadata": {},
   "source": [
    "Lets assume that later on you change the code inside the PCell and want to keep a changelog.\n",
    "You can use the docstring Notes to document any significant changes in the component.\n",
    "\n"
   ]
  },
  {
   "cell_type": "code",
   "execution_count": null,
   "id": "40d99fa3",
   "metadata": {
    "lines_to_next_cell": 0
   },
   "outputs": [],
   "source": [
    "@gf.cell\n",
    "def litho_ruler(\n",
    "    height: float = 2,\n",
    "    width: float = 0.5,\n",
    "    spacing: float = 2.0,\n",
    "    scale: tuple[float, ...] = (3, 1, 1, 1, 1, 2, 1, 1, 1, 1),\n",
    "    num_marks: int = 21,\n",
    "    layer: LayerSpec = (1, 0),\n",
    ") -> gf.Component:\n",
    "    \"\"\"Ruler structure for lithographic measurement.\n",
    "\n",
    "    Args:\n",
    "        height: Height of the ruling marks in um.\n",
    "        width: Width of the ruling marks in um.\n",
    "        spacing: Center-to-center spacing of the ruling marks in um.\n",
    "        scale: Height scale pattern of marks.\n",
    "        num_marks: Total number of marks to generate.\n",
    "        layer: Specific layer to put the ruler geometry on.\n",
    "\n",
    "    Notes:\n",
    "        5.6.7: distribute across y instead of x.\n",
    "    \"\"\"\n",
    "    D = gf.Component()\n",
    "    for n in range(num_marks):\n",
    "        h = height * scale[n % len(scale)]\n",
    "        ref = D << gf.components.rectangle(size=(width, h), layer=layer)\n",
    "        ref.rotate(90)\n",
    "\n",
    "    D.distribute(direction=\"y\", spacing=spacing, separation=False, edge=\"y\")\n",
    "    D.align(alignment=\"xmin\")\n",
    "    return D\n",
    "\n",
    "\n",
    "c = litho_ruler()\n",
    "c.plot()"
   ]
  },
  {
   "cell_type": "markdown",
   "id": "6dad8504",
   "metadata": {},
   "source": [
    "---\n",
    "jupyter:\n",
    "  jupytext:\n",
    "    cell_metadata_filter: -all\n",
    "    custom_cell_magics: kql\n",
    "    text_representation:\n",
    "      extension: .md\n",
    "      format_name: markdown\n",
    "      format_version: '1.3'\n",
    "      jupytext_version: 1.15.2\n",
    "  kernelspec:\n",
    "    display_name: base\n",
    "    language: python\n",
    "    name: python3\n",
    "---\n",
    "\n",
    "# PDK examples\n",
    "\n",
    "Different PDKs have different component libraries, design rules and layer stacks (GDS layers, materials and thickness).\n",
    "\n",
    "When you install a PDK you have to make sure you also installed the correct version of gdsfactory.\n",
    "\n",
    "Notice that some PDKs may have require different gdsfactory versions."
   ]
  },
  {
   "cell_type": "code",
   "execution_count": null,
   "id": "aa48f4dc",
   "metadata": {
    "lines_to_next_cell": 2
   },
   "outputs": [],
   "source": [
    "from collections.abc import Callable\n",
    "from functools import partial\n",
    "\n",
    "from pydantic import BaseModel\n",
    "\n",
    "import gdsfactory as gf\n",
    "from gdsfactory.add_pins import add_pin_rectangle_inside\n",
    "from gdsfactory.component import Component\n",
    "from gdsfactory.config import CONF\n",
    "from gdsfactory.cross_section import cross_section\n",
    "from gdsfactory.technology import (\n",
    "    LayerLevel,\n",
    "    LayerStack,\n",
    "    LayerView,\n",
    "    LayerViews,\n",
    "    LayerMap,\n",
    ")\n",
    "from gdsfactory.typings import Layer\n",
    "from gdsfactory.config import print_version_pdks, print_version_plugins\n",
    "from gdsfactory.generic_tech import get_generic_pdk\n",
    "\n",
    "gf.config.rich_output()\n",
    "nm = 1e-3"
   ]
  },
  {
   "cell_type": "code",
   "execution_count": null,
   "id": "849f5e2a",
   "metadata": {},
   "outputs": [],
   "source": [
    "p = gf.get_active_pdk()\n",
    "p.name"
   ]
  },
  {
   "cell_type": "markdown",
   "id": "852fe96b",
   "metadata": {},
   "source": [
    "### FabA\n",
    "\n",
    "FabA only has one waveguide layer available that is defined in GDS layer (30, 0)\n",
    "\n",
    "The waveguide traces are 2um wide.\n"
   ]
  },
  {
   "cell_type": "code",
   "execution_count": null,
   "id": "29f90b8d",
   "metadata": {},
   "outputs": [],
   "source": [
    "class LayerMapFabA(LayerMap):\n",
    "    WG: Layer = (34, 0)\n",
    "    SLAB150: Layer = (2, 0)\n",
    "    DEVREC: Layer = (68, 0)\n",
    "    PORT: Layer = (1, 10)\n",
    "    PORTE: Layer = (1, 11)\n",
    "    TEXT: Layer = (66, 0)\n",
    "\n",
    "\n",
    "LAYER = LayerMapFabA()\n",
    "\n",
    "\n",
    "class FabALayerViews(LayerViews):\n",
    "    WG: LayerView = LayerView(color=\"gold\")\n",
    "    SLAB150: LayerView = LayerView(color=\"red\")\n",
    "    TE: LayerView = LayerView(color=\"green\")\n",
    "\n",
    "\n",
    "LAYER_VIEWS = FabALayerViews(layer_map=dict(LAYER))\n",
    "\n",
    "\n",
    "def get_layer_stack_faba(\n",
    "    thickness_wg: float = 500 * nm, thickness_slab: float = 150 * nm\n",
    ") -> LayerStack:\n",
    "    \"\"\"Returns fabA LayerStack\"\"\"\n",
    "\n",
    "    return LayerStack(\n",
    "        layers=dict(\n",
    "            strip=LayerLevel(\n",
    "                layer=LAYER.WG,\n",
    "                thickness=thickness_wg,\n",
    "                zmin=0.0,\n",
    "                material=\"si\",\n",
    "            ),\n",
    "            strip2=LayerLevel(\n",
    "                layer=LAYER.SLAB150,\n",
    "                thickness=thickness_slab,\n",
    "                zmin=0.0,\n",
    "                material=\"si\",\n",
    "            ),\n",
    "        )\n",
    "    )\n",
    "\n",
    "\n",
    "LAYER_STACK = get_layer_stack_faba()\n",
    "\n",
    "WIDTH = 2\n",
    "\n",
    "# Specify a cross_section to use\n",
    "strip = partial(gf.cross_section.cross_section, width=WIDTH, layer=LAYER.WG)\n",
    "\n",
    "mmi1x2 = partial(\n",
    "    gf.components.mmi1x2,\n",
    "    width=WIDTH,\n",
    "    width_taper=WIDTH,\n",
    "    width_mmi=3 * WIDTH,\n",
    "    cross_section=strip,\n",
    ")\n",
    "\n",
    "generic_pdk = get_generic_pdk()\n",
    "\n",
    "fab_a = gf.Pdk(\n",
    "    name=\"Fab_A\",\n",
    "    cells=dict(mmi1x2=mmi1x2),\n",
    "    cross_sections=dict(strip=strip),\n",
    "    layers=dict(LAYER),\n",
    "    base_pdk=generic_pdk,\n",
    "    layer_views=LAYER_VIEWS,\n",
    "    layer_stack=LAYER_STACK,\n",
    ")\n",
    "fab_a.activate()\n",
    "\n",
    "gc = partial(\n",
    "    gf.components.grating_coupler_elliptical_te, layer=LAYER.WG, cross_section=strip\n",
    ")\n",
    "\n",
    "c = gf.components.mzi()\n",
    "c_gc = gf.routing.add_fiber_array(component=c, grating_coupler=gc, with_loopback=False)\n",
    "c_gc.plot()"
   ]
  },
  {
   "cell_type": "code",
   "execution_count": null,
   "id": "f363c9e7",
   "metadata": {},
   "outputs": [],
   "source": [
    "scene = c_gc.to_3d()\n",
    "scene.show()"
   ]
  },
  {
   "cell_type": "markdown",
   "id": "afbf3a39",
   "metadata": {},
   "source": [
    "### FabB\n",
    "\n",
    "FabB has photonic waveguides that require rectangular cladding layers (bbox_layers)\n",
    "\n",
    "Lets say that the waveguides are defined in layer (2, 0) and are 0.3um wide, 1um thick"
   ]
  },
  {
   "cell_type": "code",
   "execution_count": null,
   "id": "23e26341",
   "metadata": {},
   "outputs": [],
   "source": [
    "nm = 1e-3\n",
    "\n",
    "\n",
    "class LayerMapFabB(LayerMap):\n",
    "    WG: Layer = (2, 0)\n",
    "    SLAB150: Layer = (3, 0)\n",
    "    DEVREC: Layer = (68, 0)\n",
    "    PORT: Layer = (1, 10)\n",
    "    PORTE: Layer = (1, 11)\n",
    "    TEXT: Layer = (66, 0)\n",
    "    DOPING_BLOCK1: Layer = (61, 0)\n",
    "    DOPING_BLOCK2: Layer = (62, 0)\n",
    "\n",
    "\n",
    "LAYER = LayerMapFabB()\n",
    "\n",
    "\n",
    "# The LayerViews class supports grouping LayerViews within each other.\n",
    "# These groups are maintained when exporting a LayerViews object to a KLayout layer properties (.lyp) file.\n",
    "class FabBLayerViews(LayerViews):\n",
    "    WG: LayerView = LayerView(color=\"red\")\n",
    "    SLAB150: LayerView = LayerView(color=\"blue\")\n",
    "    TE: LayerView = LayerView(color=\"green\")\n",
    "    PORT: LayerView = LayerView(color=\"green\", alpha=0)\n",
    "\n",
    "    class DopingBlockGroup(LayerView):\n",
    "        DOPING_BLOCK1: LayerView = LayerView(color=\"green\", alpha=0)\n",
    "        DOPING_BLOCK2: LayerView = LayerView(color=\"green\", alpha=0)\n",
    "\n",
    "    DopingBlocks: LayerView = DopingBlockGroup()\n",
    "\n",
    "\n",
    "LAYER_VIEWS = FabBLayerViews(layer_map=LAYER)\n",
    "\n",
    "\n",
    "def get_layer_stack_fab_b(\n",
    "    thickness_wg: float = 1000 * nm, thickness_slab: float = 150 * nm\n",
    ") -> LayerStack:\n",
    "    \"\"\"Returns fabA LayerStack.\"\"\"\n",
    "\n",
    "    return LayerStack(\n",
    "        layers=dict(\n",
    "            strip=LayerLevel(\n",
    "                layer=LAYER.WG,\n",
    "                thickness=thickness_wg,\n",
    "                zmin=0.0,\n",
    "                material=\"si\",\n",
    "            ),\n",
    "            strip2=LayerLevel(\n",
    "                layer=LAYER.SLAB150,\n",
    "                thickness=thickness_slab,\n",
    "                zmin=0.0,\n",
    "                material=\"si\",\n",
    "            ),\n",
    "        )\n",
    "    )\n",
    "\n",
    "\n",
    "LAYER_STACK = get_layer_stack_fab_b()\n",
    "\n",
    "\n",
    "WIDTH = 0.3\n",
    "BBOX_LAYERS = (LAYER.DOPING_BLOCK1, LAYER.DOPING_BLOCK2)\n",
    "BBOX_OFFSETS = (3, 3)\n",
    "\n",
    "# use cladding_layers and cladding_offsets if the foundry prefers conformal blocking doping layers instead of squared\n",
    "# bbox_layers and bbox_offsets makes rectangular waveguides.\n",
    "xf_sc = partial(\n",
    "    gf.cross_section.cross_section,\n",
    "    width=WIDTH,\n",
    "    layer=LAYER.WG,\n",
    "    # bbox_layers=BBOX_LAYERS,\n",
    "    # bbox_offsets=BBOX_OFFSETS,\n",
    "    cladding_layers=BBOX_LAYERS,\n",
    "    cladding_offsets=BBOX_OFFSETS,\n",
    ")  # cross section factory\n",
    "xs_sc = xf_sc()  # cross section\n",
    "\n",
    "straight = partial(gf.components.straight, cross_section=xf_sc)\n",
    "bend_euler = partial(gf.components.bend_euler, cross_section=xf_sc)\n",
    "mmi1x2 = partial(\n",
    "    gf.components.mmi1x2,\n",
    "    cross_section=xf_sc,\n",
    "    width=WIDTH,\n",
    "    width_taper=WIDTH,\n",
    "    width_mmi=4 * WIDTH,\n",
    ")\n",
    "mzi = partial(gf.components.mzi, splitter=mmi1x2, cross_section=xf_sc)\n",
    "gc = partial(\n",
    "    gf.components.grating_coupler_elliptical_te, layer=LAYER.WG, cross_section=xf_sc\n",
    ")\n",
    "\n",
    "cells = dict(\n",
    "    gc=gc,\n",
    "    mzi=mzi,\n",
    "    mmi1x2=mmi1x2,\n",
    "    bend_euler=bend_euler,\n",
    "    straight=straight,\n",
    "    taper=gf.components.taper,\n",
    ")\n",
    "cross_sections = dict(strip=strip)\n",
    "\n",
    "pdk = gf.Pdk(\n",
    "    name=\"fab_b\",\n",
    "    cells=cells,\n",
    "    cross_sections=cross_sections,\n",
    "    layers=dict(LAYER),\n",
    "    layer_views=LAYER_VIEWS,\n",
    "    layer_stack=LAYER_STACK,\n",
    ")\n",
    "pdk.activate()\n",
    "\n",
    "\n",
    "c = mzi()\n",
    "wg_gc = gf.routing.add_fiber_array(\n",
    "    component=c, grating_coupler=gc, cross_section=xf_sc, with_loopback=False\n",
    ")\n",
    "wg_gc.plot()"
   ]
  },
  {
   "cell_type": "code",
   "execution_count": null,
   "id": "34e5008a",
   "metadata": {},
   "outputs": [],
   "source": [
    "scene = wg_gc.to_3d()\n",
    "scene.show()"
   ]
  },
  {
   "cell_type": "markdown",
   "id": "f275641d",
   "metadata": {},
   "source": [
    "### FabC\n",
    "\n",
    "Lets assume that fab C has similar technology to the generic PDK in gdsfactory and that you just want to remap some layers, and adjust the widths.\n"
   ]
  },
  {
   "cell_type": "code",
   "execution_count": null,
   "id": "b5206dd4",
   "metadata": {
    "lines_to_next_cell": 2
   },
   "outputs": [],
   "source": [
    "nm = 1e-3\n",
    "\n",
    "\n",
    "class LayerMapFabC(LayerMap):\n",
    "    WG: Layer = (10, 1)\n",
    "    WG_CLAD: Layer = (10, 2)\n",
    "    WGN: Layer = (34, 0)\n",
    "    WGN_CLAD: Layer = (36, 0)\n",
    "    SLAB150: Layer = (2, 0)\n",
    "    DEVREC: Layer = (68, 0)\n",
    "    PORT: Layer = (1, 10)\n",
    "    PORTE: Layer = (1, 11)\n",
    "    TEXT: Layer = (66, 0)\n",
    "\n",
    "\n",
    "LAYER = LayerMapFabC()\n",
    "WIDTH_NITRIDE_OBAND = 0.9\n",
    "WIDTH_NITRIDE_CBAND = 1.0\n",
    "PORT_TYPE_TO_LAYER = dict(optical=(100, 0))\n",
    "\n",
    "\n",
    "# This is something you usually define in KLayout\n",
    "class FabCLayerViews(LayerViews):\n",
    "    WG: LayerView = LayerView(color=\"black\")\n",
    "    SLAB150: LayerView = LayerView(color=\"blue\")\n",
    "    WGN: LayerView = LayerView(color=\"orange\")\n",
    "    WGN_CLAD: LayerView = LayerView(color=\"blue\", alpha=0, visible=False)\n",
    "\n",
    "    class SimulationGroup(LayerView):\n",
    "        TE: LayerView = LayerView(color=\"green\")\n",
    "        PORT: LayerView = LayerView(color=\"green\", alpha=0)\n",
    "\n",
    "    Simulation: LayerView = SimulationGroup()\n",
    "\n",
    "    class DopingGroup(LayerView):\n",
    "        DOPING_BLOCK1: LayerView = LayerView(color=\"green\", alpha=0, visible=False)\n",
    "        DOPING_BLOCK2: LayerView = LayerView(color=\"green\", alpha=0, visible=False)\n",
    "\n",
    "    Doping: LayerView = DopingGroup()\n",
    "\n",
    "\n",
    "LAYER_VIEWS = FabCLayerViews(layer_map=LAYER)\n",
    "\n",
    "\n",
    "def get_layer_stack_fab_c(\n",
    "    thickness_wg: float = 350.0 * nm, thickness_clad: float = 3.0\n",
    ") -> LayerStack:\n",
    "    \"\"\"Returns generic LayerStack\"\"\"\n",
    "\n",
    "    return LayerStack(\n",
    "        layers=dict(\n",
    "            core=LayerLevel(\n",
    "                layer=LAYER.WGN,\n",
    "                thickness=thickness_wg,\n",
    "                zmin=0,\n",
    "            ),\n",
    "            clad=LayerLevel(\n",
    "                layer=LAYER.WGN_CLAD,\n",
    "                thickness=thickness_clad,\n",
    "                zmin=0,\n",
    "            ),\n",
    "        )\n",
    "    )\n",
    "\n",
    "\n",
    "LAYER_STACK = get_layer_stack_fab_c()\n",
    "\n",
    "# cross_section constants\n",
    "bbox_layers = [LAYER.WGN_CLAD]\n",
    "bbox_offsets = [3]\n",
    "\n",
    "# Nitride Cband\n",
    "xs_nc = partial(\n",
    "    cross_section,\n",
    "    width=WIDTH_NITRIDE_CBAND,\n",
    "    layer=LAYER.WGN,\n",
    "    bbox_layers=bbox_layers,\n",
    "    bbox_offsets=bbox_offsets,\n",
    ")\n",
    "# Nitride Oband\n",
    "xs_no = partial(\n",
    "    cross_section,\n",
    "    width=WIDTH_NITRIDE_OBAND,\n",
    "    layer=LAYER.WGN,\n",
    "    bbox_layers=bbox_layers,\n",
    "    bbox_offsets=bbox_offsets,\n",
    ")\n",
    "\n",
    "\n",
    "cross_sections = dict(xs_nc=xs_nc, xs_no=xs_no, strip=xs_nc)\n",
    "\n",
    "# LEAF cells have pins\n",
    "mmi1x2_nc = partial(\n",
    "    gf.components.mmi1x2,\n",
    "    width=WIDTH_NITRIDE_CBAND,\n",
    "    cross_section=xs_nc,\n",
    ")\n",
    "mmi1x2_no = partial(\n",
    "    gf.components.mmi1x2,\n",
    "    width=WIDTH_NITRIDE_OBAND,\n",
    "    cross_section=xs_no,\n",
    ")\n",
    "bend_euler_nc = partial(\n",
    "    gf.components.bend_euler,\n",
    "    cross_section=xs_nc,\n",
    ")\n",
    "straight_nc = partial(\n",
    "    gf.components.straight,\n",
    "    cross_section=xs_nc,\n",
    ")\n",
    "bend_euler_no = partial(\n",
    "    gf.components.bend_euler,\n",
    "    cross_section=xs_no,\n",
    ")\n",
    "straight_no = partial(\n",
    "    gf.components.straight,\n",
    "    cross_section=xs_no,\n",
    ")\n",
    "\n",
    "gc_nc = partial(\n",
    "    gf.components.grating_coupler_elliptical_te,\n",
    "    grating_line_width=0.6,\n",
    "    layer=LAYER.WGN,\n",
    "    cross_section=xs_nc,\n",
    ")\n",
    "\n",
    "# HIERARCHICAL cells are made of leaf cells\n",
    "mzi_nc = partial(\n",
    "    gf.components.mzi,\n",
    "    cross_section=xs_nc,\n",
    "    splitter=mmi1x2_nc,\n",
    "    straight=straight_nc,\n",
    "    bend=bend_euler_nc,\n",
    ")\n",
    "mzi_no = partial(\n",
    "    gf.components.mzi,\n",
    "    cross_section=xs_no,\n",
    "    splitter=mmi1x2_no,\n",
    "    straight=straight_no,\n",
    "    bend=bend_euler_no,\n",
    ")\n",
    "\n",
    "\n",
    "cells = dict(\n",
    "    mmi1x2_nc=mmi1x2_nc,\n",
    "    mmi1x2_no=mmi1x2_no,\n",
    "    bend_euler_nc=bend_euler_nc,\n",
    "    bend_euler_no=bend_euler_no,\n",
    "    straight_nc=straight_nc,\n",
    "    straight_no=straight_no,\n",
    "    gc_nc=gc_nc,\n",
    "    mzi_nc=mzi_nc,\n",
    "    mzi_no=mzi_no,\n",
    ")\n",
    "\n",
    "pdk = gf.Pdk(\n",
    "    name=\"fab_c\",\n",
    "    cells=cells,\n",
    "    cross_sections=cross_sections,\n",
    "    layers=dict(LAYER),\n",
    "    layer_views=LAYER_VIEWS,\n",
    "    layer_stack=LAYER_STACK,\n",
    ")\n",
    "pdk.activate()"
   ]
  },
  {
   "cell_type": "code",
   "execution_count": null,
   "id": "d970c6a3",
   "metadata": {},
   "outputs": [],
   "source": [
    "LAYER_VIEWS.layer_map.values()"
   ]
  },
  {
   "cell_type": "code",
   "execution_count": null,
   "id": "981d0d60",
   "metadata": {},
   "outputs": [],
   "source": [
    "mzi = mzi_nc()\n",
    "mzi_gc = gf.routing.add_fiber_single(\n",
    "    component=mzi,\n",
    "    grating_coupler=gc_nc,\n",
    "    cross_section=xs_nc,\n",
    "    optical_routing_type=1,\n",
    "    straight=straight_nc,\n",
    "    bend=bend_euler_nc,\n",
    ")\n",
    "mzi_gc.plot()"
   ]
  },
  {
   "cell_type": "code",
   "execution_count": null,
   "id": "150c8e56",
   "metadata": {},
   "outputs": [],
   "source": [
    "c = mzi_gc.to_3d()\n",
    "c.show()"
   ]
  },
  {
   "cell_type": "code",
   "execution_count": null,
   "id": "28040560",
   "metadata": {
    "lines_to_next_cell": 0
   },
   "outputs": [],
   "source": [
    "ls = get_layer_stack_fab_c()"
   ]
  },
  {
   "cell_type": "markdown",
   "id": "dc3a1fe4",
   "metadata": {},
   "source": [
    "---\n",
    "jupyter:\n",
    "  jupytext:\n",
    "    cell_metadata_filter: -all\n",
    "    custom_cell_magics: kql\n",
    "    text_representation:\n",
    "      extension: .md\n",
    "      format_name: markdown\n",
    "      format_version: '1.3'\n",
    "      jupytext_version: 1.15.2\n",
    "  kernelspec:\n",
    "    display_name: base\n",
    "    language: python\n",
    "    name: python3\n",
    "---\n",
    "\n",
    "# Import PDK\n",
    "\n",
    "## Import PDK from GDS files\n",
    "\n",
    "To import a PDK from GDS files into gdsfactory you need:\n",
    "\n",
    "- GDS file with all the cells that you want to import in the PDK (or separate GDS files, where each file contains a GDS design).\n",
    "\n",
    "Ideally you also get:\n",
    "\n",
    "- Klayout layer properties files, to define the Layers that you can use when creating new custom Components. This allows you to define the LayerMap that maps Layer_name to (GDS_LAYER, GDS_PuRPOSE).\n",
    "- layer_stack information (material index, thickness, z positions of each layer).\n",
    "- DRC rules. If you don't get this you can easily build one using klayout.\n",
    "\n",
    "GDS files are great for describing geometry thanks to the concept of References, where you store any geometry only once in memory.\n",
    "\n",
    "For storing device metadata (settings, port locations, port widths, port angles ...) there is no clear standard.\n",
    "\n",
    "`gdsfactory` stores the that metadata in `YAML` files, and also has functions to add pins\n",
    "\n",
    "- `Component.write_gds()` saves GDS\n",
    "- `Component.write_gds_metadata()` save GDS + YAML metadata"
   ]
  },
  {
   "cell_type": "code",
   "execution_count": null,
   "id": "a49cb82f",
   "metadata": {},
   "outputs": [],
   "source": [
    "import gdsfactory as gf\n",
    "from gdsfactory.config import PATH\n",
    "from gdsfactory.generic_tech import get_generic_pdk\n",
    "from gdsfactory.technology import lyp_to_dataclass\n",
    "\n",
    "gf.config.rich_output()"
   ]
  },
  {
   "cell_type": "code",
   "execution_count": null,
   "id": "fd283d42",
   "metadata": {},
   "outputs": [],
   "source": [
    "c = gf.components.mzi()\n",
    "c.plot()"
   ]
  },
  {
   "cell_type": "markdown",
   "id": "b97f1e3d",
   "metadata": {},
   "source": [
    "You can write **GDS** files only"
   ]
  },
  {
   "cell_type": "code",
   "execution_count": null,
   "id": "f2a75d94",
   "metadata": {},
   "outputs": [],
   "source": [
    "gdspath = c.write_gds(\"extra/mzi.gds\")"
   ]
  },
  {
   "cell_type": "markdown",
   "id": "14dddab8",
   "metadata": {},
   "source": [
    "Or **GDS** with **YAML** metadata information (ports, settings, cells ...)"
   ]
  },
  {
   "cell_type": "code",
   "execution_count": null,
   "id": "cd114957",
   "metadata": {},
   "outputs": [],
   "source": [
    "gdspath = c.write_gds(\"extra/mzi.gds\", with_metadata=True)"
   ]
  },
  {
   "cell_type": "markdown",
   "id": "8feab45b",
   "metadata": {},
   "source": [
    "This created a `mzi.yml` file that contains:\n",
    "- ports\n",
    "- cells (flat list of cells)\n",
    "- info (function name, module, changed settings, full settings, default settings)"
   ]
  },
  {
   "cell_type": "code",
   "execution_count": null,
   "id": "35d5699e",
   "metadata": {},
   "outputs": [],
   "source": [
    "c.metadata.keys()"
   ]
  },
  {
   "cell_type": "markdown",
   "id": "f1d1caa9",
   "metadata": {},
   "source": [
    "You can read GDS files into gdsfactory thanks to the `import_gds` function\n",
    "\n",
    "`import_gds` reads the same GDS file from disk without losing any information"
   ]
  },
  {
   "cell_type": "code",
   "execution_count": null,
   "id": "ab6716af",
   "metadata": {},
   "outputs": [],
   "source": [
    "gf.clear_cache()\n",
    "\n",
    "c = gf.import_gds(gdspath, read_metadata=True)\n",
    "c.plot()"
   ]
  },
  {
   "cell_type": "code",
   "execution_count": null,
   "id": "897025d3",
   "metadata": {},
   "outputs": [],
   "source": [
    "c2 = gf.import_gds(gdspath, read_metadata=True)\n",
    "c2.plot()"
   ]
  },
  {
   "cell_type": "code",
   "execution_count": null,
   "id": "f5734878",
   "metadata": {},
   "outputs": [],
   "source": [
    "c2.name"
   ]
  },
  {
   "cell_type": "code",
   "execution_count": null,
   "id": "a894a1e7",
   "metadata": {},
   "outputs": [],
   "source": [
    "c3 = gf.routing.add_fiber_single(c2)\n",
    "c3.plot()"
   ]
  },
  {
   "cell_type": "code",
   "execution_count": null,
   "id": "f0a2a3f5",
   "metadata": {},
   "outputs": [],
   "source": [
    "gdspath = c3.write_gds(\"extra/pdk.gds\", with_metadata=True)"
   ]
  },
  {
   "cell_type": "code",
   "execution_count": null,
   "id": "fc1a2722",
   "metadata": {},
   "outputs": [],
   "source": [
    "gf.labels.write_labels.write_labels_klayout(gdspath, layer_label=(201, 0))"
   ]
  },
  {
   "cell_type": "markdown",
   "id": "6a4fa267",
   "metadata": {},
   "source": [
    "### add ports from pins\n",
    "\n",
    "Sometimes the GDS does not have YAML metadata, therefore you need to figure out the port locations, widths and orientations.\n",
    "\n",
    "gdsfactory provides you with functions that will add ports to the component by looking for pins shapes on a specific layers (port_markers or pins)\n",
    "\n",
    "There are different pin standards supported to automatically add ports to components:\n",
    "\n",
    "- PINs towards the inside of the port (port at the outer part of the PIN)\n",
    "- PINs with half of the pin inside and half outside (port at the center of the PIN)\n",
    "- PIN with only labels (no shapes). You have to manually specify the width of the port.\n",
    "\n",
    "\n",
    "Lets add pins, save a GDS and then import it back."
   ]
  },
  {
   "cell_type": "code",
   "execution_count": null,
   "id": "3bf486e7",
   "metadata": {},
   "outputs": [],
   "source": [
    "from functools import partial\n",
    "\n",
    "c = gf.components.straight()\n",
    "c_with_pins = gf.add_pins.add_pins_container(component=c)\n",
    "c_with_pins.plot(show_ports=False)"
   ]
  },
  {
   "cell_type": "code",
   "execution_count": null,
   "id": "066eabe7",
   "metadata": {},
   "outputs": [],
   "source": [
    "gdspath = c_with_pins.write_gds(\"extra/wg.gds\")"
   ]
  },
  {
   "cell_type": "code",
   "execution_count": null,
   "id": "4f58f3ec",
   "metadata": {},
   "outputs": [],
   "source": [
    "gf.clear_cache()\n",
    "c2 = gf.import_gds(gdspath)\n",
    "c2.plot()"
   ]
  },
  {
   "cell_type": "code",
   "execution_count": null,
   "id": "7e36cc81",
   "metadata": {},
   "outputs": [],
   "source": [
    "c2.ports  # import_gds does not automatically add the pins"
   ]
  },
  {
   "cell_type": "code",
   "execution_count": null,
   "id": "bd921071",
   "metadata": {},
   "outputs": [],
   "source": [
    "c3 = gf.import_gds(gdspath)\n",
    "c3 = gf.add_ports.add_ports_from_markers_inside(c3, port_layer=\"PORT\")\n",
    "c3.plot(show_ports=False)"
   ]
  },
  {
   "cell_type": "code",
   "execution_count": null,
   "id": "67a53d98",
   "metadata": {},
   "outputs": [],
   "source": [
    "c3.pprint_ports()"
   ]
  },
  {
   "cell_type": "markdown",
   "id": "2a23cb0f",
   "metadata": {},
   "source": [
    "Foundries provide PDKs in different formats and commercial tools.\n",
    "\n",
    "The easiest way to import a PDK into gdsfactory is to:\n",
    "\n",
    "1. have each GDS cell into a separate GDS file\n",
    "2. have one GDS file with all the cells inside\n",
    "3. Have a KLayout layermap. Makes easier to create the layermap.\n",
    "\n",
    "With that you can easily create the PDK as as python package.\n",
    "\n",
    "Thanks to having a gdsfactory PDK as a python package you can:\n",
    "\n",
    "- version control your PDK using GIT to keep track of changes and work on a team\n",
    "    - write tests of your pdk components to avoid unwanted changes from one component to another.\n",
    "    - ensure you maintain the quality of the PDK with continuous integration checks\n",
    "    - pin the version of gdsfactory, so new updates of gdsfactory won't affect your code\n",
    "- name your PDK version using [semantic versioning](https://semver.org/). For example patches increase the last number (0.0.1 -> 0.0.2)\n",
    "- install your PDK easily `pip install pdk_fab_a` and easily interface with other tools\n",
    "\n",
    "\n",
    "\n",
    "To create a **Python** package you can start from a customizable template (thanks to cookiecutter)\n",
    "\n",
    "You can create a python package by running this 2 commands inside a terminal:\n",
    "\n",
    "```\n",
    "pip install cookiecutter\n",
    "cookiecutter gh:joamatab/python\n",
    "```\n",
    "\n",
    "It will ask you some questions to fill in the template for the python package.\n",
    "\n",
    "\n",
    "Then you can add the information about the GDS files and the Layers inside that package"
   ]
  },
  {
   "cell_type": "code",
   "execution_count": null,
   "id": "be21be03",
   "metadata": {},
   "outputs": [],
   "source": [
    "print(lyp_to_dataclass(PATH.klayout_lyp))"
   ]
  },
  {
   "cell_type": "code",
   "execution_count": null,
   "id": "71efb584",
   "metadata": {},
   "outputs": [],
   "source": [
    "# lets create a sample PDK (for demo purposes only) using GDSfactory\n",
    "# if the PDK is in a commercial tool you can also do this. Make sure you save a single pdk.gds\n",
    "\n",
    "sample_pdk_cells = gf.grid(\n",
    "    [\n",
    "        gf.components.straight,\n",
    "        gf.components.bend_euler,\n",
    "        gf.components.grating_coupler_elliptical,\n",
    "    ]\n",
    ")\n",
    "sample_pdk_cells.write_gds(\"extra/pdk.gds\")\n",
    "sample_pdk_cells"
   ]
  },
  {
   "cell_type": "code",
   "execution_count": null,
   "id": "7b6debeb",
   "metadata": {},
   "outputs": [],
   "source": [
    "sample_pdk_cells.get_dependencies()"
   ]
  },
  {
   "cell_type": "code",
   "execution_count": null,
   "id": "4dd4b6c3",
   "metadata": {},
   "outputs": [],
   "source": [
    "# we write the sample PDK into a single GDS file\n",
    "gf.clear_cache()\n",
    "gf.write_cells.write_cells_recursively(gdspath=\"extra/pdk.gds\", dirpath=\"extra/gds\")"
   ]
  },
  {
   "cell_type": "code",
   "execution_count": null,
   "id": "29238386",
   "metadata": {},
   "outputs": [],
   "source": [
    "print(gf.write_cells.get_import_gds_script(\"extra/gds\"))"
   ]
  },
  {
   "cell_type": "markdown",
   "id": "3d1a6419",
   "metadata": {},
   "source": [
    "You can also include the code to plot each fix cell in the docstring."
   ]
  },
  {
   "cell_type": "code",
   "execution_count": null,
   "id": "45f3ad00",
   "metadata": {},
   "outputs": [],
   "source": [
    "print(gf.write_cells.get_import_gds_script(\"extra/gds\", module=\"samplepdk.components\"))"
   ]
  },
  {
   "cell_type": "markdown",
   "id": "30056ffa",
   "metadata": {},
   "source": [
    "## Import PDK from other python packages\n",
    "\n",
    "You can Write the cells to GDS and use the\n",
    "\n",
    "Ideally you also start transitioning your legacy code Pcells into gdsfactory syntax. It's a great way to learn the gdsfactory way!\n",
    "\n",
    "Here is some advice:\n",
    "\n",
    "- Ask your foundry for the gdsfactory PDK.\n",
    "- Leverage the generic pdk cells available in gdsfactory.\n",
    "- Write tests for your cells.\n",
    "- Break the cells into small reusable functions.\n",
    "- use GIT to track changes.\n",
    "- review your code with your colleagues and other gdsfactory developers to get feedback. This is key to get better at coding gdsfactory.\n",
    "- get rid of any warnings you see."
   ]
  },
  {
   "cell_type": "markdown",
   "id": "23518bc1",
   "metadata": {},
   "source": [
    "## Import PDK from YAML uPDK\n",
    "\n",
    "gdsfactory supports read and write to [uPDK YAML definition](https://openepda.org/index.html)\n",
    "\n",
    "Lets write a PDK into uPDK YAML definition and then convert it back to a gdsfactory script.\n",
    "\n",
    "the uPDK extracts the code from the docstrings.\n",
    "\n",
    "```python\n",
    "\n",
    "def evanescent_coupler_sample() -> None:\n",
    "    \"\"\"Evanescent coupler example.\n",
    "\n",
    "    Args:\n",
    "      coupler_length: length of coupling (min: 0.0, max: 200.0, um).\n",
    "    \"\"\"\n",
    "    pass\n",
    "\n",
    "```"
   ]
  },
  {
   "cell_type": "code",
   "execution_count": null,
   "id": "92207052",
   "metadata": {
    "lines_to_next_cell": 2
   },
   "outputs": [],
   "source": [
    "from gdsfactory.samples.pdk.fab_c import pdk\n",
    "\n",
    "yaml_pdk_decription = pdk.to_updk()\n",
    "print(yaml_pdk_decription)"
   ]
  },
  {
   "cell_type": "code",
   "execution_count": null,
   "id": "dabdabe2",
   "metadata": {},
   "outputs": [],
   "source": [
    "from gdsfactory.read.from_updk import from_updk\n",
    "\n",
    "gdsfactory_script = from_updk(yaml_pdk_decription)\n",
    "print(gdsfactory_script)"
   ]
  },
  {
   "cell_type": "markdown",
   "id": "84d631d3",
   "metadata": {},
   "source": [
    "## Build your own PDK\n",
    "\n",
    "You can create a PDK as a python library using a cookiecutter template. For example, you can use this one.\n",
    "\n",
    "```\n",
    "pip install cookiecutter\n",
    "cookiecutter gh:joamatab/python\n",
    "```\n",
    "\n",
    "Or you can fork the ubcpdk and create new PCell functions that use the correct layers for your foundry. For example.\n",
    "\n",
    "```\n",
    "\n",
    "from pydantic import BaseModel\n",
    "\n",
    "\n",
    "class LayerMap(BaseModel):\n",
    "    WGCORE = (3, 0)\n",
    "    DEVREC: Layer = (68, 0)\n",
    "    PORT: Layer = (1, 10)  # PinRec\n",
    "    PORTE: Layer = (1, 11)  # PinRecM\n",
    "    FLOORPLAN: Layer = (99, 0)\n",
    "\n",
    "    TE: Layer = (203, 0)\n",
    "    TM: Layer = (204, 0)\n",
    "    TEXT: Layer = (66, 0)\n",
    "    LABEL_INSTANCE: Layer = (66, 0)\n",
    "\n",
    "\n",
    "LAYER = LayerMap()\n",
    "\n",
    "```\n",
    "---\n",
    "jupyter:\n",
    "  jupytext:\n",
    "    cell_metadata_filter: -all\n",
    "    custom_cell_magics: kql\n",
    "    encoding: '# -*- coding: utf-8 -*-'\n",
    "    text_representation:\n",
    "      extension: .md\n",
    "      format_name: markdown\n",
    "      format_version: '1.3'\n",
    "      jupytext_version: 1.15.2\n",
    "  kernelspec:\n",
    "    display_name: base\n",
    "    language: python\n",
    "    name: python3\n",
    "---"
   ]
  },
  {
   "cell_type": "markdown",
   "id": "7c483162",
   "metadata": {},
   "source": [
    "# YAML Place and AutoRoute\n",
    "\n",
    "You have two options for working with gdsfactory:\n",
    "\n",
    "1. **python flow**: you define your layout using python functions (Parametric Cells), and connect them with routing functions.\n",
    "2. **YAML Place and AutoRoute**: you define your Component  as Place and Route in YAML. From the netlist you can simulate the Component or generate the layout.\n",
    "\n",
    "\n",
    "YAML is a human readable version of JSON that you can use to define placements and routes\n",
    "\n",
    "to define a a YAML Component you need to define:\n",
    "\n",
    "- instances: with each instance setting\n",
    "- placements: with X and Y\n",
    "\n",
    "And optionally:\n",
    "\n",
    "- routes: between instance ports\n",
    "- connections: to connect instance ports to other ports (without routes)\n",
    "- ports: define input and output ports for the top level Component.\n",
    "\n",
    "\n",
    "gdsfactory VSCode extension has a filewatcher for `*.pic.yml` files that will show them live in klayout as you edit them.\n",
    "\n",
    "![extension](https://i.imgur.com/89OPCQ1.png)\n",
    "\n",
    "The extension provides you with useful code snippets and filewatcher extension to see live modifications of `*pic.yml` or `*.py` files. Look for the telescope button on the top right of VSCode 🔭.\n",
    "![watcher-button](https://i.imgur.com/Kbb2A2X.png)"
   ]
  },
  {
   "cell_type": "code",
   "execution_count": null,
   "id": "dd015629",
   "metadata": {},
   "outputs": [],
   "source": [
    "import gdsfactory as gf\n",
    "from IPython.display import Code\n",
    "\n",
    "filepath = \"yaml_pics/pads.pic.yml\"\n",
    "Code(filepath, language=\"yaml+jinja\")"
   ]
  },
  {
   "cell_type": "code",
   "execution_count": null,
   "id": "908c2dbf",
   "metadata": {},
   "outputs": [],
   "source": [
    "c = gf.read.from_yaml(filepath)\n",
    "c.plot()"
   ]
  },
  {
   "cell_type": "markdown",
   "id": "b29bf421",
   "metadata": {},
   "source": [
    "Lets start by defining the `instances` and `placements` section in YAML\n",
    "\n",
    "Lets place an `mmi_long` where you can place the `o1` port at `x=20, y=10`"
   ]
  },
  {
   "cell_type": "code",
   "execution_count": null,
   "id": "b7f2f719",
   "metadata": {},
   "outputs": [],
   "source": [
    "filepath = \"yaml_pics/mmis.pic.yml\"\n",
    "Code(filepath, language=\"yaml+jinja\")"
   ]
  },
  {
   "cell_type": "code",
   "execution_count": null,
   "id": "9c91ed06",
   "metadata": {},
   "outputs": [],
   "source": [
    "c = gf.read.from_yaml(filepath)\n",
    "c.plot()"
   ]
  },
  {
   "cell_type": "markdown",
   "id": "0b3b24b8",
   "metadata": {},
   "source": [
    "## ports\n",
    "\n",
    "You can expose any ports of any instance to the new Component with a `ports` section in YAML\n",
    "\n",
    "Lets expose all the ports from `mmi_long` into the new component.\n",
    "\n",
    "Ports are exposed as `new_port_name: instance_name, port_name`"
   ]
  },
  {
   "cell_type": "code",
   "execution_count": null,
   "id": "e0ee25ad",
   "metadata": {},
   "outputs": [],
   "source": [
    "filepath = \"yaml_pics/ports_demo.pic.yml\"\n",
    "Code(filepath, language=\"yaml+jinja\")"
   ]
  },
  {
   "cell_type": "code",
   "execution_count": null,
   "id": "fc2e5319",
   "metadata": {},
   "outputs": [],
   "source": [
    "c = gf.read.from_yaml(filepath)\n",
    "c.plot()"
   ]
  },
  {
   "cell_type": "markdown",
   "id": "919aff4f",
   "metadata": {},
   "source": [
    "You can also define a mirror placement using a port\n",
    "\n",
    "Try mirroring with other ports `o2`, `o3` or with a number as well as with a rotation `90`, `180`, `270`"
   ]
  },
  {
   "cell_type": "code",
   "execution_count": null,
   "id": "b5980c68",
   "metadata": {},
   "outputs": [],
   "source": [
    "filepath = \"yaml_pics/mirror_demo.pic.yml\"\n",
    "Code(filepath, language=\"yaml+jinja\")"
   ]
  },
  {
   "cell_type": "code",
   "execution_count": null,
   "id": "9567b80d",
   "metadata": {},
   "outputs": [],
   "source": [
    "c = gf.read.from_yaml(filepath)\n",
    "c.plot()"
   ]
  },
  {
   "cell_type": "markdown",
   "id": "647fd1db",
   "metadata": {},
   "source": [
    "## connections\n",
    "\n",
    "You can connect any two instances by defining a `connections` section in the YAML file.\n",
    "\n",
    "it follows the syntax `instance_source,port : instance_destination,port`"
   ]
  },
  {
   "cell_type": "code",
   "execution_count": null,
   "id": "a3164635",
   "metadata": {},
   "outputs": [],
   "source": [
    "filepath = \"yaml_pics/connections_demo.pic.yml\"\n",
    "Code(filepath, language=\"yaml+jinja\")"
   ]
  },
  {
   "cell_type": "code",
   "execution_count": null,
   "id": "01004f84",
   "metadata": {},
   "outputs": [],
   "source": [
    "c = gf.read.from_yaml(filepath)\n",
    "c.plot()"
   ]
  },
  {
   "cell_type": "markdown",
   "id": "0ee97090",
   "metadata": {},
   "source": [
    "**Relative port placing**\n",
    "\n",
    "You can also place a component with respect to another instance port\n",
    "\n",
    "You can also define an x and y offset with `dx` and `dy`"
   ]
  },
  {
   "cell_type": "code",
   "execution_count": null,
   "id": "0c3728bb",
   "metadata": {},
   "outputs": [],
   "source": [
    "filepath = \"yaml_pics/relative_port_placing.pic.yml\"\n",
    "Code(filepath, language=\"yaml+jinja\")"
   ]
  },
  {
   "cell_type": "code",
   "execution_count": null,
   "id": "cbd05f5a",
   "metadata": {},
   "outputs": [],
   "source": [
    "c = gf.read.from_yaml(filepath)\n",
    "c.plot()"
   ]
  },
  {
   "cell_type": "markdown",
   "id": "d2b813e5",
   "metadata": {},
   "source": [
    "## routes\n",
    "\n",
    "You can define routes between two instances by defining a `routes` section in YAML\n",
    "\n",
    "it follows the syntax\n",
    "\n",
    "```YAML\n",
    "\n",
    "routes:\n",
    "    route_name:\n",
    "        links:\n",
    "            instance_source,port: instance_destination,port\n",
    "        settings:  # for the route (optional)\n",
    "            waveguide: strip\n",
    "            width: 1.2\n",
    "\n",
    "```"
   ]
  },
  {
   "cell_type": "code",
   "execution_count": null,
   "id": "f48a5328",
   "metadata": {},
   "outputs": [],
   "source": [
    "filepath = \"yaml_pics/routes.pic.yml\"\n",
    "Code(filepath, language=\"yaml+jinja\")"
   ]
  },
  {
   "cell_type": "code",
   "execution_count": null,
   "id": "bcf27c6e",
   "metadata": {},
   "outputs": [],
   "source": [
    "c = gf.read.from_yaml(filepath)\n",
    "c.plot()"
   ]
  },
  {
   "cell_type": "markdown",
   "id": "be632fbb",
   "metadata": {},
   "source": [
    "## instances, placements, connections, ports, routes\n",
    "\n",
    "Lets combine all you learned so far.\n",
    "\n",
    "You can define the netlist connections of a component by a netlist in YAML format\n",
    "\n",
    "Note that you define the connections as `instance_source.port ->\n",
    "instance_destination.port` so the order is important and therefore you can only\n",
    "change the position of the `instance_destination`"
   ]
  },
  {
   "cell_type": "markdown",
   "id": "8ecd6828",
   "metadata": {},
   "source": [
    "You can define several routes that will be connected using `gf.routing.get_bundle`"
   ]
  },
  {
   "cell_type": "code",
   "execution_count": null,
   "id": "966599d6",
   "metadata": {},
   "outputs": [],
   "source": [
    "filepath = \"yaml_pics/routes_mmi.pic.yml\"\n",
    "Code(filepath, language=\"yaml+jinja\")"
   ]
  },
  {
   "cell_type": "code",
   "execution_count": null,
   "id": "2f43b18b",
   "metadata": {},
   "outputs": [],
   "source": [
    "c = gf.read.from_yaml(filepath)\n",
    "c.plot()"
   ]
  },
  {
   "cell_type": "markdown",
   "id": "da9890c7",
   "metadata": {},
   "source": [
    "You can also add custom component_factories to `gf.read.from_yaml`\n",
    "\n"
   ]
  },
  {
   "cell_type": "code",
   "execution_count": null,
   "id": "76d6a196",
   "metadata": {},
   "outputs": [],
   "source": [
    "@gf.cell\n",
    "def pad_new(size=(100, 100), layer=(1, 0)):\n",
    "    c = gf.Component()\n",
    "    compass = c << gf.components.compass(size=size, layer=layer)\n",
    "    c.ports = compass.ports\n",
    "    return c\n",
    "\n",
    "\n",
    "gf.get_active_pdk().register_cells(pad_new=pad_new)\n",
    "c = pad_new()\n",
    "c.plot()"
   ]
  },
  {
   "cell_type": "code",
   "execution_count": null,
   "id": "0d8cd71d",
   "metadata": {},
   "outputs": [],
   "source": [
    "filepath = \"yaml_pics/new_factories.pic.yml\"\n",
    "Code(filepath, language=\"yaml+jinja\")"
   ]
  },
  {
   "cell_type": "code",
   "execution_count": null,
   "id": "1ebac479",
   "metadata": {},
   "outputs": [],
   "source": [
    "c = gf.read.from_yaml(filepath)\n",
    "c.plot()"
   ]
  },
  {
   "cell_type": "code",
   "execution_count": null,
   "id": "bcb53076",
   "metadata": {},
   "outputs": [],
   "source": [
    "filepath = \"yaml_pics/routes_custom.pic.yml\"\n",
    "Code(filepath, language=\"yaml+jinja\")"
   ]
  },
  {
   "cell_type": "code",
   "execution_count": null,
   "id": "1658b9ac",
   "metadata": {
    "lines_to_next_cell": 2
   },
   "outputs": [],
   "source": [
    "c = gf.read.from_yaml(filepath)\n",
    "c.plot()"
   ]
  },
  {
   "cell_type": "markdown",
   "id": "9c4a8039",
   "metadata": {},
   "source": [
    "Also, you can define route bundles with different settings and specify the route `factory` as a parameter as well as the `settings` for that particular route alias."
   ]
  },
  {
   "cell_type": "code",
   "execution_count": null,
   "id": "7bd595c3",
   "metadata": {},
   "outputs": [],
   "source": [
    "filepath = \"yaml_pics/pads_path_length_match.pic.yml\"\n",
    "Code(filepath, language=\"yaml+jinja\")"
   ]
  },
  {
   "cell_type": "code",
   "execution_count": null,
   "id": "ce003595",
   "metadata": {},
   "outputs": [],
   "source": [
    "c = gf.read.from_yaml(filepath)\n",
    "c.plot()"
   ]
  },
  {
   "cell_type": "code",
   "execution_count": null,
   "id": "88489568",
   "metadata": {},
   "outputs": [],
   "source": [
    "filepath = \"yaml_pics/routes_path_length_match.pic.yml\"\n",
    "Code(filepath, language=\"yaml+jinja\")"
   ]
  },
  {
   "cell_type": "code",
   "execution_count": null,
   "id": "5ebad618",
   "metadata": {},
   "outputs": [],
   "source": [
    "c = gf.read.from_yaml(filepath)\n",
    "c.plot()"
   ]
  },
  {
   "cell_type": "code",
   "execution_count": null,
   "id": "cbe761c9",
   "metadata": {},
   "outputs": [],
   "source": [
    "filepath = \"yaml_pics/routes_waypoints.pic.yml\"\n",
    "Code(filepath, language=\"yaml+jinja\")"
   ]
  },
  {
   "cell_type": "code",
   "execution_count": null,
   "id": "6ae312e7",
   "metadata": {},
   "outputs": [],
   "source": [
    "c = gf.read.from_yaml(filepath)\n",
    "c.plot()"
   ]
  },
  {
   "cell_type": "markdown",
   "id": "2b483cc6",
   "metadata": {},
   "source": [
    "## Jinja Pcells\n",
    "\n",
    "You use jinja templates in YAML cells to define Pcells."
   ]
  },
  {
   "cell_type": "code",
   "execution_count": null,
   "id": "48d2b8a8",
   "metadata": {},
   "outputs": [],
   "source": [
    "from IPython.display import Code\n",
    "\n",
    "from gdsfactory.read import cell_from_yaml_template\n",
    "\n",
    "gf.clear_cache()\n",
    "\n",
    "jinja_yaml = \"\"\"\n",
    "default_settings:\n",
    "    length_mmi:\n",
    "      value: 10\n",
    "      description: \"The length of the long MMI\"\n",
    "    width_mmi:\n",
    "      value: 5\n",
    "      description: \"The width of both MMIs\"\n",
    "\n",
    "instances:\n",
    "    mmi_long:\n",
    "      component: mmi1x2\n",
    "      settings:\n",
    "        width_mmi: {{ width_mmi }}\n",
    "        length_mmi: {{ length_mmi }}\n",
    "    mmi_short:\n",
    "      component: mmi1x2\n",
    "      settings:\n",
    "        width_mmi: {{ width_mmi }}\n",
    "        length_mmi: 5\n",
    "connections:\n",
    "    mmi_long,o2: mmi_short,o1\n",
    "\n",
    "ports:\n",
    "    o1: mmi_long,o1\n",
    "    o2: mmi_short,o2\n",
    "    o3: mmi_short,o3\n",
    "\"\"\"\n",
    "pic_filename = \"demo_jinja.pic.yml\"\n",
    "\n",
    "with open(pic_filename, mode=\"w\") as f:\n",
    "    f.write(jinja_yaml)\n",
    "\n",
    "pic_cell = cell_from_yaml_template(pic_filename, name=\"demo_jinja\")\n",
    "gf.get_active_pdk().register_cells(\n",
    "    demo_jinja=pic_cell\n",
    ")  # let's register this cell so we can use it later\n",
    "Code(filename=pic_filename, language=\"yaml+jinja\")"
   ]
  },
  {
   "cell_type": "markdown",
   "id": "81753533",
   "metadata": {},
   "source": [
    "You'll see that this generated a python function, with a real signature, default arguments, docstring and all!"
   ]
  },
  {
   "cell_type": "code",
   "execution_count": null,
   "id": "9b5d419e",
   "metadata": {},
   "outputs": [],
   "source": [
    "help(pic_cell)"
   ]
  },
  {
   "cell_type": "markdown",
   "id": "e6c264db",
   "metadata": {},
   "source": [
    "You can invoke this cell without arguments to see the default implementation"
   ]
  },
  {
   "cell_type": "code",
   "execution_count": null,
   "id": "23fe2a41",
   "metadata": {},
   "outputs": [],
   "source": [
    "c = pic_cell()\n",
    "c.plot()"
   ]
  },
  {
   "cell_type": "markdown",
   "id": "a466c2ec",
   "metadata": {},
   "source": [
    "Or you can provide arguments explicitly, like a normal cell. Note however that yaml-based cells **only accept keyword arguments**, since yaml dictionaries are inherently unordered."
   ]
  },
  {
   "cell_type": "code",
   "execution_count": null,
   "id": "a63333b7",
   "metadata": {},
   "outputs": [],
   "source": [
    "c = pic_cell(length_mmi=100)\n",
    "c.plot()"
   ]
  },
  {
   "cell_type": "markdown",
   "id": "1c9721c8",
   "metadata": {},
   "source": [
    "The power of jinja-templated cells become more apparent with more complex cells, like the following."
   ]
  },
  {
   "cell_type": "code",
   "execution_count": null,
   "id": "ff9a610d",
   "metadata": {},
   "outputs": [],
   "source": [
    "gf.clear_cache()\n",
    "\n",
    "jinja_yaml = \"\"\"\n",
    "default_settings:\n",
    "    length_mmis:\n",
    "      value: [10, 20, 30, 100]\n",
    "      description: \"An array of mmi lengths for the DOE\"\n",
    "    spacing_mmi:\n",
    "      value: 50\n",
    "      description: \"The vertical spacing between adjacent MMIs\"\n",
    "    mmi_component:\n",
    "      value: mmi1x2\n",
    "      description: \"The mmi component to use\"\n",
    "\n",
    "instances:\n",
    "{% for i in range(length_mmis|length)%}\n",
    "    mmi_{{ i }}:\n",
    "      component: {{ mmi_component }}\n",
    "      settings:\n",
    "        width_mmi: 4.5\n",
    "        length_mmi: {{ length_mmis[i] }}\n",
    "{% endfor %}\n",
    "\n",
    "placements:\n",
    "{% for i in range(1, length_mmis|length)%}\n",
    "    mmi_{{ i }}:\n",
    "      port: o1\n",
    "      x: mmi_0,o1\n",
    "      y: mmi_0,o1\n",
    "      dy: {{ spacing_mmi * i }}\n",
    "{% endfor %}\n",
    "\n",
    "routes:\n",
    "{% for i in range(1, length_mmis|length)%}\n",
    "    r{{ i }}:\n",
    "      routing_strategy: get_bundle_all_angle\n",
    "      links:\n",
    "        mmi_{{ i-1 }},o2: mmi_{{ i }},o1\n",
    "{% endfor %}\n",
    "\n",
    "ports:\n",
    "{% for i in range(length_mmis|length)%}\n",
    "    o{{ i }}: mmi_{{ i }},o3\n",
    "{% endfor %}\n",
    "\"\"\"\n",
    "pic_filename = \"demo_jinja_loops.pic.yml\"\n",
    "\n",
    "with open(pic_filename, mode=\"w\") as f:\n",
    "    f.write(jinja_yaml)\n",
    "\n",
    "big_cell = cell_from_yaml_template(pic_filename, name=\"demo_jinja_loops\")\n",
    "Code(filename=pic_filename, language=\"yaml+jinja\")"
   ]
  },
  {
   "cell_type": "code",
   "execution_count": null,
   "id": "995e408c",
   "metadata": {},
   "outputs": [],
   "source": [
    "bc = big_cell()\n",
    "bc.plot()"
   ]
  },
  {
   "cell_type": "code",
   "execution_count": null,
   "id": "2d170120",
   "metadata": {},
   "outputs": [],
   "source": [
    "bc2 = big_cell(\n",
    "    length_mmis=[10, 20, 40, 100, 200, 150, 10, 40],\n",
    "    spacing_mmi=60,\n",
    "    mmi_component=\"demo_jinja\",\n",
    ")\n",
    "bc2.plot()"
   ]
  },
  {
   "cell_type": "markdown",
   "id": "1e51934c",
   "metadata": {},
   "source": [
    "In general, the jinja-yaml parser has a superset of the functionalities and syntax of the standard yaml parser. The one notable exception is with `settings`. When reading any yaml files with `settings` blocks, the default settings will be read and applied, but they will not be settable, as the jinja parser has a different mechanism for setting injection with the `default_settings` block and jinja2."
   ]
  },
  {
   "cell_type": "code",
   "execution_count": null,
   "id": "36a2b693",
   "metadata": {},
   "outputs": [],
   "source": [
    "filepath = \"yaml_pics/mzi_lattice_filter.pic.yml\"\n",
    "mzi_lattice = cell_from_yaml_template(filepath, name=\"mzi_lattice_filter\")\n",
    "Code(filepath, language=\"yaml\")"
   ]
  },
  {
   "cell_type": "code",
   "execution_count": null,
   "id": "2cc4ba7d",
   "metadata": {},
   "outputs": [],
   "source": [
    "c = mzi_lattice(delta_length=10)\n",
    "c.plot()"
   ]
  },
  {
   "cell_type": "code",
   "execution_count": null,
   "id": "c0626280",
   "metadata": {
    "lines_to_next_cell": 0
   },
   "outputs": [],
   "source": [
    "c = mzi_lattice(delta_length=100)\n",
    "c.plot()"
   ]
  },
  {
   "cell_type": "markdown",
   "id": "7bc2475d",
   "metadata": {},
   "source": [
    "---\n",
    "jupyter:\n",
    "  jupytext:\n",
    "    cell_metadata_filter: -all\n",
    "    custom_cell_magics: kql\n",
    "    text_representation:\n",
    "      extension: .md\n",
    "      format_name: markdown\n",
    "      format_version: '1.3'\n",
    "      jupytext_version: 1.15.2\n",
    "  kernelspec:\n",
    "    display_name: base\n",
    "    language: python\n",
    "    name: python3\n",
    "---\n",
    "\n",
    "# Best practices\n"
   ]
  },
  {
   "cell_type": "markdown",
   "id": "e1804f39",
   "metadata": {},
   "source": [
    "## Use @cell decorator\n",
    "\n",
    "- Do not name leave cells Unnamed.\n",
    "\n",
    "\n",
    "Unnamed cells are going to get different names every time you run and is going to be hard to know where they come from."
   ]
  },
  {
   "cell_type": "code",
   "execution_count": null,
   "id": "d7ad2c61",
   "metadata": {},
   "outputs": [],
   "source": [
    "import gdsfactory as gf\n",
    "\n",
    "gf.CONF.display_type = \"klayout\"\n",
    "\n",
    "c = gf.Component()\n",
    "print(c.name)"
   ]
  },
  {
   "cell_type": "markdown",
   "id": "8c1b1103",
   "metadata": {},
   "source": [
    "- Do not name cells manually. Manually defining names can create duplicated cells."
   ]
  },
  {
   "cell_type": "code",
   "execution_count": null,
   "id": "2bff9831",
   "metadata": {
    "lines_to_next_cell": 2
   },
   "outputs": [],
   "source": [
    "c1 = gf.Component(\"my_cell\")\n",
    "c2 = gf.Component(\"my_cell\")\n",
    "c1.add_ref(gf.components.straight(length=10))\n",
    "c2.add_ref(gf.components.straight(length=11))\n",
    "\n",
    "c3 = gf.Component(\"im_going_to_have_duplicated_cell_names\")\n",
    "_ = c3.add_ref(c1)\n",
    "_ = c3.add_ref(c2)\n",
    "c3.plot()"
   ]
  },
  {
   "cell_type": "markdown",
   "id": "9689385e",
   "metadata": {},
   "source": [
    "Solution: Use the cell decorator to name cells\n"
   ]
  },
  {
   "cell_type": "code",
   "execution_count": null,
   "id": "d235ed23",
   "metadata": {
    "lines_to_next_cell": 2
   },
   "outputs": [],
   "source": [
    "@gf.cell\n",
    "def my_pcell(length=10):\n",
    "    c = gf.Component()\n",
    "    ref = c1.add_ref(gf.components.straight(length=length))\n",
    "    c.add_ports(ref.ports)\n",
    "    return c\n",
    "\n",
    "\n",
    "print(my_pcell(length=11).name)\n",
    "print(my_pcell(length=12).name)"
   ]
  },
  {
   "cell_type": "markdown",
   "id": "26b2aa06",
   "metadata": {},
   "source": [
    "## Keep cell functions simple\n",
    "\n",
    "As you make functions made of other functions one can start passing a lot of arguments to the function. This makes the code hard to write, read and maintain.\n",
    "\n",
    "- Avoid complicated functions with many parameters\n",
    "\n"
   ]
  },
  {
   "cell_type": "code",
   "execution_count": null,
   "id": "7dec7319",
   "metadata": {},
   "outputs": [],
   "source": [
    "@gf.cell\n",
    "def mzi_with_bend_overly_complicated(\n",
    "    mzi_delta_length: float = 10.0,\n",
    "    mzi_length_y: float = 2.0,\n",
    "    mzi_length_x: float | None = 0.1,\n",
    "    bend_radius: float = 10,\n",
    "    bend_cross_section=\"xs_sc\",\n",
    "):\n",
    "    \"\"\"Returns MZI interferometer with bend.\"\"\"\n",
    "    c = gf.Component()\n",
    "    mzi1 = c.add_ref(\n",
    "        gf.components.mzi(\n",
    "            delta_length=mzi_delta_length,\n",
    "            length_y=mzi_length_y,\n",
    "            length_x=mzi_length_x,\n",
    "        )\n",
    "    )\n",
    "    bend1 = c.add_ref(\n",
    "        gf.components.bend_euler(radius=bend_radius, cross_section=bend_cross_section)\n",
    "    )\n",
    "    bend1.connect(\"o1\", mzi1.ports[\"o2\"])\n",
    "    c.add_port(\"o1\", port=mzi1.ports[\"o1\"])\n",
    "    c.add_port(\"o2\", port=bend1.ports[\"o2\"])\n",
    "    return c\n",
    "\n",
    "\n",
    "c = mzi_with_bend_overly_complicated(bend_radius=100)\n",
    "c.plot()"
   ]
  },
  {
   "cell_type": "markdown",
   "id": "0213a4c4",
   "metadata": {},
   "source": [
    "Solution:\n",
    "\n",
    "- leverage `functools.partial` to customize the default parameters of a function"
   ]
  },
  {
   "cell_type": "code",
   "execution_count": null,
   "id": "676d9073",
   "metadata": {
    "lines_to_next_cell": 2
   },
   "outputs": [],
   "source": [
    "from functools import partial\n",
    "\n",
    "\n",
    "@gf.cell\n",
    "def mzi_with_bend(mzi=gf.components.mzi, bend=gf.components.bend_euler):\n",
    "    \"\"\"Returns MZI interferometer with bend.\"\"\"\n",
    "    c = gf.Component()\n",
    "    mzi1 = c.add_ref(mzi())\n",
    "    bend1 = c.add_ref(bend())\n",
    "    bend1.connect(\"o1\", mzi1.ports[\"o2\"])\n",
    "    c.add_port(\"o1\", port=mzi1.ports[\"o1\"])\n",
    "    c.add_port(\"o2\", port=bend1.ports[\"o2\"])\n",
    "    return c\n",
    "\n",
    "\n",
    "bend_big = partial(gf.components.bend_euler, radius=100)\n",
    "c = mzi_with_bend(bend=bend_big)\n",
    "c.plot()"
   ]
  },
  {
   "cell_type": "markdown",
   "id": "affebfab",
   "metadata": {},
   "source": [
    "## Use array of references\n",
    "\n",
    "- Array of references are more memory efficient and faster to create\n"
   ]
  },
  {
   "cell_type": "code",
   "execution_count": null,
   "id": "ba6a5da3",
   "metadata": {
    "lines_to_next_cell": 2
   },
   "outputs": [],
   "source": [
    "@gf.cell\n",
    "def pad_array_slow(\n",
    "    cols: int = 30,\n",
    "    rows: int = 30,\n",
    "    spacing: tuple[float, float] = (200, 200),\n",
    "    pad=gf.components.pad,\n",
    "):\n",
    "    \"\"\"Returns a grid of pads\"\"\"\n",
    "    xspacing, yspacing = spacing\n",
    "    c = gf.Component()\n",
    "    for col in range(cols):\n",
    "        for row in range(rows):\n",
    "            c.add_ref(pad()).movex(col * xspacing).movey(row * yspacing)\n",
    "    return c\n",
    "\n",
    "\n",
    "c = pad_array_slow()\n",
    "c.plot()"
   ]
  },
  {
   "cell_type": "code",
   "execution_count": null,
   "id": "0e5cf5d5",
   "metadata": {},
   "outputs": [],
   "source": [
    "@gf.cell\n",
    "def pad_array_fast(\n",
    "    cols: int = 30,\n",
    "    rows: int = 30,\n",
    "    spacing: tuple[float, float] = (200, 200),\n",
    "    pad=gf.components.pad,\n",
    "):\n",
    "    \"\"\"Returns a grid of pads\"\"\"\n",
    "    c = gf.Component()\n",
    "    c.add_array(pad(), columns=cols, rows=rows, spacing=spacing)\n",
    "    return c\n",
    "\n",
    "\n",
    "c = pad_array_fast()\n",
    "c.plot()"
   ]
  },
  {
   "cell_type": "code",
   "execution_count": null,
   "id": "17992d40",
   "metadata": {},
   "outputs": [],
   "source": []
  }
 ],
 "metadata": {
  "jupytext": {
   "cell_metadata_filter": "tags,-all",
   "custom_cell_magics": "kql"
  },
  "kernelspec": {
   "display_name": "base",
   "language": "python",
   "name": "python3"
  },
  "language_info": {
   "codemirror_mode": {
    "name": "ipython",
    "version": 3
   },
   "file_extension": ".py",
   "mimetype": "text/x-python",
   "name": "python",
   "nbconvert_exporter": "python",
   "pygments_lexer": "ipython3",
   "version": "3.11.5"
  }
 },
 "nbformat": 4,
 "nbformat_minor": 5
}
