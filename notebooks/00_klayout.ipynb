{
 "cells": [
  {
   "cell_type": "markdown",
   "id": "dc59fac5",
   "metadata": {},
   "source": [
    "# KLayout integration\n",
    "\n",
    "[Klayout](https://www.klayout.de/build.html) is an open source layout viewer and editor. In gdsfactory code driven flow you define your components, circuits and reticles in python or YAML code.\n",
    "\n",
    "For rapid iteration, gdsfactory comes with a Klayout macro `klive` that runs inside klayout, so that when you run `component.show()` in python, it displays your GDS in Klayout.\n",
    "\n",
    "![workflow](https://i.imgur.com/yquTcM7.png)"
   ]
  },
  {
   "cell_type": "markdown",
   "id": "d30715fd",
   "metadata": {},
   "source": [
    "You can install the klayout klive plugin to be able to see live updates on your GDS files:"
   ]
  },
  {
   "cell_type": "markdown",
   "id": "3d2e06b1",
   "metadata": {},
   "source": [
    "![KLayout package](https://i.imgur.com/IZWH6U0.png)"
   ]
  },
  {
   "cell_type": "markdown",
   "id": "7aa5ae84",
   "metadata": {},
   "source": [
    "You can install the klayout generic pdk (layermap and DRC) in 2 ways:\n",
    "\n",
    "1. from the terminal by typing `gf install klayout-genericpdk` after installing gdsfactory `pip install gdsfactory`\n",
    "2. using KLayout package manager (see image below), Tools --> Manage Packages\n",
    "\n",
    "![KLayout package](https://i.imgur.com/AkfcCms.png)"
   ]
  },
  {
   "cell_type": "markdown",
   "id": "dd79d985",
   "metadata": {},
   "source": [
    "What does the klayout generic tech installs?\n",
    "\n",
    "- generic layermap: for the generic gdsfactory technology.\n",
    "- generic DRC: for generic gdsfactory technology"
   ]
  }
 ],
 "metadata": {
  "jupytext": {
   "cell_metadata_filter": "-all",
   "main_language": "python",
   "notebook_metadata_filter": "-all"
  }
 },
 "nbformat": 4,
 "nbformat_minor": 5
}
