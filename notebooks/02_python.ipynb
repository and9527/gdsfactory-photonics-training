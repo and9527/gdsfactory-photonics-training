{
 "cells": [
  {
   "cell_type": "markdown",
   "id": "299f4dba",
   "metadata": {},
   "source": [
    "# Python intro\n",
    "\n",
    "gdsfactory is written in python and requires some basic knowledge of python.\n",
    "\n",
    "If you are new to python you can find many resources online\n",
    "\n",
    "- [books](https://jakevdp.github.io/PythonDataScienceHandbook/index.html)\n",
    "- [youTube videos](https://www.youtube.com/c/anthonywritescode)\n",
    "- [courses](https://github.com/joamatab/practical-python)\n",
    "\n",
    "This notebook is for you to experiment with some common python patterns in `gdsfactory`\n",
    "\n",
    "## Classes\n",
    "\n",
    "Gdsfactory has already some pre-defined classes for you.\n",
    "\n",
    "All the other classes (Component, ComponentReference, Port ...) are already available in `gf.typings`\n",
    "\n",
    "Classes are good for keeping state, which means that they store some information inside them (polygons, ports, references ...).\n",
    "\n",
    "In gdsfactory you will write functions instead of classes. Functions are easier to write and combine, and have clearly defined inputs and outputs."
   ]
  },
  {
   "cell_type": "code",
   "execution_count": null,
   "id": "66307ac8",
   "metadata": {},
   "outputs": [],
   "source": [
    "from pydantic import validate_arguments\n",
    "from functools import partial\n",
    "\n",
    "import gdsfactory as gf\n",
    "\n",
    "PDK = gf.get_generic_pdk()\n",
    "PDK.activate()"
   ]
  },
  {
   "cell_type": "code",
   "execution_count": null,
   "id": "bde378ce",
   "metadata": {},
   "outputs": [],
   "source": [
    "c = gf.Component(name=\"my_fist_component\")\n",
    "c.add_polygon([(-8, 6, 7, 9), (-6, 8, 17, 5)], layer=(1, 0))\n",
    "c"
   ]
  },
  {
   "cell_type": "markdown",
   "id": "ad5b37b1",
   "metadata": {
    "lines_to_next_cell": 2
   },
   "source": [
    "## Functions\n",
    "\n",
    "Functions have clear inputs and outputs, they usually accept some parameters (strings, floats, ints ...) and return other parameters"
   ]
  },
  {
   "cell_type": "code",
   "execution_count": null,
   "id": "bd75db4a",
   "metadata": {},
   "outputs": [],
   "source": [
    "def double(x):\n",
    "    return 2 * x\n",
    "\n",
    "\n",
    "x = 1.5\n",
    "y = double(x)\n",
    "print(y)"
   ]
  },
  {
   "cell_type": "markdown",
   "id": "16a1151e",
   "metadata": {
    "lines_to_next_cell": 2
   },
   "source": [
    "It's also nice to add `type annotations` to your functions to clearly define what are the input/output types (string, int, float ...)"
   ]
  },
  {
   "cell_type": "code",
   "execution_count": null,
   "id": "640a78bb",
   "metadata": {
    "lines_to_next_cell": 2
   },
   "outputs": [],
   "source": [
    "def double(x: float) -> float:\n",
    "    return 2 * x"
   ]
  },
  {
   "cell_type": "markdown",
   "id": "8e86043b",
   "metadata": {
    "lines_to_next_cell": 2
   },
   "source": [
    "## Factories\n",
    "\n",
    "A factory is a function that returns an object. In gdsfactory many functions return a `Component` object"
   ]
  },
  {
   "cell_type": "code",
   "execution_count": null,
   "id": "ed11d9ff",
   "metadata": {},
   "outputs": [],
   "source": [
    "def bend(radius: float = 5) -> gf.typings.Component:\n",
    "    return gf.components.bend_euler(radius=radius)\n",
    "\n",
    "\n",
    "component = bend(radius=10)\n",
    "\n",
    "print(component)\n",
    "component.plot()"
   ]
  },
  {
   "cell_type": "code",
   "execution_count": null,
   "id": "8690804b",
   "metadata": {},
   "outputs": [],
   "source": [
    "component"
   ]
  },
  {
   "cell_type": "markdown",
   "id": "4966def7",
   "metadata": {
    "lines_to_next_cell": 2
   },
   "source": [
    "## Decorators\n",
    "\n",
    "gdsfactory has many functions, and we want to do some common operations for the ones that return a Component:\n",
    "\n",
    "- give a unique name (dependent on the input parameters) to a Component\n",
    "- validate input arguments based on type annotations\n",
    "- cache the Component that the function returns for speed and reuse cells.\n",
    "\n",
    "For that you will see a `@cell` decorator on many component functions.\n",
    "\n",
    "The validation functionality comes from the [pydantic](https://pydantic-docs.helpmanual.io/) package\n",
    "and is available to you automatically when using the `@cell` decorator"
   ]
  },
  {
   "cell_type": "code",
   "execution_count": null,
   "id": "e3d71997",
   "metadata": {},
   "outputs": [],
   "source": [
    "@validate_arguments\n",
    "def double(x: float) -> float:\n",
    "    return 2 * x\n",
    "\n",
    "\n",
    "x = 1.5\n",
    "y = double(x)\n",
    "print(y)"
   ]
  },
  {
   "cell_type": "markdown",
   "id": "eeb84eeb",
   "metadata": {
    "lines_to_next_cell": 2
   },
   "source": [
    "The validator decorator is equivalent to running"
   ]
  },
  {
   "cell_type": "code",
   "execution_count": null,
   "id": "d8c936e6",
   "metadata": {},
   "outputs": [],
   "source": [
    "def double(x: float) -> float:\n",
    "    return 2 * x\n",
    "\n",
    "\n",
    "double_with_validator = validate_arguments(double)\n",
    "x = 1.5\n",
    "y = double_with_validator(x)\n",
    "print(y)"
   ]
  },
  {
   "cell_type": "markdown",
   "id": "80e7ab53",
   "metadata": {},
   "source": [
    "The `cell` decorator also leverages that validate arguments.\n",
    "So you should add type annotations to your component factories.\n",
    "\n",
    "Lets try to create an error `x` and you will get a clear message the the function `double` does not work with strings"
   ]
  },
  {
   "cell_type": "markdown",
   "id": "09152902",
   "metadata": {},
   "source": [
    "```python\n",
    "y = double(\"not_valid_number\")\n",
    "```\n",
    "\n",
    "will raise a `ValidationError`\n",
    "\n",
    "```\n",
    "ValidationError: 0 validation error for Double\n",
    "x\n",
    "  value is not a valid float (type=type_error.float)\n",
    "\n",
    "```\n",
    "\n",
    "It will also `cast` the input type based on the type annotation. So if you pass an `int` it will convert it to `float`"
   ]
  },
  {
   "cell_type": "code",
   "execution_count": null,
   "id": "266aaaa4",
   "metadata": {},
   "outputs": [],
   "source": [
    "x = 1\n",
    "y = double_with_validator(x)\n",
    "print(y, type(x), type(y))"
   ]
  },
  {
   "cell_type": "markdown",
   "id": "9a29f91b",
   "metadata": {},
   "source": [
    "## List comprehensions\n",
    "\n",
    "You will also see some list comprehensions, which are common in python.\n",
    "\n",
    "For example, you can write many loops in one line"
   ]
  },
  {
   "cell_type": "code",
   "execution_count": null,
   "id": "d609f946",
   "metadata": {},
   "outputs": [],
   "source": [
    "y = []\n",
    "for x in range(3):\n",
    "    y.append(double(x))\n",
    "\n",
    "print(y)"
   ]
  },
  {
   "cell_type": "code",
   "execution_count": null,
   "id": "bc5d85b7",
   "metadata": {
    "lines_to_next_cell": 2
   },
   "outputs": [],
   "source": [
    "y = [double(x) for x in range(3)]  # much shorter and easier to read\n",
    "print(y)"
   ]
  },
  {
   "cell_type": "markdown",
   "id": "cd7c87bb",
   "metadata": {
    "lines_to_next_cell": 2
   },
   "source": [
    "## Functional programming\n",
    "\n",
    "Functional programming follows linux philosophy:\n",
    "\n",
    "- Write functions that do one thing and do it well.\n",
    "- Write functions to work together.\n",
    "- Write functions with clear **inputs** and **outputs**\n",
    "\n",
    "### partial\n",
    "\n",
    "Partial is an easy way to modify the default arguments of a function. This is useful in gdsfactory because we define PCells using functions.\n",
    "\n",
    "`gdsfactory.partial` comes from the module `functools.partial`, which is available in the standard python library.\n",
    "\n",
    "The following two functions are equivalent in functionality.\n",
    "\n",
    "Notice how the second one is shorter, more readable and easier to maintain thanks to `partial`"
   ]
  },
  {
   "cell_type": "code",
   "execution_count": null,
   "id": "ec275796",
   "metadata": {},
   "outputs": [],
   "source": [
    "def ring_sc(gap=0.3, **kwargs):\n",
    "    return gf.components.ring_single(gap=gap, **kwargs)\n",
    "\n",
    "\n",
    "ring_sc = partial(gf.components.ring_single, gap=0.3)"
   ]
  },
  {
   "cell_type": "markdown",
   "id": "d96bf61c",
   "metadata": {
    "lines_to_next_cell": 2
   },
   "source": [
    "As you customize more parameters, it's more obvious that the second one is easier to maintain"
   ]
  },
  {
   "cell_type": "code",
   "execution_count": null,
   "id": "0b4438c7",
   "metadata": {},
   "outputs": [],
   "source": [
    "def ring_sc(gap=0.3, radius=10, **kwargs):\n",
    "    return gf.components.ring_single(gap=gap, radius=radius, **kwargs)\n",
    "\n",
    "\n",
    "ring_sc = partial(gf.components.ring_single, gap=0.3, radius=10)"
   ]
  },
  {
   "cell_type": "markdown",
   "id": "9b6cb802",
   "metadata": {},
   "source": [
    "### compose\n",
    "\n",
    "`gf.compose` combines two functions into one."
   ]
  },
  {
   "cell_type": "code",
   "execution_count": null,
   "id": "984af251",
   "metadata": {},
   "outputs": [],
   "source": [
    "ring_sc = partial(gf.components.ring_single, radius=10)\n",
    "add_gratings = gf.routing.add_fiber_array\n",
    "\n",
    "ring_sc_gc = gf.compose(add_gratings, ring_sc)\n",
    "ring_sc_gc5 = ring_sc_gc(radius=5)\n",
    "ring_sc_gc5"
   ]
  },
  {
   "cell_type": "code",
   "execution_count": null,
   "id": "862dd636",
   "metadata": {},
   "outputs": [],
   "source": [
    "ring_sc_gc20 = ring_sc_gc(radius=20)\n",
    "ring_sc_gc20"
   ]
  },
  {
   "cell_type": "markdown",
   "id": "ebfe2d3b",
   "metadata": {},
   "source": [
    "This is equivalent and more readable than writing"
   ]
  },
  {
   "cell_type": "code",
   "execution_count": null,
   "id": "3153efb7",
   "metadata": {},
   "outputs": [],
   "source": [
    "ring_sc_gc5 = add_gratings(ring_sc(radius=5))\n",
    "ring_sc_gc5"
   ]
  },
  {
   "cell_type": "code",
   "execution_count": null,
   "id": "cbbe8e62",
   "metadata": {},
   "outputs": [],
   "source": [
    "ring_sc_gc20 = add_gratings(ring_sc(radius=20))\n",
    "ring_sc_gc20"
   ]
  },
  {
   "cell_type": "code",
   "execution_count": null,
   "id": "f42a1bb1",
   "metadata": {},
   "outputs": [],
   "source": [
    "print(ring_sc_gc5)"
   ]
  },
  {
   "cell_type": "markdown",
   "id": "0497286e",
   "metadata": {},
   "source": [
    "## Ipython\n",
    "\n",
    "This Jupyter Notebook uses an Interactive Python Terminal (Ipython). So you can interact with the code.\n",
    "\n",
    "For more details on Jupyter Notebooks, you can visit the [Jupyter website](https://jupyter.org/).\n",
    "\n",
    "The most common trick that you will see is that we use `?` to see the documentation of a function or `help(function)`"
   ]
  },
  {
   "cell_type": "code",
   "execution_count": null,
   "id": "dc23dacd",
   "metadata": {},
   "outputs": [],
   "source": [
    "gf.components.coupler?"
   ]
  },
  {
   "cell_type": "code",
   "execution_count": null,
   "id": "7cf7c0bd",
   "metadata": {},
   "outputs": [],
   "source": [
    "help(gf.components.coupler)"
   ]
  },
  {
   "cell_type": "markdown",
   "id": "80cbabe3",
   "metadata": {},
   "source": [
    "To see the source code of a function you can use `??`"
   ]
  },
  {
   "cell_type": "code",
   "execution_count": null,
   "id": "ff1b7b98",
   "metadata": {},
   "outputs": [],
   "source": [
    "gf.components.coupler??"
   ]
  },
  {
   "cell_type": "markdown",
   "id": "173407bd",
   "metadata": {},
   "source": [
    "To see which variables you have defined in the workspace you can type `whos`"
   ]
  },
  {
   "cell_type": "markdown",
   "id": "4001f010",
   "metadata": {},
   "source": [
    "To time the execution time of a cell, you can add a `%time` on top of the cell"
   ]
  },
  {
   "cell_type": "code",
   "execution_count": null,
   "id": "720f3b6c",
   "metadata": {},
   "outputs": [],
   "source": [
    "%time\n",
    "\n",
    "\n",
    "def hi():\n",
    "    print(\"hi\")\n",
    "\n",
    "\n",
    "hi()"
   ]
  },
  {
   "cell_type": "markdown",
   "id": "d57f4828",
   "metadata": {},
   "source": [
    "For more Ipython tricks you can find many resources available online"
   ]
  }
 ],
 "metadata": {
  "jupytext": {
   "cell_metadata_filter": "-all",
   "main_language": "python",
   "notebook_metadata_filter": "-all"
  }
 },
 "nbformat": 4,
 "nbformat_minor": 5
}
