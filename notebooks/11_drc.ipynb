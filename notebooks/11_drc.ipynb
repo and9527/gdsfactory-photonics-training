{
 "cells": [
  {
   "cell_type": "markdown",
   "id": "12471cfb",
   "metadata": {},
   "source": [
    "# Klayout Design Rule Checking (DRC)\n",
    "\n",
    "Your device can be fabricated correctly when it meets the Design Rule Checks (DRC) from the foundry, you can write DRC rules from gdsfactory and customize the shortcut to run the checks in Klayout.\n",
    "\n",
    "Here are some rules explained in [repo generic DRC technology](https://github.com/klayoutmatthias/si4all) and [video](https://peertube.f-si.org/videos/watch/addc77a0-8ac7-4742-b7fb-7d24360ceb97)\n",
    "\n",
    "![rules1](https://i.imgur.com/gNP5Npn.png)"
   ]
  },
  {
   "cell_type": "code",
   "execution_count": null,
   "id": "395558f5",
   "metadata": {},
   "outputs": [],
   "source": [
    "import gdsfactory as gf\n",
    "from gplugins.klayout.drc.write_drc import (\n",
    "    rule_area,\n",
    "    rule_enclosing,\n",
    "    rule_separation,\n",
    "    rule_space,\n",
    "    rule_width,\n",
    "    rule_density,\n",
    "    write_drc_deck_macro,\n",
    ")\n",
    "from gdsfactory.generic_tech import LAYER"
   ]
  },
  {
   "cell_type": "code",
   "execution_count": null,
   "id": "cd821dc7",
   "metadata": {},
   "outputs": [],
   "source": [
    "help(write_drc_deck_macro)"
   ]
  },
  {
   "cell_type": "code",
   "execution_count": null,
   "id": "b00e8b99",
   "metadata": {},
   "outputs": [],
   "source": [
    "rules = [\n",
    "    rule_width(layer=\"WG\", value=0.2),\n",
    "    rule_space(layer=\"WG\", value=0.2),\n",
    "    rule_width(layer=\"M1\", value=1),\n",
    "    rule_width(layer=\"M2\", value=2),\n",
    "    rule_space(layer=\"M2\", value=2),\n",
    "    rule_separation(layer1=\"HEATER\", layer2=\"M1\", value=1.0),\n",
    "    rule_enclosing(layer1=\"M1\", layer2=\"VIAC\", value=0.2),\n",
    "    rule_area(layer=\"WG\", min_area_um2=0.05),\n",
    "    rule_density(\n",
    "        layer=\"WG\", layer_floorplan=\"FLOORPLAN\", min_density=0.5, max_density=0.6\n",
    "    ),\n",
    "]\n",
    "\n",
    "drc_rule_deck = write_drc_deck_macro(\n",
    "    rules=rules,\n",
    "    layers=LAYER,\n",
    "    shortcut=\"Ctrl+Shift+D\",\n",
    ")"
   ]
  },
  {
   "cell_type": "markdown",
   "id": "5ca5d3b5",
   "metadata": {},
   "source": [
    "Lets create some DRC errors and check them on klayout."
   ]
  },
  {
   "cell_type": "code",
   "execution_count": null,
   "id": "73eb2724",
   "metadata": {},
   "outputs": [],
   "source": [
    "import gdsfactory as gf\n",
    "from gdsfactory.component import Component\n",
    "from gdsfactory.typings import Float2, Layer\n",
    "\n",
    "layer = LAYER.WG\n",
    "\n",
    "\n",
    "@gf.cell\n",
    "def width_min(size: Float2 = (0.1, 0.1)) -> Component:\n",
    "    return gf.components.rectangle(size=size, layer=layer)\n",
    "\n",
    "\n",
    "@gf.cell\n",
    "def area_min() -> Component:\n",
    "    size = (0.2, 0.2)\n",
    "    return gf.components.rectangle(size=size, layer=layer)\n",
    "\n",
    "\n",
    "@gf.cell\n",
    "def gap_min(gap: float = 0.1) -> Component:\n",
    "    c = gf.Component()\n",
    "    r1 = c << gf.components.rectangle(size=(1, 1), layer=layer)\n",
    "    r2 = c << gf.components.rectangle(size=(1, 1), layer=layer)\n",
    "    r1.xmax = 0\n",
    "    r2.xmin = gap\n",
    "    return c\n",
    "\n",
    "\n",
    "@gf.cell\n",
    "def separation(\n",
    "    gap: float = 0.1, layer1: Layer = LAYER.HEATER, layer2: Layer = LAYER.M1\n",
    ") -> Component:\n",
    "    c = gf.Component()\n",
    "    r1 = c << gf.components.rectangle(size=(1, 1), layer=layer1)\n",
    "    r2 = c << gf.components.rectangle(size=(1, 1), layer=layer2)\n",
    "    r1.xmax = 0\n",
    "    r2.xmin = gap\n",
    "    return c\n",
    "\n",
    "\n",
    "@gf.cell\n",
    "def enclosing(\n",
    "    enclosing: float = 0.1, layer1: Layer = LAYER.VIAC, layer2: Layer = LAYER.M1\n",
    ") -> Component:\n",
    "    \"\"\"Layer1 must be enclosed by layer2 by value.\n",
    "\n",
    "    checks if layer1 encloses (is bigger than) layer2 by value\n",
    "    \"\"\"\n",
    "    w1 = 1\n",
    "    w2 = w1 + enclosing\n",
    "    c = gf.Component()\n",
    "    c << gf.components.rectangle(size=(w1, w1), layer=layer1, centered=True)\n",
    "    r2 = c << gf.components.rectangle(size=(w2, w2), layer=layer2, centered=True)\n",
    "    r2.movex(0.5)\n",
    "    return c\n",
    "\n",
    "\n",
    "@gf.cell\n",
    "def snapping_error(gap: float = 1e-3) -> Component:\n",
    "    c = gf.Component()\n",
    "    r1 = c << gf.components.rectangle(size=(1, 1), layer=layer)\n",
    "    r2 = c << gf.components.rectangle(size=(1, 1), layer=layer)\n",
    "    r1.xmax = 0\n",
    "    r2.xmin = gap\n",
    "    return c\n",
    "\n",
    "\n",
    "@gf.cell\n",
    "def errors() -> Component:\n",
    "    components = [width_min(), gap_min(), separation(), enclosing()]\n",
    "    c = gf.pack(components, spacing=1.5)\n",
    "    c = gf.add_padding_container(c[0], layers=(LAYER.FLOORPLAN,), default=5)\n",
    "    return c\n",
    "\n",
    "\n",
    "c = errors()\n",
    "c.show()\n",
    "c.plot()"
   ]
  },
  {
   "cell_type": "markdown",
   "id": "bec193ee",
   "metadata": {},
   "source": [
    "# Klayout connectivity checks\n",
    "\n",
    "You can you can to check for component overlap and unconnected pins using klayout DRC.\n",
    "\n",
    "\n",
    "The easiest way is to write all the pins on the same layer and define the allowed pin widths.\n",
    "This will check for disconnected pins or ports with width mismatch."
   ]
  },
  {
   "cell_type": "code",
   "execution_count": null,
   "id": "cce46c0a",
   "metadata": {},
   "outputs": [],
   "source": [
    "try:\n",
    "  import google.colab\n",
    "  is_running_on_colab = True\n",
    "  !pip install gdsfactory gplugins > /dev/null\n",
    "  \n",
    "except ImportError:\n",
    "  is_running_on_colab = False"
   ]
  },
  {
   "cell_type": "code",
   "execution_count": null,
   "id": "9d58d680",
   "metadata": {
    "lines_to_next_cell": 2
   },
   "outputs": [],
   "source": [
    "from gdsfactory.generic_tech import LAYER\n",
    "import gplugins.klayout.drc.write_connectivity as wc\n",
    "\n",
    "nm = 1e-3\n",
    "\n",
    "rules = [\n",
    "    wc.write_connectivity_checks(pin_widths=[0.5, 0.9, 0.45], pin_layer=LAYER.PORT)\n",
    "]\n",
    "script = wc.write_drc_deck_macro(rules=rules, layers=None)"
   ]
  },
  {
   "cell_type": "markdown",
   "id": "d9b0ee52",
   "metadata": {},
   "source": [
    "You can also define the connectivity checks per section"
   ]
  },
  {
   "cell_type": "code",
   "execution_count": null,
   "id": "44263fa6",
   "metadata": {},
   "outputs": [],
   "source": [
    "connectivity_checks = [\n",
    "    wc.ConnectivyCheck(cross_section=\"strip\", pin_length=1 * nm, pin_layer=(1, 10)),\n",
    "    wc.ConnectivyCheck(\n",
    "        cross_section=\"strip_auto_widen\", pin_length=1 * nm, pin_layer=(1, 10)\n",
    "    ),\n",
    "]\n",
    "rules = [\n",
    "    wc.write_connectivity_checks_per_section(connectivity_checks=connectivity_checks),\n",
    "    \"DEVREC\",\n",
    "]\n",
    "script = wc.write_drc_deck_macro(rules=rules, layers=None)"
   ]
  },
  {
   "cell_type": "code",
   "execution_count": null,
   "id": "62129e58",
   "metadata": {},
   "outputs": [],
   "source": []
  }
 ],
 "metadata": {
  "jupytext": {
   "cell_metadata_filter": "-all",
   "custom_cell_magics": "kql",
   "notebook_metadata_filter": "-all"
  },
  "kernelspec": {
   "display_name": "Python 3 (ipykernel)",
   "language": "python",
   "name": "python3"
  },
  "language_info": {
   "codemirror_mode": {
    "name": "ipython",
    "version": 3
   },
   "file_extension": ".py",
   "mimetype": "text/x-python",
   "name": "python",
   "nbconvert_exporter": "python",
   "pygments_lexer": "ipython3",
   "version": "3.11.4"
  }
 },
 "nbformat": 4,
 "nbformat_minor": 5
}
